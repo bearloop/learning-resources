{
 "cells": [
  {
   "cell_type": "markdown",
   "metadata": {},
   "source": [
    "## Python OOP\n",
    "\n",
    "**Python functions and classes**<br>"
   ]
  },
  {
   "cell_type": "markdown",
   "metadata": {},
   "source": [
    "### Functions docstrings - Google Style"
   ]
  },
  {
   "cell_type": "code",
   "execution_count": 6,
   "metadata": {
    "scrolled": true
   },
   "outputs": [],
   "source": [
    "def count_letter(content, letter):\n",
    "    \"\"\"Count the number of times `letter` appears in `content`.\n",
    "\n",
    "    Args:\n",
    "       content (str): The string to search.\n",
    "       letter (str): The letter to search for.\n",
    "\n",
    "    Returns:\n",
    "       int\n",
    "\n",
    "    Raises:\n",
    "       ValueError: If `letter` is not a one-character string.\n",
    "    \"\"\"\n",
    "    if (not isinstance(letter, str)) or len(letter) != 1:\n",
    "        raise ValueError('`letter` must be a single character string.')\n",
    "\n",
    "    return len([char for char in content if char == letter])\n"
   ]
  },
  {
   "cell_type": "markdown",
   "metadata": {},
   "source": [
    "### Functions docstrings - Numpydoc"
   ]
  },
  {
   "cell_type": "code",
   "execution_count": 7,
   "metadata": {
    "scrolled": true
   },
   "outputs": [
    {
     "name": "stdout",
     "output_type": "stream",
     "text": [
      "############################\n",
      "Count the number of times `letter` appears in `content`.\n",
      "\n",
      "Args:\n",
      "content (str): The string to search.\n",
      "letter (str): The letter to search for.\n",
      "\n",
      "Returns:\n",
      "int\n",
      "\n",
      "# Add a section detailing what errors might be raised\n",
      "Raises:\n",
      "ValueError: If `letter` is not a one-character string.\n",
      "############################\n",
      " \n",
      "############################\n",
      "range(stop) -> range object\n",
      "range(start, stop[, step]) -> range object\n",
      "\n",
      "Return an object that produces a sequence of integers from start (inclusive)\n",
      "to stop (exclusive) by step.  range(i, j) produces i, i+1, i+2, ..., j-1.\n",
      "start defaults to 0, and stop is omitted!  range(4) produces 0, 1, 2, 3.\n",
      "These are exactly the valid indices for a list of 4 elements.\n",
      "When step is given, it specifies the increment (or decrement).\n",
      "############################\n",
      " \n",
      "############################\n",
      "print(value, ..., sep=' ', end='\\n', file=sys.stdout, flush=False)\n",
      "\n",
      "Prints the values to a stream, or to sys.stdout by default.\n",
      "Optional keyword arguments:\n",
      "file:  a file-like object (stream); defaults to the current sys.stdout.\n",
      "sep:   string inserted between values, default a space.\n",
      "end:   string appended after the last value, default a newline.\n",
      "flush: whether to forcibly flush the stream.\n",
      "############################\n"
     ]
    }
   ],
   "source": [
    "import inspect\n",
    "\n",
    "def build_tooltip(function):\n",
    "    \"\"\"\n",
    "    Description of what the function does.\n",
    "    \n",
    "    Parameters\n",
    "    ----------\n",
    "    arg_1 : expected type of arg_1\n",
    "    Description of arg_1.\n",
    "    arg_2 : int, optional\n",
    "    Write optional when an argument has a default value.\n",
    "    Default=42.\n",
    "    \n",
    "    Returns\n",
    "    -------\n",
    "    The type of the return value\n",
    "    Can include a description of the return value.\n",
    "    Replace \"Returns\" with \"Yields\" if this function is a generator.\n",
    "    \"\"\"\n",
    "    # Get the docstring for the \"function\" argument by using inspect\n",
    "    docstring = inspect.getdoc(function)\n",
    "    border = '#' * 28\n",
    "    return '{}\\n{}\\n{}'.format(border, docstring, border)\n",
    "\n",
    "print(build_tooltip(count_letter))\n",
    "print(' ')\n",
    "print(build_tooltip(range))\n",
    "print(' ')\n",
    "print(build_tooltip(print))"
   ]
  },
  {
   "cell_type": "markdown",
   "metadata": {},
   "source": [
    "### DRY or don't repeat yourself\n",
    "- your functions must do one thing, so that..\n",
    "- ..they become more flexible\n",
    "- more easily understood\n",
    "- simpler to test\n",
    "- simpler to debug\n",
    "- easier to change"
   ]
  },
  {
   "cell_type": "code",
   "execution_count": null,
   "metadata": {},
   "outputs": [],
   "source": []
  },
  {
   "cell_type": "markdown",
   "metadata": {},
   "source": [
    "### Context managers\n",
    "- a function that sets up a context, runs some code, removes the context\n",
    "- a functions that yields a single value"
   ]
  },
  {
   "cell_type": "code",
   "execution_count": 10,
   "metadata": {
    "scrolled": true
   },
   "outputs": [
    {
     "data": {
      "text/plain": [
       "' \\'A-Bomb\\',\\n \\'Abe Sapien\\',\\n \\'Abin Sur\\',\\n \\'Abomination\\',\\n \\'Absorbing Man\\',\\n \\'Adam Strange\\',\\n \\'Agent 13\\',\\n \\'Agent Bob\\',\\n \\'Agent Zero\\',\\n \\'Air-Walker\\',\\n \\'Ajax\\',\\n \\'Alan Scott\\',\\n \\'Alfred Pennyworth\\',\\n \\'Alien\\',\\n \\'Amazo\\',\\n \\'Ammo\\',\\n \\'Angel\\',\\n \\'Angel Dust\\',\\n \\'Angel Salvadore\\',\\n \\'Animal Man\\',\\n \\'Annihilus\\',\\n \\'Ant-Man\\',\\n \\'Ant-Man II\\',\\n \\'Anti-Venom\\',\\n \\'Apocalypse\\',\\n \\'Aqualad\\',\\n \\'Aquaman\\',\\n \\'Arachne\\',\\n \\'Archangel\\',\\n \\'Arclight\\',\\n \\'Ardina\\',\\n \\'Ares\\',\\n \\'Ariel\\',\\n \\'Armor\\',\\n \\'Atlas\\',\\n \\'Atom\\',\\n \\'Atom Girl\\',\\n \\'Atom II\\',\\n \\'Aurora\\',\\n \\'Azazel\\',\\n \\'Bane\\',\\n \\'Banshee\\',\\n \\'Bantam\\',\\n \\'Batgirl\\',\\n \\'Batgirl IV\\',\\n \\'Batgirl VI\\',\\n \\'Batman\\',\\n \\'Batman II\\',\\n \\'Battlestar\\',\\n \\'Beak\\',\\n \\'Beast\\',\\n \\'Beast Boy\\',\\n \\'Beta Ray Bill\\',\\n \\'Big Barda\\',\\n \\'Big Man\\',\\n \\'Binary\\',\\n \\'Bishop\\',\\n \\'Bizarro\\',\\n \\'Black Adam\\',\\n \\'Black Bolt\\',\\n \\'Black Canary\\',\\n \\'Black Cat\\',\\n \\'Black Knight III\\',\\n \\'Black Lightning\\',\\n \\'Black Mamba\\',\\n \\'Black Manta\\',\\n \\'Black Panther\\',\\n \\'Black Widow\\',\\n \\'Black Widow II\\',\\n \\'Blackout\\',\\n \\'Blackwing\\',\\n \\'Blackwulf\\',\\n \\'Blade\\',\\n \\'Bling!\\',\\n \\'Blink\\',\\n \\'Blizzard II\\',\\n \\'Blob\\',\\n \\'Bloodaxe\\',\\n \\'Blue Beetle II\\',\\n \\'Boom-Boom\\',\\n \\'Booster Gold\\',\\n \\'Box III\\',\\n \\'Brainiac\\',\\n \\'Brainiac 5\\',\\n \\'Brother Voodoo\\',\\n \\'Buffy\\',\\n \\'Bullseye\\',\\n \\'Bumblebee\\',\\n \\'Cable\\',\\n \\'Callisto\\',\\n \\'Cannonball\\',\\n \\'Captain America\\',\\n \\'Captain Atom\\',\\n \\'Captain Britain\\',\\n \\'Captain Mar-vell\\',\\n \\'Captain Marvel\\',\\n \\'Captain Marvel II\\',\\n \\'Carnage\\',\\n \\'Cat\\',\\n \\'Catwoman\\',\\n \\'Cecilia Reyes\\',\\n \\'Century\\',\\n \\'Chamber\\',\\n \\'Changeling\\',\\n \\'Cheetah\\',\\n \\'Cheetah II\\',\\n \\'Cheetah III\\',\\n \\'Chromos\\',\\n \\'Citizen Steel\\',\\n \\'Cloak\\',\\n \\'Clock King\\',\\n \\'Colossus\\',\\n \\'Copycat\\',\\n \\'Corsair\\',\\n \\'Cottonmouth\\',\\n \\'Crimson Dynamo\\',\\n \\'Crystal\\',\\n \\'Cyborg\\',\\n \\'Cyclops\\',\\n \\'Cypher\\',\\n \\'Dagger\\',\\n \\'Daredevil\\',\\n \\'Darkhawk\\',\\n \\'Darkseid\\',\\n \\'Darkstar\\',\\n \\'Darth Vader\\',\\n \\'Dash\\',\\n \\'Dazzler\\',\\n \\'Deadman\\',\\n \\'Deadpool\\',\\n \\'Deadshot\\',\\n \\'Deathlok\\',\\n \\'Deathstroke\\',\\n \\'Demogoblin\\',\\n \\'Destroyer\\',\\n \\'Diamondback\\',\\n \\'Doc Samson\\',\\n \\'Doctor Doom\\',\\n \\'Doctor Doom II\\',\\n \\'Doctor Fate\\',\\n \\'Doctor Octopus\\',\\n \\'Doctor Strange\\',\\n \\'Domino\\',\\n \\'Donna Troy\\',\\n \\'Doomsday\\',\\n \\'Doppelganger\\',\\n \\'Drax the Destroyer\\',\\n \\'Elastigirl\\',\\n \\'Electro\\',\\n \\'Elektra\\',\\n \\'Elongated Man\\',\\n \\'Emma Frost\\',\\n \\'Enchantress\\',\\n \\'Etrigan\\',\\n \\'Evil Deadpool\\',\\n \\'Evilhawk\\',\\n \\'Exodus\\',\\n \\'Fabian Cortez\\',\\n \\'Falcon\\',\\n \\'Feral\\',\\n \\'Fin Fang Foom\\',\\n \\'Firebird\\',\\n \\'Firelord\\',\\n \\'Firestar\\',\\n \\'Firestorm\\',\\n \\'Flash\\',\\n \\'Flash II\\',\\n \\'Flash III\\',\\n \\'Flash IV\\',\\n \\'Forge\\',\\n \\'Franklin Richards\\',\\n \\'Franklin Storm\\',\\n \\'Frenzy\\',\\n \\'Frigga\\',\\n \\'Galactus\\',\\n \\'Gambit\\',\\n \\'Gamora\\',\\n \\'Genesis\\',\\n \\'Ghost Rider\\',\\n \\'Giganta\\',\\n \\'Gladiator\\',\\n \\'Goblin Queen\\',\\n \\'Goku\\',\\n \\'Goliath IV\\',\\n \\'Gorilla Grodd\\',\\n \\'Granny Goodness\\',\\n \\'Gravity\\',\\n \\'Green Arrow\\',\\n \\'Green Goblin\\',\\n \\'Green Goblin II\\',\\n \\'Green Goblin III\\',\\n \\'Green Goblin IV\\',\\n \\'Groot\\',\\n \\'Guy Gardner\\',\\n \\'Hal Jordan\\',\\n \\'Han Solo\\',\\n \\'Harley Quinn\\',\\n \\'Havok\\',\\n \\'Hawk\\',\\n \\'Hawkeye\\',\\n \\'Hawkeye II\\',\\n \\'Hawkgirl\\',\\n \\'Hawkman\\',\\n \\'Hawkwoman\\',\\n \\'Hawkwoman III\\',\\n \\'Heat Wave\\',\\n \\'Hela\\',\\n \\'Hellboy\\',\\n \\'Hellcat\\',\\n \\'Hellstorm\\',\\n \\'Hercules\\',\\n \\'Hobgoblin\\',\\n \\'Hope Summers\\',\\n \\'Howard the Duck\\',\\n \\'Hulk\\',\\n \\'Human Torch\\',\\n \\'Huntress\\',\\n \\'Husk\\',\\n \\'Hybrid\\',\\n \\'Hydro-Man\\',\\n \\'Hyperion\\',\\n \\'Iceman\\',\\n \\'Impulse\\',\\n \\'Ink\\',\\n \\'Invisible Woman\\',\\n \\'Iron Fist\\',\\n \\'Iron Man\\',\\n \\'Jack of Hearts\\',\\n \\'Jack-Jack\\',\\n \\'James T. Kirk\\',\\n \\'Jean Grey\\',\\n \\'Jennifer Kale\\',\\n \\'Jessica Jones\\',\\n \\'Jigsaw\\',\\n \\'John Stewart\\',\\n \\'John Wraith\\',\\n \\'Joker\\',\\n \\'Jolt\\',\\n \\'Jubilee\\',\\n \\'Juggernaut\\',\\n \\'Justice\\',\\n \\'Kang\\',\\n \\'Karate Kid\\',\\n \\'Killer Croc\\',\\n \\'Kilowog\\',\\n \\'Kingpin\\',\\n \\'Klaw\\',\\n \\'Kraven II\\',\\n \\'Kraven the Hunter\\',\\n \\'Krypto\\',\\n \\'Kyle Rayner\\',\\n \\'Lady Deathstrike\\',\\n \\'Leader\\',\\n \\'Legion\\',\\n \\'Lex Luthor\\',\\n \\'Light Lass\\',\\n \\'Lightning Lad\\',\\n \\'Lightning Lord\\',\\n \\'Living Brain\\',\\n \\'Lizard\\',\\n \\'Lobo\\',\\n \\'Loki\\',\\n \\'Longshot\\',\\n \\'Luke Cage\\',\\n \\'Luke Skywalker\\',\\n \\'Mach-IV\\',\\n \\'Machine Man\\',\\n \\'Magneto\\',\\n \\'Man-Thing\\',\\n \\'Man-Wolf\\',\\n \\'Mandarin\\',\\n \\'Mantis\\',\\n \\'Martian Manhunter\\',\\n \\'Marvel Girl\\',\\n \\'Master Brood\\',\\n \\'Maverick\\',\\n \\'Maxima\\',\\n \\'Medusa\\',\\n \\'Meltdown\\',\\n \\'Mephisto\\',\\n \\'Mera\\',\\n \\'Metallo\\',\\n \\'Metamorpho\\',\\n \\'Metron\\',\\n \\'Micro Lad\\',\\n \\'Mimic\\',\\n \\'Miss Martian\\',\\n \\'Mister Fantastic\\',\\n \\'Mister Freeze\\',\\n \\'Mister Sinister\\',\\n \\'Mockingbird\\',\\n \\'MODOK\\',\\n \\'Molten Man\\',\\n \\'Monarch\\',\\n \\'Moon Knight\\',\\n \\'Moonstone\\',\\n \\'Morlun\\',\\n \\'Morph\\',\\n \\'Moses Magnum\\',\\n \\'Mr Immortal\\',\\n \\'Mr Incredible\\',\\n \\'Ms Marvel II\\',\\n \\'Multiple Man\\',\\n \\'Mysterio\\',\\n \\'Mystique\\',\\n \\'Namor\\',\\n \\'Namora\\',\\n \\'Namorita\\',\\n \\'Naruto Uzumaki\\',\\n \\'Nebula\\',\\n \\'Nick Fury\\',\\n \\'Nightcrawler\\',\\n \\'Nightwing\\',\\n \\'Northstar\\',\\n \\'Nova\\',\\n \\'Odin\\',\\n \\'Omega Red\\',\\n \\'Omniscient\\',\\n \\'One Punch Man\\',\\n \\'Onslaught\\',\\n \\'Oracle\\',\\n \\'Paul Blart\\',\\n \\'Penance II\\',\\n \\'Penguin\\',\\n \\'Phantom Girl\\',\\n \\'Phoenix\\',\\n \\'Plantman\\',\\n \\'Plastic Man\\',\\n \\'Plastique\\',\\n \\'Poison Ivy\\',\\n \\'Polaris\\',\\n \\'Power Girl\\',\\n \\'Predator\\',\\n \\'Professor X\\',\\n \\'Professor Zoom\\',\\n \\'Psylocke\\',\\n \\'Punisher\\',\\n \\'Purple Man\\',\\n \\'Pyro\\',\\n \\'Question\\',\\n \\'Quicksilver\\',\\n \\'Quill\\',\\n \"Ra\\'s Al Ghul\",\\n \\'Raven\\',\\n \\'Ray\\',\\n \\'Razor-Fist II\\',\\n \\'Red Arrow\\',\\n \\'Red Hood\\',\\n \\'Red Hulk\\',\\n \\'Red Robin\\',\\n \\'Red Skull\\',\\n \\'Red Tornado\\',\\n \\'Rhino\\',\\n \\'Rick Flag\\',\\n \\'Ripcord\\',\\n \\'Robin\\',\\n \\'Robin II\\',\\n \\'Robin III\\',\\n \\'Robin V\\',\\n \\'Rocket Raccoon\\',\\n \\'Rogue\\',\\n \\'Ronin\\',\\n \\'Rorschach\\',\\n \\'Sabretooth\\',\\n \\'Sage\\',\\n \\'Sandman\\',\\n \\'Sasquatch\\',\\n \\'Scarecrow\\',\\n \\'Scarlet Spider\\',\\n \\'Scarlet Spider II\\',\\n \\'Scarlet Witch\\',\\n \\'Scorpion\\',\\n \\'Sentry\\',\\n \\'Shadow King\\',\\n \\'Shadow Lass\\',\\n \\'Shadowcat\\',\\n \\'Shang-Chi\\',\\n \\'Shatterstar\\',\\n \\'She-Hulk\\',\\n \\'She-Thing\\',\\n \\'Shocker\\',\\n \\'Shriek\\',\\n \\'Sif\\',\\n \\'Silver Surfer\\',\\n \\'Silverclaw\\',\\n \\'Sinestro\\',\\n \\'Siren\\',\\n \\'Siryn\\',\\n \\'Skaar\\',\\n \\'Snowbird\\',\\n \\'Solomon Grundy\\',\\n \\'Songbird\\',\\n \\'Space Ghost\\',\\n \\'Spawn\\',\\n \\'Spider-Girl\\',\\n \\'Spider-Gwen\\',\\n \\'Spider-Man\\',\\n \\'Spider-Woman\\',\\n \\'Spider-Woman III\\',\\n \\'Spider-Woman IV\\',\\n \\'Spock\\',\\n \\'Spyke\\',\\n \\'Star-Lord\\',\\n \\'Starfire\\',\\n \\'Stargirl\\',\\n \\'Static\\',\\n \\'Steel\\',\\n \\'Steppenwolf\\',\\n \\'Storm\\',\\n \\'Sunspot\\',\\n \\'Superboy\\',\\n \\'Superboy-Prime\\',\\n \\'Supergirl\\',\\n \\'Superman\\',\\n \\'Swarm\\',\\n \\'Synch\\',\\n \\'T-1000\\',\\n \\'Taskmaster\\',\\n \\'Tempest\\',\\n \\'Thanos\\',\\n \\'The Comedian\\',\\n \\'Thing\\',\\n \\'Thor\\',\\n \\'Thor Girl\\',\\n \\'Thunderbird\\',\\n \\'Thunderbird III\\',\\n \\'Thunderstrike\\',\\n \\'Thundra\\',\\n \\'Tiger Shark\\',\\n \\'Tigra\\',\\n \\'Tinkerer\\',\\n \\'Toad\\',\\n \\'Toxin\\',\\n \\'Trickster\\',\\n \\'Triplicate Girl\\',\\n \\'Triton\\',\\n \\'Two-Face\\',\\n \\'Ultragirl\\',\\n \\'Ultron\\',\\n \\'Utgard-Loki\\',\\n \\'Vagabond\\',\\n \\'Valerie Hart\\',\\n \\'Valkyrie\\',\\n \\'Vanisher\\',\\n \\'Vegeta\\',\\n \\'Venom\\',\\n \\'Venom II\\',\\n \\'Venom III\\',\\n \\'Vertigo II\\',\\n \\'Vibe\\',\\n \\'Vindicator\\',\\n \\'Violet Parr\\',\\n \\'Vision\\',\\n \\'Vision II\\',\\n \\'Vixen\\',\\n \\'Vulture\\',\\n \\'Walrus\\',\\n \\'War Machine\\',\\n \\'Warbird\\',\\n \\'Warlock\\',\\n \\'Warp\\',\\n \\'Warpath\\',\\n \\'Wasp\\',\\n \\'White Queen\\',\\n \\'Winter Soldier\\',\\n \\'Wiz Kid\\',\\n \\'Wolfsbane\\',\\n \\'Wolverine\\',\\n \\'Wonder Girl\\',\\n \\'Wonder Man\\',\\n \\'Wonder Woman\\',\\n \\'Wyatt Wingfoot\\',\\n \\'X-23\\',\\n \\'X-Man\\',\\n \\'Yellow Claw\\',\\n \\'Yellowjacket\\',\\n \\'Yellowjacket II\\',\\n \\'Yoda\\',\\n \\'Zatanna\\',\\n \\'Zoom\\''"
      ]
     },
     "execution_count": 10,
     "metadata": {},
     "output_type": "execute_result"
    }
   ],
   "source": [
    "with open('assets/learn_python/heroes.txt', 'r') as file:\n",
    "    text = file.read()\n",
    "text"
   ]
  },
  {
   "cell_type": "code",
   "execution_count": 14,
   "metadata": {},
   "outputs": [
    {
     "ename": "NameError",
     "evalue": "name 'contextlib' is not defined",
     "output_type": "error",
     "traceback": [
      "\u001b[0;31m---------------------------------------------------------------------------\u001b[0m",
      "\u001b[0;31mNameError\u001b[0m                                 Traceback (most recent call last)",
      "\u001b[0;32m<ipython-input-14-a8eba639db73>\u001b[0m in \u001b[0;36m<module>\u001b[0;34m\u001b[0m\n\u001b[0;32m----> 1\u001b[0;31m \u001b[0;34m@\u001b[0m\u001b[0mcontextlib\u001b[0m\u001b[0;34m.\u001b[0m\u001b[0mcontextmanager\u001b[0m\u001b[0;34m\u001b[0m\u001b[0;34m\u001b[0m\u001b[0m\n\u001b[0m\u001b[1;32m      2\u001b[0m \u001b[0;32mdef\u001b[0m \u001b[0mtimer\u001b[0m\u001b[0;34m(\u001b[0m\u001b[0;34m)\u001b[0m\u001b[0;34m:\u001b[0m\u001b[0;34m\u001b[0m\u001b[0;34m\u001b[0m\u001b[0m\n\u001b[1;32m      3\u001b[0m     \u001b[0mprint\u001b[0m\u001b[0;34m(\u001b[0m\u001b[0;34m'hello'\u001b[0m\u001b[0;34m)\u001b[0m\u001b[0;34m\u001b[0m\u001b[0;34m\u001b[0m\u001b[0m\n\u001b[1;32m      4\u001b[0m     \u001b[0;32myield\u001b[0m \u001b[0;36m42\u001b[0m\u001b[0;34m\u001b[0m\u001b[0;34m\u001b[0m\u001b[0m\n\u001b[1;32m      5\u001b[0m     \u001b[0mprint\u001b[0m\u001b[0;34m(\u001b[0m\u001b[0;34m'goodbye'\u001b[0m\u001b[0;34m)\u001b[0m\u001b[0;34m\u001b[0m\u001b[0;34m\u001b[0m\u001b[0m\n",
      "\u001b[0;31mNameError\u001b[0m: name 'contextlib' is not defined"
     ]
    }
   ],
   "source": [
    "@contextlib.contextmanager\n",
    "def database(url):\n",
    "    # set up database connection\n",
    "    db = postgres.connect(url)\n",
    "    yield db\n",
    "    # tear down database connection\n",
    "    db.disconnect()\n",
    "    \n",
    "url = 'http://datacamp.com/data'\n",
    "with database(url) as my_db:\n",
    "    course_list = my_db.execute('SELECT * FROM courses')\n",
    "\n"
   ]
  },
  {
   "cell_type": "code",
   "execution_count": 17,
   "metadata": {},
   "outputs": [
    {
     "ename": "NameError",
     "evalue": "name 'contextlib' is not defined",
     "output_type": "error",
     "traceback": [
      "\u001b[0;31m---------------------------------------------------------------------------\u001b[0m",
      "\u001b[0;31mNameError\u001b[0m                                 Traceback (most recent call last)",
      "\u001b[0;32m<ipython-input-17-c761294ad9a8>\u001b[0m in \u001b[0;36m<module>\u001b[0;34m\u001b[0m\n\u001b[1;32m      1\u001b[0m \u001b[0;31m# Add a decorator that will make timer() a context manager\u001b[0m\u001b[0;34m\u001b[0m\u001b[0;34m\u001b[0m\u001b[0;34m\u001b[0m\u001b[0m\n\u001b[0;32m----> 2\u001b[0;31m \u001b[0;34m@\u001b[0m\u001b[0mcontextlib\u001b[0m\u001b[0;34m.\u001b[0m\u001b[0mcontextmanager\u001b[0m\u001b[0;34m\u001b[0m\u001b[0;34m\u001b[0m\u001b[0m\n\u001b[0m\u001b[1;32m      3\u001b[0m \u001b[0;32mdef\u001b[0m \u001b[0mtimer\u001b[0m\u001b[0;34m(\u001b[0m\u001b[0;34m)\u001b[0m\u001b[0;34m:\u001b[0m\u001b[0;34m\u001b[0m\u001b[0;34m\u001b[0m\u001b[0m\n\u001b[1;32m      4\u001b[0m     \"\"\"Time the execution of a context block.\n\u001b[1;32m      5\u001b[0m \u001b[0;34m\u001b[0m\u001b[0m\n",
      "\u001b[0;31mNameError\u001b[0m: name 'contextlib' is not defined"
     ]
    }
   ],
   "source": [
    "# Add a decorator that will make timer() a context manager\n",
    "@contextlib.contextmanager\n",
    "def timer():\n",
    "    \"\"\"Time the execution of a context block.\n",
    "\n",
    "    Yields:\n",
    "    None\n",
    "    \"\"\"\n",
    "    start = time.time()\n",
    "    # Send control back to the context block\n",
    "    yield\n",
    "    end = time.time()\n",
    "    print('Elapsed: {:.2f}s'.format(end - start))\n",
    "\n",
    "with timer():\n",
    "    print('This should take approximately 0.25 seconds')\n",
    "    time.sleep(0.25)"
   ]
  },
  {
   "cell_type": "code",
   "execution_count": 18,
   "metadata": {},
   "outputs": [
    {
     "ename": "NameError",
     "evalue": "name 'contextlib' is not defined",
     "output_type": "error",
     "traceback": [
      "\u001b[0;31m---------------------------------------------------------------------------\u001b[0m",
      "\u001b[0;31mNameError\u001b[0m                                 Traceback (most recent call last)",
      "\u001b[0;32m<ipython-input-18-f53b6d37bb18>\u001b[0m in \u001b[0;36m<module>\u001b[0;34m\u001b[0m\n\u001b[0;32m----> 1\u001b[0;31m \u001b[0;34m@\u001b[0m\u001b[0mcontextlib\u001b[0m\u001b[0;34m.\u001b[0m\u001b[0mcontextmanager\u001b[0m\u001b[0;34m\u001b[0m\u001b[0;34m\u001b[0m\u001b[0m\n\u001b[0m\u001b[1;32m      2\u001b[0m \u001b[0;32mdef\u001b[0m \u001b[0mopen_read_only\u001b[0m\u001b[0;34m(\u001b[0m\u001b[0mfilename\u001b[0m\u001b[0;34m)\u001b[0m\u001b[0;34m:\u001b[0m\u001b[0;34m\u001b[0m\u001b[0;34m\u001b[0m\u001b[0m\n\u001b[1;32m      3\u001b[0m     \"\"\"Open a file in read-only mode.\n\u001b[1;32m      4\u001b[0m \u001b[0;34m\u001b[0m\u001b[0m\n\u001b[1;32m      5\u001b[0m     \u001b[0mArgs\u001b[0m\u001b[0;34m:\u001b[0m\u001b[0;34m\u001b[0m\u001b[0;34m\u001b[0m\u001b[0m\n",
      "\u001b[0;31mNameError\u001b[0m: name 'contextlib' is not defined"
     ]
    }
   ],
   "source": [
    "@contextlib.contextmanager\n",
    "def open_read_only(filename):\n",
    "    \"\"\"Open a file in read-only mode.\n",
    "\n",
    "    Args:\n",
    "    filename (str): The location of the file to read\n",
    "\n",
    "    Yields:\n",
    "    file object\n",
    "    \"\"\"\n",
    "    read_only_file = open(filename, mode='r')\n",
    "    # Yield read_only_file so it can be assigned to my_file\n",
    "    yield read_only_file\n",
    "    # Close read_only_file\n",
    "    read_only_file.close()\n",
    "\n",
    "with open_read_only('my_file.txt') as my_file:\n",
    "    print(my_file.read())"
   ]
  },
  {
   "cell_type": "code",
   "execution_count": 19,
   "metadata": {},
   "outputs": [
    {
     "ename": "NameError",
     "evalue": "name 'stock' is not defined",
     "output_type": "error",
     "traceback": [
      "\u001b[0;31m---------------------------------------------------------------------------\u001b[0m",
      "\u001b[0;31mNameError\u001b[0m                                 Traceback (most recent call last)",
      "\u001b[0;32m<ipython-input-19-38997949ab31>\u001b[0m in \u001b[0;36m<module>\u001b[0;34m\u001b[0m\n\u001b[1;32m      1\u001b[0m \u001b[0;31m# Use the \"stock('NVDA')\" context manager\u001b[0m\u001b[0;34m\u001b[0m\u001b[0;34m\u001b[0m\u001b[0;34m\u001b[0m\u001b[0m\n\u001b[1;32m      2\u001b[0m \u001b[0;31m# and assign the result to the variable \"nvda\"\u001b[0m\u001b[0;34m\u001b[0m\u001b[0;34m\u001b[0m\u001b[0;34m\u001b[0m\u001b[0m\n\u001b[0;32m----> 3\u001b[0;31m \u001b[0;32mwith\u001b[0m \u001b[0mstock\u001b[0m\u001b[0;34m(\u001b[0m\u001b[0;34m'NVDA'\u001b[0m\u001b[0;34m)\u001b[0m \u001b[0;32mas\u001b[0m \u001b[0mnvda\u001b[0m\u001b[0;34m:\u001b[0m\u001b[0;34m\u001b[0m\u001b[0;34m\u001b[0m\u001b[0m\n\u001b[0m\u001b[1;32m      4\u001b[0m   \u001b[0;31m# Open \"NVDA.txt\" for writing as f_out\u001b[0m\u001b[0;34m\u001b[0m\u001b[0;34m\u001b[0m\u001b[0;34m\u001b[0m\u001b[0m\n\u001b[1;32m      5\u001b[0m   \u001b[0;32mwith\u001b[0m \u001b[0mopen\u001b[0m\u001b[0;34m(\u001b[0m\u001b[0;34m'NVDA.txt'\u001b[0m \u001b[0;34m,\u001b[0m\u001b[0;34m'w'\u001b[0m\u001b[0;34m)\u001b[0m \u001b[0;32mas\u001b[0m \u001b[0mf_out\u001b[0m\u001b[0;34m:\u001b[0m\u001b[0;34m\u001b[0m\u001b[0;34m\u001b[0m\u001b[0m\n",
      "\u001b[0;31mNameError\u001b[0m: name 'stock' is not defined"
     ]
    }
   ],
   "source": [
    "# Use the \"stock('NVDA')\" context manager\n",
    "# and assign the result to the variable \"nvda\"\n",
    "with stock('NVDA') as nvda:\n",
    "  # Open \"NVDA.txt\" for writing as f_out\n",
    "  with open('NVDA.txt' ,'w') as f_out:\n",
    "    for _ in range(10):\n",
    "        value = nvda.price()\n",
    "        print('Logging ${:.2f} for NVDA'.format(value))\n",
    "        f_out.write('{:.2f}\\n'.format(value))"
   ]
  },
  {
   "cell_type": "code",
   "execution_count": 20,
   "metadata": {},
   "outputs": [],
   "source": [
    "def in_dir(directory):\n",
    "    \"\"\"\n",
    "    Change current working directory to `directory`,\n",
    "    allow the user to run some code, and change back.\n",
    "\n",
    "    Args:\n",
    "    directory (str): The path to a directory to work in.\n",
    "    \"\"\"\n",
    "    current_dir = os.getcwd()\n",
    "    os.chdir(directory)\n",
    "\n",
    "    # Add code that lets you handle errors\n",
    "    try:\n",
    "        yield\n",
    "    # Ensure the directory is reset,\n",
    "    # whether there was an error or not\n",
    "    finally:\n",
    "        os.chdir(current_dir)"
   ]
  },
  {
   "cell_type": "code",
   "execution_count": 23,
   "metadata": {},
   "outputs": [
    {
     "ename": "AttributeError",
     "evalue": "__enter__",
     "output_type": "error",
     "traceback": [
      "\u001b[0;31m---------------------------------------------------------------------------\u001b[0m",
      "\u001b[0;31mAttributeError\u001b[0m                            Traceback (most recent call last)",
      "\u001b[0;32m<ipython-input-23-2aa18a97607f>\u001b[0m in \u001b[0;36m<module>\u001b[0;34m\u001b[0m\n\u001b[1;32m      9\u001b[0m \u001b[0mdoc\u001b[0m \u001b[0;34m=\u001b[0m \u001b[0;34m{\u001b[0m\u001b[0;34m'text'\u001b[0m\u001b[0;34m:\u001b[0m \u001b[0;34m'This is my text.'\u001b[0m\u001b[0;34m}\u001b[0m\u001b[0;34m\u001b[0m\u001b[0;34m\u001b[0m\u001b[0m\n\u001b[1;32m     10\u001b[0m \u001b[0;34m\u001b[0m\u001b[0m\n\u001b[0;32m---> 11\u001b[0;31m \u001b[0;32mwith\u001b[0m \u001b[0mget_printer\u001b[0m\u001b[0;34m(\u001b[0m\u001b[0;34m'10.0.34.111'\u001b[0m\u001b[0;34m)\u001b[0m \u001b[0;32mas\u001b[0m \u001b[0mprinter\u001b[0m\u001b[0;34m:\u001b[0m\u001b[0;34m\u001b[0m\u001b[0;34m\u001b[0m\u001b[0m\n\u001b[0m\u001b[1;32m     12\u001b[0m     \u001b[0mprinter\u001b[0m\u001b[0;34m.\u001b[0m\u001b[0mprint_page\u001b[0m\u001b[0;34m(\u001b[0m\u001b[0mdoc\u001b[0m\u001b[0;34m[\u001b[0m\u001b[0;34m'txt'\u001b[0m\u001b[0;34m]\u001b[0m\u001b[0;34m)\u001b[0m\u001b[0;34m\u001b[0m\u001b[0;34m\u001b[0m\u001b[0m\n",
      "\u001b[0;31mAttributeError\u001b[0m: __enter__"
     ]
    }
   ],
   "source": [
    "def get_printer(ip):\n",
    "    p = connect_to_printer(ip)\n",
    "    try:\n",
    "        yield\n",
    "    finally:\n",
    "        p.disconnect()\n",
    "        print('disconnected from printer')\n",
    "    \n",
    "doc = {'text': 'This is my text.'}\n",
    "\n",
    "with get_printer('10.0.34.111') as printer:\n",
    "    printer.print_page(doc['txt'])"
   ]
  },
  {
   "cell_type": "markdown",
   "metadata": {},
   "source": [
    "### Scope\n",
    "\n",
    "- Variables level scope: built-in > global > non-local > local"
   ]
  },
  {
   "cell_type": "code",
   "execution_count": null,
   "metadata": {},
   "outputs": [],
   "source": [
    "call_count = 0\n",
    "\n",
    "def my_function():\n",
    "    # Use a keyword that lets us update call_count \n",
    "    global call_count\n",
    "    call_count += 1\n",
    "\n",
    "    print(\"You've called my_function() {} times!\".format(\n",
    "    call_count)\n",
    "         )\n",
    "\n",
    "for _ in range(20):\n",
    "    my_function()"
   ]
  },
  {
   "cell_type": "code",
   "execution_count": null,
   "metadata": {},
   "outputs": [],
   "source": [
    "def read_files():\n",
    "    file_contents = None\n",
    "\n",
    "    def save_contents(filename):\n",
    "        # Add a keyword that lets us modify file_contents\n",
    "        nonlocal file_contents\n",
    "        \n",
    "        if file_contents is None:\n",
    "            file_contents = []\n",
    "        with open(filename) as fin:\n",
    "            file_contents.append(fin.read())\n",
    "\n",
    "    for filename in ['1984.txt', 'MobyDick.txt', 'CatsEye.txt']:\n",
    "        save_contents(filename)\n",
    "\n",
    "    return file_contents\n",
    "\n",
    "print('\\n'.join(read_files()))"
   ]
  },
  {
   "cell_type": "code",
   "execution_count": null,
   "metadata": {},
   "outputs": [],
   "source": [
    "def wait_until_done():\n",
    "    def check_is_done():\n",
    "        # Add a keyword so that wait_until_done() \n",
    "        # doesn't run forever\n",
    "        global done\n",
    "        if random.random() < 0.1:\n",
    "            done = True\n",
    "      \n",
    "    while not done:\n",
    "        check_is_done()\n",
    "\n",
    "done = False\n",
    "wait_until_done()\n",
    "\n",
    "print('Work done? {}'.format(done))"
   ]
  },
  {
   "cell_type": "markdown",
   "metadata": {},
   "source": [
    "### Closures"
   ]
  },
  {
   "cell_type": "code",
   "execution_count": null,
   "metadata": {},
   "outputs": [],
   "source": [
    "def return_a_func(arg1, arg2):\n",
    "    def new_func():\n",
    "        print('arg1 was {}'.format(arg1))\n",
    "        print('arg2 was {}'.format(arg2))\n",
    "        return new_func\n",
    "    \n",
    "my_func = return_a_func(2, 17)\n",
    "\n",
    "# Show that my_func()'s closure is not None\n",
    "print(my_func.__closure__ is not None)\n",
    "print(len(my_func.__closure__) == 2)\n",
    "\n",
    "# Get the values of the variables in the closure\n",
    "closure_values = [\n",
    "  my_func.__closure__[i].cell_contents for i in range(2)\n",
    "]\n",
    "print(closure_values == [2, 17])"
   ]
  },
  {
   "cell_type": "code",
   "execution_count": 28,
   "metadata": {},
   "outputs": [
    {
     "name": "stdout",
     "output_type": "stream",
     "text": [
      "You are running my_special_function()\n"
     ]
    }
   ],
   "source": [
    "def my_special_function():\n",
    "    print('You are running my_special_function()')\n",
    "\n",
    "def get_new_func(func):\n",
    "    \n",
    "    def call_func():\n",
    "        func()\n",
    "    return call_func\n",
    "\n",
    "new_func = get_new_func(my_special_function)\n",
    "\n",
    "# Redefine my_special_function() to just print \"hello\"\n",
    "def my_special_function():\n",
    "    print('hello')\n",
    "\n",
    "new_func()"
   ]
  },
  {
   "cell_type": "code",
   "execution_count": 27,
   "metadata": {},
   "outputs": [
    {
     "name": "stdout",
     "output_type": "stream",
     "text": [
      "You are running my_special_function()\n"
     ]
    }
   ],
   "source": [
    "def my_special_function():\n",
    "    print('You are running my_special_function()')\n",
    "\n",
    "def get_new_func(func):\n",
    "    \n",
    "    def call_func():\n",
    "        func()\n",
    "    return call_func\n",
    "\n",
    "new_func = get_new_func(my_special_function)\n",
    "\n",
    "# Delete my_special_function()\n",
    "del my_special_function\n",
    "\n",
    "new_func()"
   ]
  },
  {
   "cell_type": "code",
   "execution_count": 29,
   "metadata": {},
   "outputs": [
    {
     "name": "stdout",
     "output_type": "stream",
     "text": [
      "You are running my_special_function()\n"
     ]
    }
   ],
   "source": [
    "def my_special_function():\n",
    "    print('You are running my_special_function()')\n",
    "\n",
    "def get_new_func(func):\n",
    "    \n",
    "    def call_func():\n",
    "        func()\n",
    "    return call_func\n",
    "\n",
    "new_func = get_new_func(my_special_function)\n",
    "\n",
    "# Overwrite `my_special_function` with the new function\n",
    "my_special_function = get_new_func(my_special_function)\n",
    "\n",
    "my_special_function()"
   ]
  },
  {
   "cell_type": "markdown",
   "metadata": {},
   "source": [
    "### Decorators"
   ]
  },
  {
   "cell_type": "code",
   "execution_count": 31,
   "metadata": {},
   "outputs": [
    {
     "name": "stdout",
     "output_type": "stream",
     "text": [
      "Before multiply\n",
      "50\n",
      "After multiply\n"
     ]
    }
   ],
   "source": [
    "def print_before_and_after(func):\n",
    "    def wrapper(*args):\n",
    "        print('Before {}'.format(func.__name__))\n",
    "        # Call the function being decorated with *args\n",
    "        func(*args)\n",
    "        print('After {}'.format(func.__name__))\n",
    "    # Return the nested function\n",
    "    return wrapper\n",
    "\n",
    "@print_before_and_after\n",
    "def multiply(a, b):\n",
    "    print(a * b)\n",
    "\n",
    "multiply(5, 10)"
   ]
  },
  {
   "cell_type": "code",
   "execution_count": 33,
   "metadata": {},
   "outputs": [
    {
     "data": {
      "text/plain": [
       "20"
      ]
     },
     "execution_count": 33,
     "metadata": {},
     "output_type": "execute_result"
    }
   ],
   "source": [
    "def double_args(func):\n",
    "    def wrapper(a, b):\n",
    "        return func(a * 2, b * 2)\n",
    "    return wrapper\n",
    "\n",
    "def multiply(a, b):\n",
    "    return a * b\n",
    "\n",
    "multiply = double_args(multiply)\n",
    "multiply(1, 5)"
   ]
  },
  {
   "cell_type": "code",
   "execution_count": 34,
   "metadata": {},
   "outputs": [
    {
     "data": {
      "text/plain": [
       "20"
      ]
     },
     "execution_count": 34,
     "metadata": {},
     "output_type": "execute_result"
    }
   ],
   "source": [
    "def double_args(func):\n",
    "    def wrapper(a, b):\n",
    "        return func(a * 2, b * 2)\n",
    "    return wrapper\n",
    "@double_args\n",
    "def multiply(a, b):\n",
    "    return a * b\n",
    "multiply(1, 5)"
   ]
  },
  {
   "cell_type": "markdown",
   "metadata": {},
   "source": [
    "### More on Decorators"
   ]
  },
  {
   "cell_type": "code",
   "execution_count": null,
   "metadata": {},
   "outputs": [],
   "source": []
  }
 ],
 "metadata": {
  "kernelspec": {
   "display_name": "Python 3",
   "language": "python",
   "name": "python3"
  },
  "language_info": {
   "codemirror_mode": {
    "name": "ipython",
    "version": 3
   },
   "file_extension": ".py",
   "mimetype": "text/x-python",
   "name": "python",
   "nbconvert_exporter": "python",
   "pygments_lexer": "ipython3",
   "version": "3.8.8"
  }
 },
 "nbformat": 4,
 "nbformat_minor": 4
}
