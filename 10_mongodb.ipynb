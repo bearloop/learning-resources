{
 "cells": [
  {
   "cell_type": "markdown",
   "id": "a3b0688b",
   "metadata": {},
   "source": [
    "### MongoDB"
   ]
  },
  {
   "cell_type": "markdown",
   "id": "f77bed82",
   "metadata": {},
   "source": [
    " - JSON is the basis of mongoDB's data format\n",
    " - JSON has two collection structures\n",
    "     - objects map key strings to values\n",
    "     - arrays order values\n",
    " - Values are strings, numbers, true, false, null or another object or arrays\n",
    " - JSON data types have equivalent in Python as such\n",
    " \n",
    "\n",
    "<img src=\"assets/mongodb/python_json_maps.png\" style=\"width: 300px;\"/>\n",
    "    \n",
    "  - JSON/Python data types are expressed in mongoDB as follows:\n",
    "  - A database maps names to collections. You can access collections by name the same way you can access a Python dictionary.\n",
    "  - A collection is like a list of dictionaries, called documents by mongoDB\n",
    "  - When a dictionary is a value within a document, it's called a sub-document\n",
    "  - Values in a document can be any of the above types including dates or regular expressions\n",
    "\n",
    "<img src=\"assets/mongodb/python_mongodb_maps.png\" style=\"width: 600px;\"/>\n",
    "\n",
    "  - Access databases by name as attributes of the client, eg client.my_database\n",
    "  - Access collections by name as attributes of databases, eg my_database.my_collection"
   ]
  },
  {
   "cell_type": "code",
   "execution_count": 7,
   "id": "05fb7d2d",
   "metadata": {
    "scrolled": true
   },
   "outputs": [],
   "source": [
    "import requests\n",
    "from pymongo import MongoClient\n",
    "\n",
    "# Client connects to \"localhost\" by default\n",
    "client = MongoClient()\n"
   ]
  },
  {
   "cell_type": "code",
   "execution_count": 6,
   "id": "9009d3b6",
   "metadata": {
    "scrolled": true
   },
   "outputs": [],
   "source": [
    "# Create local \"nobel\" database on the fly\n",
    "db = client[\"nobel\"]\n",
    "\n",
    "for collection_name in [\"prizes\", \"laureates\"]:\n",
    "\n",
    "    # collect the data from the API\n",
    "    response = requests.get(\"http://api.nobelprize.org/v1/{}.json\".format(collection_name[:-1] ))\n",
    "    \n",
    "    # convert the data to json\n",
    "    documents = response.json()[collection_name]\n",
    "    \n",
    "    # Create collections on the fly\n",
    "    db[collection_name].insert_many(documents)"
   ]
  },
  {
   "cell_type": "code",
   "execution_count": null,
   "id": "7fef7430",
   "metadata": {},
   "outputs": [],
   "source": [
    "# Save a list of names of the databases managed by client\n",
    "db_names = client.list_database_names()\n",
    "print(db_names)\n",
    "\n",
    "# Save a list of names of the collections managed by the \"nobel\" database\n",
    "nobel_coll_names = client.nobel.list_collection_names()\n",
    "print(nobel_coll_names)"
   ]
  },
  {
   "cell_type": "code",
   "execution_count": null,
   "id": "6074a874",
   "metadata": {},
   "outputs": [],
   "source": [
    "# Connect to the \"nobel\" database\n",
    "db = client.nobel\n",
    "\n",
    "# Retrieve sample prize and laureate documents\n",
    "prize = db.prizes.find_one()\n",
    "laureate = db.laureates.find_one()\n",
    "\n",
    "# Print the sample prize and laureate documents\n",
    "print(prize)\n",
    "print(laureate)\n",
    "print(type(laureate))\n",
    "\n",
    "# Get the fields present in each type of document\n",
    "prize_fields = list(prize.keys())\n",
    "laureate_fields = list(laureate.keys())\n",
    "\n",
    "print(prize_fields)\n",
    "print(laureate_fields)"
   ]
  },
  {
   "cell_type": "markdown",
   "id": "e3d86894",
   "metadata": {},
   "source": [
    "#### Comparisons and filtering"
   ]
  },
  {
   "cell_type": "code",
   "execution_count": null,
   "id": "4d7df540",
   "metadata": {},
   "outputs": [],
   "source": [
    "# Greater than\n",
    "db.laureates.count_documents({'born':{'$gt':'1700'}})\n",
    "\n",
    "# Less than\n",
    "db.laureates.count_documents({'born':{'$lt':'1700'}})\n",
    "\n",
    "# Create a filter for Germany-born laureates who died in the USA and with the first name \"Albert\"\n",
    "criteria = {'firstname':'Albert', \n",
    "            'bornCountry': 'Germany', \n",
    "            'diedCountry': 'USA'}\n",
    "\n",
    "# Save the count\n",
    "count = db.laureates.count_documents(criteria)\n",
    "print(count)"
   ]
  },
  {
   "cell_type": "code",
   "execution_count": null,
   "id": "b8613d5c",
   "metadata": {},
   "outputs": [],
   "source": [
    "# Save a filter for laureates born in the USA, Canada, or Mexico\n",
    "criteria = { 'bornCountry': \n",
    "                { \"$in\": ['USA','Canada','Mexico']}\n",
    "             }\n",
    "\n",
    "# Count them and save the count\n",
    "count = db.laureates.count_documents(criteria)\n",
    "print(count)"
   ]
  },
  {
   "cell_type": "code",
   "execution_count": null,
   "id": "6295aafd",
   "metadata": {},
   "outputs": [],
   "source": [
    "# Save a filter for laureates who died in the USA and were not born there\n",
    "criteria = { 'diedCountry': 'USA',\n",
    "               'bornCountry': { \"$ne\": 'USA'}, \n",
    "             }\n",
    "\n",
    "# Count them\n",
    "count = db.laureates.count_documents(criteria)\n",
    "print(count)"
   ]
  },
  {
   "cell_type": "markdown",
   "id": "8926403d",
   "metadata": {},
   "source": [
    "#### Dot notation\n",
    " - lets us reach the document's substructure\n",
    " - full path to a field from the document's root"
   ]
  },
  {
   "cell_type": "code",
   "execution_count": null,
   "id": "bb83f0e1",
   "metadata": {},
   "outputs": [],
   "source": [
    "# Filter for laureates born in Austria with non-Austria prize affiliation\n",
    "criteria = {'bornCountry': 'Austria', \n",
    "              'prizes.affiliations.country': {\"$ne\": 'Austria'}}\n",
    "\n",
    "# Count the number of such laureates\n",
    "count = db.laureates.count_documents(criteria)\n",
    "print(count)"
   ]
  },
  {
   "cell_type": "code",
   "execution_count": null,
   "id": "3a8a37ca",
   "metadata": {},
   "outputs": [],
   "source": [
    "# Filter for documents without a \"born\" field\n",
    "criteria = {\"born\": {\"$exists\": False}}\n",
    "\n",
    "# Save count\n",
    "count = db.laureates.count_documents(criteria)\n",
    "print(count)"
   ]
  },
  {
   "cell_type": "code",
   "execution_count": null,
   "id": "08fa358a",
   "metadata": {},
   "outputs": [],
   "source": [
    "# Filter for laureates with at least three prizes\n",
    "criteria = {\"prizes.2\": {'$exists': True}}\n",
    "\n",
    "# Find one laureate with at least three prizes\n",
    "doc = db.laureates.find_one(criteria)\n",
    "\n",
    "# Print the document\n",
    "print(doc)"
   ]
  }
 ],
 "metadata": {
  "kernelspec": {
   "display_name": "Python 3",
   "language": "python",
   "name": "python3"
  },
  "language_info": {
   "codemirror_mode": {
    "name": "ipython",
    "version": 3
   },
   "file_extension": ".py",
   "mimetype": "text/x-python",
   "name": "python",
   "nbconvert_exporter": "python",
   "pygments_lexer": "ipython3",
   "version": "3.8.8"
  }
 },
 "nbformat": 4,
 "nbformat_minor": 5
}
