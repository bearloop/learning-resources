{
 "cells": [
  {
   "cell_type": "markdown",
   "id": "a3b0688b",
   "metadata": {},
   "source": [
    "### MongoDB\n",
    "\n",
    " - Create and compose query filters and operators\n",
    " - Use dot notation\n",
    " - Fetch values, arrays, use regex\n",
    " - Project, sort, index\n",
    " - Aggregate"
   ]
  },
  {
   "cell_type": "markdown",
   "id": "f77bed82",
   "metadata": {},
   "source": [
    " - JSON is the basis of mongoDB's data format\n",
    " - JSON has two collection structures\n",
    "     - objects map key strings to values\n",
    "     - arrays order values\n",
    " - Values are strings, numbers, true, false, null or another object or arrays\n",
    " - JSON data types have equivalent in Python as such\n",
    " \n",
    "\n",
    "<img src=\"assets/mongodb/python_json_maps.png\" style=\"width: 300px;\"/>\n",
    "    \n",
    "  - JSON/Python data types are expressed in mongoDB as follows:\n",
    "  - A database maps names to collections. You can access collections by name the same way you can access a Python dictionary.\n",
    "  - A collection is like a list of dictionaries, called documents by mongoDB\n",
    "  - When a dictionary is a value within a document, it's called a sub-document\n",
    "  - Values in a document can be any of the above types including dates or regular expressions\n",
    "\n",
    "<img src=\"assets/mongodb/python_mongodb_maps.png\" style=\"width: 600px;\"/>\n",
    "\n",
    "  - Access databases by name as attributes of the client, eg client.my_database\n",
    "  - Access collections by name as attributes of databases, eg my_database.my_collection"
   ]
  },
  {
   "cell_type": "code",
   "execution_count": 1,
   "id": "05fb7d2d",
   "metadata": {
    "scrolled": true
   },
   "outputs": [
    {
     "data": {
      "text/plain": [
       "True"
      ]
     },
     "execution_count": 1,
     "metadata": {},
     "output_type": "execute_result"
    }
   ],
   "source": [
    "import requests\n",
    "from pymongo import MongoClient\n",
    "import os\n",
    "from dotenv import load_dotenv\n",
    "load_dotenv(dotenv_path=os.getcwd()+'/.env')"
   ]
  },
  {
   "cell_type": "code",
   "execution_count": 2,
   "id": "8b88e243",
   "metadata": {},
   "outputs": [
    {
     "data": {
      "text/plain": [
       "['nobel', 'time_series', 'admin', 'local']"
      ]
     },
     "execution_count": 2,
     "metadata": {},
     "output_type": "execute_result"
    }
   ],
   "source": [
    "# Client connects to \"localhost\" by default\n",
    "client = MongoClient(os.environ.get(\"MONGO_URI\"))\n",
    "\n",
    "# Get database names\n",
    "client.list_database_names()"
   ]
  },
  {
   "cell_type": "code",
   "execution_count": 4,
   "id": "9009d3b6",
   "metadata": {
    "scrolled": true
   },
   "outputs": [],
   "source": [
    "# Create local \"nobel\" database on the fly\n",
    "db = client[\"nobel\"]\n",
    "\n",
    "for collection_name in [\"prizes\", \"laureates\"]:\n",
    "\n",
    "    # collect the data from the API\n",
    "    response = requests.get(\"http://api.nobelprize.org/v1/{}.json\".format(collection_name[:-1] ))\n",
    "    \n",
    "    # convert the data to json\n",
    "    documents = response.json()[collection_name]\n",
    "    \n",
    "    # Create collections on the fly\n",
    "    db[collection_name].insert_many(documents)"
   ]
  },
  {
   "cell_type": "code",
   "execution_count": 5,
   "id": "86ff903b",
   "metadata": {},
   "outputs": [
    {
     "data": {
      "text/plain": [
       "['nobel', 'time_series', 'admin', 'local']"
      ]
     },
     "execution_count": 5,
     "metadata": {},
     "output_type": "execute_result"
    }
   ],
   "source": [
    "client.list_database_names()"
   ]
  },
  {
   "cell_type": "code",
   "execution_count": 6,
   "id": "7fef7430",
   "metadata": {},
   "outputs": [
    {
     "name": "stdout",
     "output_type": "stream",
     "text": [
      "['nobel', 'time_series', 'admin', 'local']\n",
      "['prizes', 'laureates']\n"
     ]
    }
   ],
   "source": [
    "# Save a list of names of the databases managed by client\n",
    "db_names = client.list_database_names()\n",
    "print(db_names)\n",
    "\n",
    "# Save a list of names of the collections managed by the \"nobel\" database\n",
    "nobel_coll_names = client.nobel.list_collection_names()\n",
    "print(nobel_coll_names)"
   ]
  },
  {
   "cell_type": "code",
   "execution_count": 7,
   "id": "6074a874",
   "metadata": {},
   "outputs": [
    {
     "name": "stdout",
     "output_type": "stream",
     "text": [
      "{'_id': ObjectId('61fc097abfc7010032f63c6f'), 'year': '2021', 'category': 'chemistry', 'laureates': [{'id': '1002', 'firstname': 'Benjamin', 'surname': 'List', 'motivation': '\"for the development of asymmetric organocatalysis\"', 'share': '2'}, {'id': '1003', 'firstname': 'David', 'surname': 'MacMillan', 'motivation': '\"for the development of asymmetric organocatalysis\"', 'share': '2'}]}\n",
      "{'_id': ObjectId('61fc097bbfc7010032f63f01'), 'id': '1', 'firstname': 'Wilhelm Conrad', 'surname': 'Röntgen', 'born': '1845-03-27', 'died': '1923-02-10', 'bornCountry': 'Prussia (now Germany)', 'bornCountryCode': 'DE', 'bornCity': 'Lennep (now Remscheid)', 'diedCountry': 'Germany', 'diedCountryCode': 'DE', 'diedCity': 'Munich', 'gender': 'male', 'prizes': [{'year': '1901', 'category': 'physics', 'share': '1', 'motivation': '\"in recognition of the extraordinary services he has rendered by the discovery of the remarkable rays subsequently named after him\"', 'affiliations': [{'name': 'Munich University', 'city': 'Munich', 'country': 'Germany'}]}]}\n",
      "<class 'dict'>\n",
      "['_id', 'year', 'category', 'laureates']\n",
      "['_id', 'id', 'firstname', 'surname', 'born', 'died', 'bornCountry', 'bornCountryCode', 'bornCity', 'diedCountry', 'diedCountryCode', 'diedCity', 'gender', 'prizes']\n"
     ]
    }
   ],
   "source": [
    "# Connect to the \"nobel\" database\n",
    "db = client.nobel\n",
    "\n",
    "# Retrieve sample prize and laureate documents\n",
    "prize = db.prizes.find_one()\n",
    "laureate = db.laureates.find_one()\n",
    "\n",
    "# Print the sample prize and laureate documents\n",
    "print(prize)\n",
    "print(laureate)\n",
    "print(type(laureate))\n",
    "\n",
    "# Get the fields present in each type of document\n",
    "prize_fields = list(prize.keys())\n",
    "laureate_fields = list(laureate.keys())\n",
    "\n",
    "print(prize_fields)\n",
    "print(laureate_fields)"
   ]
  },
  {
   "cell_type": "markdown",
   "id": "e3d86894",
   "metadata": {},
   "source": [
    "#### Comparisons and filtering"
   ]
  },
  {
   "cell_type": "code",
   "execution_count": 8,
   "id": "4d7df540",
   "metadata": {},
   "outputs": [
    {
     "name": "stdout",
     "output_type": "stream",
     "text": [
      "1\n"
     ]
    }
   ],
   "source": [
    "# Greater than\n",
    "db.laureates.count_documents({'born':{'$gt':'1700'}})\n",
    "\n",
    "# Less than\n",
    "db.laureates.count_documents({'born':{'$lt':'1700'}})\n",
    "\n",
    "# Create a filter for Germany-born laureates who died in the USA and with the first name \"Albert\"\n",
    "criteria = {'firstname':'Albert', \n",
    "            'bornCountry': 'Germany', \n",
    "            'diedCountry': 'USA'}\n",
    "\n",
    "# Save the count\n",
    "count = db.laureates.count_documents(criteria)\n",
    "print(count)"
   ]
  },
  {
   "cell_type": "code",
   "execution_count": 9,
   "id": "b8613d5c",
   "metadata": {},
   "outputs": [
    {
     "name": "stdout",
     "output_type": "stream",
     "text": [
      "305\n"
     ]
    }
   ],
   "source": [
    "# Save a filter for laureates born in the USA, Canada, or Mexico\n",
    "criteria = { 'bornCountry': \n",
    "                { \"$in\": ['USA','Canada','Mexico']}\n",
    "             }\n",
    "\n",
    "# Count them and save the count\n",
    "count = db.laureates.count_documents(criteria)\n",
    "print(count)"
   ]
  },
  {
   "cell_type": "code",
   "execution_count": 10,
   "id": "6295aafd",
   "metadata": {},
   "outputs": [
    {
     "name": "stdout",
     "output_type": "stream",
     "text": [
      "73\n"
     ]
    }
   ],
   "source": [
    "# Save a filter for laureates who died in the USA and were not born there\n",
    "criteria = { 'diedCountry': 'USA',\n",
    "               'bornCountry': { \"$ne\": 'USA'}, \n",
    "             }\n",
    "\n",
    "# Count them\n",
    "count = db.laureates.count_documents(criteria)\n",
    "print(count)"
   ]
  },
  {
   "cell_type": "markdown",
   "id": "8926403d",
   "metadata": {},
   "source": [
    "#### Dot notation\n",
    " - lets us reach the document's substructure\n",
    " - full path to a field from the document's root"
   ]
  },
  {
   "cell_type": "code",
   "execution_count": 11,
   "id": "bb83f0e1",
   "metadata": {},
   "outputs": [
    {
     "name": "stdout",
     "output_type": "stream",
     "text": [
      "11\n"
     ]
    }
   ],
   "source": [
    "# Filter for laureates born in Austria with non-Austria prize affiliation\n",
    "criteria = {'bornCountry': 'Austria', \n",
    "              'prizes.affiliations.country': {\"$ne\": 'Austria'}}\n",
    "\n",
    "# Count the number of such laureates\n",
    "count = db.laureates.count_documents(criteria)\n",
    "print(count)"
   ]
  },
  {
   "cell_type": "code",
   "execution_count": 12,
   "id": "3a8a37ca",
   "metadata": {},
   "outputs": [
    {
     "name": "stdout",
     "output_type": "stream",
     "text": [
      "2\n"
     ]
    }
   ],
   "source": [
    "# Filter for documents without a \"born\" field\n",
    "criteria = {\"born\": {\"$exists\": False}}\n",
    "\n",
    "# Save count\n",
    "count = db.laureates.count_documents(criteria)\n",
    "print(count)"
   ]
  },
  {
   "cell_type": "code",
   "execution_count": 13,
   "id": "08fa358a",
   "metadata": {},
   "outputs": [
    {
     "name": "stdout",
     "output_type": "stream",
     "text": [
      "{'_id': ObjectId('61fc097bbfc7010032f640dc'), 'id': '482', 'firstname': 'International Committee of the Red Cross', 'born': '1863-00-00', 'died': '0000-00-00', 'gender': 'org', 'prizes': [{'year': '1917', 'category': 'peace', 'share': '1', 'motivation': '\"for the efforts to take care of wounded soldiers and prisoners of war and their families\"', 'affiliations': [[]]}, {'year': '1944', 'category': 'peace', 'share': '1', 'motivation': '\"for the great work it has performed during the war on behalf of humanity\"', 'affiliations': [[]]}, {'year': '1963', 'category': 'peace', 'share': '2', 'motivation': '\"for promoting the principles of the Geneva Convention and cooperation with the UN\"', 'affiliations': [[]]}]}\n"
     ]
    }
   ],
   "source": [
    "# Filter for laureates with at least three prizes\n",
    "criteria = {\"prizes.2\": {'$exists': True}}\n",
    "\n",
    "# Find one laureate with at least three prizes\n",
    "doc = db.laureates.find_one(criteria)\n",
    "\n",
    "# Print the document\n",
    "print(doc)"
   ]
  },
  {
   "cell_type": "markdown",
   "id": "409cac41",
   "metadata": {},
   "source": [
    "#### Distinct()"
   ]
  },
  {
   "cell_type": "code",
   "execution_count": 14,
   "id": "11070a7f",
   "metadata": {},
   "outputs": [
    {
     "name": "stdout",
     "output_type": "stream",
     "text": [
      "{'Puerto Rico', 'East Germany (now Germany)', 'Northern Rhodesia (now Zambia)', 'Israel', 'Barbados', 'Tunisia', 'Greece', 'Jamaica', 'Gabon', 'Yugoslavia (now Serbia)', 'Singapore'}\n",
      "29\n"
     ]
    }
   ],
   "source": [
    "# Countries recorded as countries of death but not as countries of birth\n",
    "countries = set(db.laureates.distinct('diedCountry')) - set(db.laureates.distinct('bornCountry'))\n",
    "print(countries)\n",
    "\n",
    "# The number of distinct countries of laureate affiliation for prizes\n",
    "count = len(db.laureates.distinct('prizes.affiliations.country'))\n",
    "print(count)"
   ]
  },
  {
   "cell_type": "code",
   "execution_count": 21,
   "id": "0ae16627",
   "metadata": {},
   "outputs": [],
   "source": [
    "# Save a filter for prize documents with three or more laureates\n",
    "criteria = {\"laureates.2\": {\"$exists\": True}}\n",
    "\n",
    "# Save the set of distinct prize categories in documents satisfying the criteria\n",
    "triple_play_categories = set(db.prizes.distinct(\"category\", criteria))\n",
    "assert set(db.prizes.distinct(\"category\")) - triple_play_categories == {\"literature\"}"
   ]
  },
  {
   "cell_type": "code",
   "execution_count": 23,
   "id": "f94863f5",
   "metadata": {},
   "outputs": [
    {
     "data": {
      "text/plain": [
       "{'chemistry', 'economics', 'literature', 'medicine', 'peace', 'physics'}"
      ]
     },
     "execution_count": 23,
     "metadata": {},
     "output_type": "execute_result"
    }
   ],
   "source": [
    "set(db.prizes.distinct(\"category\"))"
   ]
  },
  {
   "cell_type": "code",
   "execution_count": 22,
   "id": "04bef6dd",
   "metadata": {},
   "outputs": [
    {
     "data": {
      "text/plain": [
       "{'chemistry', 'economics', 'medicine', 'peace', 'physics'}"
      ]
     },
     "execution_count": 22,
     "metadata": {},
     "output_type": "execute_result"
    }
   ],
   "source": [
    "triple_play_categories"
   ]
  },
  {
   "cell_type": "markdown",
   "id": "827e41e1",
   "metadata": {},
   "source": [
    "#### Print 1st level fields for each collection"
   ]
  },
  {
   "cell_type": "code",
   "execution_count": 15,
   "id": "9def097a",
   "metadata": {},
   "outputs": [
    {
     "name": "stdout",
     "output_type": "stream",
     "text": [
      "_id\n",
      "year\n",
      "category\n",
      "laureates\n"
     ]
    }
   ],
   "source": [
    "for i in db.prizes.find_one({}): print(i)"
   ]
  },
  {
   "cell_type": "code",
   "execution_count": 16,
   "id": "7ce2e005",
   "metadata": {},
   "outputs": [
    {
     "name": "stdout",
     "output_type": "stream",
     "text": [
      "_id\n",
      "id\n",
      "firstname\n",
      "surname\n",
      "born\n",
      "died\n",
      "bornCountry\n",
      "bornCountryCode\n",
      "bornCity\n",
      "diedCountry\n",
      "diedCountryCode\n",
      "diedCity\n",
      "gender\n",
      "prizes\n"
     ]
    }
   ],
   "source": [
    "for i in db.laureates.find_one({}): print(i)"
   ]
  },
  {
   "cell_type": "markdown",
   "id": "90b6022a",
   "metadata": {},
   "source": [
    "#### Filter for laureates with a prize category in physics"
   ]
  },
  {
   "cell_type": "code",
   "execution_count": 24,
   "id": "f379d6be",
   "metadata": {
    "scrolled": true
   },
   "outputs": [
    {
     "data": {
      "text/plain": [
       "218"
      ]
     },
     "execution_count": 24,
     "metadata": {},
     "output_type": "execute_result"
    }
   ],
   "source": [
    "db.laureates.count_documents({\"prizes.category\": \"physics\"})"
   ]
  },
  {
   "cell_type": "markdown",
   "id": "a91a5afe",
   "metadata": {},
   "source": [
    "#### Filter for laureates with a prize category not in physics"
   ]
  },
  {
   "cell_type": "code",
   "execution_count": 25,
   "id": "42123b59",
   "metadata": {},
   "outputs": [
    {
     "data": {
      "text/plain": [
       "750"
      ]
     },
     "execution_count": 25,
     "metadata": {},
     "output_type": "execute_result"
    }
   ],
   "source": [
    "db.laureates.count_documents({\"prizes.category\": {\"$ne\": \"physics\"}})\n"
   ]
  },
  {
   "cell_type": "markdown",
   "id": "cc368759",
   "metadata": {},
   "source": [
    "#### Filter for laureates with a prize category in either physics, chemistry or medicine"
   ]
  },
  {
   "cell_type": "code",
   "execution_count": 26,
   "id": "6479974e",
   "metadata": {},
   "outputs": [
    {
     "data": {
      "text/plain": [
       "628"
      ]
     },
     "execution_count": 26,
     "metadata": {},
     "output_type": "execute_result"
    }
   ],
   "source": [
    "db.laureates.count_documents({\"prizes.category\": {\n",
    "        \"$in\": [\"physics\", \"chemistry\", \"medicine\"]}})"
   ]
  },
  {
   "cell_type": "markdown",
   "id": "c02f7123",
   "metadata": {},
   "source": [
    "#### Filter for laureates with at least one prize not in physics, chemistry and medicine"
   ]
  },
  {
   "cell_type": "code",
   "execution_count": 27,
   "id": "d412ba60",
   "metadata": {},
   "outputs": [
    {
     "data": {
      "text/plain": [
       "340"
      ]
     },
     "execution_count": 27,
     "metadata": {},
     "output_type": "execute_result"
    }
   ],
   "source": [
    "db.laureates.count_documents({\n",
    "    \"prizes.category\": {\n",
    "    \"$nin\": [\"physics\", \"chemistry\", \"medicine\"]}})"
   ]
  },
  {
   "cell_type": "markdown",
   "id": "033c572a",
   "metadata": {},
   "source": [
    "#### Filter for laureates with at least one unshared count in physics"
   ]
  },
  {
   "cell_type": "code",
   "execution_count": 28,
   "id": "26d30ed9",
   "metadata": {},
   "outputs": [
    {
     "data": {
      "text/plain": [
       "47"
      ]
     },
     "execution_count": 28,
     "metadata": {},
     "output_type": "execute_result"
    }
   ],
   "source": [
    "db.laureates.count_documents({\n",
    "    \"prizes\": {\"$elemMatch\": {\"category\": \"physics\", \"share\": \"1\"}}})"
   ]
  },
  {
   "cell_type": "code",
   "execution_count": 29,
   "id": "8cc79167",
   "metadata": {},
   "outputs": [
    {
     "data": {
      "text/plain": [
       "29"
      ]
     },
     "execution_count": 29,
     "metadata": {},
     "output_type": "execute_result"
    }
   ],
   "source": [
    "db.laureates.count_documents({\n",
    "    \"prizes\": {\"$elemMatch\": {\n",
    "        \"category\": \"physics\", \"share\": \"1\", \"year\": {\"$lt\": \"1945\"},}}})"
   ]
  },
  {
   "cell_type": "code",
   "execution_count": 30,
   "id": "1c5c6e4b",
   "metadata": {},
   "outputs": [
    {
     "data": {
      "text/plain": [
       "152"
      ]
     },
     "execution_count": 30,
     "metadata": {},
     "output_type": "execute_result"
    }
   ],
   "source": [
    "db.laureates.count_documents({\n",
    "    \"prizes\": {\"$elemMatch\": {\n",
    "        \"category\": \"physics\", \"share\": {\"$ne\": \"1\"}, \"year\": {\"$gte\": \"1945\"}}}})"
   ]
  },
  {
   "cell_type": "markdown",
   "id": "06b3eb50",
   "metadata": {},
   "source": [
    "#### More complex filtering"
   ]
  },
  {
   "cell_type": "code",
   "execution_count": 31,
   "id": "dc9ff2d4",
   "metadata": {},
   "outputs": [
    {
     "name": "stdout",
     "output_type": "stream",
     "text": [
      "1.2982456140350878\n"
     ]
    }
   ],
   "source": [
    "# Save a filter for laureates with unshared prizes\n",
    "unshared = {\n",
    "    \"prizes\": {\"$elemMatch\": {\n",
    "        \"category\": {\"$nin\": [\"physics\", \"chemistry\", \"medicine\"]},\n",
    "        \"share\": \"1\",\n",
    "        \"year\": {\"$gte\": \"1945\"},\n",
    "    }}}\n",
    "\n",
    "# Save a filter for laureates with shared prizes\n",
    "shared = {\n",
    "    \"prizes\": {\"$elemMatch\": {\n",
    "        \"category\": {\"$nin\": [\"physics\", \"chemistry\", \"medicine\"]},\n",
    "        \"share\": {\"$ne\": \"1\"},\n",
    "        \"year\": {\"$gte\": \"1945\"},\n",
    "    }}}\n",
    "\n",
    "ratio = db.laureates.count_documents(unshared) / db.laureates.count_documents(shared)\n",
    "print(ratio)"
   ]
  },
  {
   "cell_type": "code",
   "execution_count": 32,
   "id": "9700b3d8",
   "metadata": {},
   "outputs": [
    {
     "name": "stdout",
     "output_type": "stream",
     "text": [
      "0.8461538461538461\n"
     ]
    }
   ],
   "source": [
    "# Save a filter for organization laureates with prizes won before 1945\n",
    "before = {\n",
    "    'gender': 'org',\n",
    "    'prizes.year': {'$lt': \"1945\"},\n",
    "    }\n",
    "\n",
    "# Save a filter for organization laureates with prizes won in or after 1945\n",
    "in_or_after = {\n",
    "    'gender': 'org',\n",
    "    'prizes.year': {'$gte': \"1945\"},\n",
    "    }\n",
    "\n",
    "n_before = db.laureates.count_documents(before)\n",
    "n_in_or_after = db.laureates.count_documents(in_or_after)\n",
    "ratio = n_in_or_after / (n_in_or_after + n_before)\n",
    "print(ratio)"
   ]
  },
  {
   "cell_type": "markdown",
   "id": "288e510f",
   "metadata": {},
   "source": [
    "#### Filtering with regex"
   ]
  },
  {
   "cell_type": "code",
   "execution_count": 38,
   "id": "7014dad8",
   "metadata": {},
   "outputs": [
    {
     "data": {
      "text/plain": [
       "['Austria-Hungary (now Poland)',\n",
       " 'Free City of Danzig (now Poland)',\n",
       " 'German-occupied Poland (now Poland)',\n",
       " 'Germany (now Poland)',\n",
       " 'Poland',\n",
       " 'Poland (now Belarus)',\n",
       " 'Poland (now Lithuania)',\n",
       " 'Poland (now Ukraine)',\n",
       " 'Prussia (now Poland)',\n",
       " 'Russian Empire (now Poland)']"
      ]
     },
     "metadata": {},
     "output_type": "display_data"
    },
    {
     "data": {
      "text/plain": [
       "['Austria-Hungary (now Poland)',\n",
       " 'Free City of Danzig (now Poland)',\n",
       " 'German-occupied Poland (now Poland)',\n",
       " 'Germany (now Poland)',\n",
       " 'Poland',\n",
       " 'Poland (now Belarus)',\n",
       " 'Poland (now Lithuania)',\n",
       " 'Poland (now Ukraine)',\n",
       " 'Prussia (now Poland)',\n",
       " 'Russian Empire (now Poland)']"
      ]
     },
     "execution_count": 38,
     "metadata": {},
     "output_type": "execute_result"
    }
   ],
   "source": [
    "case_sensitive = db.laureates.distinct(\n",
    "    \"bornCountry\",\n",
    "    {\"bornCountry\": {\"$regex\": \"Poland\"}})\n",
    "display(case_sensitive)\n",
    "\n",
    "case_insensitive = db.laureates.distinct(\n",
    "    \"bornCountry\",\n",
    "    {\"bornCountry\": {\"$regex\": \"poland\", \"$options\": \"i\"}})\n",
    "\n",
    "case_insensitive"
   ]
  },
  {
   "cell_type": "code",
   "execution_count": 39,
   "id": "f45c43c0",
   "metadata": {},
   "outputs": [],
   "source": [
    "assert set(case_sensitive) == set(case_insensitive)"
   ]
  },
  {
   "cell_type": "code",
   "execution_count": 40,
   "id": "491c17d4",
   "metadata": {},
   "outputs": [
    {
     "data": {
      "text/plain": [
       "['Austria-Hungary (now Poland)',\n",
       " 'Free City of Danzig (now Poland)',\n",
       " 'German-occupied Poland (now Poland)',\n",
       " 'Germany (now Poland)',\n",
       " 'Poland',\n",
       " 'Poland (now Belarus)',\n",
       " 'Poland (now Lithuania)',\n",
       " 'Poland (now Ukraine)',\n",
       " 'Prussia (now Poland)',\n",
       " 'Russian Empire (now Poland)']"
      ]
     },
     "execution_count": 40,
     "metadata": {},
     "output_type": "execute_result"
    }
   ],
   "source": [
    "from bson.regex import Regex\n",
    "\n",
    "db.laureates.distinct(\"bornCountry\",\n",
    "                      {\"bornCountry\": Regex(\"poland\", \"i\")})"
   ]
  },
  {
   "cell_type": "code",
   "execution_count": 41,
   "id": "fad2dc2c",
   "metadata": {},
   "outputs": [
    {
     "data": {
      "text/plain": [
       "10"
      ]
     },
     "execution_count": 41,
     "metadata": {},
     "output_type": "execute_result"
    }
   ],
   "source": [
    "db.laureates.count_documents({\"firstname\": Regex('^G'), \"surname\": Regex('^S')})\n"
   ]
  },
  {
   "cell_type": "code",
   "execution_count": 44,
   "id": "34699845",
   "metadata": {},
   "outputs": [
    {
     "name": "stdout",
     "output_type": "stream",
     "text": [
      "{'Germany (now Poland)', 'Germany (now France)', 'Germany (now Russia)'}\n"
     ]
    }
   ],
   "source": [
    "# Fill in a string value to be sandwiched between the strings \"^Germany \" and \"now\"\n",
    "criteria = {\"bornCountry\": Regex(\"^Germany \" + '\\(' + \"now\")}\n",
    "\n",
    "print(set(db.laureates.distinct(\"bornCountry\", criteria)))"
   ]
  },
  {
   "cell_type": "code",
   "execution_count": 43,
   "id": "9c92889c",
   "metadata": {},
   "outputs": [
    {
     "name": "stdout",
     "output_type": "stream",
     "text": [
      "{'West Germany (now Germany)', 'Bavaria (now Germany)', 'East Friesland (now Germany)', 'Prussia (now Germany)', 'Schleswig (now Germany)', 'Württemberg (now Germany)', 'Hesse-Kassel (now Germany)', 'Mecklenburg (now Germany)'}\n"
     ]
    }
   ],
   "source": [
    "#Filter for currently-Germany countries of birth. Fill in a string value to be sandwiched between the strings \"now\" and \"$\"\n",
    "criteria = {\"bornCountry\": Regex(\"now Germany\\\\)$\")}\n",
    "\n",
    "print(set(db.laureates.distinct(\"bornCountry\", criteria)))"
   ]
  },
  {
   "cell_type": "code",
   "execution_count": 42,
   "id": "5a5427b2",
   "metadata": {},
   "outputs": [
    {
     "name": "stdout",
     "output_type": "stream",
     "text": [
      "[('William B.', 'Shockley'), ('John', 'Bardeen'), ('Walter H.', 'Brattain')]\n"
     ]
    }
   ],
   "source": [
    "# Save a filter for laureates with prize motivation values containing \"transistor\" as a substring\n",
    "criteria = {\"prizes.motivation\": Regex(\"transistor\")}\n",
    "\n",
    "# Save the field names corresponding to a laureate's first name and last name\n",
    "first, last = \"firstname\", \"surname\"\n",
    "print([(laureate[first], laureate[last]) for laureate in db.laureates.find(criteria)])"
   ]
  },
  {
   "cell_type": "markdown",
   "id": "ebf5db9a",
   "metadata": {},
   "source": [
    "#### Projection in mongoDB\n",
    " - reducing multidimensional data\n",
    " - fetch projections by specifying the document fields that interest us\n",
    " - do this by passing a dictionary to the find method as a second argument\n",
    " - for each field we want to include in the projection we give a value of one\n",
    " - fields we don't want to include in the projection are not included in the dictionary excluding the _id field\n",
    " "
   ]
  },
  {
   "cell_type": "code",
   "execution_count": 46,
   "id": "4a534187",
   "metadata": {},
   "outputs": [
    {
     "data": {
      "text/plain": [
       "[{'prizes': [{'affiliations': [{'name': 'Munich University',\n",
       "      'city': 'Munich',\n",
       "      'country': 'Germany'}]}]},\n",
       " {'prizes': [{'affiliations': [{'name': 'Leiden University',\n",
       "      'city': 'Leiden',\n",
       "      'country': 'the Netherlands'}]}]},\n",
       " {'prizes': [{'affiliations': [{'name': 'Amsterdam University',\n",
       "      'city': 'Amsterdam',\n",
       "      'country': 'the Netherlands'}]}]}]"
      ]
     },
     "execution_count": 46,
     "metadata": {},
     "output_type": "execute_result"
    }
   ],
   "source": [
    "# include only prizes.affiliations\n",
    "# exclude _id\n",
    "\n",
    "docs = db.laureates.find(\n",
    "         filter={},\n",
    "         projection={\"prizes.affiliations\": 1, \"_id\": 0})\n",
    "\n",
    "# convert to list and slice\n",
    "\n",
    "list(docs)[:3]"
   ]
  },
  {
   "cell_type": "code",
   "execution_count": 49,
   "id": "4cbe3bd4",
   "metadata": {},
   "outputs": [
    {
     "data": {
      "text/plain": [
       "{'firstname': 'Henri', 'surname': 'Becquerel', 'prizes': [{'share': '2'}]}"
      ]
     },
     "execution_count": 49,
     "metadata": {},
     "output_type": "execute_result"
    }
   ],
   "source": [
    "# Projection that gives only the firstname, surnname and prize share info\n",
    "db.laureates.find_one({\"prizes\":\n",
    "                       {\"$elemMatch\": {\"category\": \"physics\", \"year\": \"1903\"}}\n",
    "                      },\n",
    "                      {\"firstname\": 1,\n",
    "                       \"surname\": 1,\n",
    "                       \"prizes.share\": 1,\n",
    "                       \"_id\": 0} )"
   ]
  },
  {
   "cell_type": "code",
   "execution_count": 50,
   "id": "602ff181",
   "metadata": {},
   "outputs": [
    {
     "name": "stdout",
     "output_type": "stream",
     "text": [
      "['Glenn T. Seaborg', 'George D. Snell', 'Gustav Stresemann', 'George Bernard Shaw', 'Giorgos Seferis', 'George J. Stigler', 'George F. Smoot', 'George E. Smith', 'George P. Smith', 'Gregg Semenza']\n"
     ]
    }
   ],
   "source": [
    "# Use projection to select only firstname and surname\n",
    "docs = db.laureates.find(\n",
    "       filter= {\"firstname\" : {\"$regex\" : \"^G\"},\n",
    "                \"surname\" : {\"$regex\" : \"^S\"}  },\n",
    "   projection= [\"firstname\", \"surname\"]  )\n",
    "\n",
    "# Iterate over docs and concatenate first name and surname\n",
    "full_names = [doc[\"firstname\"] + \" \" + doc['surname']  for doc in docs]\n",
    "\n",
    "# Print the full names\n",
    "print(full_names)"
   ]
  },
  {
   "cell_type": "code",
   "execution_count": 51,
   "id": "b51570bd",
   "metadata": {},
   "outputs": [
    {
     "name": "stdout",
     "output_type": "stream",
     "text": [
      "1.0\n",
      "1.0\n",
      "1.0\n",
      "1.0\n",
      "1.0\n",
      "1.0\n",
      "1.0\n",
      "1.0\n",
      "1.0\n",
      "1.0\n",
      "1.0\n",
      "1.0\n",
      "1.0\n",
      "1.0\n",
      "1.0\n",
      "1.0\n",
      "1.0\n",
      "1.0\n",
      "1.0\n",
      "1.0\n",
      "1.0\n",
      "1.0\n",
      "1.0\n",
      "1.0\n",
      "1.0\n",
      "1.0\n",
      "1.0\n",
      "1.0\n",
      "1.0\n",
      "1.0\n",
      "1.0\n",
      "1.0\n",
      "1.0\n",
      "1.0\n",
      "1.0\n",
      "1.0\n",
      "1.0\n",
      "1.0\n",
      "1.0\n",
      "1.0\n",
      "1.0\n",
      "1.0\n",
      "1.0\n",
      "1.0\n",
      "1.0\n",
      "1.0\n",
      "1.0\n",
      "1.0\n",
      "1.0\n",
      "1.0\n",
      "1.0\n",
      "1.0\n",
      "1.0\n",
      "1.0\n",
      "1.0\n",
      "1.0\n",
      "1.0\n",
      "1.0\n",
      "1.0\n",
      "1.0\n",
      "1.0\n",
      "1.0\n",
      "1.0\n",
      "1.0\n",
      "1.0\n",
      "1.0\n",
      "1.0\n",
      "1.0\n",
      "1.0\n",
      "1.0\n",
      "1.0\n",
      "1.0\n",
      "1.0\n",
      "1.0\n",
      "1.0\n",
      "1.0\n",
      "1.0\n",
      "1.0\n",
      "1.0\n",
      "1.0\n",
      "1.0\n",
      "1.0\n",
      "1.0\n",
      "1.0\n",
      "1.0\n",
      "1.0\n",
      "1.0\n",
      "1.0\n",
      "1.0\n",
      "1.0\n",
      "1.0\n",
      "1.0\n",
      "1.0\n",
      "1.0\n",
      "1.0\n",
      "1.0\n",
      "1.0\n",
      "1.0\n",
      "1.0\n",
      "1.0\n",
      "1.0\n",
      "1.0\n",
      "1.0\n",
      "1.0\n",
      "1.0\n",
      "1.0\n",
      "1.0\n",
      "1.0\n",
      "1.0\n",
      "1.0\n",
      "1.0\n",
      "1.0\n",
      "1.0\n",
      "1.0\n",
      "1.0\n",
      "1.0\n",
      "1.0\n",
      "1.0\n",
      "1.0\n",
      "1.0\n",
      "1.0\n",
      "1.0\n",
      "1.0\n",
      "1.0\n",
      "1.0\n",
      "1.0\n",
      "1.0\n",
      "1.0\n",
      "1.0\n",
      "1.0\n",
      "1.0\n",
      "1.0\n",
      "1.0\n",
      "1.0\n",
      "1.0\n",
      "1.0\n",
      "1.0\n",
      "1.0\n",
      "1.0\n",
      "1.0\n",
      "1.0\n",
      "1.0\n",
      "1.0\n",
      "1.0\n",
      "1.0\n",
      "1.0\n",
      "1.0\n",
      "1.0\n",
      "1.0\n",
      "1.0\n",
      "1.0\n",
      "1.0\n",
      "1.0\n",
      "1.0\n",
      "1.0\n",
      "1.0\n",
      "1.0\n",
      "1.0\n",
      "1.0\n",
      "1.0\n",
      "1.0\n",
      "1.0\n",
      "1.0\n",
      "1.0\n",
      "1.0\n",
      "1.0\n",
      "1.0\n",
      "1.0\n",
      "1.0\n",
      "1.0\n",
      "1.0\n",
      "1.0\n",
      "1.0\n",
      "1.0\n",
      "1.0\n",
      "1.0\n",
      "1.0\n",
      "1.0\n",
      "1.0\n",
      "1.0\n",
      "1.0\n",
      "1.0\n",
      "1.0\n",
      "1.0\n",
      "1.0\n",
      "1.0\n",
      "1.0\n",
      "1.0\n",
      "1.0\n",
      "1.0\n",
      "1.0\n",
      "1.0\n",
      "1.0\n",
      "1.0\n",
      "1.0\n",
      "1.0\n",
      "1.0\n",
      "1.0\n",
      "1.0\n",
      "1.0\n",
      "1.0\n",
      "1.0\n",
      "1.0\n",
      "1.0\n",
      "1.0\n",
      "1.0\n",
      "1.0\n",
      "1.0\n",
      "1.0\n",
      "1.0\n",
      "1.0\n",
      "1.0\n",
      "1.0\n",
      "1.0\n",
      "1.0\n",
      "1.0\n",
      "1.0\n",
      "1.0\n",
      "1.0\n",
      "1.0\n",
      "1.0\n",
      "1.0\n",
      "1.0\n",
      "1.0\n",
      "1.0\n",
      "1.0\n",
      "1.0\n",
      "1.0\n",
      "1.0\n",
      "1.0\n",
      "1.0\n",
      "1.0\n",
      "1.0\n",
      "1.0\n",
      "1.0\n",
      "1.0\n",
      "1.0\n",
      "1.0\n",
      "1.0\n",
      "1.0\n",
      "1.0\n",
      "1.0\n",
      "1.0\n",
      "1.0\n",
      "1.0\n",
      "1.0\n",
      "1.0\n",
      "1.0\n",
      "1.0\n",
      "1.0\n",
      "1.0\n",
      "1.0\n",
      "1.0\n",
      "1.0\n",
      "1.0\n",
      "1.0\n",
      "1.0\n",
      "1.0\n",
      "1.0\n",
      "1.0\n",
      "1.0\n",
      "1.0\n",
      "1.0\n",
      "1.0\n",
      "1.0\n",
      "1.0\n",
      "1.0\n",
      "1.0\n",
      "1.0\n",
      "1.0\n",
      "1.0\n",
      "1.0\n",
      "1.0\n",
      "1.0\n",
      "1.0\n",
      "1.0\n",
      "1.0\n",
      "1.0\n",
      "1.0\n",
      "1.0\n",
      "1.0\n",
      "1.0\n",
      "1.0\n",
      "1.0\n",
      "1.0\n",
      "1.0\n",
      "1.0\n",
      "1.0\n",
      "1.0\n",
      "1.0\n",
      "1.0\n",
      "1.0\n",
      "1.0\n",
      "1.0\n",
      "1.0\n",
      "1.0\n",
      "1.0\n"
     ]
    },
    {
     "ename": "KeyError",
     "evalue": "'laureates'",
     "output_type": "error",
     "traceback": [
      "\u001b[0;31m---------------------------------------------------------------------------\u001b[0m",
      "\u001b[0;31mKeyError\u001b[0m                                  Traceback (most recent call last)",
      "\u001b[0;32m<ipython-input-51-111d2c8bae71>\u001b[0m in \u001b[0;36m<module>\u001b[0;34m\u001b[0m\n\u001b[1;32m      8\u001b[0m \u001b[0;34m\u001b[0m\u001b[0m\n\u001b[1;32m      9\u001b[0m     \u001b[0;31m# Iterate over laureates for the prize\u001b[0m\u001b[0;34m\u001b[0m\u001b[0;34m\u001b[0m\u001b[0;34m\u001b[0m\u001b[0m\n\u001b[0;32m---> 10\u001b[0;31m     \u001b[0;32mfor\u001b[0m \u001b[0mlaureate\u001b[0m \u001b[0;32min\u001b[0m \u001b[0mprize\u001b[0m\u001b[0;34m[\u001b[0m\u001b[0;34m\"laureates\"\u001b[0m\u001b[0;34m]\u001b[0m\u001b[0;34m:\u001b[0m\u001b[0;34m\u001b[0m\u001b[0;34m\u001b[0m\u001b[0m\n\u001b[0m\u001b[1;32m     11\u001b[0m         \u001b[0;31m# add the share of the laureate to total_share\u001b[0m\u001b[0;34m\u001b[0m\u001b[0;34m\u001b[0m\u001b[0;34m\u001b[0m\u001b[0m\n\u001b[1;32m     12\u001b[0m         \u001b[0mtotal_share\u001b[0m \u001b[0;34m+=\u001b[0m \u001b[0;36m1\u001b[0m \u001b[0;34m/\u001b[0m \u001b[0mfloat\u001b[0m\u001b[0;34m(\u001b[0m\u001b[0mlaureate\u001b[0m\u001b[0;34m[\u001b[0m\u001b[0;34m'share'\u001b[0m\u001b[0;34m]\u001b[0m\u001b[0;34m)\u001b[0m\u001b[0;34m\u001b[0m\u001b[0;34m\u001b[0m\u001b[0m\n",
      "\u001b[0;31mKeyError\u001b[0m: 'laureates'"
     ]
    }
   ],
   "source": [
    "# Save documents, projecting out laureates share\n",
    "prizes = db.prizes.find({}, [\"laureates.share\"])\n",
    "\n",
    "# Iterate over prizes\n",
    "for prize in prizes:\n",
    "    # Initialize total share\n",
    "    total_share = 0\n",
    "    \n",
    "    # Iterate over laureates for the prize\n",
    "    for laureate in prize[\"laureates\"]:\n",
    "        # add the share of the laureate to total_share\n",
    "        total_share += 1 / float(laureate['share'])\n",
    "        \n",
    "    # Print the total share    \n",
    "    print(total_share)\n"
   ]
  },
  {
   "cell_type": "markdown",
   "id": "8fae824a",
   "metadata": {},
   "source": [
    "#### Sorting in mongoDB"
   ]
  },
  {
   "cell_type": "code",
   "execution_count": 52,
   "id": "aab7231a",
   "metadata": {},
   "outputs": [
    {
     "name": "stdout",
     "output_type": "stream",
     "text": [
      "1967 physics\n",
      "1967 peace\n",
      "1967 medicine\n",
      "1967 literature\n",
      "1967 chemistry\n",
      "1968 physics\n",
      "1968 peace\n",
      "1968 medicine\n",
      "1968 literature\n",
      "1968 chemistry\n",
      "1969 physics\n",
      "1969 peace\n",
      "1969 medicine\n",
      "1969 literature\n",
      "1969 economics\n",
      "1969 chemistry\n"
     ]
    }
   ],
   "source": [
    "for doc in db.prizes.find(\n",
    "    {\"year\": {\"$gt\": \"1966\", \"$lt\": \"1970\"}},\n",
    "    [\"category\", \"year\"],\n",
    "    sort=[(\"year\", 1), (\"category\", -1)]):\n",
    "\n",
    "    print(\"{year} {category}\".format(**doc))"
   ]
  },
  {
   "cell_type": "code",
   "execution_count": 53,
   "id": "4190d873",
   "metadata": {},
   "outputs": [
    {
     "name": "stdout",
     "output_type": "stream",
     "text": [
      "{'born': '1950-12-14', 'prizes': [{'year': '1954'}, {'year': '1981'}]}\n",
      "{'born': '1916-08-25', 'prizes': [{'year': '1954'}]}\n",
      "{'born': '1915-06-15', 'prizes': [{'year': '1954'}]}\n",
      "{'born': '1901-02-28', 'prizes': [{'year': '1962'}, {'year': '1954'}]}\n",
      "{'born': '1913-07-12', 'prizes': [{'year': '1955'}]}\n"
     ]
    }
   ],
   "source": [
    "docs = list(db.laureates.find(\n",
    "    {\"born\": {\"$gte\": \"1900\"}, \"prizes.year\": {\"$gte\": \"1954\"}},\n",
    "    {\"born\": 1, \"prizes.year\": 1, \"_id\": 0},\n",
    "    sort=[(\"prizes.year\", 1), (\"born\", -1)]))\n",
    "\n",
    "for doc in docs[:5]:\n",
    "    print(doc)"
   ]
  },
  {
   "cell_type": "code",
   "execution_count": 54,
   "id": "625265e2",
   "metadata": {},
   "outputs": [
    {
     "name": "stdout",
     "output_type": "stream",
     "text": [
      "1901: Röntgen\n",
      "1902: Lorentz and Zeeman\n",
      "1903: Becquerel and Curie and Curie\n",
      "1904: Rayleigh\n",
      "1905: Lenard\n",
      "1906: Thomson\n",
      "1907: Michelson\n",
      "1908: Lippmann\n",
      "1909: Braun and Marconi\n",
      "1910: van der Waals\n",
      "1911: Wien\n",
      "1912: Dalén\n",
      "1913: Kamerlingh Onnes\n",
      "1914: von Laue\n",
      "1915: Bragg and Bragg\n"
     ]
    },
    {
     "ename": "KeyError",
     "evalue": "'laureates'",
     "output_type": "error",
     "traceback": [
      "\u001b[0;31m---------------------------------------------------------------------------\u001b[0m",
      "\u001b[0;31mKeyError\u001b[0m                                  Traceback (most recent call last)",
      "\u001b[0;32m<ipython-input-54-63c6805bf7c5>\u001b[0m in \u001b[0;36m<module>\u001b[0;34m\u001b[0m\n\u001b[1;32m     21\u001b[0m \u001b[0;31m# print the year and laureate names (from all_laureates)\u001b[0m\u001b[0;34m\u001b[0m\u001b[0;34m\u001b[0m\u001b[0;34m\u001b[0m\u001b[0m\n\u001b[1;32m     22\u001b[0m \u001b[0;32mfor\u001b[0m \u001b[0mdoc\u001b[0m \u001b[0;32min\u001b[0m \u001b[0mdocs\u001b[0m\u001b[0;34m:\u001b[0m\u001b[0;34m\u001b[0m\u001b[0;34m\u001b[0m\u001b[0m\n\u001b[0;32m---> 23\u001b[0;31m     \u001b[0mprint\u001b[0m\u001b[0;34m(\u001b[0m\u001b[0;34m\"{year}: {names}\"\u001b[0m\u001b[0;34m.\u001b[0m\u001b[0mformat\u001b[0m\u001b[0;34m(\u001b[0m\u001b[0myear\u001b[0m\u001b[0;34m=\u001b[0m\u001b[0mdoc\u001b[0m\u001b[0;34m[\u001b[0m\u001b[0;34m\"year\"\u001b[0m\u001b[0;34m]\u001b[0m\u001b[0;34m,\u001b[0m \u001b[0mnames\u001b[0m\u001b[0;34m=\u001b[0m\u001b[0mall_laureates\u001b[0m\u001b[0;34m(\u001b[0m\u001b[0mdoc\u001b[0m\u001b[0;34m)\u001b[0m\u001b[0;34m)\u001b[0m\u001b[0;34m)\u001b[0m\u001b[0;34m\u001b[0m\u001b[0;34m\u001b[0m\u001b[0m\n\u001b[0m",
      "\u001b[0;32m<ipython-input-54-63c6805bf7c5>\u001b[0m in \u001b[0;36mall_laureates\u001b[0;34m(prize)\u001b[0m\n\u001b[1;32m      3\u001b[0m \u001b[0;32mdef\u001b[0m \u001b[0mall_laureates\u001b[0m\u001b[0;34m(\u001b[0m\u001b[0mprize\u001b[0m\u001b[0;34m)\u001b[0m\u001b[0;34m:\u001b[0m\u001b[0;34m\u001b[0m\u001b[0;34m\u001b[0m\u001b[0m\n\u001b[1;32m      4\u001b[0m     \u001b[0;31m# sort the laureates by surname\u001b[0m\u001b[0;34m\u001b[0m\u001b[0;34m\u001b[0m\u001b[0;34m\u001b[0m\u001b[0m\n\u001b[0;32m----> 5\u001b[0;31m     \u001b[0msorted_laureates\u001b[0m \u001b[0;34m=\u001b[0m \u001b[0msorted\u001b[0m\u001b[0;34m(\u001b[0m\u001b[0mprize\u001b[0m\u001b[0;34m[\u001b[0m\u001b[0;34m\"laureates\"\u001b[0m\u001b[0;34m]\u001b[0m\u001b[0;34m,\u001b[0m \u001b[0mkey\u001b[0m\u001b[0;34m=\u001b[0m\u001b[0mitemgetter\u001b[0m\u001b[0;34m(\u001b[0m\u001b[0;34m\"surname\"\u001b[0m\u001b[0;34m)\u001b[0m\u001b[0;34m)\u001b[0m\u001b[0;34m\u001b[0m\u001b[0;34m\u001b[0m\u001b[0m\n\u001b[0m\u001b[1;32m      6\u001b[0m \u001b[0;34m\u001b[0m\u001b[0m\n\u001b[1;32m      7\u001b[0m     \u001b[0;31m# extract surnames\u001b[0m\u001b[0;34m\u001b[0m\u001b[0;34m\u001b[0m\u001b[0;34m\u001b[0m\u001b[0m\n",
      "\u001b[0;31mKeyError\u001b[0m: 'laureates'"
     ]
    }
   ],
   "source": [
    "from operator import itemgetter\n",
    "\n",
    "def all_laureates(prize):  \n",
    "    # sort the laureates by surname\n",
    "    sorted_laureates = sorted(prize[\"laureates\"], key=itemgetter(\"surname\"))\n",
    "\n",
    "    # extract surnames\n",
    "    surnames = [laureate[\"surname\"] for laureate in sorted_laureates]\n",
    "\n",
    "    # concatenate surnames separated with \" and \" \n",
    "    all_names = \" and \".join(surnames)\n",
    "\n",
    "    return all_names\n",
    "\n",
    "# find physics prizes, project year and name, and sort by year\n",
    "docs = db.prizes.find(\n",
    "           filter= {\"category\": \"physics\"}, \n",
    "           projection= [\"year\", \"laureates.firstname\", \"laureates.surname\"], \n",
    "           sort= [(\"year\", 1)])\n",
    "\n",
    "# print the year and laureate names (from all_laureates)\n",
    "for doc in docs:\n",
    "    print(\"{year}: {names}\".format(year=doc[\"year\"], names=all_laureates(doc)))"
   ]
  },
  {
   "cell_type": "code",
   "execution_count": 55,
   "id": "4dc20a9f",
   "metadata": {},
   "outputs": [
    {
     "name": "stdout",
     "output_type": "stream",
     "text": [
      "['chemistry', 'literature', 'medicine', 'peace', 'physics']\n",
      "{'year': '2021', 'category': 'chemistry'}\n",
      "{'year': '2021', 'category': 'economics'}\n",
      "{'year': '2021', 'category': 'literature'}\n",
      "{'year': '2021', 'category': 'medicine'}\n",
      "{'year': '2021', 'category': 'peace'}\n",
      "{'year': '2021', 'category': 'physics'}\n",
      "{'year': '2020', 'category': 'chemistry'}\n",
      "{'year': '2020', 'category': 'economics'}\n",
      "{'year': '2020', 'category': 'literature'}\n",
      "{'year': '2020', 'category': 'medicine'}\n",
      "{'year': '2020', 'category': 'peace'}\n",
      "{'year': '2020', 'category': 'physics'}\n",
      "{'year': '2019', 'category': 'chemistry'}\n",
      "{'year': '2019', 'category': 'economics'}\n",
      "{'year': '2019', 'category': 'literature'}\n",
      "{'year': '2019', 'category': 'medicine'}\n",
      "{'year': '2019', 'category': 'peace'}\n",
      "{'year': '2019', 'category': 'physics'}\n",
      "{'year': '2018', 'category': 'chemistry'}\n",
      "{'year': '2018', 'category': 'economics'}\n",
      "{'year': '2018', 'category': 'literature'}\n",
      "{'year': '2018', 'category': 'medicine'}\n",
      "{'year': '2018', 'category': 'peace'}\n",
      "{'year': '2018', 'category': 'physics'}\n",
      "{'year': '2017', 'category': 'chemistry'}\n",
      "{'year': '2017', 'category': 'economics'}\n",
      "{'year': '2017', 'category': 'literature'}\n",
      "{'year': '2017', 'category': 'medicine'}\n",
      "{'year': '2017', 'category': 'peace'}\n",
      "{'year': '2017', 'category': 'physics'}\n",
      "{'year': '2016', 'category': 'chemistry'}\n",
      "{'year': '2016', 'category': 'economics'}\n",
      "{'year': '2016', 'category': 'literature'}\n",
      "{'year': '2016', 'category': 'medicine'}\n",
      "{'year': '2016', 'category': 'peace'}\n",
      "{'year': '2016', 'category': 'physics'}\n",
      "{'year': '2015', 'category': 'chemistry'}\n",
      "{'year': '2015', 'category': 'economics'}\n",
      "{'year': '2015', 'category': 'literature'}\n",
      "{'year': '2015', 'category': 'medicine'}\n",
      "{'year': '2015', 'category': 'peace'}\n",
      "{'year': '2015', 'category': 'physics'}\n",
      "{'year': '2014', 'category': 'chemistry'}\n",
      "{'year': '2014', 'category': 'economics'}\n",
      "{'year': '2014', 'category': 'literature'}\n",
      "{'year': '2014', 'category': 'medicine'}\n",
      "{'year': '2014', 'category': 'peace'}\n",
      "{'year': '2014', 'category': 'physics'}\n",
      "{'year': '2013', 'category': 'chemistry'}\n",
      "{'year': '2013', 'category': 'economics'}\n",
      "{'year': '2013', 'category': 'literature'}\n",
      "{'year': '2013', 'category': 'medicine'}\n",
      "{'year': '2013', 'category': 'peace'}\n",
      "{'year': '2013', 'category': 'physics'}\n",
      "{'year': '2012', 'category': 'chemistry'}\n",
      "{'year': '2012', 'category': 'economics'}\n",
      "{'year': '2012', 'category': 'literature'}\n",
      "{'year': '2012', 'category': 'medicine'}\n",
      "{'year': '2012', 'category': 'peace'}\n",
      "{'year': '2012', 'category': 'physics'}\n",
      "{'year': '2011', 'category': 'chemistry'}\n",
      "{'year': '2011', 'category': 'economics'}\n",
      "{'year': '2011', 'category': 'literature'}\n",
      "{'year': '2011', 'category': 'medicine'}\n",
      "{'year': '2011', 'category': 'peace'}\n",
      "{'year': '2011', 'category': 'physics'}\n",
      "{'year': '2010', 'category': 'chemistry'}\n",
      "{'year': '2010', 'category': 'economics'}\n",
      "{'year': '2010', 'category': 'literature'}\n",
      "{'year': '2010', 'category': 'medicine'}\n",
      "{'year': '2010', 'category': 'peace'}\n",
      "{'year': '2010', 'category': 'physics'}\n",
      "{'year': '2009', 'category': 'chemistry'}\n",
      "{'year': '2009', 'category': 'economics'}\n",
      "{'year': '2009', 'category': 'literature'}\n",
      "{'year': '2009', 'category': 'medicine'}\n",
      "{'year': '2009', 'category': 'peace'}\n",
      "{'year': '2009', 'category': 'physics'}\n",
      "{'year': '2008', 'category': 'chemistry'}\n",
      "{'year': '2008', 'category': 'economics'}\n",
      "{'year': '2008', 'category': 'literature'}\n",
      "{'year': '2008', 'category': 'medicine'}\n",
      "{'year': '2008', 'category': 'peace'}\n",
      "{'year': '2008', 'category': 'physics'}\n",
      "{'year': '2007', 'category': 'chemistry'}\n",
      "{'year': '2007', 'category': 'economics'}\n",
      "{'year': '2007', 'category': 'literature'}\n",
      "{'year': '2007', 'category': 'medicine'}\n",
      "{'year': '2007', 'category': 'peace'}\n",
      "{'year': '2007', 'category': 'physics'}\n",
      "{'year': '2006', 'category': 'chemistry'}\n",
      "{'year': '2006', 'category': 'economics'}\n",
      "{'year': '2006', 'category': 'literature'}\n",
      "{'year': '2006', 'category': 'medicine'}\n",
      "{'year': '2006', 'category': 'peace'}\n",
      "{'year': '2006', 'category': 'physics'}\n",
      "{'year': '2005', 'category': 'chemistry'}\n",
      "{'year': '2005', 'category': 'economics'}\n",
      "{'year': '2005', 'category': 'literature'}\n",
      "{'year': '2005', 'category': 'medicine'}\n",
      "{'year': '2005', 'category': 'peace'}\n",
      "{'year': '2005', 'category': 'physics'}\n",
      "{'year': '2004', 'category': 'chemistry'}\n",
      "{'year': '2004', 'category': 'economics'}\n",
      "{'year': '2004', 'category': 'literature'}\n",
      "{'year': '2004', 'category': 'medicine'}\n",
      "{'year': '2004', 'category': 'peace'}\n",
      "{'year': '2004', 'category': 'physics'}\n",
      "{'year': '2003', 'category': 'chemistry'}\n",
      "{'year': '2003', 'category': 'economics'}\n",
      "{'year': '2003', 'category': 'literature'}\n",
      "{'year': '2003', 'category': 'medicine'}\n",
      "{'year': '2003', 'category': 'peace'}\n",
      "{'year': '2003', 'category': 'physics'}\n",
      "{'year': '2002', 'category': 'chemistry'}\n",
      "{'year': '2002', 'category': 'economics'}\n",
      "{'year': '2002', 'category': 'literature'}\n",
      "{'year': '2002', 'category': 'medicine'}\n",
      "{'year': '2002', 'category': 'peace'}\n",
      "{'year': '2002', 'category': 'physics'}\n",
      "{'year': '2001', 'category': 'chemistry'}\n",
      "{'year': '2001', 'category': 'economics'}\n",
      "{'year': '2001', 'category': 'literature'}\n",
      "{'year': '2001', 'category': 'medicine'}\n",
      "{'year': '2001', 'category': 'peace'}\n",
      "{'year': '2001', 'category': 'physics'}\n",
      "{'year': '2000', 'category': 'chemistry'}\n",
      "{'year': '2000', 'category': 'economics'}\n",
      "{'year': '2000', 'category': 'literature'}\n",
      "{'year': '2000', 'category': 'medicine'}\n",
      "{'year': '2000', 'category': 'peace'}\n",
      "{'year': '2000', 'category': 'physics'}\n",
      "{'year': '1999', 'category': 'chemistry'}\n",
      "{'year': '1999', 'category': 'economics'}\n",
      "{'year': '1999', 'category': 'literature'}\n",
      "{'year': '1999', 'category': 'medicine'}\n",
      "{'year': '1999', 'category': 'peace'}\n",
      "{'year': '1999', 'category': 'physics'}\n",
      "{'year': '1998', 'category': 'chemistry'}\n",
      "{'year': '1998', 'category': 'economics'}\n",
      "{'year': '1998', 'category': 'literature'}\n",
      "{'year': '1998', 'category': 'medicine'}\n",
      "{'year': '1998', 'category': 'peace'}\n",
      "{'year': '1998', 'category': 'physics'}\n",
      "{'year': '1997', 'category': 'chemistry'}\n",
      "{'year': '1997', 'category': 'economics'}\n",
      "{'year': '1997', 'category': 'literature'}\n",
      "{'year': '1997', 'category': 'medicine'}\n",
      "{'year': '1997', 'category': 'peace'}\n",
      "{'year': '1997', 'category': 'physics'}\n",
      "{'year': '1996', 'category': 'chemistry'}\n",
      "{'year': '1996', 'category': 'economics'}\n",
      "{'year': '1996', 'category': 'literature'}\n",
      "{'year': '1996', 'category': 'medicine'}\n",
      "{'year': '1996', 'category': 'peace'}\n",
      "{'year': '1996', 'category': 'physics'}\n",
      "{'year': '1995', 'category': 'chemistry'}\n",
      "{'year': '1995', 'category': 'economics'}\n",
      "{'year': '1995', 'category': 'literature'}\n",
      "{'year': '1995', 'category': 'medicine'}\n",
      "{'year': '1995', 'category': 'peace'}\n",
      "{'year': '1995', 'category': 'physics'}\n",
      "{'year': '1994', 'category': 'chemistry'}\n",
      "{'year': '1994', 'category': 'economics'}\n",
      "{'year': '1994', 'category': 'literature'}\n",
      "{'year': '1994', 'category': 'medicine'}\n",
      "{'year': '1994', 'category': 'peace'}\n",
      "{'year': '1994', 'category': 'physics'}\n",
      "{'year': '1993', 'category': 'chemistry'}\n",
      "{'year': '1993', 'category': 'economics'}\n",
      "{'year': '1993', 'category': 'literature'}\n",
      "{'year': '1993', 'category': 'medicine'}\n",
      "{'year': '1993', 'category': 'peace'}\n",
      "{'year': '1993', 'category': 'physics'}\n",
      "{'year': '1992', 'category': 'chemistry'}\n",
      "{'year': '1992', 'category': 'economics'}\n",
      "{'year': '1992', 'category': 'literature'}\n",
      "{'year': '1992', 'category': 'medicine'}\n",
      "{'year': '1992', 'category': 'peace'}\n",
      "{'year': '1992', 'category': 'physics'}\n",
      "{'year': '1991', 'category': 'chemistry'}\n",
      "{'year': '1991', 'category': 'economics'}\n",
      "{'year': '1991', 'category': 'literature'}\n",
      "{'year': '1991', 'category': 'medicine'}\n",
      "{'year': '1991', 'category': 'peace'}\n",
      "{'year': '1991', 'category': 'physics'}\n",
      "{'year': '1990', 'category': 'chemistry'}\n",
      "{'year': '1990', 'category': 'economics'}\n",
      "{'year': '1990', 'category': 'literature'}\n",
      "{'year': '1990', 'category': 'medicine'}\n",
      "{'year': '1990', 'category': 'peace'}\n",
      "{'year': '1990', 'category': 'physics'}\n",
      "{'year': '1989', 'category': 'chemistry'}\n",
      "{'year': '1989', 'category': 'economics'}\n",
      "{'year': '1989', 'category': 'literature'}\n",
      "{'year': '1989', 'category': 'medicine'}\n",
      "{'year': '1989', 'category': 'peace'}\n",
      "{'year': '1989', 'category': 'physics'}\n",
      "{'year': '1988', 'category': 'chemistry'}\n",
      "{'year': '1988', 'category': 'economics'}\n",
      "{'year': '1988', 'category': 'literature'}\n",
      "{'year': '1988', 'category': 'medicine'}\n",
      "{'year': '1988', 'category': 'peace'}\n",
      "{'year': '1988', 'category': 'physics'}\n",
      "{'year': '1987', 'category': 'chemistry'}\n",
      "{'year': '1987', 'category': 'economics'}\n",
      "{'year': '1987', 'category': 'literature'}\n",
      "{'year': '1987', 'category': 'medicine'}\n",
      "{'year': '1987', 'category': 'peace'}\n",
      "{'year': '1987', 'category': 'physics'}\n",
      "{'year': '1986', 'category': 'chemistry'}\n",
      "{'year': '1986', 'category': 'economics'}\n",
      "{'year': '1986', 'category': 'literature'}\n",
      "{'year': '1986', 'category': 'medicine'}\n",
      "{'year': '1986', 'category': 'peace'}\n",
      "{'year': '1986', 'category': 'physics'}\n",
      "{'year': '1985', 'category': 'chemistry'}\n",
      "{'year': '1985', 'category': 'economics'}\n",
      "{'year': '1985', 'category': 'literature'}\n",
      "{'year': '1985', 'category': 'medicine'}\n",
      "{'year': '1985', 'category': 'peace'}\n",
      "{'year': '1985', 'category': 'physics'}\n",
      "{'year': '1984', 'category': 'chemistry'}\n",
      "{'year': '1984', 'category': 'economics'}\n",
      "{'year': '1984', 'category': 'literature'}\n",
      "{'year': '1984', 'category': 'medicine'}\n",
      "{'year': '1984', 'category': 'peace'}\n",
      "{'year': '1984', 'category': 'physics'}\n",
      "{'year': '1983', 'category': 'chemistry'}\n",
      "{'year': '1983', 'category': 'economics'}\n",
      "{'year': '1983', 'category': 'literature'}\n",
      "{'year': '1983', 'category': 'medicine'}\n",
      "{'year': '1983', 'category': 'peace'}\n",
      "{'year': '1983', 'category': 'physics'}\n",
      "{'year': '1982', 'category': 'chemistry'}\n",
      "{'year': '1982', 'category': 'economics'}\n",
      "{'year': '1982', 'category': 'literature'}\n",
      "{'year': '1982', 'category': 'medicine'}\n",
      "{'year': '1982', 'category': 'peace'}\n",
      "{'year': '1982', 'category': 'physics'}\n",
      "{'year': '1981', 'category': 'chemistry'}\n",
      "{'year': '1981', 'category': 'economics'}\n",
      "{'year': '1981', 'category': 'literature'}\n",
      "{'year': '1981', 'category': 'medicine'}\n",
      "{'year': '1981', 'category': 'peace'}\n",
      "{'year': '1981', 'category': 'physics'}\n",
      "{'year': '1980', 'category': 'chemistry'}\n",
      "{'year': '1980', 'category': 'economics'}\n",
      "{'year': '1980', 'category': 'literature'}\n",
      "{'year': '1980', 'category': 'medicine'}\n",
      "{'year': '1980', 'category': 'peace'}\n",
      "{'year': '1980', 'category': 'physics'}\n",
      "{'year': '1979', 'category': 'chemistry'}\n",
      "{'year': '1979', 'category': 'economics'}\n",
      "{'year': '1979', 'category': 'literature'}\n",
      "{'year': '1979', 'category': 'medicine'}\n",
      "{'year': '1979', 'category': 'peace'}\n",
      "{'year': '1979', 'category': 'physics'}\n",
      "{'year': '1978', 'category': 'chemistry'}\n",
      "{'year': '1978', 'category': 'economics'}\n",
      "{'year': '1978', 'category': 'literature'}\n",
      "{'year': '1978', 'category': 'medicine'}\n",
      "{'year': '1978', 'category': 'peace'}\n",
      "{'year': '1978', 'category': 'physics'}\n",
      "{'year': '1977', 'category': 'chemistry'}\n",
      "{'year': '1977', 'category': 'economics'}\n",
      "{'year': '1977', 'category': 'literature'}\n",
      "{'year': '1977', 'category': 'medicine'}\n",
      "{'year': '1977', 'category': 'peace'}\n",
      "{'year': '1977', 'category': 'physics'}\n",
      "{'year': '1976', 'category': 'chemistry'}\n",
      "{'year': '1976', 'category': 'economics'}\n",
      "{'year': '1976', 'category': 'literature'}\n",
      "{'year': '1976', 'category': 'medicine'}\n",
      "{'year': '1976', 'category': 'peace'}\n",
      "{'year': '1976', 'category': 'physics'}\n",
      "{'year': '1975', 'category': 'chemistry'}\n",
      "{'year': '1975', 'category': 'economics'}\n",
      "{'year': '1975', 'category': 'literature'}\n",
      "{'year': '1975', 'category': 'medicine'}\n",
      "{'year': '1975', 'category': 'peace'}\n",
      "{'year': '1975', 'category': 'physics'}\n",
      "{'year': '1974', 'category': 'chemistry'}\n",
      "{'year': '1974', 'category': 'economics'}\n",
      "{'year': '1974', 'category': 'literature'}\n",
      "{'year': '1974', 'category': 'medicine'}\n",
      "{'year': '1974', 'category': 'peace'}\n",
      "{'year': '1974', 'category': 'physics'}\n",
      "{'year': '1973', 'category': 'chemistry'}\n",
      "{'year': '1973', 'category': 'economics'}\n",
      "{'year': '1973', 'category': 'literature'}\n",
      "{'year': '1973', 'category': 'medicine'}\n",
      "{'year': '1973', 'category': 'peace'}\n",
      "{'year': '1973', 'category': 'physics'}\n",
      "{'year': '1972', 'category': 'chemistry'}\n",
      "{'year': '1972', 'category': 'economics'}\n",
      "{'year': '1972', 'category': 'literature'}\n",
      "{'year': '1972', 'category': 'medicine'}\n",
      "{'year': '1972', 'category': 'peace'}\n",
      "{'year': '1972', 'category': 'physics'}\n",
      "{'year': '1971', 'category': 'chemistry'}\n",
      "{'year': '1971', 'category': 'economics'}\n",
      "{'year': '1971', 'category': 'literature'}\n",
      "{'year': '1971', 'category': 'medicine'}\n",
      "{'year': '1971', 'category': 'peace'}\n",
      "{'year': '1971', 'category': 'physics'}\n",
      "{'year': '1970', 'category': 'chemistry'}\n",
      "{'year': '1970', 'category': 'economics'}\n",
      "{'year': '1970', 'category': 'literature'}\n",
      "{'year': '1970', 'category': 'medicine'}\n",
      "{'year': '1970', 'category': 'peace'}\n",
      "{'year': '1970', 'category': 'physics'}\n",
      "{'year': '1969', 'category': 'chemistry'}\n",
      "{'year': '1969', 'category': 'economics'}\n",
      "{'year': '1969', 'category': 'literature'}\n",
      "{'year': '1969', 'category': 'medicine'}\n",
      "{'year': '1969', 'category': 'peace'}\n",
      "{'year': '1969', 'category': 'physics'}\n",
      "{'year': '1968', 'category': 'chemistry'}\n",
      "{'year': '1968', 'category': 'literature'}\n",
      "{'year': '1968', 'category': 'medicine'}\n",
      "{'year': '1968', 'category': 'peace'}\n",
      "{'year': '1968', 'category': 'physics'}\n",
      "{'year': '1967', 'category': 'chemistry'}\n",
      "{'year': '1967', 'category': 'literature'}\n",
      "{'year': '1967', 'category': 'medicine'}\n",
      "{'year': '1967', 'category': 'peace'}\n",
      "{'year': '1967', 'category': 'physics'}\n",
      "{'year': '1966', 'category': 'chemistry'}\n",
      "{'year': '1966', 'category': 'literature'}\n",
      "{'year': '1966', 'category': 'medicine'}\n",
      "{'year': '1966', 'category': 'peace'}\n",
      "{'year': '1966', 'category': 'physics'}\n",
      "{'year': '1965', 'category': 'chemistry'}\n",
      "{'year': '1965', 'category': 'literature'}\n",
      "{'year': '1965', 'category': 'medicine'}\n",
      "{'year': '1965', 'category': 'peace'}\n",
      "{'year': '1965', 'category': 'physics'}\n",
      "{'year': '1964', 'category': 'chemistry'}\n",
      "{'year': '1964', 'category': 'literature'}\n",
      "{'year': '1964', 'category': 'medicine'}\n",
      "{'year': '1964', 'category': 'peace'}\n",
      "{'year': '1964', 'category': 'physics'}\n",
      "{'year': '1963', 'category': 'chemistry'}\n",
      "{'year': '1963', 'category': 'literature'}\n",
      "{'year': '1963', 'category': 'medicine'}\n",
      "{'year': '1963', 'category': 'peace'}\n",
      "{'year': '1963', 'category': 'physics'}\n",
      "{'year': '1962', 'category': 'chemistry'}\n",
      "{'year': '1962', 'category': 'literature'}\n",
      "{'year': '1962', 'category': 'medicine'}\n",
      "{'year': '1962', 'category': 'peace'}\n",
      "{'year': '1962', 'category': 'physics'}\n",
      "{'year': '1961', 'category': 'chemistry'}\n",
      "{'year': '1961', 'category': 'literature'}\n",
      "{'year': '1961', 'category': 'medicine'}\n",
      "{'year': '1961', 'category': 'peace'}\n",
      "{'year': '1961', 'category': 'physics'}\n",
      "{'year': '1960', 'category': 'chemistry'}\n",
      "{'year': '1960', 'category': 'literature'}\n",
      "{'year': '1960', 'category': 'medicine'}\n",
      "{'year': '1960', 'category': 'peace'}\n",
      "{'year': '1960', 'category': 'physics'}\n",
      "{'year': '1959', 'category': 'chemistry'}\n",
      "{'year': '1959', 'category': 'literature'}\n",
      "{'year': '1959', 'category': 'medicine'}\n",
      "{'year': '1959', 'category': 'peace'}\n",
      "{'year': '1959', 'category': 'physics'}\n",
      "{'year': '1958', 'category': 'chemistry'}\n",
      "{'year': '1958', 'category': 'literature'}\n",
      "{'year': '1958', 'category': 'medicine'}\n",
      "{'year': '1958', 'category': 'peace'}\n",
      "{'year': '1958', 'category': 'physics'}\n",
      "{'year': '1957', 'category': 'chemistry'}\n",
      "{'year': '1957', 'category': 'literature'}\n",
      "{'year': '1957', 'category': 'medicine'}\n",
      "{'year': '1957', 'category': 'peace'}\n",
      "{'year': '1957', 'category': 'physics'}\n",
      "{'year': '1956', 'category': 'chemistry'}\n",
      "{'year': '1956', 'category': 'literature'}\n",
      "{'year': '1956', 'category': 'medicine'}\n",
      "{'year': '1956', 'category': 'peace'}\n",
      "{'year': '1956', 'category': 'physics'}\n",
      "{'year': '1955', 'category': 'chemistry'}\n",
      "{'year': '1955', 'category': 'literature'}\n",
      "{'year': '1955', 'category': 'medicine'}\n",
      "{'year': '1955', 'category': 'peace'}\n",
      "{'year': '1955', 'category': 'physics'}\n",
      "{'year': '1954', 'category': 'chemistry'}\n",
      "{'year': '1954', 'category': 'literature'}\n",
      "{'year': '1954', 'category': 'medicine'}\n",
      "{'year': '1954', 'category': 'peace'}\n",
      "{'year': '1954', 'category': 'physics'}\n",
      "{'year': '1953', 'category': 'chemistry'}\n",
      "{'year': '1953', 'category': 'literature'}\n",
      "{'year': '1953', 'category': 'medicine'}\n",
      "{'year': '1953', 'category': 'peace'}\n",
      "{'year': '1953', 'category': 'physics'}\n",
      "{'year': '1952', 'category': 'chemistry'}\n",
      "{'year': '1952', 'category': 'literature'}\n",
      "{'year': '1952', 'category': 'medicine'}\n",
      "{'year': '1952', 'category': 'peace'}\n",
      "{'year': '1952', 'category': 'physics'}\n",
      "{'year': '1951', 'category': 'chemistry'}\n",
      "{'year': '1951', 'category': 'literature'}\n",
      "{'year': '1951', 'category': 'medicine'}\n",
      "{'year': '1951', 'category': 'peace'}\n",
      "{'year': '1951', 'category': 'physics'}\n",
      "{'year': '1950', 'category': 'chemistry'}\n",
      "{'year': '1950', 'category': 'literature'}\n",
      "{'year': '1950', 'category': 'medicine'}\n",
      "{'year': '1950', 'category': 'peace'}\n",
      "{'year': '1950', 'category': 'physics'}\n",
      "{'year': '1949', 'category': 'chemistry'}\n",
      "{'year': '1949', 'category': 'literature'}\n",
      "{'year': '1949', 'category': 'medicine'}\n",
      "{'year': '1949', 'category': 'peace'}\n",
      "{'year': '1949', 'category': 'physics'}\n",
      "{'year': '1948', 'category': 'chemistry'}\n",
      "{'year': '1948', 'category': 'literature'}\n",
      "{'year': '1948', 'category': 'medicine'}\n",
      "{'year': '1948', 'category': 'peace'}\n",
      "{'year': '1948', 'category': 'physics'}\n",
      "{'year': '1947', 'category': 'chemistry'}\n",
      "{'year': '1947', 'category': 'literature'}\n",
      "{'year': '1947', 'category': 'medicine'}\n",
      "{'year': '1947', 'category': 'peace'}\n",
      "{'year': '1947', 'category': 'physics'}\n",
      "{'year': '1946', 'category': 'chemistry'}\n",
      "{'year': '1946', 'category': 'literature'}\n",
      "{'year': '1946', 'category': 'medicine'}\n",
      "{'year': '1946', 'category': 'peace'}\n",
      "{'year': '1946', 'category': 'physics'}\n",
      "{'year': '1945', 'category': 'chemistry'}\n",
      "{'year': '1945', 'category': 'literature'}\n",
      "{'year': '1945', 'category': 'medicine'}\n",
      "{'year': '1945', 'category': 'peace'}\n",
      "{'year': '1945', 'category': 'physics'}\n",
      "{'year': '1944', 'category': 'chemistry'}\n",
      "{'year': '1944', 'category': 'literature'}\n",
      "{'year': '1944', 'category': 'medicine'}\n",
      "{'year': '1944', 'category': 'peace'}\n",
      "{'year': '1944', 'category': 'physics'}\n",
      "{'year': '1943', 'category': 'chemistry'}\n",
      "{'year': '1943', 'category': 'literature'}\n",
      "{'year': '1943', 'category': 'medicine'}\n",
      "{'year': '1943', 'category': 'peace'}\n",
      "{'year': '1943', 'category': 'physics'}\n",
      "{'year': '1942', 'category': 'chemistry'}\n",
      "{'year': '1942', 'category': 'literature'}\n",
      "{'year': '1942', 'category': 'medicine'}\n",
      "{'year': '1942', 'category': 'peace'}\n",
      "{'year': '1942', 'category': 'physics'}\n",
      "{'year': '1941', 'category': 'chemistry'}\n",
      "{'year': '1941', 'category': 'literature'}\n",
      "{'year': '1941', 'category': 'medicine'}\n",
      "{'year': '1941', 'category': 'peace'}\n",
      "{'year': '1941', 'category': 'physics'}\n",
      "{'year': '1940', 'category': 'chemistry'}\n",
      "{'year': '1940', 'category': 'literature'}\n",
      "{'year': '1940', 'category': 'medicine'}\n",
      "{'year': '1940', 'category': 'peace'}\n",
      "{'year': '1940', 'category': 'physics'}\n",
      "{'year': '1939', 'category': 'chemistry'}\n",
      "{'year': '1939', 'category': 'literature'}\n",
      "{'year': '1939', 'category': 'medicine'}\n",
      "{'year': '1939', 'category': 'peace'}\n",
      "{'year': '1939', 'category': 'physics'}\n",
      "{'year': '1938', 'category': 'chemistry'}\n",
      "{'year': '1938', 'category': 'literature'}\n",
      "{'year': '1938', 'category': 'medicine'}\n",
      "{'year': '1938', 'category': 'peace'}\n",
      "{'year': '1938', 'category': 'physics'}\n",
      "{'year': '1937', 'category': 'chemistry'}\n",
      "{'year': '1937', 'category': 'literature'}\n",
      "{'year': '1937', 'category': 'medicine'}\n",
      "{'year': '1937', 'category': 'peace'}\n",
      "{'year': '1937', 'category': 'physics'}\n",
      "{'year': '1936', 'category': 'chemistry'}\n",
      "{'year': '1936', 'category': 'literature'}\n",
      "{'year': '1936', 'category': 'medicine'}\n",
      "{'year': '1936', 'category': 'peace'}\n",
      "{'year': '1936', 'category': 'physics'}\n",
      "{'year': '1935', 'category': 'chemistry'}\n",
      "{'year': '1935', 'category': 'literature'}\n",
      "{'year': '1935', 'category': 'medicine'}\n",
      "{'year': '1935', 'category': 'peace'}\n",
      "{'year': '1935', 'category': 'physics'}\n",
      "{'year': '1934', 'category': 'chemistry'}\n",
      "{'year': '1934', 'category': 'literature'}\n",
      "{'year': '1934', 'category': 'medicine'}\n",
      "{'year': '1934', 'category': 'peace'}\n",
      "{'year': '1934', 'category': 'physics'}\n",
      "{'year': '1933', 'category': 'chemistry'}\n",
      "{'year': '1933', 'category': 'literature'}\n",
      "{'year': '1933', 'category': 'medicine'}\n",
      "{'year': '1933', 'category': 'peace'}\n",
      "{'year': '1933', 'category': 'physics'}\n",
      "{'year': '1932', 'category': 'chemistry'}\n",
      "{'year': '1932', 'category': 'literature'}\n",
      "{'year': '1932', 'category': 'medicine'}\n",
      "{'year': '1932', 'category': 'peace'}\n",
      "{'year': '1932', 'category': 'physics'}\n",
      "{'year': '1931', 'category': 'chemistry'}\n",
      "{'year': '1931', 'category': 'literature'}\n",
      "{'year': '1931', 'category': 'medicine'}\n",
      "{'year': '1931', 'category': 'peace'}\n",
      "{'year': '1931', 'category': 'physics'}\n",
      "{'year': '1930', 'category': 'chemistry'}\n",
      "{'year': '1930', 'category': 'literature'}\n",
      "{'year': '1930', 'category': 'medicine'}\n",
      "{'year': '1930', 'category': 'peace'}\n",
      "{'year': '1930', 'category': 'physics'}\n",
      "{'year': '1929', 'category': 'chemistry'}\n",
      "{'year': '1929', 'category': 'literature'}\n",
      "{'year': '1929', 'category': 'medicine'}\n",
      "{'year': '1929', 'category': 'peace'}\n",
      "{'year': '1929', 'category': 'physics'}\n",
      "{'year': '1928', 'category': 'chemistry'}\n",
      "{'year': '1928', 'category': 'literature'}\n",
      "{'year': '1928', 'category': 'medicine'}\n",
      "{'year': '1928', 'category': 'peace'}\n",
      "{'year': '1928', 'category': 'physics'}\n",
      "{'year': '1927', 'category': 'chemistry'}\n",
      "{'year': '1927', 'category': 'literature'}\n",
      "{'year': '1927', 'category': 'medicine'}\n",
      "{'year': '1927', 'category': 'peace'}\n",
      "{'year': '1927', 'category': 'physics'}\n",
      "{'year': '1926', 'category': 'chemistry'}\n",
      "{'year': '1926', 'category': 'literature'}\n",
      "{'year': '1926', 'category': 'medicine'}\n",
      "{'year': '1926', 'category': 'peace'}\n",
      "{'year': '1926', 'category': 'physics'}\n",
      "{'year': '1925', 'category': 'chemistry'}\n",
      "{'year': '1925', 'category': 'literature'}\n",
      "{'year': '1925', 'category': 'medicine'}\n",
      "{'year': '1925', 'category': 'peace'}\n",
      "{'year': '1925', 'category': 'physics'}\n",
      "{'year': '1924', 'category': 'chemistry'}\n",
      "{'year': '1924', 'category': 'literature'}\n",
      "{'year': '1924', 'category': 'medicine'}\n",
      "{'year': '1924', 'category': 'peace'}\n",
      "{'year': '1924', 'category': 'physics'}\n",
      "{'year': '1923', 'category': 'chemistry'}\n",
      "{'year': '1923', 'category': 'literature'}\n",
      "{'year': '1923', 'category': 'medicine'}\n",
      "{'year': '1923', 'category': 'peace'}\n",
      "{'year': '1923', 'category': 'physics'}\n",
      "{'year': '1922', 'category': 'chemistry'}\n",
      "{'year': '1922', 'category': 'literature'}\n",
      "{'year': '1922', 'category': 'medicine'}\n",
      "{'year': '1922', 'category': 'peace'}\n",
      "{'year': '1922', 'category': 'physics'}\n",
      "{'year': '1921', 'category': 'chemistry'}\n",
      "{'year': '1921', 'category': 'literature'}\n",
      "{'year': '1921', 'category': 'medicine'}\n",
      "{'year': '1921', 'category': 'peace'}\n",
      "{'year': '1921', 'category': 'physics'}\n",
      "{'year': '1920', 'category': 'chemistry'}\n",
      "{'year': '1920', 'category': 'literature'}\n",
      "{'year': '1920', 'category': 'medicine'}\n",
      "{'year': '1920', 'category': 'peace'}\n",
      "{'year': '1920', 'category': 'physics'}\n",
      "{'year': '1919', 'category': 'chemistry'}\n",
      "{'year': '1919', 'category': 'literature'}\n",
      "{'year': '1919', 'category': 'medicine'}\n",
      "{'year': '1919', 'category': 'peace'}\n",
      "{'year': '1919', 'category': 'physics'}\n",
      "{'year': '1918', 'category': 'chemistry'}\n",
      "{'year': '1918', 'category': 'literature'}\n",
      "{'year': '1918', 'category': 'medicine'}\n",
      "{'year': '1918', 'category': 'peace'}\n",
      "{'year': '1918', 'category': 'physics'}\n",
      "{'year': '1917', 'category': 'chemistry'}\n",
      "{'year': '1917', 'category': 'literature'}\n",
      "{'year': '1917', 'category': 'medicine'}\n",
      "{'year': '1917', 'category': 'peace'}\n",
      "{'year': '1917', 'category': 'physics'}\n",
      "{'year': '1916', 'category': 'chemistry'}\n",
      "{'year': '1916', 'category': 'literature'}\n",
      "{'year': '1916', 'category': 'medicine'}\n",
      "{'year': '1916', 'category': 'peace'}\n",
      "{'year': '1916', 'category': 'physics'}\n",
      "{'year': '1915', 'category': 'chemistry'}\n",
      "{'year': '1915', 'category': 'literature'}\n",
      "{'year': '1915', 'category': 'medicine'}\n",
      "{'year': '1915', 'category': 'peace'}\n",
      "{'year': '1915', 'category': 'physics'}\n",
      "{'year': '1914', 'category': 'chemistry'}\n",
      "{'year': '1914', 'category': 'literature'}\n",
      "{'year': '1914', 'category': 'medicine'}\n",
      "{'year': '1914', 'category': 'peace'}\n",
      "{'year': '1914', 'category': 'physics'}\n",
      "{'year': '1913', 'category': 'chemistry'}\n",
      "{'year': '1913', 'category': 'literature'}\n",
      "{'year': '1913', 'category': 'medicine'}\n",
      "{'year': '1913', 'category': 'peace'}\n",
      "{'year': '1913', 'category': 'physics'}\n",
      "{'year': '1912', 'category': 'chemistry'}\n",
      "{'year': '1912', 'category': 'literature'}\n",
      "{'year': '1912', 'category': 'medicine'}\n",
      "{'year': '1912', 'category': 'peace'}\n",
      "{'year': '1912', 'category': 'physics'}\n",
      "{'year': '1911', 'category': 'chemistry'}\n",
      "{'year': '1911', 'category': 'literature'}\n",
      "{'year': '1911', 'category': 'medicine'}\n",
      "{'year': '1911', 'category': 'peace'}\n",
      "{'year': '1911', 'category': 'physics'}\n",
      "{'year': '1910', 'category': 'chemistry'}\n",
      "{'year': '1910', 'category': 'literature'}\n",
      "{'year': '1910', 'category': 'medicine'}\n",
      "{'year': '1910', 'category': 'peace'}\n",
      "{'year': '1910', 'category': 'physics'}\n",
      "{'year': '1909', 'category': 'chemistry'}\n",
      "{'year': '1909', 'category': 'literature'}\n",
      "{'year': '1909', 'category': 'medicine'}\n",
      "{'year': '1909', 'category': 'peace'}\n",
      "{'year': '1909', 'category': 'physics'}\n",
      "{'year': '1908', 'category': 'chemistry'}\n",
      "{'year': '1908', 'category': 'literature'}\n",
      "{'year': '1908', 'category': 'medicine'}\n",
      "{'year': '1908', 'category': 'peace'}\n",
      "{'year': '1908', 'category': 'physics'}\n",
      "{'year': '1907', 'category': 'chemistry'}\n",
      "{'year': '1907', 'category': 'literature'}\n",
      "{'year': '1907', 'category': 'medicine'}\n",
      "{'year': '1907', 'category': 'peace'}\n",
      "{'year': '1907', 'category': 'physics'}\n",
      "{'year': '1906', 'category': 'chemistry'}\n",
      "{'year': '1906', 'category': 'literature'}\n",
      "{'year': '1906', 'category': 'medicine'}\n",
      "{'year': '1906', 'category': 'peace'}\n",
      "{'year': '1906', 'category': 'physics'}\n",
      "{'year': '1905', 'category': 'chemistry'}\n",
      "{'year': '1905', 'category': 'literature'}\n",
      "{'year': '1905', 'category': 'medicine'}\n",
      "{'year': '1905', 'category': 'peace'}\n",
      "{'year': '1905', 'category': 'physics'}\n",
      "{'year': '1904', 'category': 'chemistry'}\n",
      "{'year': '1904', 'category': 'literature'}\n",
      "{'year': '1904', 'category': 'medicine'}\n",
      "{'year': '1904', 'category': 'peace'}\n",
      "{'year': '1904', 'category': 'physics'}\n",
      "{'year': '1903', 'category': 'chemistry'}\n",
      "{'year': '1903', 'category': 'literature'}\n",
      "{'year': '1903', 'category': 'medicine'}\n",
      "{'year': '1903', 'category': 'peace'}\n",
      "{'year': '1903', 'category': 'physics'}\n",
      "{'year': '1902', 'category': 'chemistry'}\n",
      "{'year': '1902', 'category': 'literature'}\n",
      "{'year': '1902', 'category': 'medicine'}\n",
      "{'year': '1902', 'category': 'peace'}\n",
      "{'year': '1902', 'category': 'physics'}\n",
      "{'year': '1901', 'category': 'chemistry'}\n",
      "{'year': '1901', 'category': 'literature'}\n",
      "{'year': '1901', 'category': 'medicine'}\n",
      "{'year': '1901', 'category': 'peace'}\n",
      "{'year': '1901', 'category': 'physics'}\n"
     ]
    }
   ],
   "source": [
    "# original categories from 1901\n",
    "original_categories = db.prizes.distinct(\"category\", {\"year\": \"1901\"})\n",
    "print(original_categories)\n",
    "\n",
    "# project year and category, and sort\n",
    "docs = db.prizes.find(\n",
    "        filter={},\n",
    "        projection={\"year\":1, \"category\":1, \"_id\":0},\n",
    "        sort=[(\"year\", -1), (\"category\", 1)]\n",
    ")\n",
    "\n",
    "#print the documents\n",
    "for doc in docs:\n",
    "    print(doc)"
   ]
  },
  {
   "cell_type": "markdown",
   "id": "3f66e46f",
   "metadata": {},
   "source": [
    "#### Indexes in mongoDB\n",
    " - like a book index\n",
    " - each collection a book, each document a page, each field a type of content\n",
    " - useful for high specificty, in large documents or collections\n",
    " - use index_informaiton to identify the available indices\n",
    " - use explain() to look at the query plan"
   ]
  },
  {
   "cell_type": "code",
   "execution_count": 56,
   "id": "dd439004",
   "metadata": {},
   "outputs": [
    {
     "data": {
      "text/plain": [
       "{'_id_': {'v': 2, 'key': [('_id', 1)]}}"
      ]
     },
     "execution_count": 56,
     "metadata": {},
     "output_type": "execute_result"
    }
   ],
   "source": [
    "db.laureates.index_information()"
   ]
  },
  {
   "cell_type": "code",
   "execution_count": 57,
   "id": "59a78687",
   "metadata": {
    "scrolled": true
   },
   "outputs": [
    {
     "data": {
      "text/plain": [
       "{'queryPlanner': {'plannerVersion': 1,\n",
       "  'namespace': 'nobel.laureates',\n",
       "  'indexFilterSet': False,\n",
       "  'parsedQuery': {'firstname': {'$eq': 'Marie'}},\n",
       "  'winningPlan': {'stage': 'PROJECTION_SIMPLE',\n",
       "   'transformBy': {'bornCountry': 1, '_id': 0},\n",
       "   'inputStage': {'stage': 'COLLSCAN',\n",
       "    'filter': {'firstname': {'$eq': 'Marie'}},\n",
       "    'direction': 'forward'}},\n",
       "  'rejectedPlans': []},\n",
       " 'executionStats': {'executionSuccess': True,\n",
       "  'nReturned': 1,\n",
       "  'executionTimeMillis': 1,\n",
       "  'totalKeysExamined': 0,\n",
       "  'totalDocsExamined': 968,\n",
       "  'executionStages': {'stage': 'PROJECTION_SIMPLE',\n",
       "   'nReturned': 1,\n",
       "   'executionTimeMillisEstimate': 0,\n",
       "   'works': 970,\n",
       "   'advanced': 1,\n",
       "   'needTime': 968,\n",
       "   'needYield': 0,\n",
       "   'saveState': 0,\n",
       "   'restoreState': 0,\n",
       "   'isEOF': 1,\n",
       "   'transformBy': {'bornCountry': 1, '_id': 0},\n",
       "   'inputStage': {'stage': 'COLLSCAN',\n",
       "    'filter': {'firstname': {'$eq': 'Marie'}},\n",
       "    'nReturned': 1,\n",
       "    'executionTimeMillisEstimate': 0,\n",
       "    'works': 970,\n",
       "    'advanced': 1,\n",
       "    'needTime': 968,\n",
       "    'needYield': 0,\n",
       "    'saveState': 0,\n",
       "    'restoreState': 0,\n",
       "    'isEOF': 1,\n",
       "    'direction': 'forward',\n",
       "    'docsExamined': 968}},\n",
       "  'allPlansExecution': []},\n",
       " 'serverInfo': {'host': 'cluster0-shard-00-02.udp5f.mongodb.net',\n",
       "  'port': 27017,\n",
       "  'version': '4.4.12',\n",
       "  'gitVersion': '51475a8c4d9856eb1461137e7539a0a763cc85dc'},\n",
       " 'ok': 1.0,\n",
       " '$clusterTime': {'clusterTime': Timestamp(1643922451, 3),\n",
       "  'signature': {'hash': b'FJ\\xe9l\\x8f\\xa5\\x14Q\\xaaN\\xc5\\xcb\\xc48V<\\xf9\\xdeDM',\n",
       "   'keyId': 7028260843674402819}},\n",
       " 'operationTime': Timestamp(1643922451, 3)}"
      ]
     },
     "execution_count": 57,
     "metadata": {},
     "output_type": "execute_result"
    }
   ],
   "source": [
    "db.laureates.find(\n",
    "    {\"firstname\": \"Marie\"}, {\"bornCountry\": 1, \"_id\": 0}).explain()"
   ]
  },
  {
   "cell_type": "code",
   "execution_count": 59,
   "id": "03238a61",
   "metadata": {
    "scrolled": true
   },
   "outputs": [
    {
     "data": {
      "text/plain": [
       "{'queryPlanner': {'plannerVersion': 1,\n",
       "  'namespace': 'nobel.laureates',\n",
       "  'indexFilterSet': False,\n",
       "  'parsedQuery': {'firstname': {'$eq': 'Marie'}},\n",
       "  'winningPlan': {'stage': 'PROJECTION_COVERED',\n",
       "   'transformBy': {'bornCountry': 1, '_id': 0},\n",
       "   'inputStage': {'stage': 'IXSCAN',\n",
       "    'keyPattern': {'firstname': 1, 'bornCountry': 1},\n",
       "    'indexName': 'firstname_1_bornCountry_1',\n",
       "    'isMultiKey': False,\n",
       "    'multiKeyPaths': {'firstname': [], 'bornCountry': []},\n",
       "    'isUnique': False,\n",
       "    'isSparse': False,\n",
       "    'isPartial': False,\n",
       "    'indexVersion': 2,\n",
       "    'direction': 'forward',\n",
       "    'indexBounds': {'firstname': ['[\"Marie\", \"Marie\"]'],\n",
       "     'bornCountry': ['[MinKey, MaxKey]']}}},\n",
       "  'rejectedPlans': []},\n",
       " 'executionStats': {'executionSuccess': True,\n",
       "  'nReturned': 1,\n",
       "  'executionTimeMillis': 1,\n",
       "  'totalKeysExamined': 1,\n",
       "  'totalDocsExamined': 0,\n",
       "  'executionStages': {'stage': 'PROJECTION_COVERED',\n",
       "   'nReturned': 1,\n",
       "   'executionTimeMillisEstimate': 0,\n",
       "   'works': 2,\n",
       "   'advanced': 1,\n",
       "   'needTime': 0,\n",
       "   'needYield': 0,\n",
       "   'saveState': 0,\n",
       "   'restoreState': 0,\n",
       "   'isEOF': 1,\n",
       "   'transformBy': {'bornCountry': 1, '_id': 0},\n",
       "   'inputStage': {'stage': 'IXSCAN',\n",
       "    'nReturned': 1,\n",
       "    'executionTimeMillisEstimate': 0,\n",
       "    'works': 2,\n",
       "    'advanced': 1,\n",
       "    'needTime': 0,\n",
       "    'needYield': 0,\n",
       "    'saveState': 0,\n",
       "    'restoreState': 0,\n",
       "    'isEOF': 1,\n",
       "    'keyPattern': {'firstname': 1, 'bornCountry': 1},\n",
       "    'indexName': 'firstname_1_bornCountry_1',\n",
       "    'isMultiKey': False,\n",
       "    'multiKeyPaths': {'firstname': [], 'bornCountry': []},\n",
       "    'isUnique': False,\n",
       "    'isSparse': False,\n",
       "    'isPartial': False,\n",
       "    'indexVersion': 2,\n",
       "    'direction': 'forward',\n",
       "    'indexBounds': {'firstname': ['[\"Marie\", \"Marie\"]'],\n",
       "     'bornCountry': ['[MinKey, MaxKey]']},\n",
       "    'keysExamined': 1,\n",
       "    'seeks': 1,\n",
       "    'dupsTested': 0,\n",
       "    'dupsDropped': 0}},\n",
       "  'allPlansExecution': []},\n",
       " 'serverInfo': {'host': 'cluster0-shard-00-02.udp5f.mongodb.net',\n",
       "  'port': 27017,\n",
       "  'version': '4.4.12',\n",
       "  'gitVersion': '51475a8c4d9856eb1461137e7539a0a763cc85dc'},\n",
       " 'ok': 1.0,\n",
       " '$clusterTime': {'clusterTime': Timestamp(1643922491, 7),\n",
       "  'signature': {'hash': b'\\x9a\\x06\\xf6\\xb0\\xc8\\xa4\\xe3\\x14\\xd2\\x08<y`I\\xe6\\xea)\\xeb$\\x8d',\n",
       "   'keyId': 7028260843674402819}},\n",
       " 'operationTime': Timestamp(1643922491, 7)}"
      ]
     },
     "execution_count": 59,
     "metadata": {},
     "output_type": "execute_result"
    }
   ],
   "source": [
    "db.laureates.create_index([(\"firstname\", 1), (\"bornCountry\", 1)])\n",
    "db.laureates.find(\n",
    "    {\"firstname\": \"Marie\"}, {\"bornCountry\": 1, \"_id\": 0}).explain()"
   ]
  },
  {
   "cell_type": "code",
   "execution_count": null,
   "id": "c1d3b6be",
   "metadata": {},
   "outputs": [],
   "source": [
    "# For a distinct query the filter argument is passed as a second \n",
    "# argument, whereas the projected field is passed first.\n",
    "# Which of the following indexes is best suited to speeding up the operation\n",
    "\n",
    "db.prizes.distinct(\"category\", {\"laureates.share\": {\"$gt\": \"3\"}})\n",
    "\n",
    "[(\"laureates.share\", 1), (\"category\", 1)]"
   ]
  },
  {
   "cell_type": "markdown",
   "id": "9abe2025",
   "metadata": {},
   "source": [
    " - Specify an index model that indexes first on category (ascending) and second on year (descending).\n",
    " - Save a string report for printing the last single-laureate year for each distinct category, one category per line. To do this, for each distinct prize category, find the latest-year prize (requiring a descending sort by year) of that category (so, find matches for that category) with a laureate share of \"1\"."
   ]
  },
  {
   "cell_type": "code",
   "execution_count": null,
   "id": "b5421792",
   "metadata": {},
   "outputs": [],
   "source": [
    "# Specify an index model for compound sorting\n",
    "index_model = [('category', 1), ('year', -1)]\n",
    "db.prizes.create_index(index_model)\n",
    "\n",
    "# Collect the last single-laureate year for each category\n",
    "report = \"\"\n",
    "for category in sorted(db.prizes.distinct(\"category\")):\n",
    "    doc = db.prizes.find_one(\n",
    "        {\"category\": category, \"laureates.share\": \"1\"},\n",
    "        sort=[(\"year\", -1)]\n",
    "    )\n",
    "    report += \"{category}: {year}\\n\".format(**doc)\n",
    "\n",
    "print(report)"
   ]
  },
  {
   "cell_type": "markdown",
   "id": "f98a213d",
   "metadata": {},
   "source": [
    " - Create an index on country of birth (\"bornCountry\") for db.laureates to ensure efficient gathering of distinct values and counting of documents\n",
    " \n",
    " - Complete the skeleton dictionary comprehension to construct n_born_and_affiliated, the count of laureates as described above for each distinct country of birth. For each call to count_documents, ensure that you use the value of country to filter documents properly."
   ]
  },
  {
   "cell_type": "code",
   "execution_count": null,
   "id": "9522931d",
   "metadata": {},
   "outputs": [],
   "source": [
    "from collections import Counter\n",
    "\n",
    "# Ensure an index on country of birth\n",
    "db.laureates.create_index([('bornCountry', 1)])\n",
    "\n",
    "# Collect a count of laureates for each country of birth\n",
    "n_born_and_affiliated = {\n",
    "    country: db.laureates.count_documents({\n",
    "        \"bornCountry\": country,\n",
    "        \"prizes.affiliations.country\": country\n",
    "    })\n",
    "    for country in db.laureates.distinct(\"bornCountry\")\n",
    "}\n",
    "\n",
    "five_most_common = Counter(n_born_and_affiliated).most_common(5)\n",
    "print(five_most_common)"
   ]
  },
  {
   "cell_type": "markdown",
   "id": "9aa5b118",
   "metadata": {},
   "source": [
    "#### Limits in mongoDB"
   ]
  },
  {
   "cell_type": "code",
   "execution_count": 60,
   "id": "0c576265",
   "metadata": {},
   "outputs": [
    {
     "data": {
      "text/plain": [
       "[{'year': '1969'},\n",
       " {'year': '1970'},\n",
       " {'year': '1971'},\n",
       " {'year': '1972'},\n",
       " {'year': '1973'}]"
      ]
     },
     "execution_count": 60,
     "metadata": {},
     "output_type": "execute_result"
    }
   ],
   "source": [
    "list(db.prizes.find({\"category\": \"economics\"},\n",
    "                    {\"year\": 1, \"_id\": 0})\n",
    "     .sort(\"year\")\n",
    "     .limit(3)\n",
    "     .limit(5))"
   ]
  },
  {
   "cell_type": "markdown",
   "id": "d7b5be09",
   "metadata": {},
   "source": [
    " - Save to filter_ the filter document to fetch only prizes with one or more quarter-share laureates, i.e. with a \"laureates.share\" of \"4\".\n",
    " - Save to projection the list of field names so that prize category, year and laureates' motivations (\"laureates.motivation\") may be fetched for inspection.\n",
    " - Save to cursor a cursor that will yield prizes, sorted by ascending year. Limit this to five prizes, and sort using the most concise specification."
   ]
  },
  {
   "cell_type": "code",
   "execution_count": 62,
   "id": "a6130972",
   "metadata": {},
   "outputs": [
    {
     "name": "stdout",
     "output_type": "stream",
     "text": [
      "[]\n"
     ]
    }
   ],
   "source": [
    "from pprint import pprint\n",
    "\n",
    "# Fetch prizes with quarter-share laureate(s)\n",
    "filter_ = {'laureates.share': 4}\n",
    "\n",
    "# Save the list of field names\n",
    "projection = ['laureates.motivation', 'category', 'year']\n",
    "\n",
    "# Save a cursor to yield the first five prizes\n",
    "cursor = db.prizes.find(filter_, projection).sort('year').limit(5)\n",
    "pprint(list(cursor))"
   ]
  },
  {
   "cell_type": "markdown",
   "id": "6f5aa3b0",
   "metadata": {},
   "source": [
    " - Complete the function get_particle_laureates that, given page_number and page_size, retrieves a given page of prize data on laureates who have the word \"particle\" (use $regex) in their prize motivations (\"prizes.motivation\"). Sort laureates first by ascending \"prizes.year\" and next by ascending \"surname\".\n",
    " - Collect and save the first nine pages of laureate data to pages."
   ]
  },
  {
   "cell_type": "code",
   "execution_count": 61,
   "id": "fa1f0394",
   "metadata": {
    "scrolled": true
   },
   "outputs": [
    {
     "name": "stdout",
     "output_type": "stream",
     "text": [
      "[{'_id': ObjectId('61fc097bbfc7010032f63f21'),\n",
      "  'firstname': 'C.T.R.',\n",
      "  'prizes': [{'affiliations': [{'city': 'Cambridge',\n",
      "                                'country': 'United Kingdom',\n",
      "                                'name': 'University of Cambridge'}],\n",
      "              'category': 'physics',\n",
      "              'motivation': '\"for his method of making the paths of '\n",
      "                            'electrically charged particles visible by '\n",
      "                            'condensation of vapour\"',\n",
      "              'share': '2',\n",
      "              'year': '1927'}],\n",
      "  'surname': 'Wilson'},\n",
      " {'_id': ObjectId('61fc097bbfc7010032f63f37'),\n",
      "  'firstname': 'John',\n",
      "  'prizes': [{'affiliations': [{'city': 'Harwell, Berkshire',\n",
      "                                'country': 'United Kingdom',\n",
      "                                'name': 'Atomic Energy Research '\n",
      "                                        'Establishment'}],\n",
      "              'category': 'physics',\n",
      "              'motivation': '\"for their pioneer work on the transmutation of '\n",
      "                            'atomic nuclei by artificially accelerated atomic '\n",
      "                            'particles\"',\n",
      "              'share': '2',\n",
      "              'year': '1951'}],\n",
      "  'surname': 'Cockcroft'},\n",
      " {'_id': ObjectId('61fc097bbfc7010032f63f38'),\n",
      "  'firstname': 'Ernest T.S.',\n",
      "  'prizes': [{'affiliations': [{'city': 'Dublin',\n",
      "                                'country': 'Ireland',\n",
      "                                'name': 'Trinity College'}],\n",
      "              'category': 'physics',\n",
      "              'motivation': '\"for their pioneer work on the transmutation of '\n",
      "                            'atomic nuclei by artificially accelerated atomic '\n",
      "                            'particles\"',\n",
      "              'share': '2',\n",
      "              'year': '1951'}],\n",
      "  'surname': 'Walton'}]\n"
     ]
    }
   ],
   "source": [
    "from pprint import pprint\n",
    "\n",
    "# Write a function to retrieve a page of data\n",
    "def get_particle_laureates(page_number=1, page_size=3):\n",
    "    if page_number < 1 or not isinstance(page_number, int):\n",
    "        raise ValueError(\"Pages are natural numbers (starting from 1).\")\n",
    "    particle_laureates = list(\n",
    "        db.laureates.find(\n",
    "            {'prizes.motivation': {'$regex': \"particle\"}},\n",
    "            [\"firstname\", \"surname\", \"prizes\"])\n",
    "        .sort([('prizes.year', 1), ('surname', 1)])\n",
    "        .skip(page_size * (page_number - 1))\n",
    "        .limit(page_size))\n",
    "    return particle_laureates\n",
    "\n",
    "# Collect and save the first nine pages\n",
    "pages = [get_particle_laureates(page_number=page) for page in range(1,9)]\n",
    "pprint(pages[0])"
   ]
  },
  {
   "cell_type": "markdown",
   "id": "a1779e3a",
   "metadata": {},
   "source": [
    "#### Aggregations in mongoDB\n",
    " - An aggregation pipeline is an explicit list of stages\n",
    " - Each stage involves a stage operator to represent a function\n",
    " - Stage operators exist for mathcing, sorting, filtering, limiting, projecting, skipping and others"
   ]
  },
  {
   "cell_type": "code",
   "execution_count": 5,
   "id": "42f42802",
   "metadata": {},
   "outputs": [
    {
     "data": {
      "text/plain": [
       "[{'prizes': [{'year': '1912'}]},\n",
       " {'prizes': [{'year': '1914'}]},\n",
       " {'prizes': [{'year': '1919'}]}]"
      ]
     },
     "execution_count": 5,
     "metadata": {},
     "output_type": "execute_result"
    }
   ],
   "source": [
    "from collections import OrderedDict\n",
    "\n",
    "list(db.laureates.aggregate([\n",
    "    {\"$match\": {\"bornCountry\": \"USA\"}},\n",
    "    {\"$project\": {\"prizes.year\": 1, \"_id\": 0}},\n",
    "    {\"$sort\": OrderedDict([(\"prizes.year\", 1)])},\n",
    "    {\"$skip\": 1},\n",
    "    {\"$limit\": 3}\n",
    "]))"
   ]
  },
  {
   "cell_type": "markdown",
   "id": "b7d97617",
   "metadata": {},
   "source": [
    "#### Same output: Sequencing stages vs Cursor"
   ]
  },
  {
   "cell_type": "code",
   "execution_count": 6,
   "id": "16efc9ae",
   "metadata": {},
   "outputs": [],
   "source": [
    "cursor = (db.laureates.find(\n",
    "    projection={\"firstname\": 1, \"prizes.year\": 1, \"_id\": 0},\n",
    "    filter={\"gender\": \"org\"})\n",
    " .limit(3).sort(\"prizes.year\", -1))"
   ]
  },
  {
   "cell_type": "code",
   "execution_count": 8,
   "id": "1d8e9fae",
   "metadata": {},
   "outputs": [
    {
     "name": "stdout",
     "output_type": "stream",
     "text": [
      "{'firstname': 'World Food Programme', 'prizes': [{'year': '2020'}]}\n",
      "{'firstname': 'International Campaign to Abolish Nuclear Weapons', 'prizes': [{'year': '2017'}]}\n",
      "{'firstname': 'National Dialogue Quartet', 'prizes': [{'year': '2015'}]}\n"
     ]
    }
   ],
   "source": [
    "for c in cursor:\n",
    "    print(c)"
   ]
  },
  {
   "cell_type": "code",
   "execution_count": 10,
   "id": "70cd0eb3",
   "metadata": {},
   "outputs": [
    {
     "data": {
      "text/plain": [
       "[{'firstname': 'World Food Programme', 'prizes': [{'year': '2020'}]},\n",
       " {'firstname': 'International Campaign to Abolish Nuclear Weapons',\n",
       "  'prizes': [{'year': '2017'}]},\n",
       " {'firstname': 'National Dialogue Quartet', 'prizes': [{'year': '2015'}]}]"
      ]
     },
     "execution_count": 10,
     "metadata": {},
     "output_type": "execute_result"
    }
   ],
   "source": [
    "project_stage = {\"$project\": {\"firstname\": 1, \"prizes.year\": 1, \"_id\": 0}}\n",
    "match_stage = {\"$match\": {\"gender\": \"org\"}}\n",
    "limit_stage = {\"$limit\": 3}\n",
    "sort_stage = {\"$sort\": {\"prizes.year\": -1}}\n",
    "list(db.laureates.aggregate([match_stage, project_stage, sort_stage, limit_stage]))"
   ]
  },
  {
   "cell_type": "markdown",
   "id": "9ba86fb0",
   "metadata": {},
   "source": [
    "#### Sequencing stages"
   ]
  },
  {
   "cell_type": "code",
   "execution_count": null,
   "id": "27876a33",
   "metadata": {},
   "outputs": [],
   "source": [
    "# Translate cursor to aggregation pipeline\n",
    "pipeline = [\n",
    "    {\"$match\": {\"gender\": {\"$ne\": \"org\"}}},\n",
    "    {\"$project\": {\"bornCountry\": 1, \"prizes.affiliations.country\": 1}},\n",
    "    {\"$limit\": 3}\n",
    "]\n",
    "\n",
    "for doc in db.laureates.aggregate(pipeline):\n",
    "    print(\"{bornCountry}: {prizes}\".format(**doc))"
   ]
  },
  {
   "cell_type": "code",
   "execution_count": 24,
   "id": "ecddd9a1",
   "metadata": {},
   "outputs": [],
   "source": [
    "from collections import OrderedDict\n",
    "from itertools import groupby\n",
    "from operator import itemgetter\n",
    "\n",
    "original_categories = set(db.prizes.distinct(\"category\", {\"year\": \"1902\"}))\n",
    "\n",
    "# Save an pipeline to collect original-category prizes\n",
    "pipeline = [\n",
    "    {\"$match\": {\"category\": {\"$in\": list(original_categories)}}},\n",
    "    {\"$project\": {\"year\": 1, \"category\": 1}},\n",
    "    {\"$sort\": OrderedDict([(\"year\", -1)])}\n",
    "]\n",
    "\n",
    "cursor = db.prizes.aggregate(pipeline)\n",
    "\n"
   ]
  },
  {
   "cell_type": "code",
   "execution_count": 25,
   "id": "2738a6a3",
   "metadata": {},
   "outputs": [
    {
     "name": "stdout",
     "output_type": "stream",
     "text": [
      "2021 set()\n",
      "2020 set()\n",
      "2019 set()\n",
      "2018 set()\n",
      "2017 set()\n",
      "2016 set()\n",
      "2015 set()\n",
      "2014 set()\n",
      "2013 set()\n",
      "2012 set()\n",
      "2011 set()\n",
      "2010 set()\n",
      "2009 set()\n",
      "2008 set()\n",
      "2007 set()\n",
      "2006 set()\n",
      "2005 set()\n",
      "2004 set()\n",
      "2003 set()\n",
      "2002 set()\n",
      "2001 set()\n",
      "2000 set()\n",
      "1999 set()\n",
      "1998 set()\n",
      "1997 set()\n",
      "1996 set()\n",
      "1995 set()\n",
      "1994 set()\n",
      "1993 set()\n",
      "1992 set()\n",
      "1991 set()\n",
      "1990 set()\n",
      "1989 set()\n",
      "1988 set()\n",
      "1987 set()\n",
      "1986 set()\n",
      "1985 set()\n",
      "1984 set()\n",
      "1983 set()\n",
      "1982 set()\n",
      "1981 set()\n",
      "1980 set()\n",
      "1979 set()\n",
      "1978 set()\n",
      "1977 set()\n",
      "1976 set()\n",
      "1975 set()\n",
      "1974 set()\n",
      "1973 set()\n",
      "1972 set()\n",
      "1971 set()\n",
      "1970 set()\n",
      "1969 set()\n",
      "1968 set()\n",
      "1967 set()\n",
      "1966 set()\n",
      "1965 set()\n",
      "1964 set()\n",
      "1963 set()\n",
      "1962 set()\n",
      "1961 set()\n",
      "1960 set()\n",
      "1959 set()\n",
      "1958 set()\n",
      "1957 set()\n",
      "1956 set()\n",
      "1955 set()\n",
      "1954 set()\n",
      "1953 set()\n",
      "1952 set()\n",
      "1951 set()\n",
      "1950 set()\n",
      "1949 set()\n",
      "1948 set()\n",
      "1947 set()\n",
      "1946 set()\n",
      "1945 set()\n",
      "1944 set()\n",
      "1943 set()\n",
      "1942 set()\n",
      "1941 set()\n",
      "1940 set()\n",
      "1939 set()\n",
      "1938 set()\n",
      "1937 set()\n",
      "1936 set()\n",
      "1935 set()\n",
      "1934 set()\n",
      "1933 set()\n",
      "1932 set()\n",
      "1931 set()\n",
      "1930 set()\n",
      "1929 set()\n",
      "1928 set()\n",
      "1927 set()\n",
      "1926 set()\n",
      "1925 set()\n",
      "1924 set()\n",
      "1923 set()\n",
      "1922 set()\n",
      "1921 set()\n",
      "1920 set()\n",
      "1919 set()\n",
      "1918 set()\n",
      "1917 set()\n",
      "1916 set()\n",
      "1915 set()\n",
      "1914 set()\n",
      "1913 set()\n",
      "1912 set()\n",
      "1911 set()\n",
      "1910 set()\n",
      "1909 set()\n",
      "1908 set()\n",
      "1907 set()\n",
      "1906 set()\n",
      "1905 set()\n",
      "1904 set()\n",
      "1903 set()\n",
      "1902 set()\n",
      "1901 set()\n"
     ]
    }
   ],
   "source": [
    "for key, group in groupby(cursor, key=itemgetter(\"year\")):\n",
    "    \n",
    "    missing = original_categories - {doc[\"category\"] for doc in group}\n",
    "    print(key, missing)\n",
    "    if missing:\n",
    "        print(\"{year}: {missing}\".format(year=key, missing=\", \".join(sorted(missing))))"
   ]
  },
  {
   "cell_type": "markdown",
   "id": "7e1bd4ea",
   "metadata": {},
   "source": [
    "Field paths in operator expressions are prepended by \"$\" to distinguish them from literal string values, and JSON/MongoDB \"sets\" are delimited by square brackets, just like lists."
   ]
  },
  {
   "cell_type": "code",
   "execution_count": 31,
   "id": "b4a30d1c",
   "metadata": {},
   "outputs": [],
   "source": [
    "list(db.prizes.aggregate([{\"$project\": {\"allThree\": {\"$setEquals\": [\"$laureates.share\", [\"3\"]]},\n",
    "                    \"noneThree\": {\"$not\": {\"$setIsSubset\": [[\"3\"], \"$laureates.share\"]}}}},\n",
    "                          {\"$match\": {\"$nor\": [{\"allThree\": True}, {\"noneThree\": True}]}}]))"
   ]
  },
  {
   "cell_type": "markdown",
   "id": "1a5593fa",
   "metadata": {},
   "source": [
    " - Fill out pipeline to determine the number of prizes awarded (at least partly) to organizations. To do this, you'll first need to $match on the \"gender\" that designates organizations.\n",
    " \n",
    " - Then, use a field path to project the number of prizes for each organization as the \"$size\" of the \"prizes\" array. Recall that to specify the value of a field \"<my_field>\", you use the field path \"$<my_field>\".\n",
    " \n",
    " - Finally, use a single group {\"_id\": None} to sum over the values of all organizations' prize counts."
   ]
  },
  {
   "cell_type": "code",
   "execution_count": 32,
   "id": "d4f92f34",
   "metadata": {},
   "outputs": [
    {
     "name": "stdout",
     "output_type": "stream",
     "text": [
      "[{'_id': None, 'n_prizes_total': 28}]\n"
     ]
    }
   ],
   "source": [
    "# Count prizes awarded (at least partly) to organizations as a sum over sizes of \"prizes\" arrays.\n",
    "pipeline = [\n",
    "    {\"$match\": {\"gender\": \"org\"}},\n",
    "    {\"$project\": {\"n_prizes\": {\"$size\": \"$prizes\"}}},\n",
    "    {\"$group\": {\"_id\": None, \"n_prizes_total\": {\"$sum\": \"$n_prizes\"}}}\n",
    "]\n",
    "\n",
    "print(list(db.laureates.aggregate(pipeline)))"
   ]
  },
  {
   "cell_type": "markdown",
   "id": "25454a12",
   "metadata": {},
   "source": [
    "Implement this as an aggregation pipeline that:\n",
    "\n",
    " - Filters for original prize categories (i.e. sans economics),\n",
    " - Projects category and year,\n",
    " - Groups distinct prize categories awarded by year,\n",
    " - Projects prize categories not awarded by year,\n",
    " - Filters for years with missing prize categories, and\n",
    " - Returns a cursor of documents in reverse chronological order, one per year, each with a list of missing prize categories for that year.\n",
    " - Remember to use field paths (precede field names with \"$\") to extract field values in expressions."
   ]
  },
  {
   "cell_type": "markdown",
   "id": "251f90f1",
   "metadata": {},
   "source": [
    " - Make the $group stage output a document for each prize year (set \"_id\" to the field path for year) with the set of categories awarded that year.\n",
    " \n",
    " - Given your intermediate collection of year-keyed documents, $project a field named \"missing\" with the (original) categories not awarded that year.\n",
    " \n",
    " - Use a $match stage to only pass through documents with at least one missing prize category.\n",
    " \n",
    " - Finally, add sort documents in descending order."
   ]
  },
  {
   "cell_type": "code",
   "execution_count": 33,
   "id": "1320b427",
   "metadata": {},
   "outputs": [],
   "source": [
    "from collections import OrderedDict\n",
    "\n",
    "original_categories = sorted(set(db.prizes.distinct(\"category\", {\"year\": \"1901\"})))\n",
    "pipeline = [\n",
    "    {\"$match\": {\"category\": {\"$in\": original_categories}}},\n",
    "    {\"$project\": {\"category\": 1, \"year\": 1}},\n",
    "    \n",
    "    # Collect the set of category values for each prize year.\n",
    "    {\"$group\": {\"_id\": \"$year\", \"categories\": {\"$addToSet\": \"$category\"}}},\n",
    "    \n",
    "    # Project categories *not* awarded (i.e., that are missing this year).\n",
    "    {\"$project\": {\"missing\": {\"$setDifference\": [original_categories, \"$categories\"]}}},\n",
    "    \n",
    "    # Only include years with at least one missing category\n",
    "    {\"$match\": {\"missing.0\": {\"$exists\": True}}},\n",
    "    \n",
    "    # Sort in reverse chronological order. Note that \"_id\" is a distinct year at this stage.\n",
    "    {\"$sort\": OrderedDict([(\"_id\", -1)])},\n",
    "]\n",
    "for doc in db.prizes.aggregate(pipeline):\n",
    "    print(\"{year}: {missing}\".format(year=doc[\"_id\"],missing=\", \".join(sorted(doc[\"missing\"]))))"
   ]
  },
  {
   "cell_type": "code",
   "execution_count": 35,
   "id": "30d0bbe2",
   "metadata": {},
   "outputs": [
    {
     "data": {
      "text/plain": [
       "['chemistry', 'literature', 'medicine', 'peace', 'physics']"
      ]
     },
     "execution_count": 35,
     "metadata": {},
     "output_type": "execute_result"
    }
   ],
   "source": [
    "original_categories"
   ]
  },
  {
   "cell_type": "markdown",
   "id": "49cc7863",
   "metadata": {},
   "source": [
    "#### Array fields\n",
    "\n",
    " - The $$expr operator allows embedding of aggregation expressions in a normal query (or in a $match stage)\n",
    " "
   ]
  },
  {
   "cell_type": "code",
   "execution_count": 37,
   "id": "959382e8",
   "metadata": {},
   "outputs": [
    {
     "data": {
      "text/plain": [
       "942"
      ]
     },
     "execution_count": 37,
     "metadata": {},
     "output_type": "execute_result"
    }
   ],
   "source": [
    "db.laureates.count_documents({\"bornCountry\": {\"$in\": db.laureates.distinct(\"bornCountry\")}})"
   ]
  },
  {
   "cell_type": "code",
   "execution_count": 38,
   "id": "8202bb07",
   "metadata": {},
   "outputs": [
    {
     "data": {
      "text/plain": [
       "942"
      ]
     },
     "execution_count": 38,
     "metadata": {},
     "output_type": "execute_result"
    }
   ],
   "source": [
    "db.laureates.count_documents({\"$expr\": {\"$in\": [\"$bornCountry\", db.laureates.distinct(\"bornCountry\")]}})"
   ]
  },
  {
   "cell_type": "code",
   "execution_count": 39,
   "id": "559d6def",
   "metadata": {},
   "outputs": [
    {
     "data": {
      "text/plain": [
       "942"
      ]
     },
     "execution_count": 39,
     "metadata": {},
     "output_type": "execute_result"
    }
   ],
   "source": [
    "db.laureates.count_documents({\"$expr\": {\"$eq\": [{\"$type\": \"$bornCountry\"}, \"string\"]}})"
   ]
  },
  {
   "cell_type": "code",
   "execution_count": 40,
   "id": "16cba1f2",
   "metadata": {},
   "outputs": [
    {
     "data": {
      "text/plain": [
       "942"
      ]
     },
     "execution_count": 40,
     "metadata": {},
     "output_type": "execute_result"
    }
   ],
   "source": [
    "db.laureates.count_documents({\"bornCountry\": {\"$type\": \"string\"}})"
   ]
  },
  {
   "cell_type": "markdown",
   "id": "620345ee",
   "metadata": {},
   "source": [
    "Build an aggregation pipeline to get the count of laureates who either did or did not win a prize with an affiliation country that is a substring of their country of birth -- for example, the prize affiliation country \"Germany\" should match the country of birth \"Prussia (now Germany)\"."
   ]
  },
  {
   "cell_type": "markdown",
   "id": "90e8cbb1",
   "metadata": {},
   "source": [
    " - Use $$unwind stages to ensure a single prize affiliation country per pipeline document.\n",
    " \n",
    " - Filter out prize-affiliation-country values that are \"empty\" (null, not present, etc.) -- ensure values are \"$$in\" the list of known values.\n",
    " \n",
    " - Produce a count of documents for each value of \"affilCountrySameAsBorn\" (a field we've projected for you using the $indexOfBytes operator) by adding 1 to the running sum."
   ]
  },
  {
   "cell_type": "code",
   "execution_count": 41,
   "id": "11b122de",
   "metadata": {},
   "outputs": [
    {
     "name": "stdout",
     "output_type": "stream",
     "text": [
      "{'_id': False, 'count': 269}\n",
      "{'_id': True, 'count': 505}\n"
     ]
    }
   ],
   "source": [
    "key_ac = \"prizes.affiliations.country\"\n",
    "key_bc = \"bornCountry\"\n",
    "pipeline = [\n",
    "    {\"$project\": {key_bc: 1, key_ac: 1}},\n",
    "\n",
    "    # Ensure a single prize affiliation country per pipeline document\n",
    "    {\"$unwind\": \"$prizes\"},\n",
    "    {\"$unwind\": \"$prizes.affiliations\"},\n",
    "\n",
    "    # Ensure values in the list of distinct values (so not empty)\n",
    "    {\"$match\": {key_ac: {\"$in\": db.laureates.distinct(key_ac)}}},\n",
    "    {\"$project\": {\"affilCountrySameAsBorn\": {\n",
    "        \"$gte\": [{\"$indexOfBytes\": [\"$\"+key_ac, \"$\"+key_bc]}, 0]}}},\n",
    "\n",
    "    # Count by \"$affilCountrySameAsBorn\" value (True or False)\n",
    "    {\"$group\": {\"_id\": \"$affilCountrySameAsBorn\",\n",
    "                \"count\": {\"$sum\": 1}}},\n",
    "]\n",
    "for doc in db.laureates.aggregate(pipeline): print(doc)"
   ]
  },
  {
   "cell_type": "markdown",
   "id": "cf2decd1",
   "metadata": {},
   "source": [
    "Some prize categories have laureates hailing from a greater number of countries than do other categories. Build an aggregation pipeline for the prizes collection to collect these numbers, using a $lookup stage to obtain laureate countries of birth.\n",
    "\n",
    " - $$unwind the laureates array field to output one pipeline document for each array element.\n",
    "\n",
    " - After pulling in laureate bios with a $lookup stage, unwind the new laureate_bios array field (each laureate has only a single biography document).\n",
    "\n",
    " - Collect the set of bornCountries associated with each prize category.\n",
    "\n",
    " - Project out the size of each category's set of bornCountries."
   ]
  },
  {
   "cell_type": "code",
   "execution_count": 43,
   "id": "4346ce13",
   "metadata": {
    "scrolled": true
   },
   "outputs": [
    {
     "ename": "OperationFailure",
     "evalue": "Failed to optimize pipeline :: caused by :: The argument to $size must be an array, but was of type: int, full error: {'operationTime': Timestamp(1644007009, 5), 'ok': 0.0, 'errmsg': 'Failed to optimize pipeline :: caused by :: The argument to $size must be an array, but was of type: int', 'code': 17124, 'codeName': 'Location17124', '$clusterTime': {'clusterTime': Timestamp(1644007009, 5), 'signature': {'hash': b'\\xb79n\\x14\\x08v@m\\xa9\\x9eT\\xee\\xa6\\xb9AFs\\x8b\\xc5C', 'keyId': 7028260843674402819}}}",
     "output_type": "error",
     "traceback": [
      "\u001b[0;31m---------------------------------------------------------------------------\u001b[0m",
      "\u001b[0;31mOperationFailure\u001b[0m                          Traceback (most recent call last)",
      "\u001b[0;32m<ipython-input-43-e41cae49e4d6>\u001b[0m in \u001b[0;36m<module>\u001b[0;34m\u001b[0m\n\u001b[1;32m     21\u001b[0m ]\n\u001b[1;32m     22\u001b[0m \u001b[0;34m\u001b[0m\u001b[0m\n\u001b[0;32m---> 23\u001b[0;31m \u001b[0;32mfor\u001b[0m \u001b[0mdoc\u001b[0m \u001b[0;32min\u001b[0m \u001b[0mdb\u001b[0m\u001b[0;34m.\u001b[0m\u001b[0mprizes\u001b[0m\u001b[0;34m.\u001b[0m\u001b[0maggregate\u001b[0m\u001b[0;34m(\u001b[0m\u001b[0mpipeline\u001b[0m\u001b[0;34m)\u001b[0m\u001b[0;34m:\u001b[0m\u001b[0;34m\u001b[0m\u001b[0;34m\u001b[0m\u001b[0m\n\u001b[0m\u001b[1;32m     24\u001b[0m     \u001b[0mprint\u001b[0m\u001b[0;34m(\u001b[0m\u001b[0mdoc\u001b[0m\u001b[0;34m)\u001b[0m\u001b[0;34m\u001b[0m\u001b[0;34m\u001b[0m\u001b[0m\n",
      "\u001b[0;32m~/opt/anaconda3/lib/python3.8/site-packages/pymongo/collection.py\u001b[0m in \u001b[0;36maggregate\u001b[0;34m(self, pipeline, session, **kwargs)\u001b[0m\n\u001b[1;32m   1969\u001b[0m         \"\"\"\n\u001b[1;32m   1970\u001b[0m         \u001b[0;32mwith\u001b[0m \u001b[0mself\u001b[0m\u001b[0;34m.\u001b[0m\u001b[0m__database\u001b[0m\u001b[0;34m.\u001b[0m\u001b[0mclient\u001b[0m\u001b[0;34m.\u001b[0m\u001b[0m_tmp_session\u001b[0m\u001b[0;34m(\u001b[0m\u001b[0msession\u001b[0m\u001b[0;34m,\u001b[0m \u001b[0mclose\u001b[0m\u001b[0;34m=\u001b[0m\u001b[0;32mFalse\u001b[0m\u001b[0;34m)\u001b[0m \u001b[0;32mas\u001b[0m \u001b[0ms\u001b[0m\u001b[0;34m:\u001b[0m\u001b[0;34m\u001b[0m\u001b[0;34m\u001b[0m\u001b[0m\n\u001b[0;32m-> 1971\u001b[0;31m             return self._aggregate(_CollectionAggregationCommand,\n\u001b[0m\u001b[1;32m   1972\u001b[0m                                    \u001b[0mpipeline\u001b[0m\u001b[0;34m,\u001b[0m\u001b[0;34m\u001b[0m\u001b[0;34m\u001b[0m\u001b[0m\n\u001b[1;32m   1973\u001b[0m                                    \u001b[0mCommandCursor\u001b[0m\u001b[0;34m,\u001b[0m\u001b[0;34m\u001b[0m\u001b[0;34m\u001b[0m\u001b[0m\n",
      "\u001b[0;32m~/opt/anaconda3/lib/python3.8/site-packages/pymongo/collection.py\u001b[0m in \u001b[0;36m_aggregate\u001b[0;34m(self, aggregation_command, pipeline, cursor_class, session, explicit_session, **kwargs)\u001b[0m\n\u001b[1;32m   1894\u001b[0m             \u001b[0mself\u001b[0m\u001b[0;34m,\u001b[0m \u001b[0mcursor_class\u001b[0m\u001b[0;34m,\u001b[0m \u001b[0mpipeline\u001b[0m\u001b[0;34m,\u001b[0m \u001b[0mkwargs\u001b[0m\u001b[0;34m,\u001b[0m \u001b[0mexplicit_session\u001b[0m\u001b[0;34m,\u001b[0m\u001b[0;34m\u001b[0m\u001b[0;34m\u001b[0m\u001b[0m\n\u001b[1;32m   1895\u001b[0m             user_fields={'cursor': {'firstBatch': 1}})\n\u001b[0;32m-> 1896\u001b[0;31m         return self.__database.client._retryable_read(\n\u001b[0m\u001b[1;32m   1897\u001b[0m             \u001b[0mcmd\u001b[0m\u001b[0;34m.\u001b[0m\u001b[0mget_cursor\u001b[0m\u001b[0;34m,\u001b[0m \u001b[0mcmd\u001b[0m\u001b[0;34m.\u001b[0m\u001b[0mget_read_preference\u001b[0m\u001b[0;34m(\u001b[0m\u001b[0msession\u001b[0m\u001b[0;34m)\u001b[0m\u001b[0;34m,\u001b[0m \u001b[0msession\u001b[0m\u001b[0;34m,\u001b[0m\u001b[0;34m\u001b[0m\u001b[0;34m\u001b[0m\u001b[0m\n\u001b[1;32m   1898\u001b[0m             retryable=not cmd._performs_write)\n",
      "\u001b[0;32m~/opt/anaconda3/lib/python3.8/site-packages/pymongo/mongo_client.py\u001b[0m in \u001b[0;36m_retryable_read\u001b[0;34m(self, func, read_pref, session, address, retryable)\u001b[0m\n\u001b[1;32m   1311\u001b[0m                         \u001b[0;31m# not support retryable reads, raise the last error.\u001b[0m\u001b[0;34m\u001b[0m\u001b[0;34m\u001b[0m\u001b[0;34m\u001b[0m\u001b[0m\n\u001b[1;32m   1312\u001b[0m                         \u001b[0;32mraise\u001b[0m \u001b[0mlast_error\u001b[0m\u001b[0;34m\u001b[0m\u001b[0;34m\u001b[0m\u001b[0m\n\u001b[0;32m-> 1313\u001b[0;31m                     \u001b[0;32mreturn\u001b[0m \u001b[0mfunc\u001b[0m\u001b[0;34m(\u001b[0m\u001b[0msession\u001b[0m\u001b[0;34m,\u001b[0m \u001b[0mserver\u001b[0m\u001b[0;34m,\u001b[0m \u001b[0msock_info\u001b[0m\u001b[0;34m,\u001b[0m \u001b[0msecondary_ok\u001b[0m\u001b[0;34m)\u001b[0m\u001b[0;34m\u001b[0m\u001b[0;34m\u001b[0m\u001b[0m\n\u001b[0m\u001b[1;32m   1314\u001b[0m             \u001b[0;32mexcept\u001b[0m \u001b[0mServerSelectionTimeoutError\u001b[0m\u001b[0;34m:\u001b[0m\u001b[0;34m\u001b[0m\u001b[0;34m\u001b[0m\u001b[0m\n\u001b[1;32m   1315\u001b[0m                 \u001b[0;32mif\u001b[0m \u001b[0mretrying\u001b[0m\u001b[0;34m:\u001b[0m\u001b[0;34m\u001b[0m\u001b[0;34m\u001b[0m\u001b[0m\n",
      "\u001b[0;32m~/opt/anaconda3/lib/python3.8/site-packages/pymongo/aggregation.py\u001b[0m in \u001b[0;36mget_cursor\u001b[0;34m(self, session, server, sock_info, secondary_ok)\u001b[0m\n\u001b[1;32m    125\u001b[0m \u001b[0;34m\u001b[0m\u001b[0m\n\u001b[1;32m    126\u001b[0m         \u001b[0;31m# Run command.\u001b[0m\u001b[0;34m\u001b[0m\u001b[0;34m\u001b[0m\u001b[0;34m\u001b[0m\u001b[0m\n\u001b[0;32m--> 127\u001b[0;31m         result = sock_info.command(\n\u001b[0m\u001b[1;32m    128\u001b[0m             \u001b[0mself\u001b[0m\u001b[0;34m.\u001b[0m\u001b[0m_database\u001b[0m\u001b[0;34m.\u001b[0m\u001b[0mname\u001b[0m\u001b[0;34m,\u001b[0m\u001b[0;34m\u001b[0m\u001b[0;34m\u001b[0m\u001b[0m\n\u001b[1;32m    129\u001b[0m             \u001b[0mcmd\u001b[0m\u001b[0;34m,\u001b[0m\u001b[0;34m\u001b[0m\u001b[0;34m\u001b[0m\u001b[0m\n",
      "\u001b[0;32m~/opt/anaconda3/lib/python3.8/site-packages/pymongo/pool.py\u001b[0m in \u001b[0;36mcommand\u001b[0;34m(self, dbname, spec, secondary_ok, read_preference, codec_options, check, allowable_errors, check_keys, read_concern, write_concern, parse_write_concern_error, collation, session, client, retryable_write, publish_events, user_fields, exhaust_allowed)\u001b[0m\n\u001b[1;32m    717\u001b[0m             \u001b[0mself\u001b[0m\u001b[0;34m.\u001b[0m\u001b[0m_raise_if_not_writable\u001b[0m\u001b[0;34m(\u001b[0m\u001b[0munacknowledged\u001b[0m\u001b[0;34m)\u001b[0m\u001b[0;34m\u001b[0m\u001b[0;34m\u001b[0m\u001b[0m\n\u001b[1;32m    718\u001b[0m         \u001b[0;32mtry\u001b[0m\u001b[0;34m:\u001b[0m\u001b[0;34m\u001b[0m\u001b[0;34m\u001b[0m\u001b[0m\n\u001b[0;32m--> 719\u001b[0;31m             return command(self, dbname, spec, secondary_ok,\n\u001b[0m\u001b[1;32m    720\u001b[0m                            \u001b[0mself\u001b[0m\u001b[0;34m.\u001b[0m\u001b[0mis_mongos\u001b[0m\u001b[0;34m,\u001b[0m \u001b[0mread_preference\u001b[0m\u001b[0;34m,\u001b[0m \u001b[0mcodec_options\u001b[0m\u001b[0;34m,\u001b[0m\u001b[0;34m\u001b[0m\u001b[0;34m\u001b[0m\u001b[0m\n\u001b[1;32m    721\u001b[0m                            \u001b[0msession\u001b[0m\u001b[0;34m,\u001b[0m \u001b[0mclient\u001b[0m\u001b[0;34m,\u001b[0m \u001b[0mcheck\u001b[0m\u001b[0;34m,\u001b[0m \u001b[0mallowable_errors\u001b[0m\u001b[0;34m,\u001b[0m\u001b[0;34m\u001b[0m\u001b[0;34m\u001b[0m\u001b[0m\n",
      "\u001b[0;32m~/opt/anaconda3/lib/python3.8/site-packages/pymongo/network.py\u001b[0m in \u001b[0;36mcommand\u001b[0;34m(sock_info, dbname, spec, secondary_ok, is_mongos, read_preference, codec_options, session, client, check, allowable_errors, address, check_keys, listeners, max_bson_size, read_concern, parse_write_concern_error, collation, compression_ctx, use_op_msg, unacknowledged, user_fields, exhaust_allowed)\u001b[0m\n\u001b[1;32m    156\u001b[0m                 \u001b[0mclient\u001b[0m\u001b[0;34m.\u001b[0m\u001b[0m_process_response\u001b[0m\u001b[0;34m(\u001b[0m\u001b[0mresponse_doc\u001b[0m\u001b[0;34m,\u001b[0m \u001b[0msession\u001b[0m\u001b[0;34m)\u001b[0m\u001b[0;34m\u001b[0m\u001b[0;34m\u001b[0m\u001b[0m\n\u001b[1;32m    157\u001b[0m             \u001b[0;32mif\u001b[0m \u001b[0mcheck\u001b[0m\u001b[0;34m:\u001b[0m\u001b[0;34m\u001b[0m\u001b[0;34m\u001b[0m\u001b[0m\n\u001b[0;32m--> 158\u001b[0;31m                 helpers._check_command_response(\n\u001b[0m\u001b[1;32m    159\u001b[0m                     \u001b[0mresponse_doc\u001b[0m\u001b[0;34m,\u001b[0m \u001b[0msock_info\u001b[0m\u001b[0;34m.\u001b[0m\u001b[0mmax_wire_version\u001b[0m\u001b[0;34m,\u001b[0m \u001b[0mallowable_errors\u001b[0m\u001b[0;34m,\u001b[0m\u001b[0;34m\u001b[0m\u001b[0;34m\u001b[0m\u001b[0m\n\u001b[1;32m    160\u001b[0m                     parse_write_concern_error=parse_write_concern_error)\n",
      "\u001b[0;32m~/opt/anaconda3/lib/python3.8/site-packages/pymongo/helpers.py\u001b[0m in \u001b[0;36m_check_command_response\u001b[0;34m(response, max_wire_version, allowable_errors, parse_write_concern_error)\u001b[0m\n\u001b[1;32m    168\u001b[0m         \u001b[0;32mraise\u001b[0m \u001b[0mCursorNotFound\u001b[0m\u001b[0;34m(\u001b[0m\u001b[0merrmsg\u001b[0m\u001b[0;34m,\u001b[0m \u001b[0mcode\u001b[0m\u001b[0;34m,\u001b[0m \u001b[0mresponse\u001b[0m\u001b[0;34m,\u001b[0m \u001b[0mmax_wire_version\u001b[0m\u001b[0;34m)\u001b[0m\u001b[0;34m\u001b[0m\u001b[0;34m\u001b[0m\u001b[0m\n\u001b[1;32m    169\u001b[0m \u001b[0;34m\u001b[0m\u001b[0m\n\u001b[0;32m--> 170\u001b[0;31m     \u001b[0;32mraise\u001b[0m \u001b[0mOperationFailure\u001b[0m\u001b[0;34m(\u001b[0m\u001b[0merrmsg\u001b[0m\u001b[0;34m,\u001b[0m \u001b[0mcode\u001b[0m\u001b[0;34m,\u001b[0m \u001b[0mresponse\u001b[0m\u001b[0;34m,\u001b[0m \u001b[0mmax_wire_version\u001b[0m\u001b[0;34m)\u001b[0m\u001b[0;34m\u001b[0m\u001b[0;34m\u001b[0m\u001b[0m\n\u001b[0m\u001b[1;32m    171\u001b[0m \u001b[0;34m\u001b[0m\u001b[0m\n\u001b[1;32m    172\u001b[0m \u001b[0;34m\u001b[0m\u001b[0m\n",
      "\u001b[0;31mOperationFailure\u001b[0m: Failed to optimize pipeline :: caused by :: The argument to $size must be an array, but was of type: int, full error: {'operationTime': Timestamp(1644007009, 5), 'ok': 0.0, 'errmsg': 'Failed to optimize pipeline :: caused by :: The argument to $size must be an array, but was of type: int', 'code': 17124, 'codeName': 'Location17124', '$clusterTime': {'clusterTime': Timestamp(1644007009, 5), 'signature': {'hash': b'\\xb79n\\x14\\x08v@m\\xa9\\x9eT\\xee\\xa6\\xb9AFs\\x8b\\xc5C', 'keyId': 7028260843674402819}}}"
     ]
    }
   ],
   "source": [
    "pipeline = [\n",
    "    # Unwind the laureates array\n",
    "    {\"$unwind\": \"$laureates\"},\n",
    "    {\"$lookup\": {\n",
    "        \"from\": \"laureates\", \"foreignField\": \"id\",\n",
    "        \"localField\": \"laureates.id\", \"as\": \"laureate_bios\"}},\n",
    "\n",
    "    # Unwind the new laureate_bios array\n",
    "    {\"$unwind\": \"$laureate_bios\"},\n",
    "    {\"$project\": {\"category\": 1,\n",
    "                  \"bornCountry\": \"$laureate_bios.bornCountry\"}},\n",
    "\n",
    "    # Collect bornCountry values associated with each prize category\n",
    "    {\"$group\": {\"_id\": \"$category\",\n",
    "                \"bornCountries\": {\"$addToSet\": \"$bornCountry\"}}},\n",
    "\n",
    "    # Project out the size of each category's (set of) bornCountries\n",
    "    {\"$project\": {\"category\": 1,\n",
    "                  \"nBornCountries\": {\"$size\": 1}}},\n",
    "    {\"$sort\": {\"nBornCountries\": -1}},\n",
    "]\n",
    "\n",
    "for doc in db.prizes.aggregate(pipeline):\n",
    "    print(doc)"
   ]
  },
  {
   "cell_type": "markdown",
   "id": "347023cd",
   "metadata": {},
   "source": [
    " - In your aggregation pipeline pipeline, use the \"gender\" field to limit results to people (that is, not organizations).\n",
    "\n",
    " - Count prizes for which the laureate's \"bornCountry\" is not also the \"country\" of any of their affiliations for the prize. Be sure to use field paths (precede a field name with \"$\") when appropriate."
   ]
  },
  {
   "cell_type": "code",
   "execution_count": 44,
   "id": "c9584d01",
   "metadata": {},
   "outputs": [
    {
     "name": "stdout",
     "output_type": "stream",
     "text": [
      "[{'awardedElsewhere': 477}]\n"
     ]
    }
   ],
   "source": [
    "pipeline = [\n",
    "    # Limit results to people; project needed fields; unwind prizes\n",
    "    {\"$match\": {\"gender\": {\"$ne\": \"org\"}}},\n",
    "    {\"$project\": {\"bornCountry\": 1, \"prizes.affiliations.country\": 1}},\n",
    "    {\"$unwind\": \"$prizes\"},\n",
    "  \n",
    "    # Count prizes with no country-of-birth affiliation\n",
    "    {\"$addFields\": {\"bornCountryInAffiliations\": {\"$in\": [\"$bornCountry\", \"$prizes.affiliations.country\"]}}},\n",
    "    {\"$match\": {\"bornCountryInAffiliations\": False}},\n",
    "    {\"$count\": \"awardedElsewhere\"},\n",
    "]\n",
    "\n",
    "print(list(db.laureates.aggregate(pipeline)))"
   ]
  },
  {
   "cell_type": "code",
   "execution_count": 46,
   "id": "1d71b501",
   "metadata": {
    "scrolled": true
   },
   "outputs": [
    {
     "data": {
      "text/plain": [
       "{'_id': ObjectId('61fc097bbfc7010032f63f01'),\n",
       " 'id': '1',\n",
       " 'firstname': 'Wilhelm Conrad',\n",
       " 'surname': 'Röntgen',\n",
       " 'born': '1845-03-27',\n",
       " 'died': '1923-02-10',\n",
       " 'bornCountry': 'Prussia (now Germany)',\n",
       " 'bornCountryCode': 'DE',\n",
       " 'bornCity': 'Lennep (now Remscheid)',\n",
       " 'diedCountry': 'Germany',\n",
       " 'diedCountryCode': 'DE',\n",
       " 'diedCity': 'Munich',\n",
       " 'gender': 'male',\n",
       " 'prizes': [{'year': '1901',\n",
       "   'category': 'physics',\n",
       "   'share': '1',\n",
       "   'motivation': '\"in recognition of the extraordinary services he has rendered by the discovery of the remarkable rays subsequently named after him\"',\n",
       "   'affiliations': [{'name': 'Munich University',\n",
       "     'city': 'Munich',\n",
       "     'country': 'Germany'}]}]}"
      ]
     },
     "execution_count": 46,
     "metadata": {},
     "output_type": "execute_result"
    }
   ],
   "source": [
    "db.laureates.find_one()"
   ]
  },
  {
   "cell_type": "markdown",
   "id": "fab5b985",
   "metadata": {},
   "source": [
    " - Construct a stage added_stage that filters for laureate \"prizes.affiliations.country\" values that are non-empty, that is, are $in a list of the distinct values that the field takes in the collection.\n",
    "\n",
    " - Insert this stage into the pipeline so that it filters out single prizes (not arrays) and precedes any test for membership in an array of countries. Recall that the first parameter to <list>.insert is the (zero-based) index for insertion."
   ]
  },
  {
   "cell_type": "code",
   "execution_count": 47,
   "id": "91f79ede",
   "metadata": {},
   "outputs": [
    {
     "name": "stdout",
     "output_type": "stream",
     "text": [
      "[{'awardedElsewhere': 247}]\n"
     ]
    }
   ],
   "source": [
    "pipeline = [\n",
    "    {\"$match\": {\"gender\": {\"$ne\": \"org\"}}},\n",
    "    {\"$project\": {\"bornCountry\": 1, \"prizes.affiliations.country\": 1}},\n",
    "    {\"$unwind\": \"$prizes\"},\n",
    "    {\"$addFields\": {\"bornCountryInAffiliations\": {\"$in\": [\"$bornCountry\", \"$prizes.affiliations.country\"]}}},\n",
    "    {\"$match\": {\"bornCountryInAffiliations\": False}},\n",
    "    {\"$count\": \"awardedElsewhere\"},\n",
    "]\n",
    "\n",
    "# Construct the additional filter stage\n",
    "added_stage = {\"$match\": {\"prizes.affiliations.country\": {\"$in\": db.laureates.distinct(\"prizes.affiliations.country\")}}}\n",
    "\n",
    "# Insert this stage into the pipeline\n",
    "pipeline.insert(3, added_stage)\n",
    "print(list(db.laureates.aggregate(pipeline)))"
   ]
  },
  {
   "cell_type": "code",
   "execution_count": null,
   "id": "f0444614",
   "metadata": {},
   "outputs": [],
   "source": []
  }
 ],
 "metadata": {
  "kernelspec": {
   "display_name": "Python 3",
   "language": "python",
   "name": "python3"
  },
  "language_info": {
   "codemirror_mode": {
    "name": "ipython",
    "version": 3
   },
   "file_extension": ".py",
   "mimetype": "text/x-python",
   "name": "python",
   "nbconvert_exporter": "python",
   "pygments_lexer": "ipython3",
   "version": "3.8.8"
  }
 },
 "nbformat": 4,
 "nbformat_minor": 5
}
