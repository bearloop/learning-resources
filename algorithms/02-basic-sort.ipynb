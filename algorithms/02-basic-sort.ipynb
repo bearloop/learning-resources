{
 "cells": [
  {
   "cell_type": "markdown",
   "id": "bac4175f",
   "metadata": {},
   "source": [
    "### Merge sort\n",
    "\n",
    " - a divide and conquer algorithm\n",
    "     - divides the problem intro sub-problems\n",
    "     - solves sub-provlems recursively\n",
    "     - merges/combines solutions to sub-problems\n",
    " \n",
    " \n",
    " - worst case complexity: O(n logn ) i.e. faster than bubble, selection, insertion sort\n",
    "\n",
    "\n",
    " - it doesn't matter which algorithm you'll choose for a small number of n, but if n is really large then it matters\n",
    " \n",
    " \n",
    " - downside: space complexity of O(n) vs 0(1) for other sorting alrorithms\n",
    "\n",
    " <img src=\"algo_assets/merge_sort.png\" style=\"width: 400px;\"/>\n"
   ]
  },
  {
   "cell_type": "code",
   "execution_count": 22,
   "id": "443e680d",
   "metadata": {
    "scrolled": true
   },
   "outputs": [
    {
     "name": "stdout",
     "output_type": "stream",
     "text": [
      "[35, 22, 90, 4, 50, 20, 30, 40, 1] begin rec: 1\n",
      "[35, 22, 90, 4] left rec: 2\n",
      "[35, 22] left rec: 3\n",
      "[35] left rec: 4\n",
      "[22] right rec: 4\n",
      "[35, 22] just here rec: 3\n",
      "k 1 j 1 i 0 left [35] right [22]\n",
      "[22, 22]  mid-left-level rec: 3\n",
      "[22, 35]  mid-right-level rec: 3\n",
      "[22, 35] outcome - fin rec: 3 \n",
      "\n",
      "[90, 4] right rec: 3\n",
      "[90] left rec: 4\n",
      "[4] right rec: 4\n",
      "[90, 4] just here rec: 3\n",
      "k 1 j 1 i 0 left [90] right [4]\n",
      "[4, 4]  mid-left-level rec: 3\n",
      "[4, 90]  mid-right-level rec: 3\n",
      "[4, 90] outcome - fin rec: 3 \n",
      "\n",
      "[35, 22, 90, 4] just here rec: 2\n",
      "k 3 j 1 i 2 left [22, 35] right [4, 90]\n",
      "[4, 22, 35, 4]  mid-left-level rec: 2\n",
      "[4, 22, 35, 4]  mid-right-level rec: 2\n",
      "[4, 22, 35, 90] outcome - fin rec: 2 \n",
      "\n",
      "[50, 20, 30, 40, 1] right rec: 2\n",
      "[50, 20] left rec: 3\n",
      "[50] left rec: 4\n",
      "[20] right rec: 4\n",
      "[50, 20] just here rec: 3\n",
      "k 1 j 1 i 0 left [50] right [20]\n",
      "[20, 20]  mid-left-level rec: 3\n",
      "[20, 50]  mid-right-level rec: 3\n",
      "[20, 50] outcome - fin rec: 3 \n",
      "\n",
      "[30, 40, 1] right rec: 3\n",
      "[30] left rec: 4\n",
      "[40, 1] right rec: 4\n",
      "[40] left rec: 5\n",
      "[1] right rec: 5\n",
      "[40, 1] just here rec: 4\n",
      "k 1 j 1 i 0 left [40] right [1]\n",
      "[1, 1]  mid-left-level rec: 4\n",
      "[1, 40]  mid-right-level rec: 4\n",
      "[1, 40] outcome - fin rec: 4 \n",
      "\n",
      "[30, 40, 1] just here rec: 3\n",
      "k 2 j 1 i 1 left [30] right [1, 40]\n",
      "[1, 30, 1]  mid-left-level rec: 3\n",
      "[1, 30, 1]  mid-right-level rec: 3\n",
      "[1, 30, 40] outcome - fin rec: 3 \n",
      "\n",
      "[50, 20, 30, 40, 1] just here rec: 2\n",
      "k 4 j 3 i 1 left [20, 50] right [1, 30, 40]\n",
      "[1, 20, 30, 40, 1]  mid-left-level rec: 2\n",
      "[1, 20, 30, 40, 50]  mid-right-level rec: 2\n",
      "[1, 20, 30, 40, 50] outcome - fin rec: 2 \n",
      "\n",
      "[35, 22, 90, 4, 50, 20, 30, 40, 1] just here rec: 1\n",
      "k 8 j 5 i 3 left [4, 22, 35, 90] right [1, 20, 30, 40, 50]\n",
      "[1, 4, 20, 22, 30, 35, 40, 50, 1]  mid-left-level rec: 1\n",
      "[1, 4, 20, 22, 30, 35, 40, 50, 90]  mid-right-level rec: 1\n",
      "[1, 4, 20, 22, 30, 35, 40, 50, 90] outcome - fin rec: 1 \n",
      "\n"
     ]
    }
   ],
   "source": [
    "def merge_sort(my_list, label, rec):\n",
    "    rec+=1\n",
    "    print(my_list, label, 'rec:',rec)\n",
    "    if len(my_list) > 1: \n",
    "        mid = len(my_list)//2\n",
    "        left_half = my_list[:mid]\n",
    "        right_half = my_list[mid:]\n",
    "        \n",
    "        merge_sort(left_half, label='left', rec=rec)\n",
    "        merge_sort(right_half, label='right',rec=rec)\n",
    " \n",
    "        i = j = k = 0\n",
    "        print(my_list, 'just here', 'rec:', rec)\n",
    "        while i < len(left_half) and j < len(right_half):\n",
    "            if left_half[i] < right_half[j]:\n",
    "                my_list[k] = left_half[i]                \n",
    "                i += 1\n",
    "            else:\n",
    "                my_list[k] = right_half[j]\n",
    "                j += 1\n",
    "            k += 1\n",
    "        print('k',k,'j',j,'i',i, 'left',left_half,'right',right_half)\n",
    "        print(my_list, ' mid-left-level', 'rec:', rec)\n",
    "        while i < len(left_half):\n",
    "            my_list[k] = left_half[i]\n",
    "            i += 1\n",
    "            k += 1\n",
    "        \n",
    "        print(my_list, ' mid-right-level', 'rec:', rec)\n",
    "        while j < len(right_half):\n",
    "            my_list[k] = right_half[j]\n",
    "            j += 1\n",
    "            k += 1\n",
    "        print(my_list, 'outcome - fin', 'rec:', rec, '\\n')\n",
    "\n",
    "my_list = [35,22,90,4,50,20,30,40,1]\n",
    "merge_sort(my_list, label='begin', rec=0)"
   ]
  },
  {
   "cell_type": "markdown",
   "id": "a00affde",
   "metadata": {},
   "source": [
    "### Quicksort\n",
    "\n",
    " - worst case complexity of O(n^2)\n",
    " - but average and best case complexity of O(nlogn)\n",
    " - space complexity of O(nlogn)"
   ]
  },
  {
   "cell_type": "code",
   "execution_count": 27,
   "id": "88af826f",
   "metadata": {},
   "outputs": [
    {
     "name": "stdout",
     "output_type": "stream",
     "text": [
      "[3, 12, 43, 45, 231, 3561, 5356]\n"
     ]
    }
   ],
   "source": [
    "def partition(my_list, first_index, last_index):\n",
    "    \n",
    "    pivot = my_list[first_index]\n",
    "    left_pointer = first_index + 1\n",
    "    right_pointer = last_index\n",
    "\n",
    "    while True:\n",
    "        # Iterate until the value pointed by left_pointer is greater than pivot or left_pointer is greater than last_index\n",
    "        while my_list[left_pointer] < pivot and left_pointer < last_index:\n",
    "            left_pointer += 1\n",
    "\n",
    "        while my_list[right_pointer] > pivot and right_pointer >= first_index:\n",
    "            right_pointer -= 1 \n",
    "        \n",
    "        if left_pointer >= right_pointer:\n",
    "            break\n",
    "        \n",
    "        # Swap the values for the elements located at the left_pointer and right_pointer\n",
    "        my_list[left_pointer], my_list[right_pointer] = my_list[right_pointer], my_list[left_pointer]\n",
    "\n",
    "    my_list[first_index], my_list[right_pointer] = my_list[right_pointer], my_list[first_index]\n",
    "    return right_pointer\n",
    "\n",
    "\n",
    "def quicksort(my_list, first_index, last_index):\n",
    "    \n",
    "    if first_index < last_index:\n",
    "        \n",
    "        # Call the partition() function with the appropriate parameters\n",
    "        partition_index = partition(my_list, first_index, last_index)\n",
    "        \n",
    "        # Call quicksort() on the elements to the left of the partition\n",
    "        quicksort(my_list, first_index, partition_index)\n",
    "        quicksort(my_list, partition_index + 1, last_index) \n",
    "\n",
    "\n",
    "my_list = [43,5356,231,3561,12,3,45]\n",
    "quicksort(my_list, 0, len(my_list) - 1)\n",
    "print(my_list)"
   ]
  },
  {
   "cell_type": "markdown",
   "id": "ee655ee2",
   "metadata": {},
   "source": [
    "### Bubble sort\n",
    "\n",
    " - worst case complexity of O(n^2)"
   ]
  },
  {
   "cell_type": "code",
   "execution_count": 16,
   "id": "25c76b5f",
   "metadata": {},
   "outputs": [],
   "source": [
    "def bubble_sort(ls):\n",
    "    length = len(ls)\n",
    "    for i in range(length-1):\n",
    "        for j in range(length-1-i):\n",
    "            if ls[j]>ls[j+1]:\n",
    "                ls[j], ls[j+1] = ls[j+1], ls[j]\n",
    "    return ls"
   ]
  },
  {
   "cell_type": "code",
   "execution_count": 21,
   "id": "3a6b1f20",
   "metadata": {},
   "outputs": [
    {
     "data": {
      "text/plain": [
       "[3, 12, 43, 45, 231, 3561, 5356]"
      ]
     },
     "execution_count": 21,
     "metadata": {},
     "output_type": "execute_result"
    }
   ],
   "source": [
    "ls_to_sort = [43,5356,231,3561,12,3,45]\n",
    "bubble_sort(ls_to_sort)"
   ]
  },
  {
   "cell_type": "code",
   "execution_count": 22,
   "id": "91af41ec",
   "metadata": {},
   "outputs": [
    {
     "name": "stdout",
     "output_type": "stream",
     "text": [
      "[3, 12, 43, 45, 231, 3561, 5356]\n"
     ]
    }
   ],
   "source": [
    "def bubble_sort_smart(my_list):\n",
    "    \n",
    "    list_length = len(my_list)\n",
    "    \n",
    "    # Correct the mistake\n",
    "    is_sorted = False\n",
    "    \n",
    "    while not is_sorted:\n",
    "        is_sorted = True\n",
    "        for i in range(list_length-1):\n",
    "            # Correct the mistake\n",
    "            if my_list[i] > my_list[i+1]:\n",
    "                my_list[i] , my_list[i+1] = my_list[i+1] , my_list[i]\n",
    "            is_sorted = False\n",
    "        # Correct the mistake\n",
    "        list_length -= 1\n",
    "        \n",
    "    return my_list\n",
    "ls_to_sort = [43,5356,231,3561,12,3,45]\n",
    "print(bubble_sort_smart(ls_to_sort))"
   ]
  },
  {
   "cell_type": "markdown",
   "id": "fa7546db",
   "metadata": {},
   "source": [
    "### Selection sort\n",
    " - worst case complexity of O(n^2)"
   ]
  },
  {
   "cell_type": "code",
   "execution_count": 23,
   "id": "5e1a36ee",
   "metadata": {},
   "outputs": [
    {
     "data": {
      "text/plain": [
       "[3, 12, 43, 45, 231, 3561, 5356]"
      ]
     },
     "execution_count": 23,
     "metadata": {},
     "output_type": "execute_result"
    }
   ],
   "source": [
    "def selection_sort(my_list):\n",
    "    \n",
    "    list_length = len(my_list)\n",
    "    \n",
    "    for i in range(list_length - 1):\n",
    "        # Set lowest to the element of the list located at index i\n",
    "        lowest = my_list[i]\n",
    "        index = i\n",
    "        \n",
    "        # Iterate again over the list starting on the next position of the i variable\n",
    "        for j in range(i + 1, list_length):\n",
    "            \n",
    "            # Compare whether the element of the list located at index j is smaller than lowest\n",
    "            if my_list[j] < lowest:\n",
    "                index = j\n",
    "                lowest = my_list[j]\n",
    "                \n",
    "        my_list[i] , my_list[index] = my_list[index] , my_list[i]\n",
    "        \n",
    "    return my_list\n",
    "\n",
    "ls_to_sort = [43,5356,231,3561,12,3,45]\n",
    "selection_sort(ls_to_sort)"
   ]
  },
  {
   "cell_type": "markdown",
   "id": "4283d6cc",
   "metadata": {},
   "source": [
    "### Insertion sort\n",
    " - worst case complexity of O(n^2)"
   ]
  },
  {
   "cell_type": "code",
   "execution_count": 25,
   "id": "aa0b1c0f",
   "metadata": {},
   "outputs": [
    {
     "data": {
      "text/plain": [
       "[3, 12, 43, 45, 231, 3561, 5356]"
      ]
     },
     "execution_count": 25,
     "metadata": {},
     "output_type": "execute_result"
    }
   ],
   "source": [
    "def insertion_sort(my_list):\n",
    "    \n",
    "    for i in range(1, len(my_list)):\n",
    "        number_to_order = my_list[i]\n",
    "        j=i-1\n",
    "        while j >= 0 and number_to_order < my_list[j]:\n",
    "            my_list[j + 1] = my_list[j]\n",
    "            j -= 1\n",
    "            \n",
    "        my_list[j + 1] = number_to_order\n",
    "        \n",
    "    return my_list\n",
    "\n",
    "ls_to_sort = [43,5356,231,3561,12,3,45]\n",
    "insertion_sort(ls_to_sort)"
   ]
  },
  {
   "cell_type": "code",
   "execution_count": null,
   "id": "15f245a6",
   "metadata": {},
   "outputs": [],
   "source": []
  }
 ],
 "metadata": {
  "kernelspec": {
   "display_name": "Python 3",
   "language": "python",
   "name": "python3"
  },
  "language_info": {
   "codemirror_mode": {
    "name": "ipython",
    "version": 3
   },
   "file_extension": ".py",
   "mimetype": "text/x-python",
   "name": "python",
   "nbconvert_exporter": "python",
   "pygments_lexer": "ipython3",
   "version": "3.8.8"
  }
 },
 "nbformat": 4,
 "nbformat_minor": 5
}
