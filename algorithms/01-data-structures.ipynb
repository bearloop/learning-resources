{
 "cells": [
  {
   "cell_type": "markdown",
   "id": "5a9f2bf6",
   "metadata": {},
   "source": [
    "### Big O notation\n",
    "\n",
    " - measures the worst-case complexity of an algorithm\n",
    " - it considers\n",
    "     - time complexity -> the time it takes an algorithm to run completely\n",
    "     - space complexity -> the space the algorithm takes in memory\n",
    " - it doesn't use time, bytes or space because these attributes can change across machines\n",
    " - it uses mathematical expressions\n",
    "     - O(1) -> constant time as n increases\n",
    "     - O(nlogn) -> logarithmic time increase as n increases\n",
    "     - O(n) -> linear time increase as n increases\n",
    "     - O(n^2) -> quadratic time increase as n increases\n",
    "     - O(n^3) -> cubic time increase as n increases\n",
    "     \n",
    "      <img src=\"algo_assets/bigO.png\" style=\"width: 360px;\"/>\n",
    "\n",
    " - Big O notation:\n",
    "     - removes constants\n",
    "         - e.g. O(4+2n+2m) -> 0(n+m)\n",
    "     - uses different variables for different inputs\n",
    "         - e.g. 0(n+m)\n",
    "     - removes smaller terms, that is keeps terms that increase faster\n",
    "         - e.g. O(n+n^2) -> 0(n^2)\n",
    "         \n",
    "         \n",
    "  - Ω notation for best case\n",
    "  - Θ notation for average case analysis\n",
    "-------------\n",
    "### Data Structures"
   ]
  },
  {
   "cell_type": "markdown",
   "id": "32dfa65e",
   "metadata": {},
   "source": [
    "### 1. Linked lists\n",
    "\n",
    ":::"
   ]
  },
  {
   "cell_type": "code",
   "execution_count": 5,
   "id": "564c965e",
   "metadata": {},
   "outputs": [],
   "source": [
    "class Node:\n",
    "    def __init__(self, data):\n",
    "        self.data = data\n",
    "        self.next = None\n",
    "\n",
    "class LinkedList:\n",
    "    def __init__(self):\n",
    "        # Set the head and the tail with null values\n",
    "        self.head = None\n",
    "        self.tail = None\n",
    "\n",
    "\n",
    "    def insert_at_beginning(self, data):\n",
    "        # Create the new node\n",
    "        new_node = Node(data)\n",
    "        \n",
    "        # Check whether the linked list has a head node\n",
    "        if self.head:\n",
    "            # Point the next node of the new node to the head\n",
    "            new_node.next = self.head\n",
    "            self.head = new_node\n",
    "        else:\n",
    "            self.tail = new_node\n",
    "            self.head = new_node\n",
    "  \n",
    "\n",
    "    def remove_at_beginning(self):\n",
    "        # The \"next\" node of the head becomes the new head node\n",
    "        self.head = self.head.next\n",
    "        \n",
    "    \n",
    "    def search(self, data):\n",
    "        current_node = self.head\n",
    "        while current_node:\n",
    "            if current_node.data == data:\n",
    "                return True\n",
    "            else:\n",
    "                current_node = current_node.next\n",
    "        return False"
   ]
  },
  {
   "cell_type": "code",
   "execution_count": 10,
   "id": "000eac07",
   "metadata": {},
   "outputs": [],
   "source": [
    "link_ls = LinkedList()"
   ]
  },
  {
   "cell_type": "code",
   "execution_count": 18,
   "id": "3a994043",
   "metadata": {},
   "outputs": [],
   "source": [
    "link_ls.insert_at_beginning('1')"
   ]
  },
  {
   "cell_type": "code",
   "execution_count": 15,
   "id": "2fdf8b15",
   "metadata": {},
   "outputs": [],
   "source": [
    "link_ls.remove_at_beginning()"
   ]
  },
  {
   "cell_type": "code",
   "execution_count": 19,
   "id": "a49c5f92",
   "metadata": {},
   "outputs": [
    {
     "data": {
      "text/plain": [
       "'1'"
      ]
     },
     "execution_count": 19,
     "metadata": {},
     "output_type": "execute_result"
    }
   ],
   "source": [
    "link_ls.head.data"
   ]
  },
  {
   "cell_type": "code",
   "execution_count": 20,
   "id": "42f579f9",
   "metadata": {},
   "outputs": [
    {
     "data": {
      "text/plain": [
       "False"
      ]
     },
     "execution_count": 20,
     "metadata": {},
     "output_type": "execute_result"
    }
   ],
   "source": [
    "link_ls.search('2')"
   ]
  },
  {
   "cell_type": "code",
   "execution_count": 21,
   "id": "a17df0ee",
   "metadata": {
    "scrolled": true
   },
   "outputs": [
    {
     "data": {
      "text/plain": [
       "True"
      ]
     },
     "execution_count": 21,
     "metadata": {},
     "output_type": "execute_result"
    }
   ],
   "source": [
    "link_ls.search('1')"
   ]
  },
  {
   "cell_type": "markdown",
   "id": "c979e9bf",
   "metadata": {},
   "source": [
    "### 2. Stack\n",
    "\n",
    "--"
   ]
  },
  {
   "cell_type": "code",
   "execution_count": 23,
   "id": "51996cc7",
   "metadata": {},
   "outputs": [],
   "source": [
    "class Stack:\n",
    "    def __init__(self):\n",
    "        # Initially there won't be any node at the top of the stack\n",
    "        self.top = None\n",
    "        # Initially there will be zero elements in the stack\n",
    "        self.size = 0\n",
    "    \n",
    "   \n",
    "    def push(self, data):\n",
    "        \n",
    "        # Create a node with the data\n",
    "        new_node = Node(data)\n",
    "        if self.top:\n",
    "            new_node.next = self.top\n",
    "            \n",
    "        # Set the created node to the top node\n",
    "        self.top = new_node\n",
    "        \n",
    "        # Increase the size of the stack by one\n",
    "        self.size += 1\n",
    "    \n",
    "    def pop(self):\n",
    "        # Check if there is a top element\n",
    "        if self.top is None:\n",
    "            return None\n",
    "        else:\n",
    "            popped_node = self.top\n",
    "            \n",
    "            # Decrement the size of the stack\n",
    "            self.size -= 1\n",
    "            \n",
    "            # Update the new value for the top node\n",
    "            self.top = self.top.next\n",
    "            popped_node.next = None\n",
    "            \n",
    "            return popped_node.data "
   ]
  },
  {
   "cell_type": "markdown",
   "id": "2420b53f",
   "metadata": {},
   "source": [
    "Python's LifoQueue"
   ]
  },
  {
   "cell_type": "code",
   "execution_count": 24,
   "id": "bb027417",
   "metadata": {},
   "outputs": [
    {
     "data": {
      "text/plain": [
       "'Don Quixote'"
      ]
     },
     "execution_count": 24,
     "metadata": {},
     "output_type": "execute_result"
    }
   ],
   "source": [
    "# Import the module to work with Python's LifoQueue\n",
    "import queue\n",
    "\n",
    "# Create an infinite LifoQueue\n",
    "my_book_stack = queue.LifoQueue(maxsize=0)\n",
    "\n",
    "# Add an element to the stack\n",
    "my_book_stack.put(\"Don Quixote\")\n",
    "\n",
    "# Remove an element from the stack\n",
    "my_book_stack.get()"
   ]
  },
  {
   "cell_type": "markdown",
   "id": "4a069644",
   "metadata": {},
   "source": [
    "### 3. Queue\n",
    "\n",
    "++"
   ]
  },
  {
   "cell_type": "code",
   "execution_count": 50,
   "id": "10f7ae04",
   "metadata": {},
   "outputs": [],
   "source": [
    "class Queue:\n",
    "    def __init__(self):\n",
    "        self.head = None\n",
    "        self.tail = None\n",
    "        \n",
    "    def enqueue(self,data):\n",
    "        new_node = Node(data)\n",
    "        if self.head == None:\n",
    "            self.head = new_node\n",
    "            self.tail = new_node\n",
    "    \n",
    "        else:\n",
    "            self.tail.next = new_node\n",
    "            self.tail = new_node\n",
    "    \n",
    "    def dequeue(self):\n",
    "        if self.head:\n",
    "            current_node = self.head\n",
    "            self.head = current_node.next\n",
    "            current_node.next = None\n",
    "            \n",
    "            if self.head == None:\n",
    "                self.tail = None"
   ]
  },
  {
   "cell_type": "code",
   "execution_count": 51,
   "id": "a60dd50d",
   "metadata": {},
   "outputs": [],
   "source": [
    "my_queue = Queue()"
   ]
  },
  {
   "cell_type": "code",
   "execution_count": 58,
   "id": "128027bb",
   "metadata": {},
   "outputs": [],
   "source": [
    "my_queue.enqueue('Astypalaia')"
   ]
  },
  {
   "cell_type": "code",
   "execution_count": 59,
   "id": "15767ee7",
   "metadata": {},
   "outputs": [
    {
     "data": {
      "text/plain": [
       "'Astypalaia'"
      ]
     },
     "execution_count": 59,
     "metadata": {},
     "output_type": "execute_result"
    }
   ],
   "source": [
    "my_queue.head.data"
   ]
  },
  {
   "cell_type": "code",
   "execution_count": 60,
   "id": "abad29c4",
   "metadata": {},
   "outputs": [
    {
     "data": {
      "text/plain": [
       "'Astypalaia'"
      ]
     },
     "execution_count": 60,
     "metadata": {},
     "output_type": "execute_result"
    }
   ],
   "source": [
    "my_queue.tail.data"
   ]
  },
  {
   "cell_type": "code",
   "execution_count": 61,
   "id": "b5f17cf5",
   "metadata": {},
   "outputs": [],
   "source": [
    "my_queue.dequeue()"
   ]
  },
  {
   "cell_type": "code",
   "execution_count": 64,
   "id": "7bd531b2",
   "metadata": {},
   "outputs": [],
   "source": [
    "# my_queue.head.data"
   ]
  },
  {
   "cell_type": "markdown",
   "id": "733f6c92",
   "metadata": {},
   "source": [
    "Python's SimpleQueue"
   ]
  },
  {
   "cell_type": "code",
   "execution_count": 25,
   "id": "c87f6c68",
   "metadata": {},
   "outputs": [
    {
     "data": {
      "text/plain": [
       "'samosas'"
      ]
     },
     "execution_count": 25,
     "metadata": {},
     "output_type": "execute_result"
    }
   ],
   "source": [
    "# Create the queue\n",
    "my_orders_queue = queue.SimpleQueue()\n",
    "\n",
    "# Add an element to the queue\n",
    "my_orders_queue.put(\"samosas\")\n",
    "\n",
    "# Remove an element from the queue\n",
    "my_orders_queue.get()"
   ]
  },
  {
   "cell_type": "markdown",
   "id": "a8ccf4d8",
   "metadata": {},
   "source": [
    "### 4. Hash tables\n",
    "\n",
    " - stores a collection of items in key-value pairs\n",
    " - nearly all programming language has an implementation of hash tables\n",
    " - also known as hashes, hash maps, dictionaries, associative arrays\n",
    " - at instatiation slots/buckets are empty, then when we add a new element to the hash table there will be a mapping between the key and the slot (where the value is stored) with a hash function\n",
    " - a hash function always returns the same value given the same input\n",
    " - a hash function can return the same output for different inputs\n",
    " - Python implements hash tables as dictionaries"
   ]
  },
  {
   "cell_type": "code",
   "execution_count": 27,
   "id": "1c7ba3c1",
   "metadata": {},
   "outputs": [
    {
     "name": "stdout",
     "output_type": "stream",
     "text": [
      "The price of the lasagna is 14.75.\n",
      "The price of the moussaka is 21.15.\n",
      "The price of the sushi is 16.05.\n",
      "The price of the paella is 21.\n",
      "The price of the samosas is 14.\n"
     ]
    }
   ],
   "source": [
    "# Correct the mistake\n",
    "my_menu = {\n",
    "  'lasagna': 14.75,\n",
    "  'moussaka': 21.15,\n",
    "  'sushi': 16.05,\n",
    "  'paella': 21,\n",
    "  'samosas': 14\n",
    "}\n",
    "for key, value in my_menu.items():\n",
    "  # Correct the mistake\n",
    "  print(f\"The price of the {key} is {value}.\")"
   ]
  },
  {
   "cell_type": "markdown",
   "id": "ab16eafd",
   "metadata": {},
   "source": [
    "### 5. Trees and graphs\n",
    "\n",
    "A. Trees\n",
    " - trees are node based data structures\n",
    " - each node can have links to multiple nodes\n",
    " - the first node is called the root node\n",
    " - trees have levels (root is on the first level)\n",
    " - there are parent nodes (if there are nodes linked to the parent at below levels) and children nodes\n",
    " \n",
    " \n",
    " - binary trees are special tree structures where each node has\n",
    "     - (i) zero links to other nodes (or zero children)\n",
    "     - (ii) link with one other node (or one child)\n",
    "     - (iii) links with two other nodes (or two children)\n",
    "     \n",
    "B. Graphs\n",
    " - graphs are formed by a set of nodes also called vertices connected by links called edges\n",
    " - graphs can be directed (-> or <-) or undirected (connections form mutual relationships)\n",
    " - weighted graphs have edges with numerical values\n",
    "\n",
    "\n",
    "<img src=\"algo_assets/trees_graphs.png\" style=\"height: 310px;\"/>\n"
   ]
  },
  {
   "cell_type": "code",
   "execution_count": 29,
   "id": "d4fc4371",
   "metadata": {},
   "outputs": [],
   "source": [
    "class TreeNode:\n",
    "    def __init__(self, data, left=None, right=None):\n",
    "        self.data = data\n",
    "        self.left_child = left\n",
    "        self.right_child = right"
   ]
  },
  {
   "cell_type": "code",
   "execution_count": 30,
   "id": "dc40c882",
   "metadata": {},
   "outputs": [],
   "source": [
    "node1 = TreeNode(\"B\")\n",
    "node2 = TreeNode(\"C\")\n",
    "root_node = TreeNode(\"A\", node1, node2)"
   ]
  },
  {
   "cell_type": "code",
   "execution_count": 34,
   "id": "fe33808a",
   "metadata": {},
   "outputs": [
    {
     "data": {
      "text/plain": [
       "'B'"
      ]
     },
     "execution_count": 34,
     "metadata": {},
     "output_type": "execute_result"
    }
   ],
   "source": [
    "root_node.left_child.data\n"
   ]
  },
  {
   "cell_type": "code",
   "execution_count": 36,
   "id": "3d8c3f4b",
   "metadata": {},
   "outputs": [],
   "source": [
    "class Graph:\n",
    "    \n",
    "    def __init__(self):\n",
    "        self.vertices = {}\n",
    "        \n",
    "    def add_vertex(self, vertex):\n",
    "        self.vertices[vertex] = []\n",
    "        \n",
    "    def add_edge(self, source, target):\n",
    "        self.vertices[source].append(target)"
   ]
  },
  {
   "cell_type": "code",
   "execution_count": 37,
   "id": "207305a3",
   "metadata": {},
   "outputs": [],
   "source": [
    "my_graph = Graph()\n",
    "my_graph.add_vertex('David')\n",
    "my_graph.add_vertex('Miriam')\n",
    "my_graph.add_vertex('Martin')\n",
    "my_graph.add_edge('David', 'Miriam')\n",
    "my_graph.add_edge('David', 'Martin')\n",
    "my_graph.add_edge('Miriam', 'Martin')"
   ]
  },
  {
   "cell_type": "code",
   "execution_count": 39,
   "id": "58df6275",
   "metadata": {},
   "outputs": [
    {
     "name": "stdout",
     "output_type": "stream",
     "text": [
      "{'David': ['Miriam', 'Martin'], 'Miriam': ['Martin'], 'Martin': []}\n"
     ]
    }
   ],
   "source": [
    "print(my_graph.vertices)"
   ]
  },
  {
   "cell_type": "code",
   "execution_count": 65,
   "id": "ad51d536",
   "metadata": {},
   "outputs": [],
   "source": [
    "class WeightedGraph:  \n",
    "    def __init__(self):\n",
    "        self.vertices = {}\n",
    "  \n",
    "    def add_vertex(self, vertex):\n",
    "        # Set the data for the vertex\n",
    "        self.vertices[vertex] = []\n",
    "    \n",
    "    def add_edge(self, source, target, weight):\n",
    "        # Set the weight\n",
    "        self.vertices[source].append([target, weight])"
   ]
  },
  {
   "cell_type": "code",
   "execution_count": 76,
   "id": "e456fb1f",
   "metadata": {},
   "outputs": [
    {
     "name": "stdout",
     "output_type": "stream",
     "text": [
      "{'Paris': [['Toulouse', 678]], 'Toulouse': [['Biarritz', 312]], 'Biarritz': [['Paris', 783]]}\n"
     ]
    }
   ],
   "source": [
    "my_graph = WeightedGraph()\n",
    "\n",
    "# Create the vertices\n",
    "my_graph.add_vertex('Paris')\n",
    "my_graph.add_vertex('Toulouse')\n",
    "my_graph.add_vertex('Biarritz')\n",
    "\n",
    "# Create the edges\n",
    "my_graph.add_edge('Paris', 'Toulouse', 678)\n",
    "my_graph.add_edge('Toulouse', 'Biarritz', 312)\n",
    "my_graph.add_edge('Biarritz', 'Paris', 783)\n",
    "\n",
    "print(my_graph.vertices)"
   ]
  },
  {
   "cell_type": "markdown",
   "id": "f4fb51fa",
   "metadata": {},
   "source": [
    "-------------\n",
    "### Recursion\n",
    "\n",
    " - base case ensures that the algorithm does not run forever\n",
    " - how it works:\n",
    "     - the computer uses a stack (call stack) to keep track of the functions being called\n",
    "     - before each run finishes the next one begins\n",
    "     - when the base case is triggered then there is no recursive call\n",
    "     - the result is received from the stack's top function\n",
    "     - the top function continues its execution and generates a result that is passed to the function further below in the stack etc\n",
    "     \n",
    "<img src=\"algo_assets/recursion1.png\" style=\"height: 310px;\"/>\n",
    "<img src=\"algo_assets/recursion2.png\" style=\"height: 310px;\"/>\n",
    "<img src=\"algo_assets/recursion3.png\" style=\"height: 310px;\"/>\n"
   ]
  },
  {
   "cell_type": "code",
   "execution_count": 77,
   "id": "82bb0830",
   "metadata": {},
   "outputs": [],
   "source": [
    "def factorial(n):\n",
    "    if n>0:\n",
    "        return n*factorial(n-1)\n",
    "    else:\n",
    "        return 1"
   ]
  },
  {
   "cell_type": "code",
   "execution_count": 83,
   "id": "4a68fc64",
   "metadata": {},
   "outputs": [
    {
     "data": {
      "text/plain": [
       "362880"
      ]
     },
     "execution_count": 83,
     "metadata": {},
     "output_type": "execute_result"
    }
   ],
   "source": [
    "factorial(9)"
   ]
  },
  {
   "cell_type": "markdown",
   "id": "3d51bb3b",
   "metadata": {},
   "source": [
    "### Dynamic programming\n",
    "\n",
    " - an optimisation technique mainly applied to recursion\n",
    " - it can reduce the complexity associated with recursion\n",
    " - can be applied to any problem that can be divided into sub-problems that overlap\n",
    " - solution of the sub-problems are saved sparing the need to re-calculate if they are needed later (e.g. through memoization)"
   ]
  },
  {
   "cell_type": "code",
   "execution_count": 97,
   "id": "bdafe28a",
   "metadata": {},
   "outputs": [
    {
     "name": "stdout",
     "output_type": "stream",
     "text": [
      "317811\n"
     ]
    }
   ],
   "source": [
    "# With recursion\n",
    "def fibonacci(n):\n",
    "  # Define the base case\n",
    "  if n <= 1:\n",
    "    return n\n",
    "  else:\n",
    "    # Call recursively to fibonacci\n",
    "    return fibonacci(n-1) + fibonacci(n-2)\n",
    "    \n",
    "print(fibonacci(28))"
   ]
  },
  {
   "cell_type": "code",
   "execution_count": 100,
   "id": "17d6234d",
   "metadata": {},
   "outputs": [
    {
     "name": "stdout",
     "output_type": "stream",
     "text": [
      "317811\n"
     ]
    }
   ],
   "source": [
    "# With dynamic programming and memoization\n",
    "cache = [None]*(100)\n",
    "\n",
    "def fibonacci(n): \n",
    "    if n <= 1:\n",
    "        return n\n",
    "    \n",
    "    # Check if the value exists\n",
    "    if not cache[n]:\n",
    "        # Save the result in cache\n",
    "        cache[n] = fibonacci(n-1) + fibonacci(n-2)\n",
    "    \n",
    "    return cache[n]\n",
    "    \n",
    "\n",
    "print(fibonacci(28))"
   ]
  },
  {
   "cell_type": "markdown",
   "id": "a020fb6c",
   "metadata": {},
   "source": [
    "The Towers of Hanoi puzzle with a recursive algorithm\n",
    "\n",
    "The aim of this game is to transfer all the disks from one of the three rods to another, following these rules:\n",
    "\n",
    " - You can only move one disk at a time.\n",
    "\n",
    " - You can only take the upper disk from one of the stacks and place it on top of another stack.\n",
    "\n",
    " - You cannot put a larger disk on top of a smaller one."
   ]
  },
  {
   "cell_type": "code",
   "execution_count": 101,
   "id": "7b0a3168",
   "metadata": {},
   "outputs": [
    {
     "name": "stdout",
     "output_type": "stream",
     "text": [
      "Moving disk 1 from rod A to rod B\n",
      "Moving disk 2 from rod A to rod C\n",
      "Moving disk 1 from rod B to rod C\n",
      "Moving disk 3 from rod A to rod B\n",
      "Moving disk 1 from rod C to rod A\n",
      "Moving disk 2 from rod C to rod B\n",
      "Moving disk 1 from rod A to rod B\n",
      "Moving disk 4 from rod A to rod C\n",
      "Moving disk 1 from rod B to rod C\n",
      "Moving disk 2 from rod B to rod A\n",
      "Moving disk 1 from rod C to rod A\n",
      "Moving disk 3 from rod B to rod C\n",
      "Moving disk 1 from rod A to rod B\n",
      "Moving disk 2 from rod A to rod C\n",
      "Moving disk 1 from rod B to rod C\n"
     ]
    }
   ],
   "source": [
    "def hanoi(num_disks, from_rod, to_rod, aux_rod):\n",
    "  # Correct the base case\n",
    "  if num_disks > 0:\n",
    "    # Correct the calls to the hanoi function\n",
    "    hanoi(num_disks-1, from_rod, aux_rod, to_rod)\n",
    "    print(\"Moving disk\", num_disks, \"from rod\", from_rod,\"to rod\",to_rod)\n",
    "    hanoi(num_disks-1, aux_rod, to_rod, from_rod)   \n",
    "\n",
    "num_disks = 4\n",
    "source_rod = 'A'\n",
    "auxiliar_rod = 'B'\n",
    "target_rod = 'C'\n",
    "\n",
    "hanoi(num_disks, source_rod, target_rod, auxiliar_rod)"
   ]
  },
  {
   "cell_type": "code",
   "execution_count": null,
   "id": "7def6610",
   "metadata": {},
   "outputs": [],
   "source": []
  }
 ],
 "metadata": {
  "kernelspec": {
   "display_name": "Python 3",
   "language": "python",
   "name": "python3"
  },
  "language_info": {
   "codemirror_mode": {
    "name": "ipython",
    "version": 3
   },
   "file_extension": ".py",
   "mimetype": "text/x-python",
   "name": "python",
   "nbconvert_exporter": "python",
   "pygments_lexer": "ipython3",
   "version": "3.8.8"
  }
 },
 "nbformat": 4,
 "nbformat_minor": 5
}
