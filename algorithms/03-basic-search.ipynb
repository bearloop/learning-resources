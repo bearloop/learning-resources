{
 "cells": [
  {
   "cell_type": "markdown",
   "id": "bac4175f",
   "metadata": {},
   "source": [
    "### Search\n",
    "\n",
    "Linear search\n",
    " - searching is an essential operation\n",
    " - linear search loops through all elements of a collection or list\n",
    " - when the item is found the algorithm stops\n",
    " - the item is returned\n",
    " - if the item is not found the search continues till the list ends\n",
    " - linear search is of complexity of O(n)\n",
    "\n",
    "Binary search\n",
    " - only applies to ordered lists\n",
    " - splits the list in the middle\n",
    " - compares the search value with the middle point and drops the part of the original list that it can't contain the search value\n",
    " - binary search is of complexity O(nlogn)\n"
   ]
  },
  {
   "cell_type": "code",
   "execution_count": 7,
   "id": "d3b5e870",
   "metadata": {},
   "outputs": [
    {
     "name": "stdout",
     "output_type": "stream",
     "text": [
      "(True, 7)\n"
     ]
    }
   ],
   "source": [
    "def binary_search(ordered_list, search_value):\n",
    "    first = 0\n",
    "    last = len(ordered_list) - 1\n",
    "\n",
    "    while first <= last:\n",
    "        middle = (first + last)//2\n",
    "        # Check whether the search value equals the value in the middle\n",
    "        if search_value == ordered_list[middle]:\n",
    "            return True, middle\n",
    "        # Check whether the search value is smaller than the value in the middle\n",
    "        elif search_value < ordered_list[middle]:\n",
    "            # Set last to the value of middle minus one\n",
    "            last = middle - 1\n",
    "        else:\n",
    "            first = middle + 1\n",
    "            \n",
    "    return False\n",
    "\n",
    "print(binary_search([1,5,8,9,15,20,70,72], 72))"
   ]
  },
  {
   "cell_type": "markdown",
   "id": "dbc9e5e0",
   "metadata": {},
   "source": [
    "Binary search with recursion"
   ]
  },
  {
   "cell_type": "code",
   "execution_count": 14,
   "id": "919a480c",
   "metadata": {},
   "outputs": [
    {
     "name": "stdout",
     "output_type": "stream",
     "text": [
      "True\n"
     ]
    }
   ],
   "source": [
    "def binary_search_recursive(ordered_list, search_value):\n",
    "    \n",
    "    # Define the base case\n",
    "    if len(ordered_list) == 0:\n",
    "        return False\n",
    "    \n",
    "    else:\n",
    "        middle = len(ordered_list)//2\n",
    "        \n",
    "        # Check whether the search value equals the value in the middle\n",
    "        if search_value == ordered_list[middle]:\n",
    "            return True\n",
    "        \n",
    "        elif search_value < ordered_list[middle]:\n",
    "            # Call recursively with the left half of the list\n",
    "            return binary_search_recursive(ordered_list[:middle], search_value)\n",
    "        \n",
    "        else:\n",
    "            # Call recursively with the right half of the list\n",
    "            return binary_search_recursive(ordered_list[middle+1:], search_value)\n",
    "\n",
    "print(binary_search_recursive([1,5,8,9,15,20,70,72], 72))"
   ]
  },
  {
   "cell_type": "markdown",
   "id": "5441d458",
   "metadata": {},
   "source": [
    "### Binary search tree\n",
    "\n",
    " - trees where nodes have either zero, one or two children\n",
    " - the left sub-tree contains values less than the parent node\n",
    " - the right sub-tree contains values greater than the parent node\n",
    " \n",
    "  <img src=\"algo_assets/bst.png\" style=\"height: 380px;\"/>\n",
    "  "
   ]
  },
  {
   "cell_type": "code",
   "execution_count": 27,
   "id": "33a9f500",
   "metadata": {},
   "outputs": [],
   "source": [
    "class TreeNode:\n",
    "    def __init__(self, data, left=None, right=None):\n",
    "        self.data = data\n",
    "        self.left_child = left\n",
    "        self.right_child = right"
   ]
  },
  {
   "cell_type": "code",
   "execution_count": 45,
   "id": "81580ba6",
   "metadata": {},
   "outputs": [
    {
     "name": "stdout",
     "output_type": "stream",
     "text": [
      "True\n",
      "Arctic Monkeys\n"
     ]
    }
   ],
   "source": [
    "class BinarySearchTree:\n",
    "    def __init__(self):\n",
    "        self.root = None\n",
    "    \n",
    "    def search(self, search_value):\n",
    "        current_node = self.root\n",
    "        while current_node:\n",
    "            if search_value == current_node.data:\n",
    "                return True\n",
    "            elif search_value < current_node.data:\n",
    "                current_node = current_node.left_child\n",
    "            else:\n",
    "                 current_node = current_node.right_child\n",
    "                    \n",
    "        return False\n",
    "\n",
    "    def insert(self, data):\n",
    "        new_node = TreeNode(data)\n",
    "        # Check if the BST is empty\n",
    "        if self.root == None:\n",
    "            self.root = new_node\n",
    "            return\n",
    "        else:\n",
    "            current_node = self.root\n",
    "            while True:\n",
    "                # Check if the data to insert is smaller than the current node's data\n",
    "                if data < current_node.data:\n",
    "                    if current_node.left_child == None:\n",
    "                        current_node.left_child = new_node\n",
    "                        return \n",
    "                    else:\n",
    "                        current_node = current_node.left_child\n",
    "                        # Check if the data to insert is greater than the current node's data\n",
    "                elif data > current_node.data:\n",
    "                    if current_node.right_child == None:\n",
    "                        current_node.right_child = new_node\n",
    "                        return\n",
    "                    else:\n",
    "                        current_node = current_node.right_child\n",
    "    \n",
    "    def find_min(self):\n",
    "        # Set current_node as the root\n",
    "        current_node = self.root\n",
    "        \n",
    "        # Iterate over the nodes of the appropriate subtree\n",
    "        while current_node.left_child:\n",
    "            # Update the value for current_node\n",
    "            current_node = current_node.left_child\n",
    "        \n",
    "        return current_node.data\n",
    "    \n",
    "    \n",
    "    def in_order(self, current_node):\n",
    "        # Check if current_node exists\n",
    "        if current_node:\n",
    "            # Call recursively with the appropriate half of the tree\n",
    "            self.in_order(current_node.left_child)\n",
    "            # Print the value of the current_node\n",
    "            print(current_node.data)\n",
    "            # Call recursively with the appropriate half of the tree\n",
    "            self.in_order(current_node.right_child)\n",
    "\n",
    "bst = BinarySearchTree()\n",
    "\n",
    "bst.insert(\"Rolling Stones\")\n",
    "bst.insert(\"Florence\")\n",
    "bst.insert(\"Arctic Monkeys\")\n",
    "bst.insert(\"Black Keys\")\n",
    "bst.insert(\"The Beatles\")\n",
    "\n",
    "print(bst.search(\"Rolling Stones\"))\n",
    "\n",
    "print(bst.find_min())\n",
    "\n"
   ]
  },
  {
   "cell_type": "markdown",
   "id": "85124f40",
   "metadata": {},
   "source": [
    "### Depth first search\n",
    "\n",
    " - traverse all nodes with:\n",
    "     - in-order: left -> current/move backward -> right\n",
    "     - post-order: current node -> left -> right\n",
    "     - post-order: left -> right -> current node\n",
    "\n",
    " - use in-order in BSTs to obtain node values in ascending order\n",
    " - use pre-order to obtain copies of a tree or get pre-fix expressions\n",
    " - use post-order to delete a tree or get post-fix expressions\n",
    " - complexity: O(n)\n",
    " \n",
    " \n",
    " - DFS in graphs:\n",
    "     - keep track of visited vertices\n",
    "     - steps:\n",
    "         - start at any vertex\n",
    "         - track current vertex and visited vertices list\n",
    "         - for each node's adjacent vertex\n",
    "             - if it has been visited ignore it\n",
    "             - if not recursively perform DFS\n",
    " - complexity: O(V+E), V the number of vertices and E the number of nodes\n"
   ]
  },
  {
   "cell_type": "code",
   "execution_count": 47,
   "id": "5597bd37",
   "metadata": {},
   "outputs": [
    {
     "name": "stdout",
     "output_type": "stream",
     "text": [
      "Arctic Monkeys\n",
      "Black Keys\n",
      "Florence\n",
      "Rolling Stones\n",
      "The Beatles\n"
     ]
    }
   ],
   "source": [
    "# in_order DFS\n",
    "bst.in_order(bst.root)"
   ]
  },
  {
   "cell_type": "markdown",
   "id": "19c13b3b",
   "metadata": {},
   "source": [
    "### Breadth first search\n",
    "\n",
    " - starts from the root node\n",
    " - visits all nodes from each level and moves on\n",
    " - complexity: O(V+E), V the number of vertices and E the number of nodes\n",
    "<img src=\"algo_assets/search.png\" style=\"width: 680px;\"/>\n",
    "  \n"
   ]
  },
  {
   "cell_type": "code",
   "execution_count": null,
   "id": "db602be7",
   "metadata": {},
   "outputs": [],
   "source": []
  }
 ],
 "metadata": {
  "kernelspec": {
   "display_name": "Python 3",
   "language": "python",
   "name": "python3"
  },
  "language_info": {
   "codemirror_mode": {
    "name": "ipython",
    "version": 3
   },
   "file_extension": ".py",
   "mimetype": "text/x-python",
   "name": "python",
   "nbconvert_exporter": "python",
   "pygments_lexer": "ipython3",
   "version": "3.8.8"
  }
 },
 "nbformat": 4,
 "nbformat_minor": 5
}
