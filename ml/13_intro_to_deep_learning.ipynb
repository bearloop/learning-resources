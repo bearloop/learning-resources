{
 "cells": [
  {
   "cell_type": "markdown",
   "id": "2b5dba17",
   "metadata": {},
   "source": [
    "### Intro to Deep Learning\n"
   ]
  },
  {
   "cell_type": "code",
   "execution_count": null,
   "id": "6f4a61a4",
   "metadata": {},
   "outputs": [],
   "source": []
  },
  {
   "cell_type": "markdown",
   "id": "8b962efe",
   "metadata": {},
   "source": [
    "### Intro to TensorFlow\n"
   ]
  },
  {
   "cell_type": "code",
   "execution_count": null,
   "id": "2c67557b",
   "metadata": {},
   "outputs": [],
   "source": []
  },
  {
   "cell_type": "markdown",
   "id": "41ab6ff0",
   "metadata": {},
   "source": [
    "### Intro to Keras\n",
    "\n",
    " - Loss functions\n",
    " - Activation functions\n",
    " - Optimisers\n",
    " - Binary classification\n",
    " - Multi-class classification\n",
    " - Multi-label classification\n",
    " \n",
    " - Architecture\n",
    "     - Autoencoders\n",
    "     - Convolutional NN (CNN)\n",
    "     - Long Short Term Memory (LSTM) NN"
   ]
  },
  {
   "cell_type": "markdown",
   "id": "bfa48ebb",
   "metadata": {},
   "source": [
    "### Advanced Keras\n",
    "\n",
    " - Category embeddings\n",
    " - Shared layers\n",
    " - Merge layers"
   ]
  },
  {
   "cell_type": "code",
   "execution_count": null,
   "id": "3d0eace7",
   "metadata": {},
   "outputs": [],
   "source": []
  }
 ],
 "metadata": {
  "kernelspec": {
   "display_name": "Python 3",
   "language": "python",
   "name": "python3"
  },
  "language_info": {
   "codemirror_mode": {
    "name": "ipython",
    "version": 3
   },
   "file_extension": ".py",
   "mimetype": "text/x-python",
   "name": "python",
   "nbconvert_exporter": "python",
   "pygments_lexer": "ipython3",
   "version": "3.8.8"
  }
 },
 "nbformat": 4,
 "nbformat_minor": 5
}
