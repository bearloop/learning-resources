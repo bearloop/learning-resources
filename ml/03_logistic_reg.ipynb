{
 "cells": [
  {
   "cell_type": "markdown",
   "id": "798e39a9",
   "metadata": {},
   "source": [
    "### Logistic regression\n",
    "\n",
    " - Logistic rergression is a supervised learning algorithm\n",
    " - When the target variable is a quantitative variable, it is a regression problem, when it's a categorical one, it is a classification problem\n",
    " - A problem in the form of y = a + b*X\n",
    " - Ordinary Least Squares: the loss function minimizes the sum of the squared distance between the fitted line and the observations (residuals)\n",
    " - Evaluation with R^2 (% of variance explained by the features) or Root Square Mean Error (differences between the values predicted by a model and the values observed https://en.wikipedia.org/wiki/Root-mean-square_deviation)\n",
    "\n",
    " - Learn more: https://en.wikipedia.org/wiki/Linear_regression"
   ]
  },
  {
   "cell_type": "code",
   "execution_count": 47,
   "id": "e967f29a",
   "metadata": {},
   "outputs": [],
   "source": [
    "import pandas as pd\n",
    "import numpy as np\n",
    "import seaborn as sns\n",
    "import matplotlib.pyplot as plt\n",
    "from sklearn.datasets import load_wine\n",
    "from sklearn.model_selection import train_test_split, cross_val_score\n",
    "from sklearn.preprocessing import scale\n",
    "\n",
    "# Import LinearRegression\n",
    "from sklearn.linear_model import LinearRegression\n",
    "from sklearn.metrics import mean_squared_error\n"
   ]
  },
  {
   "cell_type": "code",
   "execution_count": 37,
   "id": "59356e3d",
   "metadata": {},
   "outputs": [
    {
     "data": {
      "text/plain": [
       "(178,)"
      ]
     },
     "metadata": {},
     "output_type": "display_data"
    },
    {
     "data": {
      "text/plain": [
       "(178, 12)"
      ]
     },
     "metadata": {},
     "output_type": "display_data"
    }
   ],
   "source": [
    "wines = load_wine()\n",
    "all_features = pd.DataFrame(scale(wines['data']), columns = wines['feature_names'])\n",
    "target = pd.DataFrame(all_features['alcohol'])\n",
    "features = all_features.drop('alcohol',axis=1)\n",
    "\n",
    "# Create arrays for the features and the response variable\n",
    "y = target.values.reshape(-1)\n",
    "X = features.values\n",
    "\n",
    "display(y.shape, X.shape)\n",
    "\n",
    "X_train, X_test, y_train, y_test = train_test_split(X, y,\n",
    "                                                    test_size=0.35,\n",
    "                                                    shuffle=False,\n",
    "                                                    random_state=21)"
   ]
  },
  {
   "cell_type": "code",
   "execution_count": null,
   "id": "5aaf6142",
   "metadata": {},
   "outputs": [],
   "source": []
  }
 ],
 "metadata": {
  "kernelspec": {
   "display_name": "Python 3",
   "language": "python",
   "name": "python3"
  },
  "language_info": {
   "codemirror_mode": {
    "name": "ipython",
    "version": 3
   },
   "file_extension": ".py",
   "mimetype": "text/x-python",
   "name": "python",
   "nbconvert_exporter": "python",
   "pygments_lexer": "ipython3",
   "version": "3.8.8"
  }
 },
 "nbformat": 4,
 "nbformat_minor": 5
}
