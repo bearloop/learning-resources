{
 "cells": [
  {
   "cell_type": "markdown",
   "id": "798e39a9",
   "metadata": {},
   "source": [
    "### Linear regression\n",
    "\n",
    " - Linear rergression is a supervised learning algorithm\n",
    " - When the target variable is a quantitative variable, it is a regression problem, when it's a categorical one, it is a classification problem\n",
    " - A problem in the form of y = a + b*X\n",
    " - Ordinary Least Squares: the loss function minimizes the sum of the squared distance between the fitted line and the observations (residuals)\n",
    " - Evaluation with R^2 (% of variance explained by the features) or Root Square Mean Error (differences between the values predicted by a model and the values observed https://en.wikipedia.org/wiki/Root-mean-square_deviation)\n",
    "\n",
    " - Learn more: https://en.wikipedia.org/wiki/Linear_regression"
   ]
  },
  {
   "cell_type": "code",
   "execution_count": 47,
   "id": "e967f29a",
   "metadata": {},
   "outputs": [],
   "source": [
    "import pandas as pd\n",
    "import numpy as np\n",
    "import seaborn as sns\n",
    "import matplotlib.pyplot as plt\n",
    "from sklearn.datasets import load_wine\n",
    "from sklearn.model_selection import train_test_split, cross_val_score\n",
    "from sklearn.preprocessing import scale\n",
    "\n",
    "# Import LinearRegression\n",
    "from sklearn.linear_model import LinearRegression\n",
    "from sklearn.metrics import mean_squared_error\n"
   ]
  },
  {
   "cell_type": "code",
   "execution_count": 37,
   "id": "59356e3d",
   "metadata": {},
   "outputs": [
    {
     "data": {
      "text/plain": [
       "(178,)"
      ]
     },
     "metadata": {},
     "output_type": "display_data"
    },
    {
     "data": {
      "text/plain": [
       "(178, 12)"
      ]
     },
     "metadata": {},
     "output_type": "display_data"
    }
   ],
   "source": [
    "wines = load_wine()\n",
    "all_features = pd.DataFrame(scale(wines['data']), columns = wines['feature_names'])\n",
    "target = pd.DataFrame(all_features['alcohol'])\n",
    "features = all_features.drop('alcohol',axis=1)\n",
    "\n",
    "# Create arrays for the features and the response variable\n",
    "y = target.values.reshape(-1)\n",
    "X = features.values\n",
    "\n",
    "display(y.shape, X.shape)\n",
    "\n",
    "X_train, X_test, y_train, y_test = train_test_split(X, y,\n",
    "                                                    test_size=0.35,\n",
    "                                                    shuffle=False,\n",
    "                                                    random_state=21)"
   ]
  },
  {
   "cell_type": "code",
   "execution_count": 45,
   "id": "f4215f8b",
   "metadata": {},
   "outputs": [
    {
     "name": "stdout",
     "output_type": "stream",
     "text": [
      "R^2 in training set: 0.701012419155766\n",
      "R^2 in test set: -0.12787423372986906\n",
      "Root Mean Squared Error: 0.9112767006916885\n"
     ]
    }
   ],
   "source": [
    "# Create the regressor: reg\n",
    "reg = LinearRegression()\n",
    "\n",
    "# Fit the model to the data\n",
    "reg.fit(X_train,y_train)\n",
    "\n",
    "# Compute predictions over the prediction space: y_pred\n",
    "y_pred = reg.predict(X_test)\n",
    "\n",
    "# Print R^2 \n",
    "print(\"R^2 in training set:\", reg.score(X_train, y_train))\n",
    "\n",
    "\n",
    "# Compute and print R^2 and RMSE\n",
    "print(\"R^2 in test set: {}\".format(reg.score(X_test, y_test)))\n",
    "rmse = np.sqrt(mean_squared_error(y_test,y_pred))\n",
    "print(\"Root Mean Squared Error: {}\".format(rmse))"
   ]
  },
  {
   "cell_type": "code",
   "execution_count": 46,
   "id": "d7e43807",
   "metadata": {},
   "outputs": [],
   "source": [
    "# For a single feature you can use the following plot:\n",
    "\n",
    "# Create the prediction space\n",
    "# prediction_space = np.linspace(min(X), max(X)).reshape(1,-1)\n",
    "\n",
    "# Plot regression line\n",
    "# plt.plot(prediction_space, y_pred, color='black', linewidth=3)\n",
    "# plt.show()"
   ]
  },
  {
   "cell_type": "markdown",
   "id": "93f43b05",
   "metadata": {},
   "source": [
    "#### k-fold cross validation\n",
    "\n",
    " - R^2 is dependent on the way the data is split\n",
    " - Not representative of the model's ability to generalise\n",
    " - Cross validation splits multiple times the original data set to different sets (folds) of training and test sets\n",
    " - Each fold has a different test and training sample than the other folds\n",
    " - You can compute the R^2 on each fold and then calculate their mean or 95% confidence intervals\n",
    " - Cross validation maximizes the amount of data that is used to train the model, as during the course of training, the model is not only trained, but also tested on all of the available data\n",
    " - More folds = more computations"
   ]
  },
  {
   "cell_type": "code",
   "execution_count": 48,
   "id": "7d3c6605",
   "metadata": {},
   "outputs": [
    {
     "name": "stdout",
     "output_type": "stream",
     "text": [
      "[-0.51847929  0.40456596 -0.73716381 -0.46995099 -0.47213708]\n",
      "Average 5-Fold CV Score: -0.35863304352666964\n"
     ]
    }
   ],
   "source": [
    "# Create a linear regression object: reg\n",
    "reg = LinearRegression()\n",
    "\n",
    "# Compute 5-fold cross-validation scores: cv_scores\n",
    "cv_scores = cross_val_score(reg,X,y,cv=5)\n",
    "\n",
    "# Print the 5-fold cross-validation scores\n",
    "print(cv_scores)\n",
    "\n",
    "print(\"Average 5-Fold CV Score: {}\".format(np.mean(cv_scores)))"
   ]
  },
  {
   "cell_type": "code",
   "execution_count": 62,
   "id": "524f1135",
   "metadata": {},
   "outputs": [
    {
     "name": "stdout",
     "output_type": "stream",
     "text": [
      "CPU times: user 5 µs, sys: 1 µs, total: 6 µs\n",
      "Wall time: 11.2 µs\n",
      "-3.4277194749086246\n"
     ]
    }
   ],
   "source": [
    "%time\n",
    "# Perform 3-fold CV\n",
    "cvscores_3 = cross_val_score(reg, X, y, cv=3)\n",
    "print(np.mean(cvscores_3))"
   ]
  },
  {
   "cell_type": "code",
   "execution_count": 63,
   "id": "19ca29cc",
   "metadata": {},
   "outputs": [
    {
     "name": "stdout",
     "output_type": "stream",
     "text": [
      "CPU times: user 6 µs, sys: 1e+03 ns, total: 7 µs\n",
      "Wall time: 12.9 µs\n",
      "-0.5146297435482603\n"
     ]
    }
   ],
   "source": [
    "%time\n",
    "# Perform 10-fold CV\n",
    "cvscores_10 = cross_val_score(reg, X, y, cv=10)\n",
    "print(np.mean(cvscores_10))"
   ]
  },
  {
   "cell_type": "markdown",
   "id": "bb34dea4",
   "metadata": {},
   "source": [
    "#### Regularization\n",
    "\n",
    " - The linear regression estimates feature coefficients through minimizing a loss function\n",
    " - Large coefficients can lead to overfitting\n",
    " - Regularizations penalizes larger coefficients\n",
    "\n",
    "#### Ridge regression\n",
    "\n",
    " - Loss function = OLS + a * Σ(b_i)^2, where b_i = coefficient for variable i\n",
    " - The second argument penalizes large (positive or negative) coefficients\n",
    " - The alpha (or lamda) is a hyperparameter that you must choose (similar to k in kNN)\n",
    " - if alpha = 0, then the regression is OLS\n",
    " - Very high alpha can lead to underfitting the data\n",
    "\n",
    "#### Lasso regresssion\n",
    "\n",
    " - Loss function = OLS + a * Σ|b_i| where b_i = coefficient for variable i\n",
    " - Can be used to select important features of a dataset\n",
    " - It shrinks the coefficients of less important features to 0"
   ]
  },
  {
   "cell_type": "code",
   "execution_count": 65,
   "id": "cd77a86a",
   "metadata": {},
   "outputs": [
    {
     "name": "stdout",
     "output_type": "stream",
     "text": [
      "[ 0.  0. -0.  0.  0.  0. -0.  0.  0. -0.  0.  0.]\n"
     ]
    },
    {
     "data": {
      "image/png": "[encoded data removed]",
      "text/plain": [
       "<Figure size 432x288 with 1 Axes>"
      ]
     },
     "metadata": {
      "needs_background": "light"
     },
     "output_type": "display_data"
    }
   ],
   "source": [
    "# Import Lasso\n",
    "from sklearn.linear_model import Lasso\n",
    "\n",
    "# Instantiate a lasso regressor: lasso\n",
    "lasso = Lasso(alpha=0.4,normalize=True)\n",
    "\n",
    "# Fit the regressor to the data\n",
    "lasso.fit(X, y)\n",
    "\n",
    "# Compute and print the coefficients\n",
    "lasso_coef = lasso.coef_\n",
    "print(lasso_coef)\n",
    "\n",
    "# Plot the coefficients\n",
    "plt.plot(range(len(features.columns)), lasso_coef)\n",
    "plt.xticks(range(len(features.columns)), features.columns, rotation=60)\n",
    "plt.margins(0.02)\n",
    "plt.show()\n"
   ]
  },
  {
   "cell_type": "markdown",
   "id": "570261d0",
   "metadata": {},
   "source": [
    "#### Lasso vs Ridge\n",
    "\n",
    "Lasso is great for feature selection, but when building regression models, Ridge regression should be your first choice.\n",
    "\n",
    "Recall that lasso performs regularization by adding to the loss function a penalty term of the absolute value of each coefficient multiplied by some alpha. This is also known as L1 regularization because the regularization term is the L1 norm of the coefficients. This is not the only way to regularize, however.\n",
    "\n",
    "If instead you took the sum of the squared values of the coefficients multiplied by some alpha - like in Ridge regression - you would be computing the L2 norm. "
   ]
  },
  {
   "cell_type": "code",
   "execution_count": 68,
   "id": "936cfdec",
   "metadata": {},
   "outputs": [],
   "source": [
    "def display_plot(cv_scores, cv_scores_std):\n",
    "    fig = plt.figure(figsize=(12,8))\n",
    "    ax = fig.add_subplot(1,1,1)\n",
    "    ax.plot(alpha_space, cv_scores)\n",
    "\n",
    "    std_error = cv_scores_std / np.sqrt(10)\n",
    "\n",
    "    ax.fill_between(alpha_space, cv_scores + std_error, cv_scores - std_error, alpha=0.2)\n",
    "    ax.set_ylabel('CV Score +/- Std Error')\n",
    "    ax.set_xlabel('Alpha')\n",
    "    ax.axhline(np.max(cv_scores), linestyle='--', color='.5')\n",
    "    ax.set_xlim([alpha_space[0], alpha_space[-1]])\n",
    "    ax.set_xscale('log')\n",
    "    plt.show()"
   ]
  },
  {
   "cell_type": "code",
   "execution_count": 69,
   "id": "c8d9e198",
   "metadata": {},
   "outputs": [
    {
     "data": {
      "image/png": "[encoded data removed]",
      "text/plain": [
       "<Figure size 864x576 with 1 Axes>"
      ]
     },
     "metadata": {
      "needs_background": "light"
     },
     "output_type": "display_data"
    }
   ],
   "source": [
    "# Import necessary modules\n",
    "from sklearn.linear_model import Ridge\n",
    "\n",
    "# Setup the array of alphas and lists to store scores\n",
    "alpha_space = np.logspace(-4, 0, 50)\n",
    "ridge_scores = []\n",
    "ridge_scores_std = []\n",
    "\n",
    "# Create a ridge regressor: ridge\n",
    "ridge = Ridge(normalize=True)\n",
    "\n",
    "# Compute scores over range of alphas\n",
    "for alpha in alpha_space:\n",
    "\n",
    "    # Specify the alpha value to use: ridge.alpha\n",
    "    ridge.alpha = alpha\n",
    "    \n",
    "    # Perform 10-fold CV: ridge_cv_scores\n",
    "    ridge_cv_scores = cross_val_score(ridge, X, y, cv=10)\n",
    "    \n",
    "    # Append the mean of ridge_cv_scores to ridge_scores\n",
    "    ridge_scores.append(np.mean(ridge_cv_scores))\n",
    "    \n",
    "    # Append the std of ridge_cv_scores to ridge_scores_std\n",
    "    ridge_scores_std.append(np.std(ridge_cv_scores))\n",
    "\n",
    "# Display the plot\n",
    "display_plot(ridge_scores, ridge_scores_std)\n"
   ]
  },
  {
   "cell_type": "code",
   "execution_count": null,
   "id": "5aaf6142",
   "metadata": {},
   "outputs": [],
   "source": []
  }
 ],
 "metadata": {
  "kernelspec": {
   "display_name": "Python 3",
   "language": "python",
   "name": "python3"
  },
  "language_info": {
   "codemirror_mode": {
    "name": "ipython",
    "version": 3
   },
   "file_extension": ".py",
   "mimetype": "text/x-python",
   "name": "python",
   "nbconvert_exporter": "python",
   "pygments_lexer": "ipython3",
   "version": "3.8.8"
  }
 },
 "nbformat": 4,
 "nbformat_minor": 5
}
