{
 "cells": [
  {
   "cell_type": "markdown",
   "id": "04b49da5",
   "metadata": {},
   "source": [
    "### Performance evaluation\n",
    "\n",
    " - Accuracy = fraction of correctly classified samples but not always a useful metric\n",
    " - Highly dependent on classes distribution ( a case of class imbalance, if 99% of the data is class A and 1% class B, a classifier predicting all data as class A would be highly accurate, but would not generalize well)\n",
    " - Confusion matrix: summarizes performance\n",
    " - Example\n",
    "     - The class of interest is the \"positive\" class (what you are trying to predict, this case spam)\n",
    "     - True positive: number of spams correctly labeled\n",
    "     - True negative: number of real emails correctly labeled\n",
    "     - False positive: number of real emails incorrectly classified as spams\n",
    "     - False negative: number of spam emails incorrectly classified as real\n",
    "\n",
    "<img src=\"ml_assets/conf_matrix.png\" style=\"width: 500px;\"/>\n",
    "\n",
    " - Accuracy is the sum of the diagonal (tp+tf) / sum of the matrix\n",
    " \n",
    " - Other metrics:\n",
    "     - Precision = tp / tp + fp, also called positive predicted value (ppv)\n",
    "             - emails correctly classified as spam / total emails classified as spam\n",
    "             - high precision means low false positive rate, not many real emails are classified as spam\n",
    "     - Recall = tp / tp + fn, also called sensitivity, hit rate or true positive rate\n",
    "             - emails correctly classified as spam / total spam emails\n",
    "             - high recall means not many spam emails are classified as real, most spams are classified as spams\n",
    "     - F1 score = 2 * precision * recall / precision + recall\n",
    "             - harmonic mean of precision and recall"
   ]
  },
  {
   "cell_type": "code",
   "execution_count": 7,
   "id": "ecce7bde",
   "metadata": {},
   "outputs": [],
   "source": [
    "import pandas as pd\n",
    "import seaborn as sns\n",
    "import matplotlib.pyplot as plt\n",
    "from sklearn.datasets import load_wine\n",
    "\n",
    "# Import KNeighborsClassifier from sklearn.neighbors\n",
    "from sklearn.neighbors import KNeighborsClassifier\n",
    "from sklearn.model_selection import train_test_split\n",
    "from sklearn.preprocessing import scale\n",
    "\n",
    "# Import necessary modules\n",
    "from sklearn.metrics import classification_report\n",
    "from sklearn.metrics import confusion_matrix"
   ]
  },
  {
   "cell_type": "code",
   "execution_count": 8,
   "id": "59356e3d",
   "metadata": {},
   "outputs": [
    {
     "data": {
      "text/plain": [
       "(178, 13)"
      ]
     },
     "execution_count": 8,
     "metadata": {},
     "output_type": "execute_result"
    }
   ],
   "source": [
    "wines = load_wine()\n",
    "features = pd.DataFrame(scale(wines['data']), columns = wines['feature_names'])\n",
    "features.shape"
   ]
  },
  {
   "cell_type": "code",
   "execution_count": 9,
   "id": "e7c31478",
   "metadata": {},
   "outputs": [
    {
     "data": {
      "text/plain": [
       "(178, 1)"
      ]
     },
     "execution_count": 9,
     "metadata": {},
     "output_type": "execute_result"
    }
   ],
   "source": [
    "target = pd.DataFrame(wines['target'], columns=['Type'])\n",
    "target.shape"
   ]
  },
  {
   "cell_type": "code",
   "execution_count": 10,
   "id": "2107f367",
   "metadata": {},
   "outputs": [
    {
     "data": {
      "text/plain": [
       "(178, 14)"
      ]
     },
     "execution_count": 10,
     "metadata": {},
     "output_type": "execute_result"
    }
   ],
   "source": [
    "df = pd.concat([target,features],axis=1)\n",
    "df.shape"
   ]
  },
  {
   "cell_type": "code",
   "execution_count": 11,
   "id": "5b3d6d86",
   "metadata": {
    "scrolled": true
   },
   "outputs": [],
   "source": [
    "# Create arrays for the features and the response variable\n",
    "y = target.values.reshape(-1)\n",
    "X = features.values"
   ]
  },
  {
   "cell_type": "code",
   "execution_count": 12,
   "id": "84336712",
   "metadata": {},
   "outputs": [
    {
     "name": "stdout",
     "output_type": "stream",
     "text": [
      "[[26  0  0]\n",
      " [ 5 22  0]\n",
      " [ 0  0 19]]\n",
      "              precision    recall  f1-score   support\n",
      "\n",
      "           0       0.84      1.00      0.91        26\n",
      "           1       1.00      0.81      0.90        27\n",
      "           2       1.00      1.00      1.00        19\n",
      "\n",
      "    accuracy                           0.93        72\n",
      "   macro avg       0.95      0.94      0.94        72\n",
      "weighted avg       0.94      0.93      0.93        72\n",
      "\n"
     ]
    }
   ],
   "source": [
    "# Create training and test set\n",
    "X_train, X_test, y_train, y_test = train_test_split(X, y, test_size = 0.4, random_state=42)\n",
    "\n",
    "# Instantiate a k-NN classifier: knn\n",
    "knn = KNeighborsClassifier(n_neighbors=6)\n",
    "\n",
    "# Fit the classifier to the training data\n",
    "knn.fit(X_train, y_train)\n",
    "\n",
    "# Predict the labels of the test data: y_pred\n",
    "y_pred = knn.predict(X_test)\n",
    "\n",
    "# Generate the confusion matrix and classification report\n",
    "print(confusion_matrix(y_test, y_pred))\n",
    "print(classification_report(y_test, y_pred))\n"
   ]
  },
  {
   "cell_type": "markdown",
   "id": "3279f2d3",
   "metadata": {},
   "source": [
    "Model validation"
   ]
  },
  {
   "cell_type": "code",
   "execution_count": null,
   "id": "2c5f7869",
   "metadata": {},
   "outputs": [],
   "source": []
  },
  {
   "cell_type": "code",
   "execution_count": null,
   "id": "aea8268d",
   "metadata": {},
   "outputs": [],
   "source": []
  },
  {
   "cell_type": "markdown",
   "id": "69f8471c",
   "metadata": {},
   "source": [
    "Hyperparameter tuning"
   ]
  },
  {
   "cell_type": "code",
   "execution_count": null,
   "id": "aad3bf41",
   "metadata": {},
   "outputs": [],
   "source": []
  },
  {
   "cell_type": "code",
   "execution_count": null,
   "id": "f87767ca",
   "metadata": {},
   "outputs": [],
   "source": []
  }
 ],
 "metadata": {
  "kernelspec": {
   "display_name": "Python 3",
   "language": "python",
   "name": "python3"
  },
  "language_info": {
   "codemirror_mode": {
    "name": "ipython",
    "version": 3
   },
   "file_extension": ".py",
   "mimetype": "text/x-python",
   "name": "python",
   "nbconvert_exporter": "python",
   "pygments_lexer": "ipython3",
   "version": "3.8.8"
  },
  "vscode": {
   "interpreter": {
    "hash": "882fd536bdd77ffc31cc93c3daeb542553cacf6eeeeeeae9c094b8b1dd907755"
   }
  }
 },
 "nbformat": 4,
 "nbformat_minor": 5
}
