{
 "cells": [
  {
   "cell_type": "markdown",
   "id": "2c39fd67",
   "metadata": {},
   "source": [
    "#### Time series analysis"
   ]
  },
  {
   "cell_type": "code",
   "execution_count": null,
   "id": "e44a776b",
   "metadata": {},
   "outputs": [],
   "source": []
  }
 ],
 "metadata": {
  "kernelspec": {
   "display_name": "Python 3",
   "language": "python",
   "name": "python3"
  },
  "language_info": {
   "codemirror_mode": {
    "name": "ipython",
    "version": 3
   },
   "file_extension": ".py",
   "mimetype": "text/x-python",
   "name": "python",
   "nbconvert_exporter": "python",
   "pygments_lexer": "ipython3",
   "version": "3.8.8"
  },
  "vscode": {
   "interpreter": {
    "hash": "882fd536bdd77ffc31cc93c3daeb542553cacf6eeeeeeae9c094b8b1dd907755"
   }
  }
 },
 "nbformat": 4,
 "nbformat_minor": 5
}
