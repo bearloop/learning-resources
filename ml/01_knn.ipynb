{
 "cells": [
  {
   "cell_type": "markdown",
   "id": "798e39a9",
   "metadata": {},
   "source": [
    "### k-nearest neighbors\n",
    "\n",
    " - a supervised learning algorithm\n",
    " - Intuition: predict the label of a data point by looking at its closest k labeled data points, then take a \"majority vote\" to determine what label the unlabeled data point should have\n",
    " - Can be used for classification (where the outcome is a class) or regression (where the outcome is a value, e.g. the average of the nearest k data points' values)\n",
    " - It relies on calculating the distance between data points so features must be normalised and not have vastly different physical units/scales\n",
    "      - Scaling options include: min-max, standardisation, median-MAD, mapping to an arbitrary function such sigmoid or tahn\n",
    " - The kNN algorithm creates decision boundaries on the data, so data points within the a boundary are of the same class\n",
    " - A larger k would result in a much smoother decision boundary (i.e. better ability to generalise to new data) and a less complex model. In contrast, a smaller k would result in a much curvier decision boundary (i.e. better ability to classify the existing data correctly) but is prone to overfitting due to noise in the data (so less capable of classifying new data correctly)\n",
    " - Usually there will be a k that is optimal in the sense that it does well both in the training and the testing set, avoiding over and under fitting\n",
    " - Learn more: https://en.wikipedia.org/wiki/K-nearest_neighbors_algorithm"
   ]
  },
  {
   "cell_type": "code",
   "execution_count": 11,
   "id": "e967f29a",
   "metadata": {},
   "outputs": [],
   "source": [
    "import pandas as pd\n",
    "import seaborn as sns\n",
    "import matplotlib.pyplot as plt\n",
    "from sklearn.datasets import load_wine\n",
    "\n",
    "# Import KNeighborsClassifier from sklearn.neighbors\n",
    "from sklearn.neighbors import KNeighborsClassifier, KNeighborsRegressor\n",
    "from sklearn.model_selection import train_test_split\n",
    "from sklearn.preprocessing import scale\n"
   ]
  },
  {
   "cell_type": "code",
   "execution_count": 14,
   "id": "59356e3d",
   "metadata": {},
   "outputs": [
    {
     "data": {
      "text/plain": [
       "(178, 13)"
      ]
     },
     "execution_count": 14,
     "metadata": {},
     "output_type": "execute_result"
    }
   ],
   "source": [
    "wines = load_wine()\n",
    "features = pd.DataFrame(scale(wines['data']), columns = wines['feature_names'])\n",
    "features.shape"
   ]
  },
  {
   "cell_type": "code",
   "execution_count": 15,
   "id": "e7c31478",
   "metadata": {},
   "outputs": [
    {
     "data": {
      "text/plain": [
       "(178, 1)"
      ]
     },
     "execution_count": 15,
     "metadata": {},
     "output_type": "execute_result"
    }
   ],
   "source": [
    "target = pd.DataFrame(wines['target'], columns=['Type'])\n",
    "target.shape"
   ]
  },
  {
   "cell_type": "code",
   "execution_count": 16,
   "id": "2107f367",
   "metadata": {},
   "outputs": [
    {
     "data": {
      "text/plain": [
       "(178, 14)"
      ]
     },
     "execution_count": 16,
     "metadata": {},
     "output_type": "execute_result"
    }
   ],
   "source": [
    "df = pd.concat([target,features],axis=1)\n",
    "df.shape"
   ]
  },
  {
   "cell_type": "code",
   "execution_count": 17,
   "id": "5b3d6d86",
   "metadata": {
    "scrolled": true
   },
   "outputs": [],
   "source": [
    "# Create arrays for the features and the response variable\n",
    "y = target.values.reshape(-1)\n",
    "X = features.values\n",
    "\n",
    "# Create X_new for prediction\n",
    "X_new = pd.DataFrame(data=[12,2,3,12,140,3,2,0.2,2,3,4,1,3],index=df.iloc[0,1:].index)\n",
    "\n",
    "# display(y)\n",
    "# display(X)\n",
    "# display(X_new.values.reshape(1,-1))"
   ]
  },
  {
   "cell_type": "code",
   "execution_count": 7,
   "id": "42bf7e1c",
   "metadata": {},
   "outputs": [
    {
     "name": "stdout",
     "output_type": "stream",
     "text": [
      "Prediction: [1]\n"
     ]
    }
   ],
   "source": [
    "# Create a k-NN classifier with 6 neighbors\n",
    "knn = KNeighborsClassifier(n_neighbors=6,)\n",
    "\n",
    "# Fit the classifier to the data\n",
    "knn.fit(X,y)\n",
    "\n",
    "# Predict the labels for the training data X\n",
    "y_pred = knn.predict(X)\n",
    "\n",
    "# Predict and print the label for the new data point X_new\n",
    "\n",
    "new_prediction = knn.predict(X_new.values.reshape(1,-1))\n",
    "print(\"Prediction: {}\".format(new_prediction))\n"
   ]
  },
  {
   "cell_type": "markdown",
   "id": "bf9d5a35",
   "metadata": {},
   "source": [
    "#### Creating training and testing sets\n",
    "   \n",
    "   - stratify = performs a split that best reflects the labels on your data if you use the target array (i.e. the labels should be distributed in train and tests sets as they are in the original data)\n",
    "   - random_state = a seed that you can use later to reproduce the exact same split\n",
    "\n",
    "\n",
    "#### Accuracy\n",
    "   - it's the fraction of correct predictions, true positive / total number of data points\n",
    "   - accuracy would be 100% if you set k = 1 and computed it against the training set\n",
    "   - the accuracy of the fitted model should be computed on new data (i.e. the test set)"
   ]
  },
  {
   "cell_type": "code",
   "execution_count": 8,
   "id": "69152c7a",
   "metadata": {},
   "outputs": [],
   "source": [
    "X_train, X_test, y_train, y_test = train_test_split(X, y, test_size=0.3, random_state=42, stratify=y)\n",
    "\n",
    "knn = KNeighborsClassifier(n_neighbors=7)\n",
    "knn.fit(X_train,y_train)\n",
    "y_pred = knn.predict(X_test)"
   ]
  },
  {
   "cell_type": "code",
   "execution_count": 9,
   "id": "ed0d4ae1",
   "metadata": {
    "scrolled": true
   },
   "outputs": [
    {
     "name": "stdout",
     "output_type": "stream",
     "text": [
      "Help on method score in module sklearn.base:\n",
      "\n",
      "score(X, y, sample_weight=None) method of sklearn.neighbors._classification.KNeighborsClassifier instance\n",
      "    Return the mean accuracy on the given test data and labels.\n",
      "    \n",
      "    In multi-label classification, this is the subset accuracy\n",
      "    which is a harsh metric since you require for each sample that\n",
      "    each label set be correctly predicted.\n",
      "    \n",
      "    Parameters\n",
      "    ----------\n",
      "    X : array-like of shape (n_samples, n_features)\n",
      "        Test samples.\n",
      "    \n",
      "    y : array-like of shape (n_samples,) or (n_samples, n_outputs)\n",
      "        True labels for `X`.\n",
      "    \n",
      "    sample_weight : array-like of shape (n_samples,), default=None\n",
      "        Sample weights.\n",
      "    \n",
      "    Returns\n",
      "    -------\n",
      "    score : float\n",
      "        Mean accuracy of ``self.predict(X)`` wrt. `y`.\n",
      "\n"
     ]
    }
   ],
   "source": [
    "help(knn.score)"
   ]
  },
  {
   "cell_type": "code",
   "execution_count": 10,
   "id": "7fb0a943",
   "metadata": {},
   "outputs": [
    {
     "name": "stdout",
     "output_type": "stream",
     "text": [
      "0.7407407407407407\n"
     ]
    }
   ],
   "source": [
    "# Print the accuracy\n",
    "print(knn.score(X_test,y_test))"
   ]
  },
  {
   "cell_type": "code",
   "execution_count": 11,
   "id": "3a562ced",
   "metadata": {},
   "outputs": [],
   "source": [
    "plot_df = pd.DataFrame([y_pred,y_test],index=['Prediction','Class']).T"
   ]
  },
  {
   "cell_type": "code",
   "execution_count": 12,
   "id": "9b3ef75f",
   "metadata": {},
   "outputs": [
    {
     "data": {
      "image/png": "[encoded data removed]",
      "text/plain": [
       "<Figure size 432x288 with 1 Axes>"
      ]
     },
     "metadata": {
      "needs_background": "light"
     },
     "output_type": "display_data"
    }
   ],
   "source": [
    "plt.figure()\n",
    "sns.countplot(x='Class', hue='Prediction', data=plot_df, palette='RdBu')\n",
    "plt.xticks([0,1,2], ['class_0', 'class_1', 'class_2'])\n",
    "plt.show()"
   ]
  },
  {
   "cell_type": "markdown",
   "id": "09356345",
   "metadata": {},
   "source": [
    "### Regression - predict alcohol level in wine"
   ]
  },
  {
   "cell_type": "code",
   "execution_count": 49,
   "id": "d1f4810f",
   "metadata": {
    "scrolled": true
   },
   "outputs": [],
   "source": [
    "all_features = pd.DataFrame(scale(wines['data']), columns = wines['feature_names'])\n",
    "target = pd.DataFrame(all_features['alcohol'])\n",
    "features = all_features.drop('alcohol',axis=1)\n",
    "\n",
    "# Create arrays for the features and the response variable\n",
    "y = target.values.reshape(-1)\n",
    "X = features.values\n",
    "\n",
    "X_train, X_test, y_train, y_test = train_test_split(X, y,\n",
    "                                                    test_size=0.35,\n",
    "                                                    random_state=21)\n",
    "\n"
   ]
  },
  {
   "cell_type": "code",
   "execution_count": 52,
   "id": "c4c11f40",
   "metadata": {
    "scrolled": true
   },
   "outputs": [
    {
     "name": "stdout",
     "output_type": "stream",
     "text": [
      "n_neighbors = 2\n",
      "train, test scores\n",
      "0.8521584027126278\n",
      "0.47718997110682115 \n",
      "\n",
      "n_neighbors = 3\n",
      "train, test scores\n",
      "0.7477703923487495\n",
      "0.5329481038214019 \n",
      "\n",
      "n_neighbors = 4\n",
      "train, test scores\n",
      "0.7032524633190038\n",
      "0.55308596844677 \n",
      "\n",
      "n_neighbors = 5\n",
      "train, test scores\n",
      "0.6435093130972963\n",
      "0.5347111979839354 \n",
      "\n",
      "n_neighbors = 6\n",
      "train, test scores\n",
      "0.6589916988265845\n",
      "0.522180134185967 \n",
      "\n",
      "n_neighbors = 7\n",
      "train, test scores\n",
      "0.6430226004226277\n",
      "0.5245796834122953 \n",
      "\n",
      "n_neighbors = 8\n",
      "train, test scores\n",
      "0.6341768974391657\n",
      "0.5496984196232919 \n",
      "\n",
      "n_neighbors = 9\n",
      "train, test scores\n",
      "0.6341732067116652\n",
      "0.5444656365178417 \n",
      "\n",
      "n_neighbors = 10\n",
      "train, test scores\n",
      "0.6188644113843893\n",
      "0.5560124091429872 \n",
      "\n",
      "n_neighbors = 11\n",
      "train, test scores\n",
      "0.5943331263709977\n",
      "0.566407807173825 \n",
      "\n",
      "n_neighbors = 12\n",
      "train, test scores\n",
      "0.5796613507987587\n",
      "0.5681924845252633 \n",
      "\n",
      "n_neighbors = 13\n",
      "train, test scores\n",
      "0.5819099125326768\n",
      "0.5702353293617157 \n",
      "\n",
      "n_neighbors = 14\n",
      "train, test scores\n",
      "0.5732545811733645\n",
      "0.5604728189726271 \n",
      "\n",
      "n_neighbors = 15\n",
      "train, test scores\n",
      "0.5669272169469616\n",
      "0.5773878183935011 \n",
      "\n",
      "n_neighbors = 16\n",
      "train, test scores\n",
      "0.5617212258642859\n",
      "0.5827249200677763 \n",
      "\n",
      "n_neighbors = 17\n",
      "train, test scores\n",
      "0.5484966157246896\n",
      "0.582731642865413 \n",
      "\n",
      "n_neighbors = 18\n",
      "train, test scores\n",
      "0.5382741147752519\n",
      "0.5828091651086962 \n",
      "\n",
      "n_neighbors = 19\n",
      "train, test scores\n",
      "0.5303690566904726\n",
      "0.5824439598903899 \n",
      "\n",
      "n_neighbors = 20\n",
      "train, test scores\n",
      "0.5174794084681755\n",
      "0.5852174689871847 \n",
      "\n"
     ]
    }
   ],
   "source": [
    "for n in range(2, 21):\n",
    "    # Create and fit the KNN model\n",
    "    knn = KNeighborsRegressor(n_neighbors=n)\n",
    "    \n",
    "    # Fit the model to the training data\n",
    "    knn.fit(X_train,y_train)\n",
    "    \n",
    "    # Print number of neighbors and the score to find the best value of n\n",
    "    print(\"n_neighbors =\", n)\n",
    "    print('train, test scores')\n",
    "    print(knn.score(X_train, y_train))\n",
    "    print(knn.score(X_test, y_test),\"\\n\")"
   ]
  },
  {
   "cell_type": "code",
   "execution_count": 54,
   "id": "2a586c30",
   "metadata": {},
   "outputs": [
    {
     "data": {
      "image/png": "[encoded data removed]",
      "text/plain": [
       "<Figure size 720x576 with 1 Axes>"
      ]
     },
     "metadata": {
      "needs_background": "light"
     },
     "output_type": "display_data"
    }
   ],
   "source": [
    "# Create the model with the best-performing n_neighbors\n",
    "knn = KNeighborsRegressor(n_neighbors=10)\n",
    "\n",
    "# Fit the model\n",
    "knn.fit(X_train, y_train)\n",
    "\n",
    "# Get predictions for train and test sets\n",
    "train_predictions = knn.predict(X_train)\n",
    "test_predictions = knn.predict(X_test)\n",
    "\n",
    "# Plot the actual vs predicted values\n",
    "plt.figure(figsize=(10,8))\n",
    "plt.scatter(train_predictions, y_train, label='train')\n",
    "plt.scatter(test_predictions, y_test, label='test')\n",
    "plt.legend()\n",
    "plt.show()"
   ]
  },
  {
   "cell_type": "code",
   "execution_count": null,
   "id": "f4215f8b",
   "metadata": {},
   "outputs": [],
   "source": []
  }
 ],
 "metadata": {
  "kernelspec": {
   "display_name": "Python 3",
   "language": "python",
   "name": "python3"
  },
  "language_info": {
   "codemirror_mode": {
    "name": "ipython",
    "version": 3
   },
   "file_extension": ".py",
   "mimetype": "text/x-python",
   "name": "python",
   "nbconvert_exporter": "python",
   "pygments_lexer": "ipython3",
   "version": "3.8.8"
  }
 },
 "nbformat": 4,
 "nbformat_minor": 5
}
