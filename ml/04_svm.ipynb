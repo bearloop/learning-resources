{
 "cells": [
  {
   "cell_type": "markdown",
   "id": "d9467662",
   "metadata": {},
   "source": [
    "### Support Vector Machines\n",
    "\n",
    " - Linear classifiers that use the hinge loss function\n",
    " - Trained using the hinge loss and L2 regularization\n",
    " - For hinge loss the observations that fall into the \"flat\" line space do not contribute to the loss (removing them would not change the fit)\n",
    " - Support vectors are defined as training examples that influence the decision boundary\n",
    " - Here all incorrectly classified points are support vectors\n",
    "<img src=\"ml_assets/svm.png\" style=\"width: 500px;\"/>\n",
    "\n"
   ]
  },
  {
   "cell_type": "code",
   "execution_count": null,
   "id": "38779672",
   "metadata": {},
   "outputs": [],
   "source": []
  }
 ],
 "metadata": {
  "kernelspec": {
   "display_name": "Python 3",
   "language": "python",
   "name": "python3"
  },
  "language_info": {
   "codemirror_mode": {
    "name": "ipython",
    "version": 3
   },
   "file_extension": ".py",
   "mimetype": "text/x-python",
   "name": "python",
   "nbconvert_exporter": "python",
   "pygments_lexer": "ipython3",
   "version": "3.8.8"
  }
 },
 "nbformat": 4,
 "nbformat_minor": 5
}
