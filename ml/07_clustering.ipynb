{
 "cells": [
  {
   "cell_type": "markdown",
   "id": "c5c53bcb",
   "metadata": {},
   "source": [
    "### K-means clustering\n",
    "\n",
    " - An unsuperivsed algorithm\n",
    " - Very useful when you ignore the number of \"true\" clusters in the data (so when you're dealing with \"unlabeled\" data)\n",
    " - K-means partitions n observations into k clusters in which each observation belongs to the cluster with the nearest mean (cluster centers or cluster centroid)\n",
    " - Cluster evaluation:\n",
    "     - The inertia attribute measures how spread out the clusters are\n",
    "     - How spread out the samples within each cluster are\n",
    "     - Intuition: measure the distance of each sample from the cluster's centroid\n",
    "     - Clusters should not be far spread out so low intertia values are better\n",
    "     - k-means attempts to minimize inertia when choosing clusters\n",
    " - More clusters give lower inertia, but inertia decreases more slowly with the number of clusters\n",
    " - So good clustering has tight but not too many clusters\n",
    " - Rule of thumb: select the number of clusters that corresponds to the \"elbow\" in the inertia plot (this is where the rate of inertia decrease is significantly lower than the previous cluster/inertia combination)\n",
    " - In K-means clustering, the variance of a feature corresponds to its influence on the clustering algorithm, so you must first scale your data (transform so that the features have equal variance\n",
    " - Learn more: https://en.wikipedia.org/wiki/K-means_clustering"
   ]
  },
  {
   "cell_type": "code",
   "execution_count": 57,
   "id": "fbcddfd8",
   "metadata": {},
   "outputs": [],
   "source": [
    "import pandas as pd\n",
    "import seaborn as sns\n",
    "import matplotlib.pyplot as plt\n",
    "from sklearn.datasets import load_wine\n",
    "\n",
    "from sklearn.pipeline import make_pipeline\n",
    "from sklearn.preprocessing import StandardScaler\n",
    "from sklearn.cluster import KMeans"
   ]
  },
  {
   "cell_type": "code",
   "execution_count": 58,
   "id": "66428982",
   "metadata": {},
   "outputs": [
    {
     "data": {
      "text/plain": [
       "(178, 14)"
      ]
     },
     "execution_count": 58,
     "metadata": {},
     "output_type": "execute_result"
    }
   ],
   "source": [
    "wines = load_wine()\n",
    "features = pd.DataFrame(wines['data'], columns = wines['feature_names'])\n",
    "\n",
    "target = pd.DataFrame(wines['target'], columns=['type'])\n",
    "\n",
    "df = pd.concat([target,features],axis=1)\n",
    "df.shape"
   ]
  },
  {
   "cell_type": "markdown",
   "id": "cdef2a3b",
   "metadata": {},
   "source": [
    "#### Trying out KMeans"
   ]
  },
  {
   "cell_type": "code",
   "execution_count": 87,
   "id": "3c91e03a",
   "metadata": {
    "scrolled": true
   },
   "outputs": [
    {
     "name": "stdout",
     "output_type": "stream",
     "text": [
      "varieties   0   1   2\n",
      "labels               \n",
      "0           0  65   0\n",
      "1          59   3   0\n",
      "2           0   3  48\n"
     ]
    }
   ],
   "source": [
    "# Wine varieties\n",
    "varieties = target.iloc[:,0]\n",
    "\n",
    "# Create scaler: scaler\n",
    "scaler = StandardScaler()\n",
    "\n",
    "# Create KMeans instance: kmeans\n",
    "kmeans = KMeans(n_clusters=3)\n",
    "\n",
    "# Create pipeline: pipeline\n",
    "pipeline = make_pipeline(scaler, kmeans)\n",
    "\n",
    "# Fit the pipeline to samples\n",
    "pipeline.fit(features)\n",
    "\n",
    "# Calculate the cluster labels: labels\n",
    "labels = pipeline.predict(features)\n",
    "\n",
    "# Create a DataFrame with labels and species as columns: df\n",
    "ct = pd.DataFrame({'labels': labels, 'varieties': varieties})\n",
    "\n",
    "# Create crosstab: ct\n",
    "ct_show = pd.crosstab(ct['labels'], ct['varieties'])\n",
    "\n",
    "# Display ct\n",
    "print(ct_show)\n"
   ]
  },
  {
   "cell_type": "markdown",
   "id": "5b96462c",
   "metadata": {},
   "source": [
    "#### With train-test-split"
   ]
  },
  {
   "cell_type": "code",
   "execution_count": 110,
   "id": "d30b8c3f",
   "metadata": {},
   "outputs": [],
   "source": [
    "features = pd.DataFrame(scale(wines['data']), columns = wines['feature_names'])\n",
    "\n",
    "\n",
    "X_train, X_test, y_train, y_test = train_test_split(features, target, test_size=0.3, random_state=242)"
   ]
  },
  {
   "cell_type": "code",
   "execution_count": 111,
   "id": "13e2633e",
   "metadata": {},
   "outputs": [
    {
     "name": "stdout",
     "output_type": "stream",
     "text": [
      "[0 1 2 1 2 1 0 1 0 0 1 2 0 0 1 2 0 2 0 0 2 1 0 1 1 1 0 1 2 2 0 2 0 2 2 1 1\n",
      " 1 2 2 2 1 1 2 0 2 1 2 2 1 0 0 1 2]\n"
     ]
    }
   ],
   "source": [
    "# Create a KMeans instance with 3 clusters: model\n",
    "model = KMeans(n_clusters=3)\n",
    "\n",
    "# Fit model to points\n",
    "model.fit(X_train)\n",
    "\n",
    "# Determine the cluster labels of new_points: labels\n",
    "labels = model.predict(X_test)\n",
    "\n",
    "# Print cluster labels of new_points\n",
    "print(labels)\n",
    "\n"
   ]
  },
  {
   "cell_type": "code",
   "execution_count": 117,
   "id": "40db0fbe",
   "metadata": {},
   "outputs": [
    {
     "data": {
      "text/plain": [
       "'Centroids'"
      ]
     },
     "metadata": {},
     "output_type": "display_data"
    },
    {
     "data": {
      "text/plain": [
       "(3, 13)"
      ]
     },
     "metadata": {},
     "output_type": "display_data"
    },
    {
     "data": {
      "text/plain": [
       "array([[ 0.13717456,  0.83286834,  0.2188527 ,  0.51700753, -0.11838092,\n",
       "        -0.95935351, -1.20430571,  0.75279123, -0.88053711,  0.80023961,\n",
       "        -1.06858263, -1.26220104, -0.46052709],\n",
       "       [ 0.90098006, -0.24138741,  0.30515936, -0.7457025 ,  0.5047398 ,\n",
       "         0.93047648,  0.95240029, -0.58648069,  0.50082503,  0.14820185,\n",
       "         0.42849751,  0.85034077,  1.08425272],\n",
       "       [-0.89646772, -0.3410257 , -0.75488951,  0.00618939, -0.52951904,\n",
       "        -0.10931662, -0.0133223 , -0.1725135 ,  0.07006587, -0.91372281,\n",
       "         0.57432948,  0.30929853, -0.73506584]])"
      ]
     },
     "metadata": {},
     "output_type": "display_data"
    },
    {
     "data": {
      "image/png": "[encoded data removed]",
      "text/plain": [
       "<Figure size 432x288 with 1 Axes>"
      ]
     },
     "metadata": {
      "needs_background": "light"
     },
     "output_type": "display_data"
    }
   ],
   "source": [
    "# Assign the columns of new_points: xs and ys\n",
    "\n",
    "xs = X_train.iloc[:,0]\n",
    "ys = X_train.iloc[:,1]\n",
    "labels = y_train.iloc[:,0]\n",
    "\n",
    "# Assign the cluster centers: centroids\n",
    "centroids = model.cluster_centers_\n",
    "display('Centroids', centroids.shape, centroids)\n",
    "\n",
    "# Assign the columns of centroids: centroids_x, centroids_y\n",
    "centroids_x = centroids[:,0]\n",
    "centroids_y = centroids[:,1]\n",
    "\n",
    "# Make a scatter plot of xs and ys, using labels to define the colors\n",
    "plt.scatter(xs, ys, c=labels, alpha=0.5)\n",
    "\n",
    "# Make a scatter plot of centroids_x and centroids_y\n",
    "plt.scatter(centroids_x, centroids_y, marker='D', s=50)\n",
    "plt.show()\n"
   ]
  },
  {
   "cell_type": "code",
   "execution_count": 118,
   "id": "304a14d1",
   "metadata": {},
   "outputs": [
    {
     "data": {
      "image/png": "[encoded data removed]",
      "text/plain": [
       "<Figure size 432x288 with 1 Axes>"
      ]
     },
     "metadata": {
      "needs_background": "light"
     },
     "output_type": "display_data"
    }
   ],
   "source": [
    "ks = range(1, 12)\n",
    "inertias = []\n",
    "\n",
    "for k in ks:\n",
    "    # Create a KMeans instance with k clusters: model\n",
    "    model = KMeans(n_clusters=k)\n",
    "    \n",
    "    # Fit model to samples\n",
    "    model.fit(X_train)\n",
    "    \n",
    "    # Append the inertia to the list of inertias\n",
    "    inertias.append(model.inertia_)\n",
    "    \n",
    "# Plot ks vs inertias\n",
    "plt.plot(ks, inertias, '-o')\n",
    "plt.xlabel('number of clusters, k')\n",
    "plt.ylabel('inertia')\n",
    "plt.xticks(ks)\n",
    "plt.show()\n"
   ]
  },
  {
   "cell_type": "markdown",
   "id": "83f3e9b0",
   "metadata": {},
   "source": [
    "#### Note that Normalizer() is different to StandardScaler(). While StandardScaler() standardizes features by removing the mean and scaling to unit variance, Normalizer() rescales each sample - e.g. stock prices - independently of the other."
   ]
  },
  {
   "cell_type": "markdown",
   "id": "14888b35",
   "metadata": {},
   "source": [
    "Cluster companies by their daily stock price movements - So which company stock prices tend to change in the same way?"
   ]
  },
  {
   "cell_type": "code",
   "execution_count": 166,
   "id": "7ffabd5d",
   "metadata": {},
   "outputs": [],
   "source": [
    "etfs = pd.read_csv('ml_assets/etfs.csv',index_col='Dates')\n",
    "movements = etfs.pct_change(1).dropna(axis=0).T.iloc[:,1:]"
   ]
  },
  {
   "cell_type": "code",
   "execution_count": 188,
   "id": "01d69368",
   "metadata": {},
   "outputs": [],
   "source": [
    "# Import Normalizer\n",
    "from sklearn.preprocessing import Normalizer\n",
    "\n",
    "# Create a normalizer: normalizer\n",
    "normalizer = Normalizer()\n",
    "\n",
    "# Create a KMeans model with 6 clusters: kmeans\n",
    "kmeans = KMeans(n_clusters=7)\n",
    "\n",
    "# Make a pipeline chaining normalizer and kmeans: pipeline\n",
    "pipeline = make_pipeline(normalizer, kmeans)\n",
    "\n",
    "# Fit pipeline to the daily price movements\n",
    "pipeline.fit(movements)\n",
    "\n",
    "# Predict the cluster labels: labels\n",
    "labels = pipeline.predict(movements)"
   ]
  },
  {
   "cell_type": "code",
   "execution_count": 189,
   "id": "c825e876",
   "metadata": {},
   "outputs": [
    {
     "data": {
      "text/plain": [
       "0    33\n",
       "5    17\n",
       "4    15\n",
       "6    10\n",
       "2     7\n",
       "1     5\n",
       "3     3\n",
       "Name: labels, dtype: int64"
      ]
     },
     "execution_count": 189,
     "metadata": {},
     "output_type": "execute_result"
    }
   ],
   "source": [
    "# Create a DataFrame aligning labels and companies: df\n",
    "df = pd.DataFrame({'labels': labels, 'etfs': list(movements.index)})\n",
    "\n",
    "df.sort_values('labels')['labels'].value_counts()"
   ]
  },
  {
   "cell_type": "code",
   "execution_count": 191,
   "id": "d4ea484b",
   "metadata": {
    "scrolled": true
   },
   "outputs": [
    {
     "data": {
      "text/plain": [
       "'Cluster 0'"
      ]
     },
     "metadata": {},
     "output_type": "display_data"
    },
    {
     "data": {
      "text/plain": [
       "array(['IUSN', 'SWDA', 'EXXT', 'QDVE', 'WCOD', 'QDVK', '2B77', 'RBOT',\n",
       "       'IH2O', 'SMH', 'CSNKY', 'EUNI', 'IUS3', 'HYLD', 'IWQU', 'IWSZ',\n",
       "       'GMVM', 'AYEW', 'IWMO', 'IUSA', 'WTEL', 'XLIS', 'XLBS', 'XLKS',\n",
       "       'XLYS', 'IU5C', 'WMAT', 'WTCH', 'SPYY', 'VWCE', 'WIND', 'MOAT',\n",
       "       'PORT'], dtype=object)"
      ]
     },
     "metadata": {},
     "output_type": "display_data"
    },
    {
     "data": {
      "text/plain": [
       "'Cluster 1'"
      ]
     },
     "metadata": {},
     "output_type": "display_data"
    },
    {
     "data": {
      "text/plain": [
       "array(['IGLT', 'AGGH', 'IEAC', 'IEAG', 'SEGA'], dtype=object)"
      ]
     },
     "metadata": {},
     "output_type": "display_data"
    },
    {
     "data": {
      "text/plain": [
       "'Cluster 2'"
      ]
     },
     "metadata": {},
     "output_type": "display_data"
    },
    {
     "data": {
      "text/plain": [
       "array(['EUNX', 'IBTS', 'IBTM', 'IEMB', 'LQDE', 'CORP', 'IHYU'],\n",
       "      dtype=object)"
      ]
     },
     "metadata": {},
     "output_type": "display_data"
    },
    {
     "data": {
      "text/plain": [
       "'Cluster 3'"
      ]
     },
     "metadata": {},
     "output_type": "display_data"
    },
    {
     "data": {
      "text/plain": [
       "array(['WNRG', 'XLES', 'EXH1'], dtype=object)"
      ]
     },
     "metadata": {},
     "output_type": "display_data"
    },
    {
     "data": {
      "text/plain": [
       "'Cluster 4'"
      ]
     },
     "metadata": {},
     "output_type": "display_data"
    },
    {
     "data": {
      "text/plain": [
       "array(['WFIN', 'EXS1', 'ISF', 'EMBE', 'QDVH', 'ECAR', 'DJSC', 'EXV5',\n",
       "       'EXV1', 'IWVL', 'EUN2', 'XLFS', 'EXV3', 'EXSA', 'EXV9'],\n",
       "      dtype=object)"
      ]
     },
     "metadata": {},
     "output_type": "display_data"
    },
    {
     "data": {
      "text/plain": [
       "'Cluster 5'"
      ]
     },
     "metadata": {},
     "output_type": "display_data"
    },
    {
     "data": {
      "text/plain": [
       "array(['WCLD', 'VOLT', '2B70', 'DGTL', 'HEAL', 'CEMG', 'DAVV', 'L0CK',\n",
       "       'ESP0', 'WELL', 'ITEK', 'UNIC', 'HDRO', 'WCBR', 'EIMI', 'WTAI',\n",
       "       'INRG'], dtype=object)"
      ]
     },
     "metadata": {},
     "output_type": "display_data"
    },
    {
     "data": {
      "text/plain": [
       "'Cluster 6'"
      ]
     },
     "metadata": {},
     "output_type": "display_data"
    },
    {
     "data": {
      "text/plain": [
       "array(['WCOS', 'IWDP', 'CBUF', 'MVOL', 'XLPS', 'XLVS', 'XLUS', 'WHEA',\n",
       "       'QDVG', 'WUTI'], dtype=object)"
      ]
     },
     "metadata": {},
     "output_type": "display_data"
    }
   ],
   "source": [
    "for i in set(df['labels']):\n",
    "    display('Cluster '+ str(i), df[df['labels']==i]['etfs'].values)"
   ]
  },
  {
   "cell_type": "code",
   "execution_count": null,
   "id": "64e3a098",
   "metadata": {},
   "outputs": [],
   "source": []
  }
 ],
 "metadata": {
  "kernelspec": {
   "display_name": "Python 3",
   "language": "python",
   "name": "python3"
  },
  "language_info": {
   "codemirror_mode": {
    "name": "ipython",
    "version": 3
   },
   "file_extension": ".py",
   "mimetype": "text/x-python",
   "name": "python",
   "nbconvert_exporter": "python",
   "pygments_lexer": "ipython3",
   "version": "3.8.8"
  }
 },
 "nbformat": 4,
 "nbformat_minor": 5
}
