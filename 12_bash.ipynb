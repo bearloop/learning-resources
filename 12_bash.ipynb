{
 "cells": [
  {
   "cell_type": "markdown",
   "id": "8e667372",
   "metadata": {},
   "source": [
    "### Bash scripting\n",
    "\n",
    " - Bash stands for Bourne Again Shell (a pun)\n",
    " - Developed in the 80's\n",
    " - Why Bash scripting?\n",
    "     - Ease of execution of shell commands (save and run instead of copying shell commands)\n",
    "     - Powerfull programming constructs\n",
    "         - Popular shell and the default in unix and mac computer systems\n",
    "         - Unix is the internet (command line is used by cloud, data pipelines and ml apps)\n",
    "\n"
   ]
  },
  {
   "cell_type": "code",
   "execution_count": null,
   "id": "55a8ffbf",
   "metadata": {},
   "outputs": [],
   "source": [
    "# Searching a book with shell\n",
    "cat two_cities.txt | egrep 'Sydney Carton|Charles Darnay' | wc -l"
   ]
  },
  {
   "cell_type": "markdown",
   "id": "9366fd1b",
   "metadata": {},
   "source": [
    "#### Bash script anatomy\n",
    "\n",
    "Key defining features:\n",
    "   - First line has a she-bang or hash-bang (on its own line) then the path to where Bash is\n",
    "      - #!/usr/bash\n",
    "      - that's to let the interpreter know it is a Bash scirpt and to use Bash located in /usr/bash\n",
    "      - this could be a different path if you have Bash installed somewhere else such as /bin/bash -> use \" which bash \" to check\n",
    "   - Middle of the script:\n",
    "      - It contains lines of code, such as line-by-line commands or programming constructs\n",
    "\n",
    "To save and run:\n",
    "   - Use a file extension .sh\n",
    "      - But technically if the first line has the she-bang and path to Bash (#!/usr/bash) the file extension is not needed\n",
    "   - Run by using the command \" bash script_name.sh \"\n",
    "      - If the first line is the she-bang (#!/usr/bash) you can simply run the script using \" ./script_name.sh \""
   ]
  },
  {
   "cell_type": "markdown",
   "id": "f31d6f2d",
   "metadata": {},
   "source": [
    "#### Example\n",
    "\n",
    " - Script:<br>\n",
    "    **#!/usr/bash<br>\n",
    "    cat animals.txt | cut -d \" \" -f 2 | sort | uniq -c**\n",
    "\n",
    "\n",
    "\n",
    " - Create a single-line pipe to cat the file, cut out the relevant field and aggregate (sort & uniq -c will help!) based on winning team.\n",
    " - Save your script and run from the console."
   ]
  },
  {
   "cell_type": "code",
   "execution_count": 9,
   "id": "b80104e6",
   "metadata": {},
   "outputs": [
    {
     "name": "stdout",
     "output_type": "stream",
     "text": [
      "  13 Arda\r\n",
      "   8 Beroe\r\n",
      "   9 Botev\r\n",
      "   8 Cherno\r\n",
      "  17 Dunav\r\n",
      "  15 Etar\r\n",
      "   4 Levski\r\n",
      "   1 Lokomotiv\r\n"
     ]
    }
   ],
   "source": [
    "# The character ! allows to run terminal commands in Jupyter notebook\n",
    "# In the terminal use this without the exclamation mark\n",
    "# Examine the bash file to check the shell command\n",
    "# cat assets/bash_scripting/soccer_scores.csv | cut -d \",\" -f 2 | tail -n +2 | sort | uniq -c\n",
    "\n",
    "! bash assets/bash_scripting/soccer.sh"
   ]
  },
  {
   "cell_type": "markdown",
   "id": "e9586c87",
   "metadata": {},
   "source": [
    " - Create a pipe using sed twice to change the team Cherno to Cherno City first, and then Arda to Arda United.\n",
    " - Pipe the output to a file called soccer_scores_edited.csv.\n",
    " - Save your script and run from the console. Try opening soccer_scores_edited.csv using shell commands to confirm it worked (the first line should be changed)!"
   ]
  },
  {
   "cell_type": "code",
   "execution_count": 11,
   "id": "cf05c085",
   "metadata": {},
   "outputs": [
    {
     "name": "stdout",
     "output_type": "stream",
     "text": [
      "﻿Year,Winner,Winner Goals\r",
      "\r\n",
      "1932,Arda United,4\r",
      "\r\n",
      "1933,Botev,1\r",
      "\r\n",
      "1934,Cherno City,5\r",
      "\r\n",
      "1935,Dunav,2\r",
      "\r\n",
      "1936,Cherno City,4\r",
      "\r\n",
      "1937,Dunav,4\r",
      "\r\n",
      "1938,Beroe,5\r",
      "\r\n",
      "1939,Botev,2\r",
      "\r\n",
      "1940,Beroe,3\r",
      "\r\n"
     ]
    }
   ],
   "source": [
    "! bash assets/bash_scripting/soccer_edited.sh\n",
    "! head -n 10 assets/bash_scripting/soccer_scores_edited.csv "
   ]
  },
  {
   "cell_type": "markdown",
   "id": "0e10b7a1",
   "metadata": {},
   "source": [
    "#### Standard streams and arguments\n",
    "\n",
    " - STDIN (standard input), a stream of data into the program\n",
    " - STOUT (standard output), a stream of data out the program\n",
    " - STDERR (standard error), errors in the program\n",
    " - By default these streams come from and write to the terminal\n",
    " - If a script contains 2> /dev/null then STDERR is redirected to be deleted\n",
    " - If a script contains 1> /dev/null then STDOUT is redirected to be deleted\n",
    " \n",
    "<img src=\"assets/bash_scripting/streams.png\" style=\"width: 600px;\"/>\n",
    "\n",
    "#### STDIN vs ARGV\n",
    " - A key concept of Bash scripting is arguments\n",
    " - Bash scripts take arguments to be used inside by adding a space after the script execution call\n",
    " - Each argument can be accessed via the dollar notation\n",
    " - dollar1 is the first argument dollar2 the second\n",
    "     - dollar@ and dollar* give all the arguments in ARGV\n",
    "     - dollar# gives the length (number) of arguments"
   ]
  },
  {
   "cell_type": "code",
   "execution_count": 1,
   "id": "8f41bdc9",
   "metadata": {},
   "outputs": [
    {
     "name": "stdout",
     "output_type": "stream",
     "text": [
      "one\r\n",
      "two\r\n",
      "one two three four five six seven eight nine\r\n",
      "There are  9 arguments\r\n"
     ]
    }
   ],
   "source": [
    "# Example:\n",
    "\n",
    "! bash assets/bash_scripting/args.sh one two three four five six seven eight nine\n"
   ]
  },
  {
   "cell_type": "markdown",
   "id": "cf13ab42",
   "metadata": {},
   "source": [
    "#### Variables\n",
    "\n",
    " - You can reference a variable using the dollar notation\n",
    " - Bash is not forgiving with spaces when you assign a value to a variable you must not use space around the equal sign. This will work var1=\"value\" but this won't var1 = \"value\n",
    " - Single, double, backticks:\n",
    "     - Single quotes ('sometext') = Shell interprets what is between literally\n",
    "     - Double quotes (\"sometext\") = Shell interprets literally except using dollar and backticks\n",
    "     - Backticks (΄sometext΄) Shell runs the command and captures sTDOUT back into a variable (shell-within-a-shell)\n",
    "     "
   ]
  },
  {
   "cell_type": "code",
   "execution_count": 9,
   "id": "70e5a5b1",
   "metadata": {},
   "outputs": [
    {
     "name": "stdout",
     "output_type": "stream",
     "text": [
      "Hi there Cynthia Liu\r\n",
      "$now_var\r\n",
      "NOW\r\n",
      "The date is Mon Feb 7 20:32:38 EET 2022.\r\n",
      "The date is Mon Feb 7 20:32:38 EET 2022.\r\n"
     ]
    }
   ],
   "source": [
    "! bash assets/bash_scripting/var_assignment.sh"
   ]
  },
  {
   "cell_type": "markdown",
   "id": "789092ef",
   "metadata": {},
   "source": [
    "#### Numbers\n",
    "\n",
    " - Are not natively supported in the Shell\n",
    " - epxr is a utility program like cat or grep\n",
    " - expr cannot handle decimals, so bs (basic calculator) can be used"
   ]
  },
  {
   "cell_type": "code",
   "execution_count": 2,
   "id": "c9efe799",
   "metadata": {},
   "outputs": [
    {
     "name": "stdout",
     "output_type": "stream",
     "text": [
      "5\r\n"
     ]
    }
   ],
   "source": [
    "! expr 1 + 4"
   ]
  },
  {
   "cell_type": "code",
   "execution_count": 3,
   "id": "a9a54613",
   "metadata": {},
   "outputs": [
    {
     "name": "stdout",
     "output_type": "stream",
     "text": [
      "expr: not a decimal number: '4.2'\r\n"
     ]
    }
   ],
   "source": [
    "! expr 1 + 4.2"
   ]
  },
  {
   "cell_type": "code",
   "execution_count": 4,
   "id": "aaf38027",
   "metadata": {},
   "outputs": [
    {
     "name": "stdout",
     "output_type": "stream",
     "text": [
      "12.5\r\n"
     ]
    }
   ],
   "source": [
    "! echo \"5 + 7.5\" | bc"
   ]
  },
  {
   "cell_type": "code",
   "execution_count": 5,
   "id": "c2214ac9",
   "metadata": {},
   "outputs": [
    {
     "name": "stdout",
     "output_type": "stream",
     "text": [
      "0\r\n"
     ]
    }
   ],
   "source": [
    "! echo \"5 / 7.5\" | bc"
   ]
  },
  {
   "cell_type": "code",
   "execution_count": 6,
   "id": "5de0f86e",
   "metadata": {},
   "outputs": [
    {
     "name": "stdout",
     "output_type": "stream",
     "text": [
      ".66\r\n"
     ]
    }
   ],
   "source": [
    "# using scale\n",
    "! echo \"scale=2; 5 / 7.5\" | bc"
   ]
  },
  {
   "cell_type": "code",
   "execution_count": 8,
   "id": "45a62b2d",
   "metadata": {},
   "outputs": [
    {
     "name": "stdout",
     "output_type": "stream",
     "text": [
      "12\r\n"
     ]
    }
   ],
   "source": [
    "# double paranthesis\n",
    "! echo $((5+7))"
   ]
  },
  {
   "cell_type": "code",
   "execution_count": 15,
   "id": "8ce07f5e",
   "metadata": {},
   "outputs": [
    {
     "name": "stdout",
     "output_type": "stream",
     "text": [
      "The total score is 176.85\r\n",
      "The average score is 88\r\n"
     ]
    }
   ],
   "source": [
    "# model1=87.65\n",
    "# model2=89.20\n",
    "# echo \"The total score is $(echo \"$model1 + $model2\" | bc)\"\n",
    "# echo \"The average score is $(echo \"($model1 + $model2) / 2\" | bc)\"\n",
    "\n",
    "! bash assets/bash_scripting/num.sh"
   ]
  },
  {
   "cell_type": "code",
   "execution_count": 17,
   "id": "3cb84e26",
   "metadata": {},
   "outputs": [
    {
     "name": "stdout",
     "output_type": "stream",
     "text": [
      "43.33\r\n"
     ]
    }
   ],
   "source": [
    "# Convert Fahrenheit to Celcium\n",
    "\n",
    "! bash assets/bash_scripting/weather.sh 110"
   ]
  },
  {
   "cell_type": "code",
   "execution_count": 28,
   "id": "4a57d8e0",
   "metadata": {},
   "outputs": [
    {
     "name": "stdout",
     "output_type": "stream",
     "text": [
      "The three temperatures were 34, 42, and 99\r\n"
     ]
    }
   ],
   "source": [
    "# Shell in a shell example\n",
    "\n",
    "# # Create three variables from the temp data files' contents\n",
    "# temp_a=$(cat assets/bash_scripting/temps/region_A)\n",
    "# temp_b=$(cat assets/bash_scripting/temps/region_B)\n",
    "# temp_c=$(cat assets/bash_scripting/temps/region_C)\n",
    "\n",
    "# # Print out the three variables\n",
    "# echo \"The three temperatures were $temp_a, $temp_b, and $temp_c\"\n",
    "\n",
    "! bash assets/bash_scripting/temperature.sh"
   ]
  },
  {
   "cell_type": "markdown",
   "id": "f53b1e3c",
   "metadata": {},
   "source": [
    "#### Arrays\n",
    " - Two ways to create numerical-indexed arrays (lists in Python or R)\n",
    "     - Decleare without adding elements: declare -a array_name\n",
    "     - Create and add elements: array_name=(1 2 3)\n",
    "     - An array can be returned using array[@]"
   ]
  },
  {
   "cell_type": "code",
   "execution_count": null,
   "id": "21ef8bff",
   "metadata": {},
   "outputs": [],
   "source": []
  }
 ],
 "metadata": {
  "kernelspec": {
   "display_name": "Python 3",
   "language": "python",
   "name": "python3"
  },
  "language_info": {
   "codemirror_mode": {
    "name": "ipython",
    "version": 3
   },
   "file_extension": ".py",
   "mimetype": "text/x-python",
   "name": "python",
   "nbconvert_exporter": "python",
   "pygments_lexer": "ipython3",
   "version": "3.8.8"
  }
 },
 "nbformat": 4,
 "nbformat_minor": 5
}
