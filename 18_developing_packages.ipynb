{
 "cells": [
  {
   "cell_type": "markdown",
   "id": "c11dfa0b",
   "metadata": {},
   "source": [
    "## Developing Python Packages\n",
    "\n",
    "Why build a package?\n",
    " - Reusability\n",
    " - Avoid copying/pasting\n",
    " - Keep functions up to date\n",
    " - Share code\n",
    "\n",
    "Things to learn:\n",
    " - File layout\n",
    " - Import structure\n",
    " - Making packages installable\n",
    " - Adding licenses and READMEs\n",
    " - Styling and unit testing\n",
    " - Using package templates to speed up development\n",
    " - Registering and publishing a package to PyPl\n",
    "\n",
    "Terms:\n",
    " - Script: a Python file which is run like:\n",
    " > pyhon myscript.py\n",
    " - Package: a directory full of Python code to be imported / the code in this directory is related and works together\n",
    " > e.g. numpy\n",
    " - Sub-packages: a smaller package inside another package\n",
    " > e.g. nump.random or numpy.linalg\n",
    " - Module: a Python file inside a package which stores the package code / a file inside a directory which you can import code from / each module stores some of the package code\n",
    " > e.g. \n",
    " - Library: either a package or a collection of packages\n",
    " > e.g. the Python standard library (math, os, datetime..)"
   ]
  },
  {
   "cell_type": "markdown",
   "id": "0315ff36",
   "metadata": {},
   "source": [
    "### Directory of a package\n",
    "Directory tree for a simple package\n",
    "\n",
    "**simplepackage/<br>\n",
    "|-- simplemodule.py<br>\n",
    "|-- __init__.py**\n",
    "\n",
    " - simplepackage is the  Python package\n",
    " - simplemodule.py contains all the package code\n",
    " - __ init__.py is empty but it is a special file that tells Python that this directory is a package\n",
    " \n",
    "### Subpackages\n",
    "\n",
    "<img src=\"assets/packages/subpackages.png\" style=\"height: 300px;\"/>\n",
    "Mysklern is the package and preprocessing and regression are the subpackages\n",
    "\n",
    "\n",
    "### Documentation\n",
    "\n",
    "<img src=\"assets/packages/documentation_styles.png\" style=\"height: 400px;\"/>\n",
    "\n",
    "**pyment is a tool that generates template docstrings for functions and classes**\n",
    " - run from the terminal\n",
    " - translates styles to other styles\n",
    "\n",
    "<img src=\"assets/packages/pyment.png\" style=\"height: 200px;\"/>\n",
    "\n",
    "Documentation can also be added to __ init__.py of packages and subpackages and slightly differentiates between the two\n",
    "\n",
    "**Example NumPy style**"
   ]
  },
  {
   "cell_type": "code",
   "execution_count": null,
   "id": "18dceaf1",
   "metadata": {},
   "outputs": [],
   "source": [
    "INCHES_PER_FOOT = 12.0  # 12 inches in a foot\n",
    "INCHES_PER_YARD = INCHES_PER_FOOT * 3.0  # 3 feet in a yard\n",
    "\n",
    "UNITS = (\"in\", \"ft\", \"yd\")\n",
    "\n",
    "\n",
    "def inches_to_feet(x, reverse=False):\n",
    "    \"\"\"Convert lengths between inches and feet.\n",
    "\n",
    "    Parameters\n",
    "    ----------\n",
    "    x : numpy.ndarray\n",
    "        Lengths in feet.\n",
    "    reverse : bool, optional\n",
    "        If true this function converts from feet to inches \n",
    "        instead of the default behavior of inches to feet. \n",
    "        (Default value = False)\n",
    "\n",
    "    Returns\n",
    "    -------\n",
    "    numpy.ndarray\n",
    "    \"\"\"\n",
    "    if reverse:\n",
    "        return x * INCHES_PER_FOOT\n",
    "    else:\n",
    "        return x / INCHES_PER_FOOT\n"
   ]
  },
  {
   "cell_type": "markdown",
   "id": "53eec457",
   "metadata": {},
   "source": [
    "<img src=\"assets/packages/importing_subpackages.png\" style=\"height: 300px;\"/>\n",
    "\n",
    "<img src=\"assets/packages/importing_modules.png\" style=\"height: 300px;\"/>\n",
    "\n",
    "<img src=\"assets/packages/importing_functions.png\" style=\"height: 300px;\"/>\n",
    "\n",
    "<img src=\"assets/packages/importing_between_modules.png\" style=\"height: 300px;\"/>\n",
    "\n",
    "<img src=\"assets/packages/relative_imports.png\" style=\"height: 300px;\"/>\n"
   ]
  },
  {
   "cell_type": "markdown",
   "id": "04a22f83",
   "metadata": {},
   "source": [
    "### Installing Packages\n",
    "\n",
    " - If a package is not installed, you'll be able to run it only when the script that imports the package is in the same parent directory as the package\n",
    " - To make a package installable use a setup.py file\n",
    " - It is part of the package but not part of the source code\n",
    "\n",
    "\n",
    "<img src=\"assets/packages/setup.png\" style=\"height: 300px;\"/>\n",
    "\n",
    "<img src=\"assets/packages/setup_2.png\" style=\"height: 300px;\"/>\n",
    "\n",
    "Finally, run:\n",
    " > pip install -e .\n",
    " \n",
    " > . = install package in the current directory\n",
    " \n",
    " > -e = editable\n",
    "\n",
    "This means when there are changes to the source code like bug fixes or feature additions, these are included when you import the package.\n",
    "\n",
    "Otherwise you would need to re install the package after each change"
   ]
  },
  {
   "cell_type": "markdown",
   "id": "998a131d",
   "metadata": {},
   "source": [
    "<img src=\"assets/packages/impyrial_package.png\" style=\"height: 300px;\"/>"
   ]
  },
  {
   "cell_type": "code",
   "execution_count": null,
   "id": "1c387a4e",
   "metadata": {},
   "outputs": [],
   "source": [
    "# Import required functions\n",
    "from setuptools import setup, find_packages\n",
    "\n",
    "# Call setup function\n",
    "setup(\n",
    "    author=\"++\",\n",
    "    description=\"A package for converting imperial lengths and weights.\",\n",
    "    name=\"impyrial\",\n",
    "    packages=find_packages(include=[\"impyrial\", \"impyrial.*\"]),\n",
    "    version=\"0.1.0\",\n",
    ")"
   ]
  },
  {
   "cell_type": "markdown",
   "id": "9069401f",
   "metadata": {},
   "source": [
    "## Handling Dependencies\n",
    "\n",
    " - Dependencies are packages you import inside your package\n",
    " - Users who install the package will also need to have the rest of the packages installed too"
   ]
  },
  {
   "cell_type": "code",
   "execution_count": null,
   "id": "b2e19b6c",
   "metadata": {},
   "outputs": [],
   "source": [
    "# Adding dependencies\n",
    "\n",
    "from setuptools import setup, find_packages\n",
    "setup( ...\n",
    "    install_requires=['pandas', 'scipy', 'matplotlib'],\n",
    ")"
   ]
  },
  {
   "cell_type": "code",
   "execution_count": null,
   "id": "7bed7c62",
   "metadata": {},
   "outputs": [],
   "source": [
    "# Controlling dependencies version\n",
    "\n",
    "from setuptools import setup, find_packages\n",
    "setup( ...\n",
    "    install_requires=[\n",
    "        'pandas>=1.0', # good\n",
    "        'scipy==1.1',  # bad\n",
    "        'matplotlib>=2.2.1,<3' # good\n",
    "], )"
   ]
  },
  {
   "cell_type": "code",
   "execution_count": null,
   "id": "e8a9808c",
   "metadata": {},
   "outputs": [],
   "source": [
    "# Python versions\n",
    "\n",
    "from setuptools import setup, find_packages\n",
    "setup( ...\n",
    "    python_requires='>=2.7, !=3.0.*, !=3.1.*',\n",
    ")"
   ]
  },
  {
   "cell_type": "markdown",
   "id": "f78b3e94",
   "metadata": {},
   "source": [
    " - Use the pip freeze command to show a list of all package versions installed\n",
    " - Export this list to a text file\n",
    "     > pip freze > requirements.txt\n",
    " - Add this to your package\n",
    "\n",
    "<img src=\"assets/packages/requirements.png\" style=\"height: 300px;\"/>\n",
    "\n",
    " - Packages can be installed in this file using\n",
    "     > pip install -r requirements.txt"
   ]
  },
  {
   "cell_type": "code",
   "execution_count": null,
   "id": "1e17e2a9",
   "metadata": {},
   "outputs": [],
   "source": [
    "# Example\n",
    "\n",
    "from setuptools import setup, find_packages\n",
    "\n",
    "# Add install requirements\n",
    "setup(\n",
    "    author=\"<your-name>\",\n",
    "    description=\"A package for converting imperial lengths and weights.\",\n",
    "    name=\"impyrial\",\n",
    "    packages=find_packages(include=[\"impyrial\", \"impyrial.*\"]),\n",
    "    version=\"0.1.0\",\n",
    "    install_requires=['numpy>=1.10', 'pandas'],\n",
    ")"
   ]
  },
  {
   "cell_type": "markdown",
   "id": "aa8b0056",
   "metadata": {},
   "source": [
    "## License\n",
    "\n",
    " - Licenses give permission to use the code\n",
    " - Helps you choose an open source license\n",
    "     > https://choosealicense.com\n",
    "\n",
    "## README.md\n",
    "\n",
    " - The front page of your package\n",
    " - Should include\n",
    "     - Title\n",
    "     - Decsription\n",
    "     - Features\n",
    "     - Installation\n",
    "     - Usage examples\n",
    "     - How to start contributing\n",
    "     - License\n",
    " - Format:\n",
    "     - Markdown (commonmark)\n",
    "     - reStructuredText\n",
    "\n",
    "<img src=\"assets/packages/readme.png\" style=\"height: 300px;\"/>\n",
    "\n",
    "## Manifest\n",
    "\n",
    " - include LICENSE\n",
    " - include README.md\n",
    " \n",
    "<img src=\"assets/packages/dir_2.png\" style=\"height: 250px;\"/>"
   ]
  },
  {
   "cell_type": "markdown",
   "id": "ce78fe2d",
   "metadata": {},
   "source": [
    "## PyPI\n",
    "\n",
    " - Python Package Index\n",
    "     - online code repository where anyone can upload packages to it\n",
    " \n",
    " \n",
    " - pip installs packages from here\n",
    " - release early as soon as it is useful enough\n",
    " - when you upload your package to PyPI you upload a distribution\n",
    "\n",
    "\n",
    " - distribution package: a budnled version of your package which is ready to be installed\n",
    "     - source distribution: a distribution package which is mostly your source code\n",
    "     - wheel distribution: a distribution package which has been processed to make it faster to install\n",
    "     - wheel:\n",
    "         - it can be installed without running the setup script, so it is faster to install\n",
    "         - it is smaller in size so it can be downloaded faster as well\n",
    "         - preferred PyPI distribution\n",
    " - you should upload both distributions however\n",
    "\n",
    "How to build distributions:\n",
    " - in the terminal use\n",
    "  > python setup.py sdist bdist_wheel\n",
    "     \n",
    " - sdist = source distribution\n",
    " - bdist_wheel = wheel distribution\n",
    " - this creates a dist directory with wheel and dist distributions inside and build and egg directories\n",
    "\n",
    "<img src=\"assets/packages/dist.png\" style=\"height: 250px;\"/>\n",
    "\n"
   ]
  },
  {
   "cell_type": "markdown",
   "id": "ae78e707",
   "metadata": {},
   "source": [
    "## Getting the package to PyPI\n",
    "\n",
    " - use twine\n",
    " - twine upload dist/*\n",
    "\n",
    "Normally, you would need to register for an account on PyPI to be able to upload a package"
   ]
  },
  {
   "cell_type": "code",
   "execution_count": null,
   "id": "5125b2ac",
   "metadata": {},
   "outputs": [],
   "source": [
    "# Run the following in the terminal:\n",
    "twine upload dist/*"
   ]
  },
  {
   "cell_type": "markdown",
   "id": "87eb3fb1",
   "metadata": {},
   "source": [
    "## Packages Testing\n",
    "\n",
    " - Every module in the package directory should have a respective test module\n",
    "\n",
    "<img src=\"assets/packages/testing.png\" style=\"height: 250px;\"/>"
   ]
  },
  {
   "cell_type": "code",
   "execution_count": null,
   "id": "1a88df2a",
   "metadata": {},
   "outputs": [],
   "source": []
  }
 ],
 "metadata": {
  "kernelspec": {
   "display_name": "Python 3",
   "language": "python",
   "name": "python3"
  },
  "language_info": {
   "codemirror_mode": {
    "name": "ipython",
    "version": 3
   },
   "file_extension": ".py",
   "mimetype": "text/x-python",
   "name": "python",
   "nbconvert_exporter": "python",
   "pygments_lexer": "ipython3",
   "version": "3.8.8"
  }
 },
 "nbformat": 4,
 "nbformat_minor": 5
}
