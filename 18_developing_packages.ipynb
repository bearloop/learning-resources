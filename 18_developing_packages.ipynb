{
 "cells": [
  {
   "cell_type": "markdown",
   "id": "c11dfa0b",
   "metadata": {},
   "source": [
    "## Developing Python Packages\n",
    "\n",
    "Why build a package?\n",
    " - Reusability\n",
    " - Avoid copying/pasting\n",
    " - Keep functions up to date\n",
    " - Share code\n",
    "\n",
    "Things to learn:\n",
    " - File layout\n",
    " - Import structure\n",
    " - Making packages installable\n",
    " - Adding licenses and READMEs\n",
    " - Styling and unit testing\n",
    " - Using package templates to speed up development\n",
    " - Registering and publishing a package to PyPl\n",
    "\n",
    "Terms:\n",
    " - Script: a Python file which is run like:\n",
    " > pyhon myscript.py\n",
    " - Package: a directory full of Python code to be imported / the code in this directory is related and works together\n",
    " > e.g. numpy\n",
    " - Sub-packages: a smaller package inside another package\n",
    " > e.g. nump.random or numpy.linalg\n",
    " - Module: a Python file inside a package which stores the package code / a file inside a directory which you can import code from / each module stores some of the package code\n",
    " > e.g. \n",
    " - Library: either a package or a collection of packages\n",
    " > e.g. the Python standard library (math, os, datetime..)"
   ]
  },
  {
   "cell_type": "markdown",
   "id": "0315ff36",
   "metadata": {},
   "source": [
    "### Directory of a package\n",
    "Directory tree for a simple package\n",
    "\n",
    "**simplepackage/<br>\n",
    "|-- simplemodule.py<br>\n",
    "|-- __init__.py**\n",
    "\n",
    " - simplepackage is the  Python package\n",
    " - simplemodule.py contains all the package code\n",
    " - __ init__.py is empty but it is a special file that tells Python that this directory is a package\n",
    " \n",
    "### Subpackages\n",
    "\n",
    "<img src=\"assets/packages/subpackages.png\" style=\"height: 300px;\"/>\n",
    "Mysklern is the package and preprocessing and regression are the subpackages\n",
    "\n",
    "\n",
    "### Documentation\n",
    "\n",
    "<img src=\"assets/packages/documentation_styles.png\" style=\"height: 400px;\"/>\n",
    "\n",
    "**pyment is a tool that generates template docstrings for functions and classes**\n",
    " - run from the terminal\n",
    " - translates styles to other styles\n",
    "\n",
    "<img src=\"assets/packages/pyment.png\" style=\"height: 200px;\"/>\n",
    "\n",
    "Documentation can also be added to __ init__.py of packages and subpackages and slightly differentiates between the two\n",
    "\n",
    "**Example NumPy style**"
   ]
  },
  {
   "cell_type": "code",
   "execution_count": null,
   "id": "18dceaf1",
   "metadata": {},
   "outputs": [],
   "source": [
    "INCHES_PER_FOOT = 12.0  # 12 inches in a foot\n",
    "INCHES_PER_YARD = INCHES_PER_FOOT * 3.0  # 3 feet in a yard\n",
    "\n",
    "UNITS = (\"in\", \"ft\", \"yd\")\n",
    "\n",
    "\n",
    "def inches_to_feet(x, reverse=False):\n",
    "    \"\"\"Convert lengths between inches and feet.\n",
    "\n",
    "    Parameters\n",
    "    ----------\n",
    "    x : numpy.ndarray\n",
    "        Lengths in feet.\n",
    "    reverse : bool, optional\n",
    "        If true this function converts from feet to inches \n",
    "        instead of the default behavior of inches to feet. \n",
    "        (Default value = False)\n",
    "\n",
    "    Returns\n",
    "    -------\n",
    "    numpy.ndarray\n",
    "    \"\"\"\n",
    "    if reverse:\n",
    "        return x * INCHES_PER_FOOT\n",
    "    else:\n",
    "        return x / INCHES_PER_FOOT\n"
   ]
  },
  {
   "cell_type": "markdown",
   "id": "53eec457",
   "metadata": {},
   "source": [
    "<img src=\"assets/packages/importing_subpackages.png\" style=\"height: 300px;\"/>\n",
    "\n",
    "<img src=\"assets/packages/importing_modules.png\" style=\"height: 300px;\"/>\n",
    "\n",
    "<img src=\"assets/packages/importing_functions.png\" style=\"height: 300px;\"/>\n",
    "\n",
    "<img src=\"assets/packages/importing_between_modules.png\" style=\"height: 300px;\"/>\n",
    "\n",
    "<img src=\"assets/packages/relative_imports.png\" style=\"height: 300px;\"/>\n"
   ]
  },
  {
   "cell_type": "markdown",
   "id": "04a22f83",
   "metadata": {},
   "source": [
    "### Installing Packages\n",
    "\n",
    " - If a package is not installed, you'll be able to run it only when the script that imports the package is in the same parent directory as the package\n",
    " - To make a package installable use a setup.py file\n",
    " - It is part of the package but not part of the source code\n",
    "\n",
    "\n",
    "<img src=\"assets/packages/setup.png\" style=\"height: 300px;\"/>\n",
    "\n",
    "<img src=\"assets/packages/setup_2.png\" style=\"height: 300px;\"/>\n",
    "\n",
    "Finally, run:\n",
    " > pip install -e .\n",
    " \n",
    " > . = install package in the current directory\n",
    " \n",
    " > -e = editable\n",
    "\n",
    "This means when there are changes to the source code like bug fixes or feature additions, these are included when you import the package.\n",
    "\n",
    "Otherwise you would need to re install the package after each change"
   ]
  },
  {
   "cell_type": "markdown",
   "id": "998a131d",
   "metadata": {},
   "source": [
    "<img src=\"assets/packages/impyrial_package.png\" style=\"height: 300px;\"/>"
   ]
  },
  {
   "cell_type": "code",
   "execution_count": null,
   "id": "1c387a4e",
   "metadata": {},
   "outputs": [],
   "source": [
    "# Import required functions\n",
    "from setuptools import setup, find_packages\n",
    "\n",
    "# Call setup function\n",
    "setup(\n",
    "    author=\"++\",\n",
    "    description=\"A package for converting imperial lengths and weights.\",\n",
    "    name=\"impyrial\",\n",
    "    packages=find_packages(include=[\"impyrial\", \"impyrial.*\"]),\n",
    "    version=\"0.1.0\",\n",
    ")"
   ]
  }
 ],
 "metadata": {
  "kernelspec": {
   "display_name": "Python 3",
   "language": "python",
   "name": "python3"
  },
  "language_info": {
   "codemirror_mode": {
    "name": "ipython",
    "version": 3
   },
   "file_extension": ".py",
   "mimetype": "text/x-python",
   "name": "python",
   "nbconvert_exporter": "python",
   "pygments_lexer": "ipython3",
   "version": "3.8.8"
  }
 },
 "nbformat": 4,
 "nbformat_minor": 5
}
