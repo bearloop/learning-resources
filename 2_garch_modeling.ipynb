{
 "cells": [
  {
   "cell_type": "markdown",
   "metadata": {},
   "source": [
    "## GARCH Modeling\n",
    "\n",
    "**ARCH and GARCH models**<br>\n",
    "-Volatility clustering.<br>\n",
    "-GARCH basics.<br>\n",
    "-Simulate ARCH and GARCH series.<br>\n",
    "-Impact of model parameters.<br>\n",
    "-GARCH model implementation and forecasting.<br>\n",
    "\n",
    "**Model configuration**<br>\n",
    "-Distribution of standardised residuals.<br>\n",
    "-Normal and skewed-t distribution.<br>\n",
    "-Model mean assumptions (constant, AR).<br>\n",
    "-Assymetric shocks (EGARCH, GJR-GARCH).<br>\n",
    "\n",
    "**Model performance evaluation**<br>\n",
    "-Keep it simple stupid (KISS).<br>\n",
    "-P-values and t-stats.<br>\n",
    "-Autocorrelation detction (ACF plots, Ljung-Box test).<br>\n",
    "-Log-likelihood, AIC/BIC.<br>\n",
    "-Backtesting and Mean Absolute - Mean Squared Error (MAE - MSE).<br>\n",
    "\n",
    "**VaR with GARCH**<br>\n",
    "-VaR, or covariance in the context of MPT, can incorporatethe  time-varying characteristics of volatility with GARCH giving a more realistic representation of risk.<br>\n",
    "-Use GARCH to calculate:<br>\n",
    "--Parametric VaR.<br>\n",
    "--Empirical VaR.<br>\n",
    "--Dynamic portfolio covariance.<br>\n",
    "--Dynamic portfolio beta.<br>"
   ]
  },
  {
   "cell_type": "code",
   "execution_count": null,
   "metadata": {},
   "outputs": [],
   "source": []
  }
 ],
 "metadata": {
  "kernelspec": {
   "display_name": "Python 3",
   "language": "python",
   "name": "python3"
  },
  "language_info": {
   "codemirror_mode": {
    "name": "ipython",
    "version": 3
   },
   "file_extension": ".py",
   "mimetype": "text/x-python",
   "name": "python",
   "nbconvert_exporter": "python",
   "pygments_lexer": "ipython3",
   "version": "3.8.8"
  }
 },
 "nbformat": 4,
 "nbformat_minor": 4
}
