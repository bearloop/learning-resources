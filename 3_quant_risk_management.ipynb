{
 "cells": [
  {
   "cell_type": "markdown",
   "metadata": {},
   "source": [
    "## Intro to Portfolio Risk Management\n",
    "\n",
    "**Single Asset**<br>\n",
    "-Mean, Variance and Stand Dev, Skewness, Kurtosis.<br>\n",
    "-Normality tests.<br>\n",
    "\n",
    "**Portfolio - Multiple Assets**<br>\n",
    "-Equal weighted (1/n) and market-cap weighted portfolios.<br>\n",
    "-Correlation - covariance matrix.<br>\n",
    "-Portfolio vol / stand dev.<br>\n",
    "-Max Sharpe and Min Var portfolios (Markowitz).<br>\n",
    "\n",
    "**Risk Factors**<br>\n",
    "-Beta and the CAPM.<br>\n",
    "-Fama French 3-factor model and EMH.<br>\n",
    "-Other models.<br>\n",
    "\n",
    "**Simple Risk Metrics**<br>\n",
    "-Drawdown.<br>\n",
    "-Historical value at risk.<br>\n",
    "-Historical expected shortfall.<br>\n",
    "-Parametric VaR and VaR scaling.<br>\n",
    "-Simulated VaR: Random walk and Monte Carlo simulation.<br>"
   ]
  },
  {
   "cell_type": "code",
   "execution_count": null,
   "metadata": {},
   "outputs": [],
   "source": []
  },
  {
   "cell_type": "code",
   "execution_count": null,
   "metadata": {},
   "outputs": [],
   "source": []
  },
  {
   "cell_type": "code",
   "execution_count": null,
   "metadata": {},
   "outputs": [],
   "source": []
  },
  {
   "cell_type": "code",
   "execution_count": null,
   "metadata": {},
   "outputs": [],
   "source": []
  },
  {
   "cell_type": "markdown",
   "metadata": {},
   "source": [
    "## Quant Risk Management\n",
    "\n",
    "**Modern portfolio theory**<br>\n",
    "-Efficient frontier and mean/var optimisation.<br>\n",
    "\n",
    "**Value at risk and Conditional VaR**<br>\n",
    "-Calculate and interpret VaR and CVaR.<br>\n",
    "\n",
    "**Portfolio hedging with options**<br>\n",
    "-akjscb<br>\n",
    "\n",
    "**Parametric estimation of VaE**<br>\n",
    "-Goodness of fit vs normal and t-student dist through visualisation.<br>\n",
    "-Anderson-Darling test.<br>\n",
    "-Skewness test.<br>\n",
    "\n",
    "**Historical and Monte Carlo simulation**<br>\n",
    "-Historical simulation VaR.<br>\n",
    "-Monte Carlo simulation Var.<br>\n",
    "\n",
    "**Structural breaks**<br>\n",
    "-Chow test: null of no structural break | period regression compared with before / after break.<br>\n",
    "\n",
    "**Extreme value theory**<br>\n",
    "-Model the tail losses (losses exceeding some value).<br>\n",
    "-Block maxima.<br>\n",
    "-Pot over threshold.<br>\n",
    "\n",
    "**Kernel density function**<br>\n",
    "\n",
    "**Neural networks risk management**<br>\n",
    "-Real time risk management.<br>"
   ]
  },
  {
   "cell_type": "code",
   "execution_count": null,
   "metadata": {},
   "outputs": [],
   "source": []
  },
  {
   "cell_type": "code",
   "execution_count": null,
   "metadata": {},
   "outputs": [],
   "source": []
  },
  {
   "cell_type": "code",
   "execution_count": null,
   "metadata": {},
   "outputs": [],
   "source": []
  }
 ],
 "metadata": {
  "kernelspec": {
   "display_name": "Python 3",
   "language": "python",
   "name": "python3"
  },
  "language_info": {
   "codemirror_mode": {
    "name": "ipython",
    "version": 3
   },
   "file_extension": ".py",
   "mimetype": "text/x-python",
   "name": "python",
   "nbconvert_exporter": "python",
   "pygments_lexer": "ipython3",
   "version": "3.8.8"
  }
 },
 "nbformat": 4,
 "nbformat_minor": 4
}
