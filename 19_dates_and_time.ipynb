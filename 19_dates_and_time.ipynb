{
 "cells": [
  {
   "cell_type": "markdown",
   "id": "6f8a09f2",
   "metadata": {},
   "source": [
    "## Working with dates and time"
   ]
  },
  {
   "cell_type": "markdown",
   "id": "c5b3528e",
   "metadata": {},
   "source": [
    "#### Date details"
   ]
  },
  {
   "cell_type": "code",
   "execution_count": 17,
   "id": "50c11873",
   "metadata": {},
   "outputs": [
    {
     "name": "stdout",
     "output_type": "stream",
     "text": [
      "Day of the week 4\n",
      "Day 21\n",
      "Month 8\n",
      "Year 1992\n"
     ]
    }
   ],
   "source": [
    "# Import date from datetime\n",
    "from datetime import date, datetime\n",
    "\n",
    "# Create a date object\n",
    "hurricane_andrew = date(1992, 8, 21)\n",
    "\n",
    "# Which day of the week is the date?\n",
    "print('Day of the week', hurricane_andrew.weekday())\n",
    "print('Day', hurricane_andrew.day)\n",
    "print('Month', hurricane_andrew.month)\n",
    "print('Year', hurricane_andrew.year)"
   ]
  },
  {
   "cell_type": "code",
   "execution_count": 18,
   "id": "58c80c42",
   "metadata": {},
   "outputs": [
    {
     "name": "stdout",
     "output_type": "stream",
     "text": [
      "218\n"
     ]
    }
   ],
   "source": [
    "# Create a date object for May 9th, 2007\n",
    "start = date(2007, 5, 9)\n",
    "\n",
    "# Create a date object for December 13th, 2007\n",
    "end = date(2007, 12, 13)\n",
    "\n",
    "# Subtract the two dates and print the number of days\n",
    "print((end - start).days)"
   ]
  },
  {
   "cell_type": "markdown",
   "id": "10310941",
   "metadata": {},
   "source": [
    "#### ISO standard or the typical US style"
   ]
  },
  {
   "cell_type": "code",
   "execution_count": 21,
   "id": "3bc83272",
   "metadata": {},
   "outputs": [
    {
     "name": "stdout",
     "output_type": "stream",
     "text": [
      "ISO: Our earliest date: 2007-05-09\n",
      "US (month/day/year): Our earliest date: 05/09/2007\n"
     ]
    }
   ],
   "source": [
    "# Convert to ISO and US formats\n",
    "iso = \"Our earliest date: \" + start.isoformat()\n",
    "us = \"Our earliest date: \" + start.strftime(\"%m/%d/%Y\")\n",
    "\n",
    "print(\"ISO: \" + iso)\n",
    "print(\"US (month/day/year): \" + us)"
   ]
  },
  {
   "cell_type": "markdown",
   "id": "d2b739a7",
   "metadata": {},
   "source": [
    " #### Representing dates in different ways (convert date to string: date_object.strftime(\"date_format\")\n",
    "\n",
    "date objects in Python have a great number of ways they can be printed out as strings. In some cases, you want to know the date in a clear, language-agnostic format. In other cases, you want something which can fit into a paragraph and flow naturally."
   ]
  },
  {
   "cell_type": "code",
   "execution_count": 23,
   "id": "c4b860c3",
   "metadata": {
    "scrolled": true
   },
   "outputs": [
    {
     "name": "stdout",
     "output_type": "stream",
     "text": [
      "1992-08\n",
      "August (1992)\n",
      "1992-239\n"
     ]
    }
   ],
   "source": [
    "# Import date\n",
    "from datetime import date\n",
    "\n",
    "# Create a date object\n",
    "andrew = date(1992, 8, 26)\n",
    "\n",
    "# Print the date in the format 'YYYY-MM'\n",
    "print(andrew.strftime('%Y-%m'))\n",
    "\n",
    "# Print the date in the format 'MONTH (YYYY)'\n",
    "print(andrew.strftime(\"%B (%Y)\"))\n",
    "\n",
    "# Print the date in the format 'YYYY-DDD' - where DDD is the day of the year\n",
    "print(andrew.strftime(\"%Y-%j\"))"
   ]
  },
  {
   "cell_type": "markdown",
   "id": "4b0674dc",
   "metadata": {},
   "source": [
    "#### Creating date times"
   ]
  },
  {
   "cell_type": "code",
   "execution_count": 24,
   "id": "f75f3226",
   "metadata": {},
   "outputs": [
    {
     "name": "stdout",
     "output_type": "stream",
     "text": [
      "2017-10-01T15:26:26\n",
      "1917-10-01 15:26:26\n"
     ]
    }
   ],
   "source": [
    "# Import datetime\n",
    "from datetime import datetime\n",
    "\n",
    "# Create a datetime object\n",
    "dt = datetime(2017, 10, 1, 15, 26, 26)\n",
    "\n",
    "# Print the results in ISO 8601 format\n",
    "print(dt.isoformat())\n",
    "\n",
    "# Replace the year with 1917\n",
    "dt_old = dt.replace(year=1917)\n",
    "\n",
    "# Print the results in ISO 8601 format\n",
    "print(dt_old)"
   ]
  },
  {
   "cell_type": "code",
   "execution_count": 30,
   "id": "f497cc68",
   "metadata": {},
   "outputs": [
    {
     "name": "stdout",
     "output_type": "stream",
     "text": [
      "2017-10-01T15:23:25\n",
      "2017-10-01T15:23:25\n"
     ]
    }
   ],
   "source": [
    "first_start = datetime(2017, 10, 1, 15, 23, 25)\n",
    "\n",
    "# Format to feed to strftime()\n",
    "fmt = \"%Y-%m-%dT%H:%M:%S\"\n",
    "\n",
    "# Print out date with .isoformat(), then with .strftime() to compare\n",
    "print(first_start.isoformat())\n",
    "print(first_start.strftime(fmt))"
   ]
  },
  {
   "cell_type": "code",
   "execution_count": 35,
   "id": "c543118f",
   "metadata": {},
   "outputs": [
    {
     "name": "stdout",
     "output_type": "stream",
     "text": [
      "2017-10-01 15:23:25.500000\n",
      "2017-10-01 15:23:25.500000\n",
      "2017-10-01 15:00:00\n"
     ]
    }
   ],
   "source": [
    "dt = datetime(2017, 10, 1, 15, 23, 25, 500000)\n",
    "print(dt)\n",
    "\n",
    "dt = datetime(year=2017, month=10, day=1,\n",
    "              hour=15, minute=23, second=25,\n",
    "              microsecond=500000)\n",
    "print(dt)\n",
    "\n",
    "dt_hr = dt.replace(minute=0, second=0, microsecond=0)\n",
    "print(dt_hr)"
   ]
  },
  {
   "cell_type": "markdown",
   "id": "667b1eb9",
   "metadata": {},
   "source": [
    "#### Turning strings into datetimes (convert string to date: datetime.strptime(str, \"date_format\")\n",
    "\n",
    "Reference\n",
    "\n",
    " - %Y\t4 digit year (0000-9999)\n",
    " - %m\t2 digit month (1-12)\n",
    " - %d\t2 digit day (1-31)\n",
    " - %H\t2 digit hour (0-23)\n",
    " - %M\t2 digit minute (0-59)\n",
    " - %S\t2 digit second (0-59)"
   ]
  },
  {
   "cell_type": "code",
   "execution_count": 27,
   "id": "123dd8cb",
   "metadata": {},
   "outputs": [
    {
     "name": "stdout",
     "output_type": "stream",
     "text": [
      "2017-02-03 00:00:01\n",
      "2030-10-15 00:00:00\n",
      "1986-12-15 08:00:00\n"
     ]
    }
   ],
   "source": [
    "# Import the datetime class\n",
    "from datetime import datetime\n",
    "\n",
    "# Starting string, in YYYY-MM-DD HH:MM:SS format\n",
    "s = '2017-02-03 00:00:01'\n",
    "\n",
    "# Write a format string to parse s\n",
    "fmt = '%Y-%m-%d %H:%M:%S'\n",
    "\n",
    "# Create a datetime object d\n",
    "d = datetime.strptime(s, fmt)\n",
    "\n",
    "# Print d\n",
    "print(d)\n",
    "\n",
    "# ------------------------------------------------------------------------------------\n",
    "# Starting string, in YYYY-MM-DD format\n",
    "s = '2030-10-15'\n",
    "\n",
    "# Write a format string to parse s\n",
    "fmt = '%Y-%m-%d'\n",
    "\n",
    "# Create a datetime object d\n",
    "d = datetime.strptime(s, fmt)\n",
    "\n",
    "# Print d\n",
    "print(d)\n",
    "\n",
    "# ------------------------------------------------------------------------------------\n",
    "# Starting string, in MM/DD/YYYY HH:MM:SS format\n",
    "s = '12/15/1986 08:00:00'\n",
    "\n",
    "# Write a format string to parse s\n",
    "fmt = '%m/%d/%Y %H:%M:%S'\n",
    "\n",
    "# Create a datetime object d\n",
    "d = datetime.strptime(s, fmt)\n",
    "\n",
    "# Print d\n",
    "print(d)"
   ]
  },
  {
   "cell_type": "markdown",
   "id": "e5913734",
   "metadata": {},
   "source": [
    "#### Unix timestamps\n",
    "\n",
    "Datetimes are sometimes stored as Unix timestamps: the number of seconds since January 1, 1970. This is especially common with computer infrastructure, like the log files that websites keep when they get visitors."
   ]
  },
  {
   "cell_type": "code",
   "execution_count": 33,
   "id": "2c226a37",
   "metadata": {},
   "outputs": [
    {
     "name": "stdout",
     "output_type": "stream",
     "text": [
      "[datetime.datetime(2017, 12, 30, 22, 19, 13), datetime.datetime(2017, 12, 30, 22, 9, 3)]\n"
     ]
    }
   ],
   "source": [
    "# Import datetime\n",
    "from datetime import datetime\n",
    "\n",
    "# Starting timestamps\n",
    "timestamps = [1514665153, 1514664543]\n",
    "\n",
    "# Datetime objects\n",
    "dts = []\n",
    "\n",
    "# Loop\n",
    "for ts in timestamps:\n",
    "    dts.append(datetime.fromtimestamp(ts))\n",
    "\n",
    "# Print results\n",
    "print(dts)"
   ]
  },
  {
   "cell_type": "markdown",
   "id": "4e90f9d1",
   "metadata": {},
   "source": [
    "#### Durations"
   ]
  },
  {
   "cell_type": "code",
   "execution_count": 37,
   "id": "a12bd7c3",
   "metadata": {},
   "outputs": [
    {
     "name": "stdout",
     "output_type": "stream",
     "text": [
      "1450.0\n"
     ]
    }
   ],
   "source": [
    "# Create example datetimes\n",
    "start = datetime(2017, 10, 8, 23, 46, 47)\n",
    "end = datetime(2017, 10, 9, 0, 10, 57)\n",
    "\n",
    "# Subtract datetimes to create a timedelta\n",
    "duration = end - start\n",
    "\n",
    "# Subtract datetimes to create a timedelta\n",
    "print(duration.total_seconds())"
   ]
  },
  {
   "cell_type": "markdown",
   "id": "a24645ae",
   "metadata": {},
   "source": [
    "#### Timedeltas"
   ]
  },
  {
   "cell_type": "code",
   "execution_count": 43,
   "id": "93672f2a",
   "metadata": {},
   "outputs": [
    {
     "name": "stdout",
     "output_type": "stream",
     "text": [
      "2017-10-08 23:46:48\n",
      "2017-10-09 23:46:48\n",
      "2017-10-08 23:46:47\n",
      "2017-10-01 23:46:47\n",
      "2017-10-08 23:46:47\n",
      "2017-10-01 23:46:47\n"
     ]
    }
   ],
   "source": [
    "# Import timedelta\n",
    "from datetime import timedelta\n",
    "\n",
    "# Create a timedelta\n",
    "delta1 = timedelta(seconds=1)\n",
    "\n",
    "# One second later\n",
    "print(start + delta1)\n",
    "\n",
    "# Create a one day and one second timedelta\n",
    "delta2 = timedelta(days=1, seconds=1)\n",
    "\n",
    "# One day and one second later\n",
    "print(start + delta2)\n",
    "\n",
    "# ------------------------------------------------------------------------------------\n",
    "# Create a negative timedelta of one week\n",
    "delta3 = timedelta(weeks=-1)\n",
    "print(start)\n",
    "\n",
    "# One week earlier\n",
    "print(start + delta3)\n",
    "\n",
    "# ------------------------------------------------------------------------------------\n",
    "# Same, but we'll subtract this time\n",
    "delta4 = timedelta(weeks=1)\n",
    "print(start)\n",
    "\n",
    "# One week earlier\n",
    "print(start - delta4)   "
   ]
  },
  {
   "cell_type": "markdown",
   "id": "36405133",
   "metadata": {},
   "source": [
    "#### Timezones"
   ]
  },
  {
   "cell_type": "code",
   "execution_count": 44,
   "id": "08bdf486",
   "metadata": {},
   "outputs": [
    {
     "name": "stdout",
     "output_type": "stream",
     "text": [
      "2017-10-01T15:26:26+00:00\n",
      "2017-10-01T15:26:26-08:00\n",
      "2017-10-01T15:26:26+11:00\n"
     ]
    }
   ],
   "source": [
    "# Import datetime, timezone\n",
    "from datetime import datetime, timezone, timedelta\n",
    "\n",
    "# October 1, 2017 at 15:26:26, UTC\n",
    "dt = datetime(2017, 10, 1, 15, 26, 26, tzinfo=timezone.utc)\n",
    "\n",
    "# Print results\n",
    "print(dt.isoformat())\n",
    "\n",
    "# ------------------------------------------------------------------------------------\n",
    "# Create a timezone for Pacific Standard Time, or UTC-8\n",
    "pst = timezone(timedelta(hours=-8))\n",
    "\n",
    "# October 1, 2017 at 15:26:26, UTC-8\n",
    "dt = datetime(2017, 10, 1, 15, 26, 26, tzinfo=pst)\n",
    "\n",
    "# Print results\n",
    "print(dt.isoformat())\n",
    "\n",
    "# ------------------------------------------------------------------------------------\n",
    "# Create a timezone for Australian Eastern Daylight Time, or UTC+11\n",
    "aedt = timezone(timedelta(hours=11))\n",
    "\n",
    "# October 1, 2017 at 15:26:26, UTC+11\n",
    "dt = datetime(2017, 10, 1, 15, 26, 26, tzinfo=aedt)\n",
    "\n",
    "# Print results\n",
    "print(dt.isoformat())"
   ]
  },
  {
   "cell_type": "markdown",
   "id": "42d73130",
   "metadata": {},
   "source": [
    "#### Replacing timezones"
   ]
  },
  {
   "cell_type": "code",
   "execution_count": 45,
   "id": "3a1dfecc",
   "metadata": {},
   "outputs": [
    {
     "data": {
      "text/plain": [
       "datetime.datetime(2017, 10, 1, 15, 26, 26, tzinfo=datetime.timezone(datetime.timedelta(days=-1, seconds=72000)))"
      ]
     },
     "execution_count": 45,
     "metadata": {},
     "output_type": "execute_result"
    }
   ],
   "source": [
    "# Create a timezone object corresponding to UTC-4\n",
    "edt = timezone(timedelta(hours=-4))\n",
    "\n",
    "dt.replace(tzinfo=edt)"
   ]
  },
  {
   "cell_type": "markdown",
   "id": "1f1b5760",
   "metadata": {},
   "source": [
    "Use timezone.utc as a convenient shortcut for UTC"
   ]
  },
  {
   "cell_type": "code",
   "execution_count": 46,
   "id": "973f760c",
   "metadata": {},
   "outputs": [
    {
     "data": {
      "text/plain": [
       "datetime.datetime(2017, 10, 1, 4, 26, 26, tzinfo=datetime.timezone.utc)"
      ]
     },
     "execution_count": 46,
     "metadata": {},
     "output_type": "execute_result"
    }
   ],
   "source": [
    "dt.astimezone(timezone.utc)"
   ]
  },
  {
   "cell_type": "markdown",
   "id": "a993211a",
   "metadata": {},
   "source": [
    "#### Timezone Database"
   ]
  },
  {
   "cell_type": "code",
   "execution_count": 47,
   "id": "16e22a6f",
   "metadata": {},
   "outputs": [
    {
     "data": {
      "text/plain": [
       "datetime.datetime(2017, 10, 1, 15, 26, 26, tzinfo=tzfile('/usr/share/zoneinfo/America/New_York'))"
      ]
     },
     "execution_count": 47,
     "metadata": {},
     "output_type": "execute_result"
    }
   ],
   "source": [
    "# Import tz\n",
    "from dateutil import tz\n",
    "\n",
    "# Create a timezone object for Eastern Time\n",
    "et = tz.gettz('America/New_York')\n",
    "\n",
    "dt.replace(tzinfo = et)"
   ]
  },
  {
   "cell_type": "markdown",
   "id": "ffed82bd",
   "metadata": {},
   "source": [
    "When you need to move a datetime from one timezone into another, use .astimezone() and tz"
   ]
  },
  {
   "cell_type": "code",
   "execution_count": 48,
   "id": "7a788b82",
   "metadata": {},
   "outputs": [
    {
     "name": "stdout",
     "output_type": "stream",
     "text": [
      "2017-10-01T15:26:26+11:00\n",
      "2017-10-01T05:26:26+01:00\n"
     ]
    }
   ],
   "source": [
    "# Create the timezone object\n",
    "uk = tz.gettz('Europe/London')\n",
    "\n",
    "# Pull out the start of the first trip\n",
    "local = dt\n",
    "\n",
    "# What time was it in the UK?\n",
    "notlocal = local.astimezone(uk)\n",
    "\n",
    "# Print them out and see the difference\n",
    "print(local.isoformat())\n",
    "print(notlocal.isoformat())"
   ]
  },
  {
   "cell_type": "code",
   "execution_count": 49,
   "id": "9ef642c3",
   "metadata": {},
   "outputs": [
    {
     "name": "stdout",
     "output_type": "stream",
     "text": [
      "2017-10-01T15:26:26+11:00\n",
      "2017-10-01T09:56:26+05:30\n"
     ]
    }
   ],
   "source": [
    "# Create the timezone object\n",
    "ist = tz.gettz('Asia/Kolkata')\n",
    "\n",
    "# What time was it in India?\n",
    "notlocal = local.astimezone(ist)\n",
    "\n",
    "# Print them out and see the difference\n",
    "print(local.isoformat())\n",
    "print(notlocal.isoformat())"
   ]
  },
  {
   "cell_type": "code",
   "execution_count": 50,
   "id": "5ce75046",
   "metadata": {},
   "outputs": [
    {
     "name": "stdout",
     "output_type": "stream",
     "text": [
      "2017-10-01T15:26:26+11:00\n",
      "2017-10-01T18:26:26+14:00\n"
     ]
    }
   ],
   "source": [
    "# Create the timezone object\n",
    "sm = tz.gettz('Pacific/Apia')\n",
    "\n",
    "# What time was it in Samoa?\n",
    "notlocal = local.astimezone(sm)\n",
    "\n",
    "# Print them out and see the difference\n",
    "print(local.isoformat())\n",
    "print(notlocal.isoformat())"
   ]
  },
  {
   "cell_type": "markdown",
   "id": "06215fe9",
   "metadata": {},
   "source": [
    "#### Daylight savings"
   ]
  },
  {
   "cell_type": "code",
   "execution_count": 51,
   "id": "8226c0a3",
   "metadata": {},
   "outputs": [
    {
     "name": "stdout",
     "output_type": "stream",
     "text": [
      "2017-03-12T00:00:00-05:00 to 2017-03-12T06:00:00-04:00\n",
      "6.0\n",
      "5.0\n"
     ]
    }
   ],
   "source": [
    "# Import datetime, timedelta, tz, timezone\n",
    "from datetime import datetime, timedelta, timezone\n",
    "from dateutil import tz\n",
    "\n",
    "# Start on March 12, 2017, midnight, then add 6 hours\n",
    "start = datetime(2017, 3, 12, tzinfo = tz.gettz('America/New_York'))\n",
    "end = start + timedelta(hours=6)\n",
    "print(start.isoformat() + \" to \" + end.isoformat())\n",
    "\n",
    "# How many hours have elapsed?\n",
    "print((end - start).total_seconds()/(60*60))\n",
    "\n",
    "# What if we move to UTC?\n",
    "print((end.astimezone(timezone.utc) - start.astimezone(timezone.utc)).total_seconds()/(60*60))"
   ]
  },
  {
   "cell_type": "markdown",
   "id": "d783e179",
   "metadata": {},
   "source": [
    "#### Dates in pandas"
   ]
  },
  {
   "cell_type": "code",
   "execution_count": 54,
   "id": "e14a50b3",
   "metadata": {},
   "outputs": [],
   "source": [
    "# Load Pandas\n",
    "import pandas as pd\n",
    "# Import W20529's rides in Q4 2017\n",
    "rides = pd.read_csv('assets/dates/capital-onebike.csv',\n",
    "                    parse_dates = ['Start date', 'End date'])\n",
    "# Or:\n",
    "rides['Start date'] = pd.to_datetime(rides['Start date'],\n",
    "                                     format = \"%Y-%m-%d %H:%M:%S\")"
   ]
  },
  {
   "cell_type": "code",
   "execution_count": 55,
   "id": "53ba31f2",
   "metadata": {},
   "outputs": [
    {
     "data": {
      "text/html": [
       "<div>\n",
       "<style scoped>\n",
       "    .dataframe tbody tr th:only-of-type {\n",
       "        vertical-align: middle;\n",
       "    }\n",
       "\n",
       "    .dataframe tbody tr th {\n",
       "        vertical-align: top;\n",
       "    }\n",
       "\n",
       "    .dataframe thead th {\n",
       "        text-align: right;\n",
       "    }\n",
       "</style>\n",
       "<table border=\"1\" class=\"dataframe\">\n",
       "  <thead>\n",
       "    <tr style=\"text-align: right;\">\n",
       "      <th></th>\n",
       "      <th>Start date</th>\n",
       "      <th>End date</th>\n",
       "      <th>Start station number</th>\n",
       "      <th>Start station</th>\n",
       "      <th>End station number</th>\n",
       "      <th>End station</th>\n",
       "      <th>Bike number</th>\n",
       "      <th>Member type</th>\n",
       "    </tr>\n",
       "  </thead>\n",
       "  <tbody>\n",
       "    <tr>\n",
       "      <th>0</th>\n",
       "      <td>2017-10-01 15:23:25</td>\n",
       "      <td>2017-10-01 15:26:26</td>\n",
       "      <td>31038</td>\n",
       "      <td>Glebe Rd &amp; 11th St N</td>\n",
       "      <td>31036</td>\n",
       "      <td>George Mason Dr &amp; Wilson Blvd</td>\n",
       "      <td>W20529</td>\n",
       "      <td>Member</td>\n",
       "    </tr>\n",
       "    <tr>\n",
       "      <th>1</th>\n",
       "      <td>2017-10-01 15:42:57</td>\n",
       "      <td>2017-10-01 17:49:59</td>\n",
       "      <td>31036</td>\n",
       "      <td>George Mason Dr &amp; Wilson Blvd</td>\n",
       "      <td>31036</td>\n",
       "      <td>George Mason Dr &amp; Wilson Blvd</td>\n",
       "      <td>W20529</td>\n",
       "      <td>Casual</td>\n",
       "    </tr>\n",
       "    <tr>\n",
       "      <th>2</th>\n",
       "      <td>2017-10-02 06:37:10</td>\n",
       "      <td>2017-10-02 06:42:53</td>\n",
       "      <td>31036</td>\n",
       "      <td>George Mason Dr &amp; Wilson Blvd</td>\n",
       "      <td>31037</td>\n",
       "      <td>Ballston Metro / N Stuart &amp; 9th St N</td>\n",
       "      <td>W20529</td>\n",
       "      <td>Member</td>\n",
       "    </tr>\n",
       "    <tr>\n",
       "      <th>3</th>\n",
       "      <td>2017-10-02 08:56:45</td>\n",
       "      <td>2017-10-02 09:18:03</td>\n",
       "      <td>31037</td>\n",
       "      <td>Ballston Metro / N Stuart &amp; 9th St N</td>\n",
       "      <td>31295</td>\n",
       "      <td>Potomac &amp; M St NW</td>\n",
       "      <td>W20529</td>\n",
       "      <td>Member</td>\n",
       "    </tr>\n",
       "    <tr>\n",
       "      <th>4</th>\n",
       "      <td>2017-10-02 18:23:48</td>\n",
       "      <td>2017-10-02 18:45:05</td>\n",
       "      <td>31295</td>\n",
       "      <td>Potomac &amp; M St NW</td>\n",
       "      <td>31230</td>\n",
       "      <td>Metro Center / 12th &amp; G St NW</td>\n",
       "      <td>W20529</td>\n",
       "      <td>Member</td>\n",
       "    </tr>\n",
       "  </tbody>\n",
       "</table>\n",
       "</div>"
      ],
      "text/plain": [
       "           Start date            End date  Start station number  \\\n",
       "0 2017-10-01 15:23:25 2017-10-01 15:26:26                 31038   \n",
       "1 2017-10-01 15:42:57 2017-10-01 17:49:59                 31036   \n",
       "2 2017-10-02 06:37:10 2017-10-02 06:42:53                 31036   \n",
       "3 2017-10-02 08:56:45 2017-10-02 09:18:03                 31037   \n",
       "4 2017-10-02 18:23:48 2017-10-02 18:45:05                 31295   \n",
       "\n",
       "                          Start station  End station number  \\\n",
       "0                  Glebe Rd & 11th St N               31036   \n",
       "1         George Mason Dr & Wilson Blvd               31036   \n",
       "2         George Mason Dr & Wilson Blvd               31037   \n",
       "3  Ballston Metro / N Stuart & 9th St N               31295   \n",
       "4                     Potomac & M St NW               31230   \n",
       "\n",
       "                            End station Bike number Member type  \n",
       "0         George Mason Dr & Wilson Blvd      W20529      Member  \n",
       "1         George Mason Dr & Wilson Blvd      W20529      Casual  \n",
       "2  Ballston Metro / N Stuart & 9th St N      W20529      Member  \n",
       "3                     Potomac & M St NW      W20529      Member  \n",
       "4         Metro Center / 12th & G St NW      W20529      Member  "
      ]
     },
     "execution_count": 55,
     "metadata": {},
     "output_type": "execute_result"
    }
   ],
   "source": [
    "rides.head()"
   ]
  },
  {
   "cell_type": "code",
   "execution_count": 56,
   "id": "b964e59f",
   "metadata": {},
   "outputs": [],
   "source": [
    "rides['Duration'] = rides['End date'] - rides['Start date']"
   ]
  },
  {
   "cell_type": "code",
   "execution_count": 58,
   "id": "ea3542cb",
   "metadata": {},
   "outputs": [
    {
     "data": {
      "text/plain": [
       "0     181.0\n",
       "1    7622.0\n",
       "2     343.0\n",
       "3    1278.0\n",
       "4    1277.0\n",
       "Name: Duration, dtype: float64"
      ]
     },
     "execution_count": 58,
     "metadata": {},
     "output_type": "execute_result"
    }
   ],
   "source": [
    "rides['Duration'].dt.total_seconds().head(5)"
   ]
  },
  {
   "cell_type": "code",
   "execution_count": 59,
   "id": "53f930a2",
   "metadata": {},
   "outputs": [
    {
     "data": {
      "text/plain": [
       "Member type\n",
       "Casual    1994.666667\n",
       "Member     992.279661\n",
       "Name: Duration seconds, dtype: float64"
      ]
     },
     "execution_count": 59,
     "metadata": {},
     "output_type": "execute_result"
    }
   ],
   "source": [
    "# Add duration (in seconds) column\n",
    "rides['Duration seconds'] = rides['Duration'].dt.total_seconds()\n",
    "\n",
    "# Average duration per member type\n",
    "rides.groupby('Member type')['Duration seconds'].mean()"
   ]
  },
  {
   "cell_type": "code",
   "execution_count": 60,
   "id": "de8242b3",
   "metadata": {},
   "outputs": [
    {
     "data": {
      "text/plain": [
       "Start date\n",
       "2017-10-31    1886.453704\n",
       "2017-11-30     854.174757\n",
       "2017-12-31     635.101266\n",
       "Freq: M, Name: Duration seconds, dtype: float64"
      ]
     },
     "execution_count": 60,
     "metadata": {},
     "output_type": "execute_result"
    }
   ],
   "source": [
    "# Average duration by month\n",
    "rides.resample('M', on = 'Start date')['Duration seconds'].mean()"
   ]
  },
  {
   "cell_type": "code",
   "execution_count": 68,
   "id": "299cb27d",
   "metadata": {},
   "outputs": [
    {
     "name": "stdout",
     "output_type": "stream",
     "text": [
      "Start date\n",
      "2017-10-31    5.519242\n",
      "2017-11-30    7.256443\n",
      "2017-12-31    9.202380\n",
      "Freq: M, Name: Time since, dtype: float64\n"
     ]
    }
   ],
   "source": [
    "# Shift the index of the end date up one; now subract it from the start date\n",
    "rides['Time since'] = rides['Start date'] - (rides['End date'].shift(1))\n",
    "\n",
    "# Move from a timedelta to a number of seconds, which is easier to work with\n",
    "rides['Time since'] = rides['Time since'].dt.total_seconds()\n",
    "\n",
    "# Resample to the month\n",
    "monthly = rides.resample('M', on = 'Start date')\n",
    "\n",
    "# Print the average hours between rides each month\n",
    "print(monthly['Time since'].mean()/(60*60))"
   ]
  },
  {
   "cell_type": "code",
   "execution_count": 70,
   "id": "a8e438b9",
   "metadata": {},
   "outputs": [
    {
     "data": {
      "image/png": "[encoded data removed]",
      "text/plain": [
       "<Figure size 432x288 with 1 Axes>"
      ]
     },
     "metadata": {
      "needs_background": "light"
     },
     "output_type": "display_data"
    }
   ],
   "source": [
    "# Import matplotlib\n",
    "import matplotlib.pyplot as plt\n",
    "\n",
    "# Resample rides to daily, take the size, plot the results\n",
    "rides.resample('D', on = 'Start date')\\\n",
    "  .size()\\\n",
    "  .plot(ylim = [0, 15])\n",
    "\n",
    "# Show the results\n",
    "plt.show()"
   ]
  },
  {
   "cell_type": "code",
   "execution_count": 71,
   "id": "6821dead",
   "metadata": {},
   "outputs": [
    {
     "name": "stdout",
     "output_type": "stream",
     "text": [
      "Start date  Member type\n",
      "2017-10-31  Member         0.768519\n",
      "            Casual         0.231481\n",
      "2017-11-30  Member         0.825243\n",
      "            Casual         0.174757\n",
      "2017-12-31  Member         0.860759\n",
      "            Casual         0.139241\n",
      "Name: Member type, dtype: float64\n"
     ]
    }
   ],
   "source": [
    "# Resample rides to be monthly on the basis of Start date\n",
    "monthly_rides = rides.resample('M',on='Start date')['Member type']\n",
    "\n",
    "# Take the ratio of the .value_counts() over the total number of rides\n",
    "print(monthly_rides.value_counts() / monthly_rides.size())"
   ]
  },
  {
   "cell_type": "code",
   "execution_count": 72,
   "id": "318fd68c",
   "metadata": {},
   "outputs": [
    {
     "name": "stdout",
     "output_type": "stream",
     "text": [
      "2017-10-01 15:23:25-04:00\n"
     ]
    }
   ],
   "source": [
    "# Localize the Start date column to America/New_York\n",
    "rides['Start date'] = rides['Start date'].dt.tz_localize('America/New_York', ambiguous='NaT')\n",
    "\n",
    "# Print first value\n",
    "print(rides['Start date'].iloc[0])"
   ]
  },
  {
   "cell_type": "code",
   "execution_count": 74,
   "id": "b061678a",
   "metadata": {},
   "outputs": [
    {
     "name": "stdout",
     "output_type": "stream",
     "text": [
      "2017-10-01 20:23:25+01:00\n"
     ]
    }
   ],
   "source": [
    "# Convert the Start date column to Europe/London\n",
    "rides['Start date'] = rides['Start date'].dt.tz_convert('Europe/London')\n",
    "\n",
    "# Print the new value\n",
    "print(rides['Start date'].iloc[0])"
   ]
  },
  {
   "cell_type": "code",
   "execution_count": null,
   "id": "078514ac",
   "metadata": {},
   "outputs": [],
   "source": []
  }
 ],
 "metadata": {
  "kernelspec": {
   "display_name": "base",
   "language": "python",
   "name": "python3"
  },
  "language_info": {
   "codemirror_mode": {
    "name": "ipython",
    "version": 3
   },
   "file_extension": ".py",
   "mimetype": "text/x-python",
   "name": "python",
   "nbconvert_exporter": "python",
   "pygments_lexer": "ipython3",
   "version": "3.8.8 (default, Apr 13 2021, 12:59:45) \n[Clang 10.0.0 ]"
  },
  "vscode": {
   "interpreter": {
    "hash": "882fd536bdd77ffc31cc93c3daeb542553cacf6eeeeeeae9c094b8b1dd907755"
   }
  }
 },
 "nbformat": 4,
 "nbformat_minor": 5
}
