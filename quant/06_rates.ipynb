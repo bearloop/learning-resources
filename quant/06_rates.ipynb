{
 "cells": [
  {
   "cell_type": "markdown",
   "id": "45507bc2",
   "metadata": {},
   "source": [
    "### Rates\n",
    "\n",
    "\n",
    " - bond prices and yields move inversely\n",
    " - bond premium: price > 100 coupon rate > yield\n",
    " - bond discount: price < 100 coupon rate < yield\n",
    " - bond par: price = 100 coupon rate = yield\n",
    " - relationship between price and yield is non-linear due to convexity"
   ]
  },
  {
   "cell_type": "code",
   "execution_count": 7,
   "id": "d7c58060",
   "metadata": {},
   "outputs": [],
   "source": [
    "import numpy_financial as npf\n",
    "import numpy as np\n",
    "import pandas as pd\n",
    "import matplotlib.pyplot as plt"
   ]
  },
  {
   "cell_type": "code",
   "execution_count": 8,
   "id": "3dc7c82a",
   "metadata": {},
   "outputs": [
    {
     "name": "stderr",
     "output_type": "stream",
     "text": [
      "/Users/lazaros/opt/anaconda3/lib/python3.8/site-packages/numpy_financial/_financial.py:531: RuntimeWarning: invalid value encountered in true_divide\n",
      "  fact = np.where(rate == 0, nper, (1+rate*when)*(temp-1)/rate)\n",
      "/Users/lazaros/opt/anaconda3/lib/python3.8/site-packages/numpy_financial/_financial.py:531: RuntimeWarning: invalid value encountered in true_divide\n",
      "  fact = np.where(rate == 0, nper, (1+rate*when)*(temp-1)/rate)\n"
     ]
    },
    {
     "data": {
      "image/png": "[encoded data removed]",
      "text/plain": [
       "<Figure size 432x288 with 1 Axes>"
      ]
     },
     "metadata": {
      "needs_background": "light"
     },
     "output_type": "display_data"
    }
   ],
   "source": [
    "# Create an array of bond yields and convert to DataFrame\n",
    "bond_yields = np.arange(0, 20, 0.1)\n",
    "bond = pd.DataFrame(bond_yields, columns=['bond_yield'])\n",
    "\n",
    "# Add columns for different bonds\n",
    "bond['bond_price_5Y'] = -npf.pv(rate=bond['bond_yield'] / 100, nper=5, pmt=5, fv=100)\n",
    "bond['bond_price_10Y'] = -npf.pv(rate=bond['bond_yield'] / 100, nper=10, pmt=5, fv=100)\n",
    "\n",
    "# Plot graph of bonds\n",
    "plt.plot(bond['bond_yield'], bond['bond_price_5Y'], label='5 Year Bond')\n",
    "plt.plot(bond['bond_yield'], bond['bond_price_10Y'], label='10 Year Bond')\n",
    "plt.xlabel('Yield (%)')\n",
    "plt.ylabel('Bond Price (USD)')\n",
    "plt.legend()\n",
    "plt.show()"
   ]
  },
  {
   "cell_type": "markdown",
   "id": "d37d3861",
   "metadata": {},
   "source": [
    "### Duration\n",
    " \n",
    " - can be thought of as the average time taken to get your money back\n",
    " - measures sensitivity of bond prices to interest rates\n",
    " - one duration definition is this:\n",
    "     - % change in bond price per 1% change in yield\n",
    " - duration is the derivative of price with respect to bond yields or the slope of the tangent line of the curve between yield and bond price\n",
    " - all other things equal:\n",
    "     - longer maturity bonds will have higher duration\n",
    "     - lower or zero coupon rate bonds will have higher duration\n",
    "     - bond price curve is steeper for lower yields, so lower yielding bonds will have higher duration\n",
    " - simple duration formula:\n",
    "     - dur = (Price Down - Price Up) / (2 * Price at Current Yield * Dy)\n",
    "     - Dy = 1%\n",
    " - duration is a linear approximation however and does not reflect convexity of bond prices\n",
    " - duration is accurate for small changes in yields only (again due to convexity in bond prices)"
   ]
  },
  {
   "cell_type": "code",
   "execution_count": 10,
   "id": "a00b8812",
   "metadata": {},
   "outputs": [
    {
     "name": "stdout",
     "output_type": "stream",
     "text": [
      "10 Year Bond 3% Yield:  100.0\n",
      "10 Year Bond 4% Yield:  91.88910422064497\n",
      "20 Year Bond 3% Yield:  100.0\n",
      "20 Year Bond 4% Yield:  86.4096736550323\n"
     ]
    }
   ],
   "source": [
    "# Price a 10 year bond with 3% annual coupon at 3% yield and print\n",
    "bond_1 = -npf.pv(rate=0.03, nper=10, pmt=3, fv=100)\n",
    "print(\"10 Year Bond 3% Yield: \", bond_1)\n",
    "\n",
    "# Price a 10 year bond with 3% annual coupon at 4% yield and print\n",
    "bond_2 = -npf.pv(rate=0.04, nper=10, pmt=3, fv=100)\n",
    "print(\"10 Year Bond 4% Yield: \", bond_2)\n",
    "\n",
    "# Price a 20 year bond with 3% annual coupon at 3% yield and print\n",
    "bond_3 = -npf.pv(rate=0.03, nper=20, pmt=3, fv=100)\n",
    "print(\"20 Year Bond 3% Yield: \", bond_3)\n",
    "\n",
    "# Price a 20 year bond with 3% annual coupon at 4% yield and print\n",
    "bond_4 = -npf.pv(rate=0.04, nper=20, pmt=3, fv=100)\n",
    "print(\"20 Year Bond 4% Yield: \", bond_4)"
   ]
  },
  {
   "cell_type": "code",
   "execution_count": 11,
   "id": "0217cc0a",
   "metadata": {},
   "outputs": [
    {
     "name": "stdout",
     "output_type": "stream",
     "text": [
      "Zero Coupon Bond Duration:  9.728888259316797\n"
     ]
    }
   ],
   "source": [
    "# Find the price of the zero coupon bond at current yield levels\n",
    "price = -npf.pv(rate=0.03, nper=10, pmt=0, fv=100)\n",
    "\n",
    "# Find the price of the zero coupon bond at 1% higher yield levels\n",
    "price_up = -npf.pv(rate=0.04, nper=10, pmt=0, fv=100)\n",
    "\n",
    "# Find the price of the zero coupon bond at 1% lower yield levels\n",
    "price_down = -npf.pv(rate=0.02, nper=10, pmt=0, fv=100)\n",
    "\n",
    "# Calculate duration using the formula and print result\n",
    "duration = (price_down - price_up) / (2 * price * 0.01)\n",
    "print(\"Zero Coupon Bond Duration: \", duration)"
   ]
  },
  {
   "cell_type": "code",
   "execution_count": 12,
   "id": "b9ba2267",
   "metadata": {},
   "outputs": [
    {
     "name": "stdout",
     "output_type": "stream",
     "text": [
      "Coupon Paying Bond Duration:  8.54674039279864\n"
     ]
    }
   ],
   "source": [
    "# Find the price of the coupon bond at current yield levels\n",
    "price = -npf.pv(rate=0.03, nper=10, pmt=3, fv=100)\n",
    "\n",
    "# Find the price of the coupon bond at 1% higher yield levels\n",
    "price_up = -npf.pv(rate=0.04, nper=10, pmt=3, fv=100)\n",
    "\n",
    "# Find the price of the coupon bond at 1% lower yield levels\n",
    "price_down = -npf.pv(rate=0.02, nper=10, pmt=3, fv=100)\n",
    "\n",
    "# Calculate duration using the formula\n",
    "duration = (price_down - price_up) / (2 * price * 0.01)\n",
    "\n",
    "# Print the result\n",
    "print(\"Coupon Paying Bond Duration: \", duration)"
   ]
  },
  {
   "cell_type": "code",
   "execution_count": 13,
   "id": "51fa0012",
   "metadata": {},
   "outputs": [
    {
     "name": "stdout",
     "output_type": "stream",
     "text": [
      "10 Year Bond:  8.260370518687731\n"
     ]
    }
   ],
   "source": [
    "# Find & print duration of 10 year bond with 3% coupon & 5% yield\n",
    "price_10y = -npf.pv(rate=0.05, nper=10, pmt=3, fv=100)\n",
    "price_up_10y = -npf.pv(rate=0.06, nper=10, pmt=3, fv=100)\n",
    "price_down_10y = -npf.pv(rate=0.04, nper=10, pmt=3, fv=100)\n",
    "duration_10y = (price_down_10y - price_up_10y) / (2 * price_10y * 0.01)\n",
    "print(\"10 Year Bond: \", duration_10y)"
   ]
  },
  {
   "cell_type": "code",
   "execution_count": 14,
   "id": "07531bc6",
   "metadata": {},
   "outputs": [
    {
     "name": "stdout",
     "output_type": "stream",
     "text": [
      "20 Year Bond:  13.865652120642753\n"
     ]
    }
   ],
   "source": [
    "# Find & print duration of 20 year bond with 3% coupon & 5% yield\n",
    "price_20y = -npf.pv(rate=0.05, nper=20, pmt=3, fv=100)\n",
    "price_up_20y = -npf.pv(rate=0.06, nper=20, pmt=3, fv=100)\n",
    "price_down_20y = -npf.pv(rate=0.04, nper=20, pmt=3, fv=100)\n",
    "duration_20y = (price_down_20y - price_up_20y) / (2 * price_20y * 0.01)\n",
    "print(\"20 Year Bond: \", duration_20y)"
   ]
  },
  {
   "cell_type": "code",
   "execution_count": 15,
   "id": "5712eabf",
   "metadata": {},
   "outputs": [
    {
     "name": "stderr",
     "output_type": "stream",
     "text": [
      "/Users/lazaros/opt/anaconda3/lib/python3.8/site-packages/numpy_financial/_financial.py:531: RuntimeWarning: invalid value encountered in true_divide\n",
      "  fact = np.where(rate == 0, nper, (1+rate*when)*(temp-1)/rate)\n"
     ]
    },
    {
     "data": {
      "image/png": "[encoded data removed]",
      "text/plain": [
       "<Figure size 432x288 with 1 Axes>"
      ]
     },
     "metadata": {
      "needs_background": "light"
     },
     "output_type": "display_data"
    }
   ],
   "source": [
    "# Create an array of bond yields\n",
    "bond_yields = np.arange(0, 20, 0.1)\n",
    "\n",
    "# Convert this array into a pandas DataFrame and add column title\n",
    "bond = pd.DataFrame(bond_yields, columns=['bond_yield'])\n",
    "\n",
    "# Add bond price column with price varying according to the yield\n",
    "bond['bond_price'] = -npf.pv(rate=bond['bond_yield'] / 100, nper=20, pmt=5, fv=100)\n",
    "\n",
    "# Plot graph of bond yields against prices, add x-axis and y-axis labels, show plot\n",
    "plt.plot(bond['bond_yield'], bond['bond_price'])\n",
    "plt.xlabel('Yield (%)')\n",
    "plt.ylabel('Bond Price (USD)')\n",
    "plt.show()"
   ]
  },
  {
   "cell_type": "code",
   "execution_count": 16,
   "id": "aca8d589",
   "metadata": {},
   "outputs": [
    {
     "data": {
      "image/png": "[encoded data removed]",
      "text/plain": [
       "<Figure size 432x288 with 1 Axes>"
      ]
     },
     "metadata": {
      "needs_background": "light"
     },
     "output_type": "display_data"
    }
   ],
   "source": [
    "# Create array of coupon rates and assign to pandas DataFrame\n",
    "bond_coupon = np.arange(0, 10, 0.1)\n",
    "bond = pd.DataFrame(bond_coupon, columns=['bond_coupon'])\n",
    "\n",
    "# Calculate bond price, price_up, price_down, and duration\n",
    "bond['price'] = -npf.pv(rate=0.05, nper=10, pmt=bond['bond_coupon'], fv=100)\n",
    "bond['price_up'] = -npf.pv(rate=0.05 + 0.01, nper=10, pmt=bond['bond_coupon'], fv=100)\n",
    "bond['price_down'] = -npf.pv(rate=0.05 - 0.01, nper=10, pmt=bond['bond_coupon'], fv=100)\n",
    "bond['duration'] = (bond['price_down'] - bond['price_up']) / (2 * bond['price'] * 0.01)\n",
    "\n",
    "# Plot coupon vs. duration, add labels & title, show plot\n",
    "plt.plot(bond['bond_coupon'], bond['duration'])\n",
    "plt.xlabel('Coupon (%)')\n",
    "plt.ylabel('Duration (%)')\n",
    "plt.show()"
   ]
  },
  {
   "cell_type": "markdown",
   "id": "b68dc112",
   "metadata": {},
   "source": [
    "### Dollar duration\n",
    " - dollar duration = the $ change in the bond price per 1% change in yield\n",
    " - dollar dur = duration * price * 1%\n",
    " - DV01 = duration * price * 1bp (1b = 1/10000)\n",
    " - dollar duration and DV01 are more commonly used in the real world to quickly measure the interest rate risk of a bond or portfolio (also used for other financial instruments that contain some interest rate risk)\n",
    " - using duration to predict price impacts is very common when managing a large portfolio of bonds, where repricing each bond would be very time consuming (instead, you can find the dollar duration of the portfolio and use this to predict what will happen to the portfolio as interest rates change)"
   ]
  },
  {
   "cell_type": "code",
   "execution_count": 17,
   "id": "2f24629d",
   "metadata": {},
   "outputs": [
    {
     "name": "stdout",
     "output_type": "stream",
     "text": [
      "Dollar Duration:  12.88303061419567\n",
      "DV01:  0.1288303061419567\n"
     ]
    }
   ],
   "source": [
    "# Find the duration of the bond\n",
    "price = -npf.pv(rate=0.05, nper=30, pmt=3.5, fv=100)\n",
    "price_up = -npf.pv(rate=0.06, nper=30, pmt=3.5, fv=100)\n",
    "price_down = -npf.pv(rate=0.04, nper=30, pmt=3.5, fv=100)\n",
    "duration = (price_down - price_up) / (2 * price * 0.01)\n",
    "\n",
    "# Find the dollar duration of the bond\n",
    "dollar_duration = duration * price * 0.01\n",
    "print(\"Dollar Duration: \", dollar_duration)\n",
    "\n",
    "# Find the DV01 of the bond\n",
    "dv01 = duration * price * 0.0001\n",
    "print(\"DV01: \", dv01)"
   ]
  },
  {
   "cell_type": "code",
   "execution_count": 18,
   "id": "edaf21dd",
   "metadata": {},
   "outputs": [
    {
     "name": "stdout",
     "output_type": "stream",
     "text": [
      "Number of bonds to sell:  38819.875776397515\n",
      "Dollar amount to sell: USD 2986801.2422360247\n"
     ]
    }
   ],
   "source": [
    "# Assign DV01 of portfolio and bond to variables\n",
    "portfolio_dv01 = 5000\n",
    "bond_dv01 = 0.1288\n",
    "bond_price = 76.94\n",
    "\n",
    "# Calculate quantity of bond to hedge portfolio\n",
    "hedge_quantity = portfolio_dv01 / bond_dv01\n",
    "print(\"Number of bonds to sell: \", hedge_quantity)\n",
    "\n",
    "# Calculate dollar amount of bond to hedge portfolio\n",
    "hedge_amount = hedge_quantity * bond_price\n",
    "print(\"Dollar amount to sell: USD\", hedge_amount)"
   ]
  },
  {
   "cell_type": "code",
   "execution_count": 19,
   "id": "7acf59cc",
   "metadata": {},
   "outputs": [
    {
     "name": "stdout",
     "output_type": "stream",
     "text": [
      "Predicted Change: USD  9.66\n",
      "Actual Change: USD  10.207297542521033\n",
      "Estimation Error: USD  -0.5472975425210329\n"
     ]
    }
   ],
   "source": [
    "# Assign bond price, dollar duration, yield change to variables\n",
    "bond_price = 113.36\n",
    "dollar_duration = 4.83\n",
    "yield_change = -0.02\n",
    "\n",
    "# Predict bond price change using duration\n",
    "price_prediction = -100 * dollar_duration * yield_change\n",
    "print(\"Predicted Change: USD \", price_prediction)\n",
    "\n",
    "# Find actual price change and compare\n",
    "price_actual = -npf.pv(rate=0.02, nper=5, pmt=7, fv=100) - bond_price\n",
    "print(\"Actual Change: USD \", price_actual)\n",
    "print(\"Estimation Error: USD \", price_prediction - price_actual)"
   ]
  },
  {
   "cell_type": "markdown",
   "id": "b658b255",
   "metadata": {},
   "source": [
    "### Convexity\n",
    "\n",
    " - measures the curvature of bond prices\n",
    " - higher convexity means a more curved price/yield relationship in bonds\n",
    " \n",
    " <img src=\"assets/qrm/rates_convexity.png\" style=\"height: 260px;\"/>\n",
    " \n",
    " - convexity is an advantage -> when yields fall prices rise more than they fall when yields rise\n",
    " \n",
    " - lower coupon bonds have higher convexity\n",
    " - longer maturing bonds have higher convexity\n",
    " - lower yielding bonds have higher higher convexity"
   ]
  },
  {
   "cell_type": "code",
   "execution_count": 20,
   "id": "3d2e346e",
   "metadata": {},
   "outputs": [
    {
     "name": "stderr",
     "output_type": "stream",
     "text": [
      "/Users/lazaros/opt/anaconda3/lib/python3.8/site-packages/numpy_financial/_financial.py:531: RuntimeWarning: invalid value encountered in true_divide\n",
      "  fact = np.where(rate == 0, nper, (1+rate*when)*(temp-1)/rate)\n"
     ]
    }
   ],
   "source": [
    "# Price a 10 year bond with 5% coupon and 5% yield, reprice at higher and lower yields\n",
    "price = -npf.pv(rate=0.05, nper=10, pmt=5, fv=100)\n",
    "price_up = -npf.pv(rate=0.06, nper=10, pmt=5, fv=100)\n",
    "price_down = -npf.pv(rate=0.04, nper=10, pmt=5, fv=100)\n",
    "\n",
    "# Find the duration and dollar duration of the bond\n",
    "duration = (price_down - price_up) / (2 * price * 0.01)\n",
    "dollar_duration = duration * price * 0.01\n",
    "\n",
    "# Create an array of yields from 0 to 10 in steps of 0.1, convert to DataFrame\n",
    "bond_yields = np.arange(0, 10, 0.1)\n",
    "bond = pd.DataFrame(bond_yields, columns=['bond_yield'])\n",
    "\n",
    "# Add a column called price with the bond price for each yield level\n",
    "bond['price'] = -npf.pv(rate=bond['bond_yield'] / 100, nper=10, pmt=5, fv=100)"
   ]
  },
  {
   "cell_type": "code",
   "execution_count": 21,
   "id": "42750c69",
   "metadata": {},
   "outputs": [
    {
     "data": {
      "image/png": "[encoded data removed]",
      "text/plain": [
       "<Figure size 432x288 with 1 Axes>"
      ]
     },
     "metadata": {
      "needs_background": "light"
     },
     "output_type": "display_data"
    }
   ],
   "source": [
    "# Add a column called yield_change with the current yield minus original yield\n",
    "bond['yield_change'] = (bond['bond_yield'] - 5)\n",
    "\n",
    "# Find the predicted bond price change using dollar duration then find predicted price\n",
    "bond['price_change'] = -100 * dollar_duration * bond['yield_change'] / 100\n",
    "bond['predicted_price'] = price + bond['price_change'] \n",
    "\n",
    "# Plot bond yields against predicted and actual prices, add labels, legend, and display\n",
    "plt.plot(bond['bond_yield'], bond['price'])\n",
    "plt.plot(bond['bond_yield'], bond['predicted_price'])\n",
    "plt.xlabel('Yield (%)')\n",
    "plt.ylabel('Price (USD)')\n",
    "plt.legend([\"Actual Price\", \"Predicted Price\"])\n",
    "plt.show()"
   ]
  },
  {
   "cell_type": "code",
   "execution_count": 22,
   "id": "4bf4141e",
   "metadata": {},
   "outputs": [
    {
     "name": "stdout",
     "output_type": "stream",
     "text": [
      "Convexity:  200.6213463156488\n"
     ]
    }
   ],
   "source": [
    "# Find the price of a 20 year bond with 6% coupon and 5% yield\n",
    "price = -npf.pv(rate=0.05, nper=20, pmt=6, fv=100)\n",
    "\n",
    "# Find the price of the same bond for a 1% higher and 1% lower level of yields\n",
    "price_up = -npf.pv(rate=0.06, nper=20, pmt=6, fv=100)\n",
    "price_down = -npf.pv(rate=0.04, nper=20, pmt=6, fv=100)\n",
    "\n",
    "# Find the convexity of the bond and print the result\n",
    "convexity = (price_down + price_up - 2 * price) / (price * 0.01 ** 2)\n",
    "print(\"Convexity: \", convexity)"
   ]
  },
  {
   "cell_type": "code",
   "execution_count": 23,
   "id": "082b6c24",
   "metadata": {},
   "outputs": [
    {
     "name": "stdout",
     "output_type": "stream",
     "text": [
      "Low Coupon Bond Convexity:  27.509977561710695\n"
     ]
    }
   ],
   "source": [
    "# Find the price of a 5 year bond with 3% yield and 1% coupon\n",
    "price_1 = -npf.pv(rate=0.03, nper=5, pmt=1, fv=100)\n",
    "\n",
    "# Shift yields up and down 1% and reprice\n",
    "price_up_1 = -npf.pv(rate=0.04, nper=5, pmt=1, fv=100)\n",
    "price_down_1 = -npf.pv(rate=0.02, nper=5, pmt=1, fv=100)\n",
    "\n",
    "# Find convexity of the bond and print the result\n",
    "convexity_1 = (price_down_1 + price_up_1 - 2 * price_1) / (price_1 * 0.01 ** 2)\n",
    "print(\"Low Coupon Bond Convexity: \", convexity_1)"
   ]
  },
  {
   "cell_type": "code",
   "execution_count": 24,
   "id": "a2deb2d7",
   "metadata": {},
   "outputs": [
    {
     "name": "stdout",
     "output_type": "stream",
     "text": [
      "High Coupon Bond Convexity:  22.922469468592325\n"
     ]
    }
   ],
   "source": [
    "# Find the price of a 5 year bond with 3% yield and 10% coupon\n",
    "price_2 = -npf.pv(rate=0.03, nper=5, pmt=10, fv=100)\n",
    "\n",
    "# Shift yields up and down 1% and reprice\n",
    "price_up_2 = -npf.pv(rate=0.04, nper=5, pmt=10, fv=100)\n",
    "price_down_2 = -npf.pv(rate=0.02, nper=5, pmt=10, fv=100)\n",
    "\n",
    "# Find convexity of the bond and print the result\n",
    "convexity_2 = (price_down_2 + price_up_2 - 2 * price_2) / (price_2 * 0.01 ** 2)\n",
    "print(\"High Coupon Bond Convexity: \", convexity_2)"
   ]
  },
  {
   "cell_type": "code",
   "execution_count": 25,
   "id": "249cc29c",
   "metadata": {},
   "outputs": [
    {
     "name": "stderr",
     "output_type": "stream",
     "text": [
      "/Users/lazaros/opt/anaconda3/lib/python3.8/site-packages/numpy_financial/_financial.py:531: RuntimeWarning: invalid value encountered in true_divide\n",
      "  fact = np.where(rate == 0, nper, (1+rate*when)*(temp-1)/rate)\n",
      "/Users/lazaros/opt/anaconda3/lib/python3.8/site-packages/numpy_financial/_financial.py:531: RuntimeWarning: invalid value encountered in true_divide\n",
      "  fact = np.where(rate == 0, nper, (1+rate*when)*(temp-1)/rate)\n"
     ]
    },
    {
     "data": {
      "image/png": "[encoded data removed]",
      "text/plain": [
       "<Figure size 432x288 with 1 Axes>"
      ]
     },
     "metadata": {
      "needs_background": "light"
     },
     "output_type": "display_data"
    }
   ],
   "source": [
    "# Create array of yields and convert to pandas DataFrame\n",
    "bond_yields = np.arange(0, 20, 0.1)\n",
    "bond = pd.DataFrame(bond_yields, columns=['bond_yield'])\n",
    "\n",
    "# Add columns for 5 year and 20 year bonds\n",
    "bond['price_5y'] = -npf.pv(rate=bond['bond_yield'] / 100, nper=5, pmt=5, fv=100)\n",
    "bond['price_20y'] = -npf.pv(rate=bond['bond_yield'] / 100, nper=20, pmt=5, fv=100)\n",
    "\n",
    "# Create plot for bond bonds, add labels to axes, legend, and display\n",
    "plt.plot(bond['bond_yield'], bond['price_5y'])\n",
    "plt.plot(bond['bond_yield'], bond['price_20y'])\n",
    "plt.xlabel('Yield (%)')\n",
    "plt.ylabel('Price (USD)')\n",
    "plt.legend([\"5 Year Bond\", \"20 Year Bond\"])\n",
    "plt.show()"
   ]
  },
  {
   "cell_type": "code",
   "execution_count": 26,
   "id": "8427f2d1",
   "metadata": {},
   "outputs": [
    {
     "name": "stderr",
     "output_type": "stream",
     "text": [
      "/Users/lazaros/opt/anaconda3/lib/python3.8/site-packages/numpy_financial/_financial.py:531: RuntimeWarning: invalid value encountered in true_divide\n",
      "  fact = np.where(rate == 0, nper, (1+rate*when)*(temp-1)/rate)\n",
      "/Users/lazaros/opt/anaconda3/lib/python3.8/site-packages/numpy_financial/_financial.py:531: RuntimeWarning: invalid value encountered in true_divide\n",
      "  fact = np.where(rate == 0, nper, (1+rate*when)*(temp-1)/rate)\n"
     ]
    },
    {
     "data": {
      "image/png": "[encoded data removed]",
      "text/plain": [
       "<Figure size 432x288 with 1 Axes>"
      ]
     },
     "metadata": {
      "needs_background": "light"
     },
     "output_type": "display_data"
    }
   ],
   "source": [
    "# Create array of bond yields and covert to pandas DataFrame\n",
    "bond_yields = np.arange(0, 20, 0.1)\n",
    "bond = pd.DataFrame(bond_yields, columns=['bond_yield'])\n",
    "\n",
    "# Find price of bond, reprice for higher and lower yields, calculate convexity\n",
    "bond['price'] = -npf.pv(rate=bond['bond_yield'] / 100, nper=20, pmt=6, fv=100)\n",
    "bond['price_up'] = -npf.pv(rate=bond['bond_yield'] / 100 + 0.01, nper=20, pmt=6, fv=100)\n",
    "bond['price_down'] = -npf.pv(rate=bond['bond_yield'] / 100 - 0.01, nper=20, pmt=6, fv=100)\n",
    "bond['convexity'] = (bond['price_down'] + bond['price_up'] - 2 * bond['price']) / (bond['price'] * 0.01 ** 2)\n",
    "\n",
    "# Create plot of bond yields against convexity, add labels to axes, display plot\n",
    "plt.plot(bond['bond_yield'], bond['convexity'])\n",
    "plt.xlabel('Yield (%)')\n",
    "plt.ylabel('Convexity')\n",
    "plt.show()"
   ]
  },
  {
   "cell_type": "markdown",
   "id": "247cfe28",
   "metadata": {},
   "source": [
    "### Dollar convexity\n",
    " - convexity is the second price of bond prices with respect to yields\n",
    " - dollar convexity = dollar change in duration for1% change in yields\n",
    " - dollar convexity = convexity * bond price * (1%)^2\n",
    " \n",
    " \n",
    " - convexity adjustment (to better predict bond price for changes in yields) refers to how much the bond prices change due to convexity\n",
    "     - convexity adj = (1/2) * (dollar convexity) * (100^2) * (Dy^2)\n",
    "     \n",
    "  <img src=\"assets/qrm/conv_adj.png\" style=\"height: 230px;\"/>\n"
   ]
  },
  {
   "cell_type": "code",
   "execution_count": 27,
   "id": "f193da57",
   "metadata": {},
   "outputs": [
    {
     "name": "stdout",
     "output_type": "stream",
     "text": [
      "Dollar convexity:  0.8386141148415902\n"
     ]
    }
   ],
   "source": [
    "# Find price of a 10 year bond with 2% coupon and 3% yield, shift yields, and reprice\n",
    "price = -npf.pv(rate=0.03, nper=10, pmt=2, fv=100)\n",
    "price_up = -npf.pv(rate=0.04, nper=10, pmt=2, fv=100)\n",
    "price_down = -npf.pv(rate=0.02, nper=10, pmt=2, fv=100)\n",
    "\n",
    "# Calculate convexity of the bond\n",
    "convexity = (price_down + price_up - 2 * price) / (price * 0.01 ** 2)\n",
    "\n",
    "# Calculate dollar convexity and print the result\n",
    "dollar_convexity = convexity * price * 0.01 ** 2\n",
    "print(\"Dollar convexity: \", dollar_convexity)"
   ]
  },
  {
   "cell_type": "code",
   "execution_count": 28,
   "id": "ba762a9b",
   "metadata": {},
   "outputs": [
    {
     "name": "stdout",
     "output_type": "stream",
     "text": [
      "Convexity adjustment:  0.3066219329699109\n"
     ]
    }
   ],
   "source": [
    "# Find price of 10 year zero coupon bond with a 5% yield, shift yields, and reprice\n",
    "price = -npf.pv(rate=0.05, nper=10, pmt=0, fv=100)\n",
    "price_up = -npf.pv(rate=0.06, nper=10, pmt=0, fv=100)\n",
    "price_down = -npf.pv(rate=0.04, nper=10, pmt=0, fv=100)\n",
    "\n",
    "# Calculate convexity and dollar convexity of the bond\n",
    "convexity = (price_down + price_up - 2 * price) / (price * 0.01 ** 2)\n",
    "dollar_convexity = convexity * price * 0.01 ** 2\n",
    "\n",
    "# Find the convexity adjustment and print the result\n",
    "convexity_adjustment = 0.5 * dollar_convexity * 100 ** 2 * 0.01 ** 2\n",
    "print(\"Convexity adjustment: \", convexity_adjustment)"
   ]
  },
  {
   "cell_type": "code",
   "execution_count": 29,
   "id": "fdd9e37c",
   "metadata": {},
   "outputs": [
    {
     "name": "stdout",
     "output_type": "stream",
     "text": [
      "Predicted Price Change:  -5.5706921248467305\n"
     ]
    }
   ],
   "source": [
    "# Find the price of 7 year bond with 3% coupon and 4% yield, shift yields and reprice\n",
    "price = -npf.pv(rate=0.04, nper=7, pmt=3, fv=100)\n",
    "price_up = -npf.pv(rate=0.05, nper=7, pmt=3, fv=100)\n",
    "price_down = -npf.pv(rate=0.03, nper=7, pmt=3, fv=100)\n",
    "\n",
    "# Find duration and dollar duration of the bond\n",
    "duration = (price_down - price_up) / (2 * price * 0.01)\n",
    "dollar_duration = duration * price * 0.01\n",
    "\n",
    "# Find convexity, dollar convexity and convexity adjustment\n",
    "convexity = (price_down + price_up - 2 * price) / (price * 0.01 ** 2)\n",
    "dollar_convexity = convexity * price * 0.01 ** 2\n",
    "convexity_adjustment = 0.5 * dollar_convexity * 100 ** 2 * 0.01 ** 2\n",
    "\n",
    "# Combine duration and convexity to predict bond price change\n",
    "combined_prediction = -100 * dollar_duration * 0.01 + convexity_adjustment\n",
    "print(\"Predicted Price Change: \", combined_prediction)"
   ]
  },
  {
   "cell_type": "code",
   "execution_count": null,
   "id": "1320ff4b",
   "metadata": {},
   "outputs": [],
   "source": []
  }
 ],
 "metadata": {
  "kernelspec": {
   "display_name": "Python 3",
   "language": "python",
   "name": "python3"
  },
  "language_info": {
   "codemirror_mode": {
    "name": "ipython",
    "version": 3
   },
   "file_extension": ".py",
   "mimetype": "text/x-python",
   "name": "python",
   "nbconvert_exporter": "python",
   "pygments_lexer": "ipython3",
   "version": "3.8.8"
  }
 },
 "nbformat": 4,
 "nbformat_minor": 5
}
