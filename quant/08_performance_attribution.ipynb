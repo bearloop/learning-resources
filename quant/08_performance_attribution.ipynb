{
 "cells": [
  {
   "cell_type": "code",
   "execution_count": 2,
   "metadata": {},
   "outputs": [],
   "source": [
    "import pandas as pd\n",
    "import numpy as np"
   ]
  },
  {
   "cell_type": "markdown",
   "metadata": {},
   "source": [
    "### Single period single currency model:\n",
    "#### Brinson - Hood - Beebower Model"
   ]
  },
  {
   "cell_type": "code",
   "execution_count": 25,
   "metadata": {},
   "outputs": [
    {
     "name": "stdout",
     "output_type": "stream",
     "text": [
      "Portfolio ret 0.101\n",
      "Benchmark ret 0.082\n",
      "Diff ret 0.019\n"
     ]
    }
   ],
   "source": [
    "# sector weights for energy, health care, financials\n",
    "port_weights = np.array([0.5, 0.3, 0.2])\n",
    "benc_weights = np.array([0.5, 0.2, 0.3])\n",
    "\n",
    "# sector returns\n",
    "port_ret = np.array([0.18, -0.03, 0.10])\n",
    "benc_ret = np.array([0.10, -0.02, 0.12])\n",
    "\n",
    "# port vs bench total return\n",
    "total_port_ret = port_ret.dot(port_weights).round(5)\n",
    "total_benc_ret = benc_ret.dot(benc_weights).round(5)\n",
    "\n",
    "print('Portfolio ret', total_port_ret)\n",
    "print('Benchmark ret', total_benc_ret)\n",
    "print('Diff ret', (total_port_ret-total_benc_ret).round(5))"
   ]
  },
  {
   "cell_type": "code",
   "execution_count": 22,
   "metadata": {},
   "outputs": [
    {
     "name": "stdout",
     "output_type": "stream",
     "text": [
      "Allocation effect -0.014\n"
     ]
    }
   ],
   "source": [
    "# sector weights of the actual fund are applied to benchmark returns\n",
    "# allocation effect = Bs - B = ΣwB - ΣWB = Σ(w-W)B =..\n",
    "# .. = benchmark sector return * diff in port minus bench weights\n",
    "allocation_effect = benc_ret.dot((port_weights-benc_weights)).round(5)\n",
    "\n",
    "print('Allocation effect', allocation_effect)"
   ]
  },
  {
   "cell_type": "code",
   "execution_count": 27,
   "metadata": {},
   "outputs": [
    {
     "name": "stdout",
     "output_type": "stream",
     "text": [
      "Selection effect 0.032\n"
     ]
    }
   ],
   "source": [
    "# sector returns of the actual fund are applied to benchmark weights\n",
    "# selection effect = Rs - B = ΣWR - ΣWB = ΣW(R-B)\n",
    "\n",
    "selection_effect = (port_ret-benc_ret).dot(benc_weights).round(5)\n",
    "print('Selection effect', selection_effect)"
   ]
  },
  {
   "cell_type": "code",
   "execution_count": 30,
   "metadata": {},
   "outputs": [
    {
     "data": {
      "text/plain": [
       "0.018"
      ]
     },
     "execution_count": 30,
     "metadata": {},
     "output_type": "execute_result"
    }
   ],
   "source": [
    "(allocation_effect + selection_effect).round(5)"
   ]
  },
  {
   "cell_type": "code",
   "execution_count": 32,
   "metadata": {},
   "outputs": [
    {
     "name": "stdout",
     "output_type": "stream",
     "text": [
      "Interaction effect 0.001\n"
     ]
    }
   ],
   "source": [
    "# combination (of alloc and select) or interaction effect\n",
    "interaction_effect = (port_ret-benc_ret).dot((port_weights-benc_weights)).round(5)\n",
    "print('Interaction effect', interaction_effect)"
   ]
  },
  {
   "cell_type": "code",
   "execution_count": 33,
   "metadata": {},
   "outputs": [
    {
     "data": {
      "text/plain": [
       "0.019"
      ]
     },
     "execution_count": 33,
     "metadata": {},
     "output_type": "execute_result"
    }
   ],
   "source": [
    "(allocation_effect + selection_effect + interaction_effect).round(5)"
   ]
  },
  {
   "cell_type": "code",
   "execution_count": 34,
   "metadata": {},
   "outputs": [
    {
     "name": "stdout",
     "output_type": "stream",
     "text": [
      "Diff ret 0.019\n"
     ]
    }
   ],
   "source": [
    "print('Diff ret', (total_port_ret-total_benc_ret).round(5))"
   ]
  },
  {
   "cell_type": "markdown",
   "metadata": {},
   "source": [
    "### Geometric equity return attribution\n",
    "#### Extension of BHB model"
   ]
  },
  {
   "cell_type": "code",
   "execution_count": null,
   "metadata": {},
   "outputs": [],
   "source": [
    "### Single period single currency model:\n",
    "#### Brinson - Hood - Beebower Model"
   ]
  }
 ],
 "metadata": {
  "kernelspec": {
   "display_name": "Python 3",
   "language": "python",
   "name": "python3"
  },
  "language_info": {
   "codemirror_mode": {
    "name": "ipython",
    "version": 3
   },
   "file_extension": ".py",
   "mimetype": "text/x-python",
   "name": "python",
   "nbconvert_exporter": "python",
   "pygments_lexer": "ipython3",
   "version": "3.8.8"
  }
 },
 "nbformat": 4,
 "nbformat_minor": 2
}
