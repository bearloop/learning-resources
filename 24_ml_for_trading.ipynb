{
 "cells": [
  {
   "cell_type": "markdown",
   "id": "81cbf97a",
   "metadata": {},
   "source": [
    "## ML for trading"
   ]
  },
  {
   "cell_type": "markdown",
   "id": "9e5c1ffc",
   "metadata": {},
   "source": [
    "#### Optimizers - Building a parameterized model\n",
    "\n",
    "\n",
    "#### Optimizers - How to optimize a portfolio\n",
    "\n",
    "\n",
    "#### Computing happening behind an order\n",
    "\n",
    "\n",
    "#### Order book\n",
    "\n",
    "#### How ML is used in a HF\n",
    "#### Assessing a learning algorithm\n",
    "#### Ensemble learners, bagging, boosting\n",
    "#### Reinforcement learning\n",
    "#### Q-learning / Dyna\n"
   ]
  },
  {
   "cell_type": "code",
   "execution_count": null,
   "id": "df7fd157",
   "metadata": {},
   "outputs": [],
   "source": []
  }
 ],
 "metadata": {
  "kernelspec": {
   "display_name": "Python 3",
   "language": "python",
   "name": "python3"
  },
  "language_info": {
   "codemirror_mode": {
    "name": "ipython",
    "version": 3
   },
   "file_extension": ".py",
   "mimetype": "text/x-python",
   "name": "python",
   "nbconvert_exporter": "python",
   "pygments_lexer": "ipython3",
   "version": "3.8.8"
  }
 },
 "nbformat": 4,
 "nbformat_minor": 5
}
