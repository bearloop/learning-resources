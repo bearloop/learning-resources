{
 "cells": [
  {
   "cell_type": "markdown",
   "id": "9bfb6c3a",
   "metadata": {},
   "source": [
    "## String Manipulation and Regular Expressions"
   ]
  },
  {
   "cell_type": "markdown",
   "id": "5dbc5ba0",
   "metadata": {},
   "source": [
    "#### Capitalising letters"
   ]
  },
  {
   "cell_type": "code",
   "execution_count": 2,
   "id": "ad399d32",
   "metadata": {},
   "outputs": [
    {
     "data": {
      "text/plain": [
       "'This is a nice string'"
      ]
     },
     "execution_count": 2,
     "metadata": {},
     "output_type": "execute_result"
    }
   ],
   "source": [
    "my_string = \"tHis Is a niCe StriNg\"\n",
    "\n",
    "my_string.capitalize()"
   ]
  },
  {
   "cell_type": "markdown",
   "id": "e80f375b",
   "metadata": {},
   "source": [
    "#### Splitting"
   ]
  },
  {
   "cell_type": "code",
   "execution_count": 3,
   "id": "f38450b6",
   "metadata": {},
   "outputs": [
    {
     "data": {
      "text/plain": [
       "['This', 'string', 'will be split']"
      ]
     },
     "execution_count": 3,
     "metadata": {},
     "output_type": "execute_result"
    }
   ],
   "source": [
    "my_string = \"This string will be split\"\n",
    "\n",
    "my_string.split(sep=\" \", maxsplit=2)"
   ]
  },
  {
   "cell_type": "markdown",
   "id": "47d737fc",
   "metadata": {},
   "source": [
    "#### Right splitting"
   ]
  },
  {
   "cell_type": "code",
   "execution_count": 4,
   "id": "25243186",
   "metadata": {},
   "outputs": [
    {
     "data": {
      "text/plain": [
       "['This string will', 'be', 'split']"
      ]
     },
     "execution_count": 4,
     "metadata": {},
     "output_type": "execute_result"
    }
   ],
   "source": [
    "my_string.rsplit(sep=\" \", maxsplit=2)"
   ]
  },
  {
   "cell_type": "markdown",
   "id": "48534862",
   "metadata": {},
   "source": [
    "#### Splitting lines"
   ]
  },
  {
   "cell_type": "code",
   "execution_count": 5,
   "id": "d582f81a",
   "metadata": {},
   "outputs": [
    {
     "data": {
      "text/plain": [
       "['This string will be split', 'in two']"
      ]
     },
     "execution_count": 5,
     "metadata": {},
     "output_type": "execute_result"
    }
   ],
   "source": [
    "my_string = \"This string will be split\\nin two\"\n",
    "\n",
    "my_string.splitlines()"
   ]
  },
  {
   "cell_type": "markdown",
   "id": "13084ce0",
   "metadata": {},
   "source": [
    "#### Joining"
   ]
  },
  {
   "cell_type": "code",
   "execution_count": 6,
   "id": "5febd3a5",
   "metadata": {},
   "outputs": [
    {
     "name": "stdout",
     "output_type": "stream",
     "text": [
      "this would be a string\n"
     ]
    }
   ],
   "source": [
    "my_list = [\"this\", \"would\", \"be\", \"a\", \"string\"]\n",
    "print(\" \".join(my_list))"
   ]
  },
  {
   "cell_type": "markdown",
   "id": "7d64daac",
   "metadata": {},
   "source": [
    "#### Stripping characters"
   ]
  },
  {
   "cell_type": "code",
   "execution_count": 7,
   "id": "a57d81d5",
   "metadata": {},
   "outputs": [
    {
     "data": {
      "text/plain": [
       "'This string will be stripped'"
      ]
     },
     "execution_count": 7,
     "metadata": {},
     "output_type": "execute_result"
    }
   ],
   "source": [
    "my_string = \" This string will be stripped\\n\"\n",
    "my_string.strip()"
   ]
  },
  {
   "cell_type": "markdown",
   "id": "03cc5082",
   "metadata": {},
   "source": [
    "#### Remove characters from the right end"
   ]
  },
  {
   "cell_type": "code",
   "execution_count": 8,
   "id": "aac77eba",
   "metadata": {},
   "outputs": [
    {
     "data": {
      "text/plain": [
       "' This string will be stripped'"
      ]
     },
     "execution_count": 8,
     "metadata": {},
     "output_type": "execute_result"
    }
   ],
   "source": [
    "my_string.rstrip()"
   ]
  },
  {
   "cell_type": "markdown",
   "id": "dbd26a61",
   "metadata": {},
   "source": [
    "#### Remove characters from the left end"
   ]
  },
  {
   "cell_type": "code",
   "execution_count": 9,
   "id": "4db279e4",
   "metadata": {},
   "outputs": [
    {
     "data": {
      "text/plain": [
       "'This string will be stripped\\n'"
      ]
     },
     "execution_count": 9,
     "metadata": {},
     "output_type": "execute_result"
    }
   ],
   "source": [
    "my_string.lstrip()"
   ]
  },
  {
   "cell_type": "markdown",
   "id": "6a43ef40",
   "metadata": {},
   "source": [
    "#### Example"
   ]
  },
  {
   "cell_type": "code",
   "execution_count": 10,
   "id": "e8cb3c4b",
   "metadata": {},
   "outputs": [
    {
     "name": "stdout",
     "output_type": "stream",
     "text": [
      "$i supposed that coming from mtv films i should expect no less$\n",
      "i supposed that coming from mtv films i should expect no less\n",
      "['i', 'supposed', 'that', 'coming', 'from', 'mtv', 'films', 'i', 'should', 'expect', 'no', 'less']\n",
      "suppose\n"
     ]
    }
   ],
   "source": [
    "movie = '$I supposed that coming from MTV Films I should expect no less$'\n",
    "\n",
    "# Convert to lowercase and print the result\n",
    "movie_lower = movie.lower()\n",
    "print(movie_lower)\n",
    "\n",
    "# Remove specified character and print the result\n",
    "movie_no_sign = movie_lower.strip(\"$\")\n",
    "print(movie_no_sign)\n",
    "\n",
    "# Split the string into substrings and print the result\n",
    "movie_split = movie_no_sign.split()\n",
    "print(movie_split)\n",
    "\n",
    "# Select root word and print the result\n",
    "word_root = movie_split[1][:-1]\n",
    "print(word_root)"
   ]
  },
  {
   "cell_type": "code",
   "execution_count": 11,
   "id": "262f6032",
   "metadata": {},
   "outputs": [
    {
     "name": "stdout",
     "output_type": "stream",
     "text": [
      "the film,however,is all good\n",
      "['the film', 'however', 'is all good']\n",
      "the film however is all good\n"
     ]
    }
   ],
   "source": [
    "movie = 'the film,however,is all good<\\\\i>'\n",
    "# Remove tags happening at the end and print results\n",
    "movie_tag = movie.rstrip(\"<\\i>\")\n",
    "print(movie_tag)\n",
    "\n",
    "# Split the string using commas and print results\n",
    "movie_no_comma = movie_tag.split(\",\")\n",
    "print(movie_no_comma)\n",
    "\n",
    "# Join back together and print results\n",
    "movie_join = \" \".join(movie_no_comma)\n",
    "print(movie_join)"
   ]
  },
  {
   "cell_type": "markdown",
   "id": "5beb368e",
   "metadata": {},
   "source": [
    "#### Finding substrings with .find(), .index()"
   ]
  },
  {
   "cell_type": "code",
   "execution_count": 1,
   "id": "8bacd248",
   "metadata": {},
   "outputs": [
    {
     "data": {
      "text/plain": [
       "8"
      ]
     },
     "execution_count": 1,
     "metadata": {},
     "output_type": "execute_result"
    }
   ],
   "source": [
    "my_string = \"Where's Waldo?\"\n",
    "my_string.find(\"Waldo\")"
   ]
  },
  {
   "cell_type": "code",
   "execution_count": 2,
   "id": "d6060553",
   "metadata": {},
   "outputs": [
    {
     "data": {
      "text/plain": [
       "-1"
      ]
     },
     "execution_count": 2,
     "metadata": {},
     "output_type": "execute_result"
    }
   ],
   "source": [
    "my_string.find(\"Wenda\")"
   ]
  },
  {
   "cell_type": "code",
   "execution_count": 3,
   "id": "c838b46a",
   "metadata": {},
   "outputs": [
    {
     "data": {
      "text/plain": [
       "-1"
      ]
     },
     "execution_count": 3,
     "metadata": {},
     "output_type": "execute_result"
    }
   ],
   "source": [
    "my_string.find(\"Waldo\", 0, 6)"
   ]
  },
  {
   "cell_type": "code",
   "execution_count": 5,
   "id": "6d569aa5",
   "metadata": {},
   "outputs": [
    {
     "data": {
      "text/plain": [
       "8"
      ]
     },
     "execution_count": 5,
     "metadata": {},
     "output_type": "execute_result"
    }
   ],
   "source": [
    "my_string.index(\"Waldo\")"
   ]
  },
  {
   "cell_type": "code",
   "execution_count": 7,
   "id": "8d7f9916",
   "metadata": {},
   "outputs": [
    {
     "name": "stdout",
     "output_type": "stream",
     "text": [
      "Not found\n"
     ]
    }
   ],
   "source": [
    "try:\n",
    "    my_string.index(\"Wenda\")\n",
    "except ValueError:\n",
    "      print(\"Not found\")"
   ]
  },
  {
   "cell_type": "markdown",
   "id": "181fd256",
   "metadata": {},
   "source": [
    "#### Counting occurrences"
   ]
  },
  {
   "cell_type": "code",
   "execution_count": 8,
   "id": "c2641767",
   "metadata": {},
   "outputs": [
    {
     "data": {
      "text/plain": [
       "2"
      ]
     },
     "execution_count": 8,
     "metadata": {},
     "output_type": "execute_result"
    }
   ],
   "source": [
    "my_string = \"How many fruits do you have in your fruit basket?\"\n",
    "my_string.count(\"fruit\")"
   ]
  },
  {
   "cell_type": "code",
   "execution_count": 9,
   "id": "344c2f25",
   "metadata": {},
   "outputs": [
    {
     "data": {
      "text/plain": [
       "1"
      ]
     },
     "execution_count": 9,
     "metadata": {},
     "output_type": "execute_result"
    }
   ],
   "source": [
    "my_string.count(\"fruit\", 0, 16)"
   ]
  },
  {
   "cell_type": "markdown",
   "id": "1d209ad2",
   "metadata": {},
   "source": [
    "#### Replacing sub-strings"
   ]
  },
  {
   "cell_type": "code",
   "execution_count": 10,
   "id": "34b3b3dc",
   "metadata": {},
   "outputs": [
    {
     "name": "stdout",
     "output_type": "stream",
     "text": [
      "The red car is between the blue car and the old car\n"
     ]
    }
   ],
   "source": [
    "my_string = \"The red house is between the blue house and the old house\"\n",
    "print(my_string.replace(\"house\", \"car\"))"
   ]
  },
  {
   "cell_type": "code",
   "execution_count": 11,
   "id": "81613fdb",
   "metadata": {},
   "outputs": [
    {
     "name": "stdout",
     "output_type": "stream",
     "text": [
      "The red car is between the blue car and the old house\n"
     ]
    }
   ],
   "source": [
    "print(my_string.replace(\"house\", \"car\", 2))"
   ]
  },
  {
   "cell_type": "markdown",
   "id": "1e00c25c",
   "metadata": {},
   "source": [
    "#### Positional formatting"
   ]
  },
  {
   "cell_type": "code",
   "execution_count": 2,
   "id": "e7a35067",
   "metadata": {},
   "outputs": [
    {
     "name": "stdout",
     "output_type": "stream",
     "text": [
      "The tool computer science is used in artificial intelligence\n",
      "The tool artificial intelligence is used in computer science\n"
     ]
    }
   ],
   "source": [
    "wikipedia_article = 'In computer science, artificial intelligence (AI), sometimes called machine intelligence, is intelligence demonstrated by machines, in contrast to the natural intelligence displayed by humans and animals.'\n",
    "\n",
    "my_list = []\n",
    "\n",
    "# Assign the substrings to the variables\n",
    "first_pos = wikipedia_article[3:19].lower()\n",
    "second_pos = wikipedia_article[21:44].lower()\n",
    "\n",
    "# Define string with placeholders \n",
    "my_list.append(\"The tool {} is used in {}\")\n",
    "\n",
    "# Define string with rearranged placeholders\n",
    "my_list.append(\"The tool {1} is used in {0}\")\n",
    "\n",
    "# Use format to print strings\n",
    "for my_string in my_list:\n",
    "    print(my_string.format(first_pos, second_pos))"
   ]
  },
  {
   "cell_type": "markdown",
   "id": "053ee71e",
   "metadata": {},
   "source": [
    "#### Reordering values"
   ]
  },
  {
   "cell_type": "code",
   "execution_count": 3,
   "id": "bfab09e3",
   "metadata": {},
   "outputs": [
    {
     "name": "stdout",
     "output_type": "stream",
     "text": [
      "Daisy has a friend called Betty and a sister called Linda\n"
     ]
    }
   ],
   "source": [
    "print(\"{2} has a friend called {0} and a sister called {1}\".format(\"Betty\", \"Linda\", \"Daisy\"))"
   ]
  },
  {
   "cell_type": "markdown",
   "id": "d567df57",
   "metadata": {},
   "source": [
    "#### Named placeholders"
   ]
  },
  {
   "cell_type": "code",
   "execution_count": 4,
   "id": "aeeb5af7",
   "metadata": {},
   "outputs": [
    {
     "name": "stdout",
     "output_type": "stream",
     "text": [
      "Unsupervised algorithms try to find patterns in the dataset\n"
     ]
    }
   ],
   "source": [
    "tool=\"Unsupervised algorithms\"\n",
    "goal=\"patterns\"\n",
    "print(\"{title} try to find {aim} in the dataset\".format(title=tool, aim=goal))"
   ]
  },
  {
   "cell_type": "code",
   "execution_count": 6,
   "id": "30869f5a",
   "metadata": {},
   "outputs": [
    {
     "name": "stdout",
     "output_type": "stream",
     "text": [
      "Unsupervised algorithms try to find patterns in the dataset\n"
     ]
    }
   ],
   "source": [
    "my_methods = {\"tool\": \"Unsupervised algorithms\", \"goal\": \"patterns\"}\n",
    "print('{data[tool]} try to find {data[goal]} in the dataset'.format(data=my_methods))"
   ]
  },
  {
   "cell_type": "code",
   "execution_count": 10,
   "id": "b3c1559b",
   "metadata": {},
   "outputs": [
    {
     "name": "stdout",
     "output_type": "stream",
     "text": [
      "If you are interested in artificial intelligence, you can take the course related to neural networks\n"
     ]
    }
   ],
   "source": [
    "courses = ['artificial intelligence', 'neural networks']\n",
    "\n",
    "# Create a dictionary\n",
    "plan = { \"field\": courses[0],\n",
    "        \"tool\": courses[1]\n",
    "        }\n",
    "\n",
    "# Complete the placeholders accessing elements of field and tool keys in the data dictionary\n",
    "my_message = \"If you are interested in {data[field]}, you can take the course related to {data[tool]}\"\n",
    "\n",
    "# Use the plan dictionary to replace placeholders\n",
    "print(my_message.format(data=plan))"
   ]
  },
  {
   "cell_type": "markdown",
   "id": "7000f9e7",
   "metadata": {},
   "source": [
    "#### Formatting strings"
   ]
  },
  {
   "cell_type": "code",
   "execution_count": 7,
   "id": "bd50f7a3",
   "metadata": {},
   "outputs": [
    {
     "name": "stdout",
     "output_type": "stream",
     "text": [
      "Only 0.52% of the data produced worldwide is analyzed!\n"
     ]
    }
   ],
   "source": [
    "print(\"Only {0:.2f}% of the {1} produced worldwide is {2}!\".format(0.5155675, \"data\", \"analyzed\"))"
   ]
  },
  {
   "cell_type": "markdown",
   "id": "9c89952d",
   "metadata": {},
   "source": [
    "#### Date strings"
   ]
  },
  {
   "cell_type": "code",
   "execution_count": 9,
   "id": "a44f2634",
   "metadata": {},
   "outputs": [
    {
     "name": "stdout",
     "output_type": "stream",
     "text": [
      "2022-02-25 14:09:26.569583\n",
      "Today's date is 2022-02-25 14:09\n"
     ]
    }
   ],
   "source": [
    "from datetime import datetime\n",
    "print(datetime.now())\n",
    "\n",
    "print(\"Today's date is {:%Y-%m-%d %H:%M}\".format(datetime.now()))"
   ]
  },
  {
   "cell_type": "code",
   "execution_count": 11,
   "id": "e744030c",
   "metadata": {},
   "outputs": [
    {
     "name": "stdout",
     "output_type": "stream",
     "text": [
      "Good morning. Today is February 25, 2022. It's 14:14 ... time to work!\n"
     ]
    }
   ],
   "source": [
    "# Import datetime \n",
    "from datetime import datetime\n",
    "\n",
    "# Assign date to get_date\n",
    "get_date = datetime.now()\n",
    "\n",
    "# Add named placeholders with format specifiers\n",
    "message = \"Good morning. Today is {today:%B %d, %Y}. It's {today:%H:%M} ... time to work!\"\n",
    "\n",
    "# Use the format method replacing the placeholder with get_date\n",
    "print(message.format(today=get_date))"
   ]
  },
  {
   "cell_type": "markdown",
   "id": "39fa6863",
   "metadata": {},
   "source": [
    "#### Formatted literal strings\n",
    "\n",
    " - !s normal string excluding quotes\n",
    " - !r includes quotes\n",
    " - !a escapes non-ASCII characters"
   ]
  },
  {
   "cell_type": "code",
   "execution_count": 19,
   "id": "b01023df",
   "metadata": {},
   "outputs": [
    {
     "name": "stdout",
     "output_type": "stream",
     "text": [
      "Python is called Python due to a comedy series\n",
      "Python is called 'Python' due to a comedy series\n"
     ]
    }
   ],
   "source": [
    "name = \"Python\"\n",
    "print(f\"Python is called {name!s} due to a comedy series\")\n",
    "\n",
    "print(f\"Python is called {name!r} due to a comedy series\")"
   ]
  },
  {
   "cell_type": "code",
   "execution_count": 24,
   "id": "96303a80",
   "metadata": {},
   "outputs": [
    {
     "name": "stdout",
     "output_type": "stream",
     "text": [
      "In the last 2 years, 90.42% of the data was produced worldwide!\n"
     ]
    }
   ],
   "source": [
    "number = 90.41890417471841\n",
    "\n",
    "print(f\"In the last 2 years, {number:.2f}% of the data was produced worldwide!\")"
   ]
  },
  {
   "cell_type": "code",
   "execution_count": 25,
   "id": "f7480de8",
   "metadata": {},
   "outputs": [
    {
     "name": "stdout",
     "output_type": "stream",
     "text": [
      "Today's date is February 25, 2022\n"
     ]
    }
   ],
   "source": [
    "from datetime import datetime\n",
    "\n",
    "my_today = datetime.now()\n",
    "\n",
    "print(f\"Today's date is {my_today:%B %d, %Y}\")"
   ]
  },
  {
   "cell_type": "code",
   "execution_count": 26,
   "id": "c49e3fdf",
   "metadata": {},
   "outputs": [
    {
     "name": "stdout",
     "output_type": "stream",
     "text": [
      "Is your dad called John?\n"
     ]
    }
   ],
   "source": [
    "family = {\"dad\": \"John\", \"siblings\": \"Peter\"}\n",
    "\n",
    "print(f\"Is your dad called {family['dad']}?\")"
   ]
  },
  {
   "cell_type": "code",
   "execution_count": 27,
   "id": "5a45181c",
   "metadata": {},
   "outputs": [
    {
     "name": "stdout",
     "output_type": "stream",
     "text": [
      "If you sum up 10 and 20 the result is 30\n"
     ]
    }
   ],
   "source": [
    "def my_function(a, b):\n",
    "    return a + b\n",
    "\n",
    "print(f\"If you sum up 10 and 20 the result is {my_function(10, 20)}\")"
   ]
  },
  {
   "cell_type": "code",
   "execution_count": 32,
   "id": "d39b7bd2",
   "metadata": {},
   "outputs": [
    {
     "name": "stdout",
     "output_type": "stream",
     "text": [
      "Only 1.67% of the posts contain links\n"
     ]
    }
   ],
   "source": [
    "# Divide the length of list by 120 rounded to two decimals\n",
    "list_links = ['url1','url2']\n",
    "print(f\"Only {len(list_links)*100/120:.2f}% of the posts contain links\")"
   ]
  },
  {
   "cell_type": "code",
   "execution_count": 34,
   "id": "5ea70bcd",
   "metadata": {},
   "outputs": [
    {
     "name": "stdout",
     "output_type": "stream",
     "text": [
      "The price for a house in the east neighborhood was $1232443 in 04-20-2007\n"
     ]
    }
   ],
   "source": [
    "# Access values of date and price in east dictionary\n",
    "import datetime\n",
    "east = {'date': datetime.datetime(2007, 4, 20, 0, 0), 'price': 1232443}\n",
    "print(f\"The price for a house in the east neighborhood was ${east['price']} in {east['date']:%m-%d-%Y}\")"
   ]
  },
  {
   "cell_type": "code",
   "execution_count": 35,
   "id": "bca3fb86",
   "metadata": {},
   "outputs": [
    {
     "name": "stdout",
     "output_type": "stream",
     "text": [
      "The price for a house in the west neighborhood was $1432673 in 05-26-2006.\n"
     ]
    }
   ],
   "source": [
    "# Access values of date and price in west dictionary\n",
    "west = {'date': datetime.datetime(2006, 5, 26, 0, 0), 'price': 1432673}\n",
    "print(f\"The price for a house in the west neighborhood was ${west['price']} in {west['date']:%m-%d-%Y}.\")"
   ]
  },
  {
   "cell_type": "markdown",
   "id": "d8675b7d",
   "metadata": {},
   "source": [
    "#### Templating"
   ]
  },
  {
   "cell_type": "code",
   "execution_count": 38,
   "id": "e4896dbc",
   "metadata": {},
   "outputs": [
    {
     "data": {
      "text/plain": [
       "'Data science has been called sexiest job of the 21st century'"
      ]
     },
     "execution_count": 38,
     "metadata": {},
     "output_type": "execute_result"
    }
   ],
   "source": [
    "from string import Template\n",
    "job = \"Data science\"\n",
    "name = \"sexiest job of the 21st century\"\n",
    "\n",
    "my_string = Template('$title has been called $description')\n",
    "my_string.substitute(title=job, description=name)"
   ]
  },
  {
   "cell_type": "code",
   "execution_count": 39,
   "id": "c987d04b",
   "metadata": {},
   "outputs": [
    {
     "data": {
      "text/plain": [
       "'I find Python very interesting but my sister has lost interest'"
      ]
     },
     "execution_count": 39,
     "metadata": {},
     "output_type": "execute_result"
    }
   ],
   "source": [
    "my_string = Template('I find Python very ${noun}ing but my sister has lost $noun')\n",
    "my_string.substitute(noun=\"interest\")"
   ]
  },
  {
   "cell_type": "code",
   "execution_count": 45,
   "id": "2627dcd1",
   "metadata": {},
   "outputs": [
    {
     "data": {
      "text/plain": [
       "'I paid for the Python course only $ 12.50, amazing!'"
      ]
     },
     "execution_count": 45,
     "metadata": {},
     "output_type": "execute_result"
    }
   ],
   "source": [
    "my_string = Template('I paid for the Python course only $$ $price, amazing!')\n",
    "my_string.substitute(price=\"12.50\")"
   ]
  },
  {
   "cell_type": "markdown",
   "id": "c4cfe4d8",
   "metadata": {},
   "source": [
    "#### Safe substitution"
   ]
  },
  {
   "cell_type": "code",
   "execution_count": 54,
   "id": "6720ede5",
   "metadata": {},
   "outputs": [
    {
     "data": {
      "text/plain": [
       "'I love chocolate c$ake very much'"
      ]
     },
     "execution_count": 54,
     "metadata": {},
     "output_type": "execute_result"
    }
   ],
   "source": [
    "favorite = dict(flavor=\"chocolate\")\n",
    "my_string = Template('I love $flavor c$ake very much')\n",
    "my_string.safe_substitute(favorite)"
   ]
  },
  {
   "cell_type": "code",
   "execution_count": 55,
   "id": "f3a52770",
   "metadata": {},
   "outputs": [
    {
     "ename": "KeyError",
     "evalue": "'cake'",
     "output_type": "error",
     "traceback": [
      "\u001b[0;31m---------------------------------------------------------------------------\u001b[0m",
      "\u001b[0;31mKeyError\u001b[0m                                  Traceback (most recent call last)",
      "\u001b[0;32m<ipython-input-55-e70867799c04>\u001b[0m in \u001b[0;36m<module>\u001b[0;34m\u001b[0m\n\u001b[1;32m      1\u001b[0m \u001b[0mfavorite\u001b[0m \u001b[0;34m=\u001b[0m \u001b[0mdict\u001b[0m\u001b[0;34m(\u001b[0m\u001b[0mflavor\u001b[0m\u001b[0;34m=\u001b[0m\u001b[0;34m\"chocolate\"\u001b[0m\u001b[0;34m)\u001b[0m\u001b[0;34m\u001b[0m\u001b[0;34m\u001b[0m\u001b[0m\n\u001b[1;32m      2\u001b[0m \u001b[0mmy_string\u001b[0m \u001b[0;34m=\u001b[0m \u001b[0mTemplate\u001b[0m\u001b[0;34m(\u001b[0m\u001b[0;34m'I love $flavor $cake very much'\u001b[0m\u001b[0;34m)\u001b[0m\u001b[0;34m\u001b[0m\u001b[0;34m\u001b[0m\u001b[0m\n\u001b[0;32m----> 3\u001b[0;31m \u001b[0mmy_string\u001b[0m\u001b[0;34m.\u001b[0m\u001b[0msubstitute\u001b[0m\u001b[0;34m(\u001b[0m\u001b[0mfavorite\u001b[0m\u001b[0;34m)\u001b[0m\u001b[0;34m\u001b[0m\u001b[0;34m\u001b[0m\u001b[0m\n\u001b[0m",
      "\u001b[0;32m~/opt/anaconda3/lib/python3.8/string.py\u001b[0m in \u001b[0;36msubstitute\u001b[0;34m(self, mapping, **kws)\u001b[0m\n\u001b[1;32m    124\u001b[0m             raise ValueError('Unrecognized named group in pattern',\n\u001b[1;32m    125\u001b[0m                              self.pattern)\n\u001b[0;32m--> 126\u001b[0;31m         \u001b[0;32mreturn\u001b[0m \u001b[0mself\u001b[0m\u001b[0;34m.\u001b[0m\u001b[0mpattern\u001b[0m\u001b[0;34m.\u001b[0m\u001b[0msub\u001b[0m\u001b[0;34m(\u001b[0m\u001b[0mconvert\u001b[0m\u001b[0;34m,\u001b[0m \u001b[0mself\u001b[0m\u001b[0;34m.\u001b[0m\u001b[0mtemplate\u001b[0m\u001b[0;34m)\u001b[0m\u001b[0;34m\u001b[0m\u001b[0;34m\u001b[0m\u001b[0m\n\u001b[0m\u001b[1;32m    127\u001b[0m \u001b[0;34m\u001b[0m\u001b[0m\n\u001b[1;32m    128\u001b[0m     \u001b[0;32mdef\u001b[0m \u001b[0msafe_substitute\u001b[0m\u001b[0;34m(\u001b[0m\u001b[0mself\u001b[0m\u001b[0;34m,\u001b[0m \u001b[0mmapping\u001b[0m\u001b[0;34m=\u001b[0m\u001b[0m_sentinel_dict\u001b[0m\u001b[0;34m,\u001b[0m \u001b[0;34m/\u001b[0m\u001b[0;34m,\u001b[0m \u001b[0;34m**\u001b[0m\u001b[0mkws\u001b[0m\u001b[0;34m)\u001b[0m\u001b[0;34m:\u001b[0m\u001b[0;34m\u001b[0m\u001b[0;34m\u001b[0m\u001b[0m\n",
      "\u001b[0;32m~/opt/anaconda3/lib/python3.8/string.py\u001b[0m in \u001b[0;36mconvert\u001b[0;34m(mo)\u001b[0m\n\u001b[1;32m    117\u001b[0m             \u001b[0mnamed\u001b[0m \u001b[0;34m=\u001b[0m \u001b[0mmo\u001b[0m\u001b[0;34m.\u001b[0m\u001b[0mgroup\u001b[0m\u001b[0;34m(\u001b[0m\u001b[0;34m'named'\u001b[0m\u001b[0;34m)\u001b[0m \u001b[0;32mor\u001b[0m \u001b[0mmo\u001b[0m\u001b[0;34m.\u001b[0m\u001b[0mgroup\u001b[0m\u001b[0;34m(\u001b[0m\u001b[0;34m'braced'\u001b[0m\u001b[0;34m)\u001b[0m\u001b[0;34m\u001b[0m\u001b[0;34m\u001b[0m\u001b[0m\n\u001b[1;32m    118\u001b[0m             \u001b[0;32mif\u001b[0m \u001b[0mnamed\u001b[0m \u001b[0;32mis\u001b[0m \u001b[0;32mnot\u001b[0m \u001b[0;32mNone\u001b[0m\u001b[0;34m:\u001b[0m\u001b[0;34m\u001b[0m\u001b[0;34m\u001b[0m\u001b[0m\n\u001b[0;32m--> 119\u001b[0;31m                 \u001b[0;32mreturn\u001b[0m \u001b[0mstr\u001b[0m\u001b[0;34m(\u001b[0m\u001b[0mmapping\u001b[0m\u001b[0;34m[\u001b[0m\u001b[0mnamed\u001b[0m\u001b[0;34m]\u001b[0m\u001b[0;34m)\u001b[0m\u001b[0;34m\u001b[0m\u001b[0;34m\u001b[0m\u001b[0m\n\u001b[0m\u001b[1;32m    120\u001b[0m             \u001b[0;32mif\u001b[0m \u001b[0mmo\u001b[0m\u001b[0;34m.\u001b[0m\u001b[0mgroup\u001b[0m\u001b[0;34m(\u001b[0m\u001b[0;34m'escaped'\u001b[0m\u001b[0;34m)\u001b[0m \u001b[0;32mis\u001b[0m \u001b[0;32mnot\u001b[0m \u001b[0;32mNone\u001b[0m\u001b[0;34m:\u001b[0m\u001b[0;34m\u001b[0m\u001b[0;34m\u001b[0m\u001b[0m\n\u001b[1;32m    121\u001b[0m                 \u001b[0;32mreturn\u001b[0m \u001b[0mself\u001b[0m\u001b[0;34m.\u001b[0m\u001b[0mdelimiter\u001b[0m\u001b[0;34m\u001b[0m\u001b[0;34m\u001b[0m\u001b[0m\n",
      "\u001b[0;31mKeyError\u001b[0m: 'cake'"
     ]
    }
   ],
   "source": [
    "favorite = dict(flavor=\"chocolate\")\n",
    "my_string = Template('I love $flavor $cake very much')\n",
    "my_string.substitute(favorite)"
   ]
  },
  {
   "cell_type": "markdown",
   "id": "7392d7e8",
   "metadata": {},
   "source": [
    "#### Regular expressions\n",
    "\n",
    " - A regular expression is a string that contains normal characters and special metacharacters which describe patterns to find text or positions within a text\n",
    " - A pattern is a sequence of characters that maps to words or punctuation\n",
    " - Regex allow for finding patterns that would be very difficult otherwise\n",
    " - They are fast\n",
    " \n",
    " - You write down some helpful metacharacters to help you later:\n",
    "\n",
    "    - \\d: digit\n",
    "    - \\w: word character\n",
    "    - \\W: non-word character\n",
    "    - \\s: whitespace"
   ]
  },
  {
   "cell_type": "code",
   "execution_count": 56,
   "id": "f3f028b9",
   "metadata": {},
   "outputs": [
    {
     "name": "stdout",
     "output_type": "stream",
     "text": [
      "['@robot9!', '@robot4&', '@robot9$', '@robot7%']\n"
     ]
    }
   ],
   "source": [
    "# Import the re module\n",
    "import re\n",
    "\n",
    "sentiment_analysis = '@robot9! @robot4& I have a good feeling that the show isgoing to be amazing! @robot9$ @robot7%'\n",
    "# Write the regex\n",
    "regex = r\"@robot\\d\\W\"\n",
    "\n",
    "# Find all matches of regex\n",
    "print(re.findall(regex, sentiment_analysis))"
   ]
  },
  {
   "cell_type": "markdown",
   "id": "01878789",
   "metadata": {},
   "source": [
    "#### Find the numbers\n",
    "You pull a list of metacharacters:\n",
    " - \\d digit\n",
    " - \\w word character\n",
    " - \\s whitespace"
   ]
  },
  {
   "cell_type": "code",
   "execution_count": 57,
   "id": "565d3af6",
   "metadata": {},
   "outputs": [
    {
     "name": "stdout",
     "output_type": "stream",
     "text": [
      "['User_mentions:2']\n",
      "['likes: 9']\n",
      "['number of retweets: 7']\n"
     ]
    }
   ],
   "source": [
    "sentiment_analysis = \"Unfortunately one of those moments wasn't a giant squid monster. User_mentions:2, likes: 9, number of retweets: 7\"\n",
    "\n",
    "# Write a regex to obtain user mentions\n",
    "print(re.findall(r\"User_mentions:\\d\", sentiment_analysis))\n",
    "\n",
    "# Write a regex to obtain number of likes\n",
    "print(re.findall(r\"likes:\\s\\d\", sentiment_analysis))\n",
    "\n",
    "# Write a regex to obtain number of retweets\n",
    "print(re.findall(r\"number\\sof\\sretweets:\\s\\d\", sentiment_analysis))"
   ]
  },
  {
   "cell_type": "markdown",
   "id": "31bd4862",
   "metadata": {},
   "source": [
    "#### Match and split"
   ]
  },
  {
   "cell_type": "code",
   "execution_count": 58,
   "id": "83a26590",
   "metadata": {},
   "outputs": [
    {
     "name": "stdout",
     "output_type": "stream",
     "text": [
      "He is in love with scrappy.  He is missing him already\n"
     ]
    }
   ],
   "source": [
    "sentiment_analysis = 'He#newHis%newTin love with$newPscrappy. #8break%He is&newYmissing him@newLalready'\n",
    "\n",
    "# Write a regex that matches the pattern separating the sentences in sentiment_analysis, e.g. &4break!\n",
    "# Write a regex to match pattern separating sentences\n",
    "regex_sentence = r\"\\W\\dbreak\\W\"\n",
    "\n",
    "# Replace the regex_sentence with a space\n",
    "sentiment_sub = re.sub(regex_sentence, \" \", sentiment_analysis)\n",
    "\n",
    "# Write a regex that matches the pattern separating the words in sentiment_analysis, e.g. #newH.\n",
    "# Write a regex to match pattern separating words\n",
    "regex_words = r\"\\Wnew\\w\"\n",
    "\n",
    "# Replace the regex_words and print the result\n",
    "sentiment_final = re.sub(regex_words, \" \", sentiment_sub)\n",
    "print(sentiment_final)"
   ]
  },
  {
   "cell_type": "markdown",
   "id": "aab6269e",
   "metadata": {},
   "source": [
    "#### Repetitions\n",
    " - Quantifiers a metacharacter that tells the regex engine how many times to match a character immediately to its left (+)\n",
    " - Zero times or more (*)\n",
    " - Zero times or once (?)\n",
    " - n times at least, m times at most {n,m}"
   ]
  },
  {
   "cell_type": "code",
   "execution_count": 59,
   "id": "f943379f",
   "metadata": {},
   "outputs": [
    {
     "data": {
      "text/plain": [
       "['4-3', '10-04']"
      ]
     },
     "execution_count": 59,
     "metadata": {},
     "output_type": "execute_result"
    }
   ],
   "source": [
    "text = \"Date of start: 4-3. Date of registration: 10-04.\"\n",
    "re.findall(r\"\\d+-\\d+\", text)"
   ]
  },
  {
   "cell_type": "code",
   "execution_count": 60,
   "id": "a7dfd85a",
   "metadata": {},
   "outputs": [
    {
     "data": {
      "text/plain": [
       "['@ameli!a', '@joh&&n', '@mary90']"
      ]
     },
     "execution_count": 60,
     "metadata": {},
     "output_type": "execute_result"
    }
   ],
   "source": [
    "my_string = \"The concert was amazing! @ameli!a @joh&&n @mary90\"\n",
    "re.findall(r\"@\\w+\\W*\\w+\", my_string)"
   ]
  },
  {
   "cell_type": "code",
   "execution_count": 61,
   "id": "605bc163",
   "metadata": {},
   "outputs": [
    {
     "data": {
      "text/plain": [
       "['color', 'colour']"
      ]
     },
     "execution_count": 61,
     "metadata": {},
     "output_type": "execute_result"
    }
   ],
   "source": [
    "text = \"The color of this image is amazing. However, the colour blue could be brighter.\"\n",
    "re.findall(r\"colou?r\", text)"
   ]
  },
  {
   "cell_type": "code",
   "execution_count": 62,
   "id": "86b2b5fd",
   "metadata": {},
   "outputs": [
    {
     "data": {
      "text/plain": [
       "['1-966-847-3131', '54-908-42-42424']"
      ]
     },
     "execution_count": 62,
     "metadata": {},
     "output_type": "execute_result"
    }
   ],
   "source": [
    "phone_number = \"John: 1-966-847-3131 Michelle: 54-908-42-42424\"\n",
    "re.findall(r\"\\d{1,2}-\\d{3}-\\d{2,3}-\\d{4,}\", phone_number)"
   ]
  },
  {
   "cell_type": "code",
   "execution_count": 64,
   "id": "ebbab461",
   "metadata": {},
   "outputs": [
    {
     "name": "stdout",
     "output_type": "stream",
     "text": [
      "['https://www.tellyourstory.com']\n",
      "['@blueKnight39']\n",
      "[]\n",
      "['@anitaLopez98', '@MyredHat31']\n",
      "['https://radio.foxnews.com']\n",
      "['@YourBestCompany', '@foxRadio']\n"
     ]
    }
   ],
   "source": [
    "sentiment_analysis = [\n",
    "    \"Boredd. Colddd @blueKnight39 Internet keeps stuffing up. Save me! https://www.tellyourstory.com\",\n",
    "    \"I had a horrible nightmare last night @anitaLopez98 @MyredHat31 which affected my sleep, now I'm really tired\",\n",
    "    \"im lonely  keep me company @YourBestCompany! @foxRadio https://radio.foxnews.com 22 female, new york\"\n",
    "    ]\n",
    "\n",
    "# Import re module\n",
    "import re\n",
    "\n",
    "for tweet in sentiment_analysis:\n",
    "    \n",
    "    # Write a regex to find all the matches of http links appearing in each tweet in sentiment_analysis\n",
    "    # Write regex to match http links and print out result\n",
    "    print(re.findall(r\"http\\S+\", tweet))\n",
    "    \n",
    "    # Write a regex to find all the matches of user mentions appearing in each tweet in sentiment_analysis\n",
    "    # Write regex to match user mentions and print out result\n",
    "    print(re.findall(r\"@\\w+\", tweet))"
   ]
  },
  {
   "cell_type": "markdown",
   "id": "74f1ad23",
   "metadata": {},
   "source": [
    "#### More Repetitions"
   ]
  },
  {
   "cell_type": "code",
   "execution_count": 65,
   "id": "5ded7fc9",
   "metadata": {},
   "outputs": [
    {
     "name": "stdout",
     "output_type": "stream",
     "text": [
      "['32 minutes ago']\n",
      "[]\n",
      "[]\n",
      "[]\n",
      "['1st May 2019']\n",
      "[]\n",
      "[]\n",
      "['23rd June 2018']\n",
      "['23rd June 2018 17:54']\n"
     ]
    }
   ],
   "source": [
    "sentiment_analysis = [\n",
    "    \"I would like to apologize for the repeated Video Games Live related tweets. 32 minutes ago\",\n",
    "    \"@zaydia but i cant figure out how to get there / back / pay for a hotel 1st May 2019\",\n",
    "    \"FML: So much for seniority, bc of technological ineptness 23rd June 2018 17:54\"\n",
    "\n",
    "]\n",
    "\n",
    "# Complete the for loop with a regex to find dates\n",
    "for date in sentiment_analysis:\n",
    "    print(re.findall(r\"\\d{1,2}\\s\\w+\\sago\", date))\n",
    "\n",
    "    print(re.findall(r\"\\d{1,2}\\w+\\s\\w+\\s\\d{4}\", date))\n",
    "\n",
    "    print(re.findall(r\"\\d{1,2}\\w+\\s\\w+\\s\\d{4}\\s\\d{2}:\\d{1,2}\", date))"
   ]
  },
  {
   "cell_type": "markdown",
   "id": "99da41b2",
   "metadata": {},
   "source": [
    "#### Getting tokens"
   ]
  },
  {
   "cell_type": "code",
   "execution_count": 66,
   "id": "a10a145f",
   "metadata": {},
   "outputs": [
    {
     "name": "stdout",
     "output_type": "stream",
     "text": [
      "['ITS', 'NOT', 'ENOUGH', 'TO', 'SAY', 'THAT', 'IMISS', 'U', '']\n"
     ]
    }
   ],
   "source": [
    "sentiment_analysis = 'ITS NOT ENOUGH TO SAY THAT IMISS U #MissYou #SoMuch #Friendship #Forever'\n",
    "\n",
    "# Write a regex matching the hashtag pattern\n",
    "regex = r\"#\\w+\"\n",
    "\n",
    "# Replace the regex by an empty string\n",
    "no_hashtag = re.sub(regex, \"\", sentiment_analysis)\n",
    "\n",
    "# Get tokens by splitting text\n",
    "print(re.split(r\"\\s+\", no_hashtag))"
   ]
  },
  {
   "cell_type": "markdown",
   "id": "7811543a",
   "metadata": {},
   "source": [
    "#### Search vs match"
   ]
  },
  {
   "cell_type": "code",
   "execution_count": 70,
   "id": "0d46b55c",
   "metadata": {},
   "outputs": [
    {
     "data": {
      "text/plain": [
       "<re.Match object; span=(0, 4), match='4506'>"
      ]
     },
     "execution_count": 70,
     "metadata": {},
     "output_type": "execute_result"
    }
   ],
   "source": [
    "re.search(r\"\\d{4}\", \"4506 people attend the show\")"
   ]
  },
  {
   "cell_type": "code",
   "execution_count": 71,
   "id": "8e6352de",
   "metadata": {},
   "outputs": [
    {
     "data": {
      "text/plain": [
       "<re.Match object; span=(0, 4), match='4506'>"
      ]
     },
     "execution_count": 71,
     "metadata": {},
     "output_type": "execute_result"
    }
   ],
   "source": [
    "re.match(r\"\\d{4}\", \"4506 people attend the show\")"
   ]
  },
  {
   "cell_type": "code",
   "execution_count": 77,
   "id": "820c9f3f",
   "metadata": {},
   "outputs": [
    {
     "data": {
      "text/plain": [
       "<re.Match object; span=(17, 18), match='3'>"
      ]
     },
     "execution_count": 77,
     "metadata": {},
     "output_type": "execute_result"
    }
   ],
   "source": [
    "re.search(r\"\\d+\", \"Yesterday, I saw 3 shows\")"
   ]
  },
  {
   "cell_type": "code",
   "execution_count": 79,
   "id": "5cb2fbba",
   "metadata": {},
   "outputs": [],
   "source": [
    "re.match(r\"\\d+\",\"Yesterday, I saw 3 shows\") # results in None"
   ]
  },
  {
   "cell_type": "markdown",
   "id": "4feec84b",
   "metadata": {},
   "source": [
    "#### Match with characters"
   ]
  },
  {
   "cell_type": "code",
   "execution_count": 80,
   "id": "d41827e2",
   "metadata": {},
   "outputs": [
    {
     "data": {
      "text/plain": [
       "['www.amazingpics.com']"
      ]
     },
     "execution_count": 80,
     "metadata": {},
     "output_type": "execute_result"
    }
   ],
   "source": [
    "my_links = \"Just check out this link: www.amazingpics.com. It has amazing photos!\"\n",
    "re.findall(r\"www.+com\", my_links)"
   ]
  },
  {
   "cell_type": "code",
   "execution_count": 84,
   "id": "9bbbcc1f",
   "metadata": {},
   "outputs": [
    {
     "name": "stdout",
     "output_type": "stream",
     "text": [
      "['the 80s', 'the 90s']\n",
      "['the 80s']\n",
      "['the 90s']\n"
     ]
    }
   ],
   "source": [
    "my_string = \"the 80s music was much better that the 90s\"\n",
    "print(re.findall(r\"the\\s\\d+s\", my_string))\n",
    "print(re.findall(r\"^the\\s\\d+s\", my_string))\n",
    "print(re.findall(r\"the\\s\\d+s$\", my_string))"
   ]
  },
  {
   "cell_type": "code",
   "execution_count": 85,
   "id": "de46980e",
   "metadata": {},
   "outputs": [
    {
     "data": {
      "text/plain": [
       "['Elephant', 'elephant']"
      ]
     },
     "execution_count": 85,
     "metadata": {},
     "output_type": "execute_result"
    }
   ],
   "source": [
    "my_string = \"Elephants are the world's largest land animal! I would love to see an elephant one day\"\n",
    "re.findall(r\"Elephant|elephant\", my_string)"
   ]
  },
  {
   "cell_type": "markdown",
   "id": "72daebc2",
   "metadata": {},
   "source": [
    "#### Regex metacharacters\n",
    "\n",
    " - They appear at the start of the string\n",
    " - They always start with a sequence of 2 or 3 upper or lowercase vowels (a e i o u)\n",
    " - They always finish with the txt ending"
   ]
  },
  {
   "cell_type": "code",
   "execution_count": 67,
   "id": "3658bfef",
   "metadata": {},
   "outputs": [
    {
     "name": "stdout",
     "output_type": "stream",
     "text": [
      "['AIshadowhunters.txt']\n",
      " aaaaand back to my literature review. At least i have a friendly cup of coffee to keep me company\n",
      "['ouMYTAXES.txt']\n",
      " I am worried that I won't get my $900 even though I paid tax last year\n"
     ]
    }
   ],
   "source": [
    "sentiment_analysis = [\n",
    "    \"AIshadowhunters.txt aaaaand back to my literature review. At least i have a friendly cup of coffee to keep me company\",\n",
    "    \"ouMYTAXES.txt I am worried that I won't get my $900 even though I paid tax last year\"\n",
    "]\n",
    "\n",
    "# Write a regex to match text file name\n",
    "regex = r\"^[aeiouAEIOU]{2,3}.+txt\"\n",
    "\n",
    "for text in sentiment_analysis:\n",
    "    # Find all matches of the regex\n",
    "    print(re.findall(regex, text))\n",
    "\n",
    "    # Replace all matches with empty string\n",
    "    print(re.sub(regex, \"\", text))"
   ]
  },
  {
   "cell_type": "markdown",
   "id": "bd2f9914",
   "metadata": {},
   "source": [
    "#### Regex metacharacters examples"
   ]
  },
  {
   "cell_type": "code",
   "execution_count": 68,
   "id": "eca565e8",
   "metadata": {},
   "outputs": [
    {
     "name": "stdout",
     "output_type": "stream",
     "text": [
      "The email n.john.smith@gmail.com is a valid email\n",
      "The email 87victory@hotmail.com is a valid email\n",
      "The email !#mary-=@msca.net is invalid\n"
     ]
    }
   ],
   "source": [
    "emails = ['n.john.smith@gmail.com', '87victory@hotmail.com', '!#mary-=@msca.net']\n",
    "\n",
    "# Write a regex to match a valid email address\n",
    "regex = r\"^[a-zA-Z0-9!#%&*$.]+@\\w+\\.com\"\n",
    "\n",
    "for example in emails:\n",
    "  \t# Match the regex to the string\n",
    "    if re.match(regex, example):\n",
    "        # Complete the format method to print out the result\n",
    "      \tprint(\"The email {email_example} is a valid email\".format(email_example=example))\n",
    "    else:\n",
    "      \tprint(\"The email {email_example} is invalid\".format(email_example=example))   "
   ]
  },
  {
   "cell_type": "code",
   "execution_count": 69,
   "id": "49b5ce30",
   "metadata": {},
   "outputs": [
    {
     "name": "stdout",
     "output_type": "stream",
     "text": [
      "The password Apple34!rose is a valid password\n",
      "The password My87hou#4$ is a valid password\n",
      "The password abc123 is invalid\n"
     ]
    }
   ],
   "source": [
    "passwords = ['Apple34!rose', 'My87hou#4$', 'abc123']\n",
    "\n",
    "# Write a regex to check if the password is valid\n",
    "regex = r\"[a-zA-Z0-9*#$%!&.]{8,20}\"\n",
    "\n",
    "for example in passwords:\n",
    "    # Scan the strings to find a match\n",
    "    if re.search(regex, example):\n",
    "        # Complete the format method to print out the result\n",
    "        print(\"The password {pass_example} is a valid password\".format(pass_example=example))\n",
    "    else:\n",
    "        print(\"The password {pass_example} is invalid\".format(pass_example=example))"
   ]
  },
  {
   "cell_type": "markdown",
   "id": "829808b0",
   "metadata": {},
   "source": [
    "#### Greedy and lazy matching\n",
    "\n",
    " - Greedy\n",
    "     - match as many characters as possible\n",
    "     - return longest match\n",
    "     - backtracks when it finds too many characters\n",
    " - Lazy\n",
    "     - match as few characters as possible\n",
    "     - return shortest match\n",
    "     - backtracks when too few characters are matched"
   ]
  },
  {
   "cell_type": "code",
   "execution_count": 86,
   "id": "d980bf38",
   "metadata": {},
   "outputs": [
    {
     "name": "stdout",
     "output_type": "stream",
     "text": [
      "I want to see that amazing show again!.\n"
     ]
    }
   ],
   "source": [
    "string = 'I want to see that <strong>amazing show</strong> again!.'\n",
    "\n",
    "# Write a regex to eliminate tags\n",
    "string_notags = re.sub(r\"<.+?>\", \"\", string)\n",
    "\n",
    "# Print out the result\n",
    "print(string_notags)"
   ]
  },
  {
   "cell_type": "code",
   "execution_count": 87,
   "id": "a505c4dc",
   "metadata": {},
   "outputs": [
    {
     "name": "stdout",
     "output_type": "stream",
     "text": [
      "['5', '3', '6', '1', '2']\n",
      "['536', '12']\n"
     ]
    }
   ],
   "source": [
    "sentiment_analysis = 'Was intending to finish editing my 536-page novel manuscript tonight, but that will probably not happen. And only 12 pages are left '\n",
    "\n",
    "# Write a lazy regex expression \n",
    "numbers_found_lazy = re.findall(r\"\\d+?\", sentiment_analysis)\n",
    "\n",
    "# Print out the result\n",
    "print(numbers_found_lazy)\n",
    "\n",
    "\n",
    "# Write a greedy regex expression \n",
    "numbers_found_greedy = re.findall(r\"\\d+\", sentiment_analysis)\n",
    "\n",
    "# Print out the result\n",
    "print(numbers_found_greedy)"
   ]
  },
  {
   "cell_type": "code",
   "execution_count": 88,
   "id": "af3f6db9",
   "metadata": {},
   "outputs": [
    {
     "name": "stdout",
     "output_type": "stream",
     "text": [
      "[\"(They were so cute) a few yrs ago. PC crashed, and now I forget the name of the site (I'm crying)\"]\n",
      "['(They were so cute)', \"(I'm crying)\"]\n"
     ]
    }
   ],
   "source": [
    "sentiment_analysis = \"Put vacation photos online (They were so cute) a few yrs ago. PC crashed, and now I forget the name of the site (I'm crying). \"\n",
    "\n",
    "# Write a greedy regex expression to match text that appears within parentheses in the variable\n",
    "sentences_found_greedy = re.findall(r\"\\(.*\\)\", sentiment_analysis)\n",
    "\n",
    "# Print out the result\n",
    "print(sentences_found_greedy)\n",
    "\n",
    "# Write a lazy regex expression to match text that appears within parentheses in the variable \n",
    "sentences_found_lazy = re.findall(r\"\\(.*?\\)\", sentiment_analysis)\n",
    "\n",
    "# Print out the results\n",
    "print(sentences_found_lazy)"
   ]
  },
  {
   "cell_type": "markdown",
   "id": "7212eb7a",
   "metadata": {},
   "source": [
    "#### Capturing groups"
   ]
  },
  {
   "cell_type": "code",
   "execution_count": 89,
   "id": "a7d34ebe",
   "metadata": {},
   "outputs": [
    {
     "data": {
      "text/plain": [
       "[('Clary', '2', 'dogs'), ('John', '3', 'cats')]"
      ]
     },
     "execution_count": 89,
     "metadata": {},
     "output_type": "execute_result"
    }
   ],
   "source": [
    "re.findall(r'([A-Za-z]+)\\s\\w+\\s(\\d+)\\s(\\w+)', \n",
    "           \"Clary has 2 dogs but John has 3 cats\")\n"
   ]
  },
  {
   "cell_type": "code",
   "execution_count": 90,
   "id": "7fbb6cfc",
   "metadata": {},
   "outputs": [
    {
     "data": {
      "text/plain": [
       "<re.Match object; span=(16, 22), match='3e4r5f'>"
      ]
     },
     "execution_count": 90,
     "metadata": {},
     "output_type": "execute_result"
    }
   ],
   "source": [
    "re.search(r\"(\\d[A-Za-z])+\", \"My user name is 3e4r5fg\")"
   ]
  },
  {
   "cell_type": "markdown",
   "id": "49069fad",
   "metadata": {},
   "source": [
    "Capturing repeated groups vs repeating a capturing group"
   ]
  },
  {
   "cell_type": "code",
   "execution_count": 95,
   "id": "7636ef11",
   "metadata": {},
   "outputs": [
    {
     "data": {
      "text/plain": [
       "['5', '3']"
      ]
     },
     "execution_count": 95,
     "metadata": {},
     "output_type": "execute_result"
    }
   ],
   "source": [
    "my_string = \"My lucky numbers are 8755 and 33\"\n",
    "re.findall(r\"(\\d)+\", my_string)"
   ]
  },
  {
   "cell_type": "code",
   "execution_count": 96,
   "id": "3c3ac975",
   "metadata": {},
   "outputs": [
    {
     "data": {
      "text/plain": [
       "['8755', '33']"
      ]
     },
     "execution_count": 96,
     "metadata": {},
     "output_type": "execute_result"
    }
   ],
   "source": [
    "re.findall(r\"(\\d+)\", my_string)"
   ]
  },
  {
   "cell_type": "markdown",
   "id": "882235ba",
   "metadata": {},
   "source": [
    " - Complete the regex to match the email capturing only the name part. The name part appears before the @.\n",
    " - Find all matches of the regex in each element of sentiment_analysis analysis. Assign it to the variable email_matched.\n",
    " - Complete the .format() method to print the results captured in each element of sentiment_analysis analysis."
   ]
  },
  {
   "cell_type": "code",
   "execution_count": 97,
   "id": "1d761f3a",
   "metadata": {},
   "outputs": [
    {
     "name": "stdout",
     "output_type": "stream",
     "text": [
      "Lists of users found in this tweet: ['statravelAU', 'statravelpo']\n",
      "Lists of users found in this tweet: ['Hollywoodheat34']\n",
      "Lists of users found in this tweet: ['msdrama098']\n"
     ]
    }
   ],
   "source": [
    "sentiment_analysis = ['Just got ur newsletter, those fares really are unbelievable. Write to statravelAU@gmail.com or statravelpo@hotmail.com. They have amazing prices',\n",
    " 'I should have paid more attention when we covered photoshop in my webpage design class in undergrad. Contact me Hollywoodheat34@msn.net.',\n",
    " 'hey missed ya at the meeting. Read your email! msdrama098@hotmail.com']\n",
    "\n",
    "# Write a regex that matches email\n",
    "regex_email = r\"([A-Za-z0-9]+)@\\S+\"\n",
    "\n",
    "for tweet in sentiment_analysis:\n",
    "    # Find all matches of regex in each tweet\n",
    "    email_matched = re.findall(regex_email, tweet)\n",
    "\n",
    "    # Complete the format method to print the results\n",
    "    print(\"Lists of users found in this tweet: {}\".format(email_matched))"
   ]
  },
  {
   "cell_type": "markdown",
   "id": "6f67af8a",
   "metadata": {},
   "source": [
    "<<Here you have your boarding pass LA4214 AER-CDB 06NOV.>>\n",
    "\n",
    "You need to extract the information about the flight:\n",
    "\n",
    " - The two letters indicate the airline (e.g LA),\n",
    " - The 4 numbers are the flight number (e.g. 4214).\n",
    " - The three letters correspond to the departure (e.g AER),\n",
    " - The destination (CDB),\n",
    " - The date (06NOV) of the flight."
   ]
  },
  {
   "cell_type": "code",
   "execution_count": 98,
   "id": "f8ce30f3",
   "metadata": {},
   "outputs": [
    {
     "name": "stdout",
     "output_type": "stream",
     "text": [
      "Airline: IB Flight number: 3723\n",
      "Departure: AMS Destination: MAD\n",
      "Date: 06OCT\n"
     ]
    }
   ],
   "source": [
    "flight = 'Subject: You are now ready to fly. Here you have your boarding pass IB3723 AMS-MAD 06OCT'\n",
    "\n",
    "# Write regex to capture information of the flight\n",
    "regex = r\"([A-Z]{2})(\\d{4})\\s([A-Z]{3})-([A-Z]{3})\\s(\\d{2}[A-Z]{3})\"\n",
    "\n",
    "# Find all matches of the flight information\n",
    "flight_matches = re.findall(regex, flight)\n",
    "    \n",
    "#Print the matches\n",
    "print(\"Airline: {} Flight number: {}\".format(flight_matches[0][0], flight_matches[0][1]))\n",
    "print(\"Departure: {} Destination: {}\".format(flight_matches[0][2], flight_matches[0][3]))\n",
    "print(\"Date: {}\".format(flight_matches[0][4]))"
   ]
  },
  {
   "cell_type": "markdown",
   "id": "f4dba2a0",
   "metadata": {},
   "source": [
    "#### Pipe"
   ]
  },
  {
   "cell_type": "code",
   "execution_count": 101,
   "id": "33c1b25d",
   "metadata": {},
   "outputs": [
    {
     "data": {
      "text/plain": [
       "['2 cat', 'dog', 'bird']"
      ]
     },
     "execution_count": 101,
     "metadata": {},
     "output_type": "execute_result"
    }
   ],
   "source": [
    "my_string = \"I want to have a pet. But I don't know if I want 2 cats, 1 dog or a bird.\"\n",
    "re.findall(r\"\\d+\\scat|dog|bird\", my_string)"
   ]
  },
  {
   "cell_type": "markdown",
   "id": "4f346440",
   "metadata": {},
   "source": [
    "#### Alternation\n",
    "\n",
    " - Use groups to choose between optional patterns"
   ]
  },
  {
   "cell_type": "code",
   "execution_count": 99,
   "id": "0bfc38af",
   "metadata": {},
   "outputs": [
    {
     "data": {
      "text/plain": [
       "[('2', 'cat'), ('1', 'dog')]"
      ]
     },
     "execution_count": 99,
     "metadata": {},
     "output_type": "execute_result"
    }
   ],
   "source": [
    "my_string = \"I want to have a pet. But I don't know if I want 2 cats, 1 dog or a bird.\"\n",
    "re.findall(r\"(\\d)+\\s(cat|dog|bird)\", my_string)"
   ]
  },
  {
   "cell_type": "markdown",
   "id": "47a79468",
   "metadata": {},
   "source": [
    "#### Match but not capture a group"
   ]
  },
  {
   "cell_type": "code",
   "execution_count": 100,
   "id": "e22e336f",
   "metadata": {},
   "outputs": [
    {
     "data": {
      "text/plain": [
       "['042-980', '434-425']"
      ]
     },
     "execution_count": 100,
     "metadata": {},
     "output_type": "execute_result"
    }
   ],
   "source": [
    "my_string = \"John Smith: 34-34-34-042-980, Rebeca Smith: 10-10-10-434-425\"\n",
    "re.findall(r\"(?:\\d{2}-){3}(\\d{3}-\\d{3})\", my_string)"
   ]
  },
  {
   "cell_type": "markdown",
   "id": "865e5c11",
   "metadata": {},
   "source": [
    " - Use | between the optional words you want to capture inside the parentheses ()\n",
    " - Use the . metacharacter together with the plus quantifier if you want to match any type of character\n",
    " - Consider using a non-greedy quantifier adding ?\n",
    " \n",
    " \n",
    " - Complete the regular expression to capture the words love or like or enjoy. Match and capture the words movie or concert. Match and capture anything appearing until the .\n",
    " - Find all matches of the regex in each element of sentiment_analysis. Assign them to positive_matches\n",
    " - Complete the .format() method to print out the results contained in positive_matches for each element in sentiment_analysis"
   ]
  },
  {
   "cell_type": "code",
   "execution_count": 102,
   "id": "c31f8159",
   "metadata": {},
   "outputs": [
    {
     "name": "stdout",
     "output_type": "stream",
     "text": [
      "Positive comments found [('love', 'concert', 'The Book of Souls World Tour')]\n",
      "Positive comments found [('enjoy', 'movie', 'Wreck-It Ralph')]\n",
      "Positive comments found [('like', 'movie', 'Wish Upon a Star')]\n"
     ]
    }
   ],
   "source": [
    "sentiment_analysis = [\n",
    "        'I totally love the concert The Book of Souls World Tour. It kinda amazing!',\n",
    "        'I enjoy the movie Wreck-It Ralph. I watched with my boyfriend.',\n",
    "        \"I still like the movie Wish Upon a Star. Too bad Disney doesn't show it anymore.\"\n",
    "        ]\n",
    "\n",
    "# Write a regex that matches sentences with the optional words\n",
    "regex_positive = r\"(love|like|enjoy).+?(movie|concert)\\s(.+?)\\.\"\n",
    "\n",
    "for tweet in sentiment_analysis:\n",
    "    # Find all matches of regex in tweet\n",
    "    positive_matches = re.findall(regex_positive, tweet)\n",
    "    \n",
    "    # Complete format to print out the results\n",
    "    print(\"Positive comments found {}\".format(positive_matches))"
   ]
  },
  {
   "cell_type": "markdown",
   "id": "0b7fbf40",
   "metadata": {},
   "source": [
    " - Complete the regular expression to capture the words hate or dislike or disapprove. Match but don't capture the words movie or concert. Match and capture anything appearing until the ."
   ]
  },
  {
   "cell_type": "code",
   "execution_count": 104,
   "id": "2ac278da",
   "metadata": {},
   "outputs": [
    {
     "name": "stdout",
     "output_type": "stream",
     "text": [
      "Negative comments found [('dislike', 'The cabin and the ant')]\n",
      "Negative comments found [('disapprove', 'Honest with you')]\n",
      "Negative comments found [('dislike', 'After twelve Tour')]\n"
     ]
    }
   ],
   "source": [
    "sentiment_analysis = [\n",
    "    'That was horrible! I really dislike the movie The cabin and the ant. So boring.',\n",
    "    \"I disapprove the movie Honest with you. It's full of cliches.\",\n",
    "    'I dislike very much the concert After twelve Tour. The sound was horrible.'\n",
    "]\n",
    "\n",
    "# Write a regex that matches sentences with the optional words\n",
    "regex_negative = r\"(hate|dislike|disapprove).+?(?:movie|concert)\\s(.+?)\\.\"\n",
    "\n",
    "for tweet in sentiment_analysis:\n",
    "    # Find all matches of regex in tweet\n",
    "    negative_matches = re.findall(regex_negative, tweet)\n",
    "    \n",
    "    # Complete format to print out the results\n",
    "    print(\"Negative comments found {}\".format(negative_matches))"
   ]
  },
  {
   "cell_type": "markdown",
   "id": "c7a33d5a",
   "metadata": {},
   "source": [
    "#### Numbered groups"
   ]
  },
  {
   "cell_type": "code",
   "execution_count": 105,
   "id": "0068e929",
   "metadata": {},
   "outputs": [
    {
     "data": {
      "text/plain": [
       "'2008'"
      ]
     },
     "execution_count": 105,
     "metadata": {},
     "output_type": "execute_result"
    }
   ],
   "source": [
    "text = \"Python 3.0 was released on 12-03-2008.\"\n",
    "information = re.search('(\\d{1,2})-(\\d{2})-(\\d{4})', text)\n",
    "information.group(3)"
   ]
  },
  {
   "cell_type": "markdown",
   "id": "4a1416da",
   "metadata": {},
   "source": [
    "#### Named groups"
   ]
  },
  {
   "cell_type": "code",
   "execution_count": 106,
   "id": "23cef386",
   "metadata": {},
   "outputs": [
    {
     "data": {
      "text/plain": [
       "'Austin'"
      ]
     },
     "execution_count": 106,
     "metadata": {},
     "output_type": "execute_result"
    }
   ],
   "source": [
    "text = \"Austin, 78701\"\n",
    "cities = re.search(r\"(?P<city>[A-Za-z]+).*?(?P<zipcode>\\d{5})\", text)\n",
    "cities.group(\"city\")"
   ]
  },
  {
   "cell_type": "code",
   "execution_count": 107,
   "id": "ef4a6c2f",
   "metadata": {},
   "outputs": [
    {
     "data": {
      "text/plain": [
       "'78701'"
      ]
     },
     "execution_count": 107,
     "metadata": {},
     "output_type": "execute_result"
    }
   ],
   "source": [
    "cities.group(\"zipcode\")"
   ]
  },
  {
   "cell_type": "markdown",
   "id": "3cdd1de9",
   "metadata": {},
   "source": [
    "#### Backreferences\n",
    " - Capture sequences of characters that were previously captured"
   ]
  },
  {
   "cell_type": "code",
   "execution_count": 108,
   "id": "6e7257d9",
   "metadata": {},
   "outputs": [
    {
     "data": {
      "text/plain": [
       "['happy']"
      ]
     },
     "execution_count": 108,
     "metadata": {},
     "output_type": "execute_result"
    }
   ],
   "source": [
    " sentence = \"I wish you a happy happy birthday!\"\n",
    "re.findall(r\"(\\w+)\\s\\1\", sentence)"
   ]
  },
  {
   "cell_type": "code",
   "execution_count": 111,
   "id": "ee7f64ce",
   "metadata": {},
   "outputs": [
    {
     "data": {
      "text/plain": [
       "'I wish you a happy birthday!'"
      ]
     },
     "execution_count": 111,
     "metadata": {},
     "output_type": "execute_result"
    }
   ],
   "source": [
    "# Replace the entire expression match with the first group\n",
    "re.sub(r\"(\\w+)\\s\\1\", r\"\\1\", sentence)"
   ]
  },
  {
   "cell_type": "code",
   "execution_count": 112,
   "id": "e491288b",
   "metadata": {},
   "outputs": [
    {
     "data": {
      "text/plain": [
       "['23434']"
      ]
     },
     "execution_count": 112,
     "metadata": {},
     "output_type": "execute_result"
    }
   ],
   "source": [
    "sentence = \"Your new code number is 23434. Please, enter 23434 to open the door.\"\n",
    "re.findall(r\"(?P<code>\\d{5}).*?(?P=code)\", sentence)"
   ]
  },
  {
   "cell_type": "code",
   "execution_count": 113,
   "id": "06a1aad7",
   "metadata": {},
   "outputs": [
    {
     "data": {
      "text/plain": [
       "\"This app is not working! It's repeating the last word.\""
      ]
     },
     "execution_count": 113,
     "metadata": {},
     "output_type": "execute_result"
    }
   ],
   "source": [
    "sentence = \"This app is not working! It's repeating the last word word.\"\n",
    "re.sub(r\"(?P<word>\\w+)\\s(?P=word)\", r\"\\g<word>\", sentence)"
   ]
  },
  {
   "cell_type": "code",
   "execution_count": 116,
   "id": "657bc970",
   "metadata": {},
   "outputs": [
    {
     "name": "stdout",
     "output_type": "stream",
     "text": [
      "Our first contract is dated back to 2001. Particularly, the day 25 of the month 03.\n"
     ]
    }
   ],
   "source": [
    "contract = 'Provider will invoice Client for Services performed within 30 days of performance. \\\n",
    "Client will pay Provider as set forth in each Statement of Work within 30 days of receipt and acceptance of\\\n",
    "such invoice. It is understood that payments to Provider for services rendered shall be made in full as agreed,\\\n",
    "without any deductions for taxes of any kind whatsoever, in conformity with Provider’s status as an independent\\\n",
    "contractor. Signed on 03/25/2001.'\n",
    "\n",
    "# Write regex and scan contract to capture the dates described\n",
    "regex_dates = r\"Signed\\son\\s(\\d{2})/(\\d{2})/(\\d{4})\"\n",
    "dates = re.search(regex_dates, contract)\n",
    "\n",
    "# Assign to each key the corresponding match\n",
    "signature = {\n",
    "    \"day\": dates.group(2),\n",
    "    \"month\": dates.group(1),\n",
    "    \"year\": dates.group(3)\n",
    "}\n",
    "# Complete the format method to print-out\n",
    "print(\"Our first contract is dated back to {data[year]}. Particularly, the day {data[day]} of the month {data[month]}.\".format(data=signature))"
   ]
  },
  {
   "cell_type": "code",
   "execution_count": 117,
   "id": "caaa6277",
   "metadata": {},
   "outputs": [
    {
     "name": "stdout",
     "output_type": "stream",
     "text": [
      "Your tag body is closed\n",
      "Your tag article is closed\n",
      "Close your nav tag!\n"
     ]
    }
   ],
   "source": [
    "html_tags = [\n",
    "    '<body>Welcome to our course! It would be an awesome experience</body>',\n",
    "    '<article>To be a data scientist, you need to have knowledge in statistics and mathematics</article>',\n",
    "    '<nav>About me Links Contact me!'\n",
    "]\n",
    "\n",
    "for string in html_tags:\n",
    "    \n",
    "    # Complete the regex and find if it matches a closed HTML tags\n",
    "    match_tag =  re.match(r\"<(\\w+)>.*?</\\1>\", string)\n",
    " \n",
    "    if match_tag:\n",
    "        # If it matches print the first group capture\n",
    "        print(\"Your tag {} is closed\".format(match_tag.group(1)))\n",
    "        \n",
    "    else:\n",
    "        # If it doesn't match capture only the tag \n",
    "        notmatch_tag = re.match(r\"<(\\w+)>\", string)\n",
    "        # Print the first group capture\n",
    "        print(\"Close your {} tag!\".format(notmatch_tag.group(1)))"
   ]
  },
  {
   "cell_type": "markdown",
   "id": "adce80b4",
   "metadata": {},
   "source": [
    "#### Reeepeated characters\n",
    "\n",
    " - Back to your sentiment analysis! Your next task is to replace elongated words that appear in the tweets. We define an elongated word as a word that contains a repeating character twice or more times. e.g. \"Awesoooome\".\n",
    "\n",
    " - Replacing those words is very important since a classifier will treat them as a different term from the source words lowering their frequency.\n",
    "\n",
    " - To find them, you will use capturing groups and reference them back using numbers. E.g \\4.\n",
    "\n",
    " - If you want to find a match for Awesoooome. You first need to capture Awes. Then, match o and reference the same character back, and then, me."
   ]
  },
  {
   "cell_type": "code",
   "execution_count": 118,
   "id": "bef425f0",
   "metadata": {},
   "outputs": [
    {
     "name": "stdout",
     "output_type": "stream",
     "text": [
      "Elongated word found: Moscooooooow\n",
      "Elongated word found: neighborrrrrrrs\n",
      "No elongated word found\n"
     ]
    }
   ],
   "source": [
    "sentiment_analysis = [\n",
    "    '@marykatherine_q i know! I heard it this morning and wondered the same thing. Moscooooooow is so behind the times',\n",
    "    'Staying at a friends house...neighborrrrrrrs are so loud-having a party',\n",
    "    'Just woke up an already have read some e-mail'\n",
    "]\n",
    "\n",
    "# Complete the regex to match an elongated word\n",
    "regex_elongated = r\"\\w+(\\w)\\1\\w*\"\n",
    "\n",
    "for tweet in sentiment_analysis:\n",
    "    # Find if there is a match in each tweet \n",
    "    match_elongated = re.search(regex_elongated, tweet)\n",
    "    \n",
    "    if match_elongated:\n",
    "        # Assign the captured group zero \n",
    "        elongated_word = match_elongated.group(0)\n",
    "        \n",
    "        # Complete the format method to print the word\n",
    "        print(\"Elongated word found: {word}\".format(word=elongated_word))\n",
    "    else:\n",
    "        print(\"No elongated word found\") "
   ]
  },
  {
   "cell_type": "markdown",
   "id": "805c596e",
   "metadata": {},
   "source": [
    "#### Lookaround"
   ]
  },
  {
   "cell_type": "code",
   "execution_count": 119,
   "id": "ec3a4633",
   "metadata": {},
   "outputs": [
    {
     "data": {
      "text/plain": [
       "['tweets.txt', 'mypass.txt']"
      ]
     },
     "execution_count": 119,
     "metadata": {},
     "output_type": "execute_result"
    }
   ],
   "source": [
    "# Positive look ahead\n",
    "\n",
    "my_text = \"tweets.txt transferred, mypass.txt transferred, keywords.txt error\"\n",
    "re.findall(r\"\\w+\\.txt(?=\\stransferred)\", my_text)"
   ]
  },
  {
   "cell_type": "code",
   "execution_count": 121,
   "id": "b19cf7a8",
   "metadata": {},
   "outputs": [
    {
     "data": {
      "text/plain": [
       "['keywords.txt']"
      ]
     },
     "execution_count": 121,
     "metadata": {},
     "output_type": "execute_result"
    }
   ],
   "source": [
    "# Negative look ahead\n",
    "\n",
    "my_text = \"tweets.txt transferred, mypass.txt transferred, keywords.txt error\"\n",
    "re.findall(r\"\\w+\\.txt(?!\\stransferred)\", my_text)\n"
   ]
  },
  {
   "cell_type": "code",
   "execution_count": 122,
   "id": "32834e03",
   "metadata": {},
   "outputs": [
    {
     "data": {
      "text/plain": [
       "['Angus Young', 'Chris Slade']"
      ]
     },
     "execution_count": 122,
     "metadata": {},
     "output_type": "execute_result"
    }
   ],
   "source": [
    "# Positive look behind\n",
    "\n",
    "my_text = \"Member: Angus Young, Member: Chris Slade, Past: Malcolm Young, Past: Cliff Williams.\"\n",
    "re.findall(r\"(?<=Member:\\s)\\w+\\s\\w+\", my_text)"
   ]
  },
  {
   "cell_type": "code",
   "execution_count": 123,
   "id": "e2b87335",
   "metadata": {},
   "outputs": [
    {
     "data": {
      "text/plain": [
       "['cat']"
      ]
     },
     "execution_count": 123,
     "metadata": {},
     "output_type": "execute_result"
    }
   ],
   "source": [
    "# Negative look behind\n",
    "\n",
    "my_text = \"My white cat sat at the table. However, my brown dog was lying on the couch.\"\n",
    "re.findall(r\"(?<!brown\\s)(cat|dog)\", my_text)"
   ]
  },
  {
   "cell_type": "markdown",
   "id": "27fd4cf6",
   "metadata": {},
   "source": [
    "Positive lookahead (?=) makes sure that first part of the expression is followed by the lookahead expression\n",
    "\n",
    "Positive lookbehind (?<=) returns all matches that are preceded by the specified pattern"
   ]
  },
  {
   "cell_type": "code",
   "execution_count": 125,
   "id": "0c7f5599",
   "metadata": {},
   "outputs": [
    {
     "name": "stdout",
     "output_type": "stream",
     "text": [
      "['excellent', 'Excellent']\n"
     ]
    }
   ],
   "source": [
    "sentiment_analysis = 'You need excellent python skills to be a data scientist. Must be! Excellent python'\n",
    "\n",
    "# Positive lookahead\n",
    "look_ahead = re.findall(r\"\\w+(?=\\spython)\", sentiment_analysis)\n",
    "\n",
    "# Print out\n",
    "print(look_ahead)"
   ]
  },
  {
   "cell_type": "code",
   "execution_count": 126,
   "id": "26ec8933",
   "metadata": {},
   "outputs": [
    {
     "name": "stdout",
     "output_type": "stream",
     "text": [
      "['skills']\n"
     ]
    }
   ],
   "source": [
    "# Positive lookbehind\n",
    "look_behind = re.findall(r\"(?<=[Pp]ython\\s)\\w+\", sentiment_analysis)\n",
    "\n",
    "# Print out\n",
    "print(look_behind)"
   ]
  },
  {
   "cell_type": "code",
   "execution_count": null,
   "id": "b56b31c1",
   "metadata": {},
   "outputs": [],
   "source": []
  }
 ],
 "metadata": {
  "kernelspec": {
   "display_name": "Python 3",
   "language": "python",
   "name": "python3"
  },
  "language_info": {
   "codemirror_mode": {
    "name": "ipython",
    "version": 3
   },
   "file_extension": ".py",
   "mimetype": "text/x-python",
   "name": "python",
   "nbconvert_exporter": "python",
   "pygments_lexer": "ipython3",
   "version": "3.8.8"
  }
 },
 "nbformat": 4,
 "nbformat_minor": 5
}
