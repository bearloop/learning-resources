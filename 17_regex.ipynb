{
 "cells": [
  {
   "cell_type": "markdown",
   "id": "9bfb6c3a",
   "metadata": {},
   "source": [
    "## String Manipulation and Regular Expressions"
   ]
  },
  {
   "cell_type": "markdown",
   "id": "5dbc5ba0",
   "metadata": {},
   "source": [
    "#### Capitalising letters"
   ]
  },
  {
   "cell_type": "code",
   "execution_count": 2,
   "id": "ad399d32",
   "metadata": {},
   "outputs": [
    {
     "data": {
      "text/plain": [
       "'This is a nice string'"
      ]
     },
     "execution_count": 2,
     "metadata": {},
     "output_type": "execute_result"
    }
   ],
   "source": [
    "my_string = \"tHis Is a niCe StriNg\"\n",
    "\n",
    "my_string.capitalize()"
   ]
  },
  {
   "cell_type": "markdown",
   "id": "e80f375b",
   "metadata": {},
   "source": [
    "#### Splitting"
   ]
  },
  {
   "cell_type": "code",
   "execution_count": 3,
   "id": "f38450b6",
   "metadata": {},
   "outputs": [
    {
     "data": {
      "text/plain": [
       "['This', 'string', 'will be split']"
      ]
     },
     "execution_count": 3,
     "metadata": {},
     "output_type": "execute_result"
    }
   ],
   "source": [
    "my_string = \"This string will be split\"\n",
    "\n",
    "my_string.split(sep=\" \", maxsplit=2)"
   ]
  },
  {
   "cell_type": "markdown",
   "id": "47d737fc",
   "metadata": {},
   "source": [
    "#### Right splitting"
   ]
  },
  {
   "cell_type": "code",
   "execution_count": 4,
   "id": "25243186",
   "metadata": {},
   "outputs": [
    {
     "data": {
      "text/plain": [
       "['This string will', 'be', 'split']"
      ]
     },
     "execution_count": 4,
     "metadata": {},
     "output_type": "execute_result"
    }
   ],
   "source": [
    "my_string.rsplit(sep=\" \", maxsplit=2)"
   ]
  },
  {
   "cell_type": "markdown",
   "id": "48534862",
   "metadata": {},
   "source": [
    "#### Splitting lines"
   ]
  },
  {
   "cell_type": "code",
   "execution_count": 5,
   "id": "d582f81a",
   "metadata": {},
   "outputs": [
    {
     "data": {
      "text/plain": [
       "['This string will be split', 'in two']"
      ]
     },
     "execution_count": 5,
     "metadata": {},
     "output_type": "execute_result"
    }
   ],
   "source": [
    "my_string = \"This string will be split\\nin two\"\n",
    "\n",
    "my_string.splitlines()"
   ]
  },
  {
   "cell_type": "markdown",
   "id": "13084ce0",
   "metadata": {},
   "source": [
    "#### Joining"
   ]
  },
  {
   "cell_type": "code",
   "execution_count": 6,
   "id": "5febd3a5",
   "metadata": {},
   "outputs": [
    {
     "name": "stdout",
     "output_type": "stream",
     "text": [
      "this would be a string\n"
     ]
    }
   ],
   "source": [
    "my_list = [\"this\", \"would\", \"be\", \"a\", \"string\"]\n",
    "print(\" \".join(my_list))"
   ]
  },
  {
   "cell_type": "markdown",
   "id": "7d64daac",
   "metadata": {},
   "source": [
    "#### Stripping characters"
   ]
  },
  {
   "cell_type": "code",
   "execution_count": 7,
   "id": "a57d81d5",
   "metadata": {},
   "outputs": [
    {
     "data": {
      "text/plain": [
       "'This string will be stripped'"
      ]
     },
     "execution_count": 7,
     "metadata": {},
     "output_type": "execute_result"
    }
   ],
   "source": [
    "my_string = \" This string will be stripped\\n\"\n",
    "my_string.strip()"
   ]
  },
  {
   "cell_type": "markdown",
   "id": "03cc5082",
   "metadata": {},
   "source": [
    "#### Remove characters from the right end"
   ]
  },
  {
   "cell_type": "code",
   "execution_count": 8,
   "id": "aac77eba",
   "metadata": {},
   "outputs": [
    {
     "data": {
      "text/plain": [
       "' This string will be stripped'"
      ]
     },
     "execution_count": 8,
     "metadata": {},
     "output_type": "execute_result"
    }
   ],
   "source": [
    "my_string.rstrip()"
   ]
  },
  {
   "cell_type": "markdown",
   "id": "dbd26a61",
   "metadata": {},
   "source": [
    "#### Remove characters from the left end"
   ]
  },
  {
   "cell_type": "code",
   "execution_count": 9,
   "id": "4db279e4",
   "metadata": {},
   "outputs": [
    {
     "data": {
      "text/plain": [
       "'This string will be stripped\\n'"
      ]
     },
     "execution_count": 9,
     "metadata": {},
     "output_type": "execute_result"
    }
   ],
   "source": [
    "my_string.lstrip()"
   ]
  },
  {
   "cell_type": "markdown",
   "id": "6a43ef40",
   "metadata": {},
   "source": [
    "#### Example"
   ]
  },
  {
   "cell_type": "code",
   "execution_count": 10,
   "id": "e8cb3c4b",
   "metadata": {},
   "outputs": [
    {
     "name": "stdout",
     "output_type": "stream",
     "text": [
      "$i supposed that coming from mtv films i should expect no less$\n",
      "i supposed that coming from mtv films i should expect no less\n",
      "['i', 'supposed', 'that', 'coming', 'from', 'mtv', 'films', 'i', 'should', 'expect', 'no', 'less']\n",
      "suppose\n"
     ]
    }
   ],
   "source": [
    "movie = '$I supposed that coming from MTV Films I should expect no less$'\n",
    "\n",
    "# Convert to lowercase and print the result\n",
    "movie_lower = movie.lower()\n",
    "print(movie_lower)\n",
    "\n",
    "# Remove specified character and print the result\n",
    "movie_no_sign = movie_lower.strip(\"$\")\n",
    "print(movie_no_sign)\n",
    "\n",
    "# Split the string into substrings and print the result\n",
    "movie_split = movie_no_sign.split()\n",
    "print(movie_split)\n",
    "\n",
    "# Select root word and print the result\n",
    "word_root = movie_split[1][:-1]\n",
    "print(word_root)"
   ]
  },
  {
   "cell_type": "code",
   "execution_count": 11,
   "id": "262f6032",
   "metadata": {},
   "outputs": [
    {
     "name": "stdout",
     "output_type": "stream",
     "text": [
      "the film,however,is all good\n",
      "['the film', 'however', 'is all good']\n",
      "the film however is all good\n"
     ]
    }
   ],
   "source": [
    "movie = 'the film,however,is all good<\\\\i>'\n",
    "# Remove tags happening at the end and print results\n",
    "movie_tag = movie.rstrip(\"<\\i>\")\n",
    "print(movie_tag)\n",
    "\n",
    "# Split the string using commas and print results\n",
    "movie_no_comma = movie_tag.split(\",\")\n",
    "print(movie_no_comma)\n",
    "\n",
    "# Join back together and print results\n",
    "movie_join = \" \".join(movie_no_comma)\n",
    "print(movie_join)"
   ]
  },
  {
   "cell_type": "code",
   "execution_count": null,
   "id": "8bacd248",
   "metadata": {},
   "outputs": [],
   "source": []
  }
 ],
 "metadata": {
  "kernelspec": {
   "display_name": "Python 3",
   "language": "python",
   "name": "python3"
  },
  "language_info": {
   "codemirror_mode": {
    "name": "ipython",
    "version": 3
   },
   "file_extension": ".py",
   "mimetype": "text/x-python",
   "name": "python",
   "nbconvert_exporter": "python",
   "pygments_lexer": "ipython3",
   "version": "3.8.8"
  }
 },
 "nbformat": 4,
 "nbformat_minor": 5
}
