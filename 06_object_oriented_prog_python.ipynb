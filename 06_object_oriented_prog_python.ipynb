{
 "cells": [
  {
   "cell_type": "markdown",
   "metadata": {},
   "source": [
    "## Python OOP\n",
    "\n",
    "**Python functions and classes**<br>"
   ]
  },
  {
   "cell_type": "markdown",
   "metadata": {},
   "source": [
    "## --Functions"
   ]
  },
  {
   "cell_type": "markdown",
   "metadata": {},
   "source": [
    "### Functions docstrings - Google Style"
   ]
  },
  {
   "cell_type": "code",
   "execution_count": 6,
   "metadata": {
    "scrolled": true
   },
   "outputs": [],
   "source": [
    "def count_letter(content, letter):\n",
    "    \"\"\"Count the number of times `letter` appears in `content`.\n",
    "\n",
    "    Args:\n",
    "       content (str): The string to search.\n",
    "       letter (str): The letter to search for.\n",
    "\n",
    "    Returns:\n",
    "       int\n",
    "\n",
    "    Raises:\n",
    "       ValueError: If `letter` is not a one-character string.\n",
    "    \"\"\"\n",
    "    if (not isinstance(letter, str)) or len(letter) != 1:\n",
    "        raise ValueError('`letter` must be a single character string.')\n",
    "\n",
    "    return len([char for char in content if char == letter])\n"
   ]
  },
  {
   "cell_type": "markdown",
   "metadata": {},
   "source": [
    "### Functions docstrings - Numpydoc"
   ]
  },
  {
   "cell_type": "code",
   "execution_count": 7,
   "metadata": {
    "scrolled": true
   },
   "outputs": [
    {
     "name": "stdout",
     "output_type": "stream",
     "text": [
      "############################\n",
      "Count the number of times `letter` appears in `content`.\n",
      "\n",
      "Args:\n",
      "content (str): The string to search.\n",
      "letter (str): The letter to search for.\n",
      "\n",
      "Returns:\n",
      "int\n",
      "\n",
      "# Add a section detailing what errors might be raised\n",
      "Raises:\n",
      "ValueError: If `letter` is not a one-character string.\n",
      "############################\n",
      " \n",
      "############################\n",
      "range(stop) -> range object\n",
      "range(start, stop[, step]) -> range object\n",
      "\n",
      "Return an object that produces a sequence of integers from start (inclusive)\n",
      "to stop (exclusive) by step.  range(i, j) produces i, i+1, i+2, ..., j-1.\n",
      "start defaults to 0, and stop is omitted!  range(4) produces 0, 1, 2, 3.\n",
      "These are exactly the valid indices for a list of 4 elements.\n",
      "When step is given, it specifies the increment (or decrement).\n",
      "############################\n",
      " \n",
      "############################\n",
      "print(value, ..., sep=' ', end='\\n', file=sys.stdout, flush=False)\n",
      "\n",
      "Prints the values to a stream, or to sys.stdout by default.\n",
      "Optional keyword arguments:\n",
      "file:  a file-like object (stream); defaults to the current sys.stdout.\n",
      "sep:   string inserted between values, default a space.\n",
      "end:   string appended after the last value, default a newline.\n",
      "flush: whether to forcibly flush the stream.\n",
      "############################\n"
     ]
    }
   ],
   "source": [
    "import inspect\n",
    "\n",
    "def build_tooltip(function):\n",
    "    \"\"\"\n",
    "    Description of what the function does.\n",
    "    \n",
    "    Parameters\n",
    "    ----------\n",
    "    arg_1 : expected type of arg_1\n",
    "    Description of arg_1.\n",
    "    arg_2 : int, optional\n",
    "    Write optional when an argument has a default value.\n",
    "    Default=42.\n",
    "    \n",
    "    Returns\n",
    "    -------\n",
    "    The type of the return value\n",
    "    Can include a description of the return value.\n",
    "    Replace \"Returns\" with \"Yields\" if this function is a generator.\n",
    "    \"\"\"\n",
    "    # Get the docstring for the \"function\" argument by using inspect\n",
    "    docstring = inspect.getdoc(function)\n",
    "    border = '#' * 28\n",
    "    return '{}\\n{}\\n{}'.format(border, docstring, border)\n",
    "\n",
    "print(build_tooltip(count_letter))\n",
    "print(' ')\n",
    "print(build_tooltip(range))\n",
    "print(' ')\n",
    "print(build_tooltip(print))"
   ]
  },
  {
   "cell_type": "markdown",
   "metadata": {},
   "source": [
    "### DRY or don't repeat yourself\n",
    "- your functions must do one thing, so that..\n",
    "- ..they become more flexible\n",
    "- more easily understood\n",
    "- simpler to test\n",
    "- simpler to debug\n",
    "- easier to change"
   ]
  },
  {
   "cell_type": "code",
   "execution_count": null,
   "metadata": {},
   "outputs": [],
   "source": []
  },
  {
   "cell_type": "markdown",
   "metadata": {},
   "source": [
    "### Context managers\n",
    "- a function that sets up a context, runs some code, removes the context\n",
    "- a functions that yields a single value"
   ]
  },
  {
   "cell_type": "code",
   "execution_count": 10,
   "metadata": {
    "scrolled": true
   },
   "outputs": [
    {
     "data": {
      "text/plain": [
       "' \\'A-Bomb\\',\\n \\'Abe Sapien\\',\\n \\'Abin Sur\\',\\n \\'Abomination\\',\\n \\'Absorbing Man\\',\\n \\'Adam Strange\\',\\n \\'Agent 13\\',\\n \\'Agent Bob\\',\\n \\'Agent Zero\\',\\n \\'Air-Walker\\',\\n \\'Ajax\\',\\n \\'Alan Scott\\',\\n \\'Alfred Pennyworth\\',\\n \\'Alien\\',\\n \\'Amazo\\',\\n \\'Ammo\\',\\n \\'Angel\\',\\n \\'Angel Dust\\',\\n \\'Angel Salvadore\\',\\n \\'Animal Man\\',\\n \\'Annihilus\\',\\n \\'Ant-Man\\',\\n \\'Ant-Man II\\',\\n \\'Anti-Venom\\',\\n \\'Apocalypse\\',\\n \\'Aqualad\\',\\n \\'Aquaman\\',\\n \\'Arachne\\',\\n \\'Archangel\\',\\n \\'Arclight\\',\\n \\'Ardina\\',\\n \\'Ares\\',\\n \\'Ariel\\',\\n \\'Armor\\',\\n \\'Atlas\\',\\n \\'Atom\\',\\n \\'Atom Girl\\',\\n \\'Atom II\\',\\n \\'Aurora\\',\\n \\'Azazel\\',\\n \\'Bane\\',\\n \\'Banshee\\',\\n \\'Bantam\\',\\n \\'Batgirl\\',\\n \\'Batgirl IV\\',\\n \\'Batgirl VI\\',\\n \\'Batman\\',\\n \\'Batman II\\',\\n \\'Battlestar\\',\\n \\'Beak\\',\\n \\'Beast\\',\\n \\'Beast Boy\\',\\n \\'Beta Ray Bill\\',\\n \\'Big Barda\\',\\n \\'Big Man\\',\\n \\'Binary\\',\\n \\'Bishop\\',\\n \\'Bizarro\\',\\n \\'Black Adam\\',\\n \\'Black Bolt\\',\\n \\'Black Canary\\',\\n \\'Black Cat\\',\\n \\'Black Knight III\\',\\n \\'Black Lightning\\',\\n \\'Black Mamba\\',\\n \\'Black Manta\\',\\n \\'Black Panther\\',\\n \\'Black Widow\\',\\n \\'Black Widow II\\',\\n \\'Blackout\\',\\n \\'Blackwing\\',\\n \\'Blackwulf\\',\\n \\'Blade\\',\\n \\'Bling!\\',\\n \\'Blink\\',\\n \\'Blizzard II\\',\\n \\'Blob\\',\\n \\'Bloodaxe\\',\\n \\'Blue Beetle II\\',\\n \\'Boom-Boom\\',\\n \\'Booster Gold\\',\\n \\'Box III\\',\\n \\'Brainiac\\',\\n \\'Brainiac 5\\',\\n \\'Brother Voodoo\\',\\n \\'Buffy\\',\\n \\'Bullseye\\',\\n \\'Bumblebee\\',\\n \\'Cable\\',\\n \\'Callisto\\',\\n \\'Cannonball\\',\\n \\'Captain America\\',\\n \\'Captain Atom\\',\\n \\'Captain Britain\\',\\n \\'Captain Mar-vell\\',\\n \\'Captain Marvel\\',\\n \\'Captain Marvel II\\',\\n \\'Carnage\\',\\n \\'Cat\\',\\n \\'Catwoman\\',\\n \\'Cecilia Reyes\\',\\n \\'Century\\',\\n \\'Chamber\\',\\n \\'Changeling\\',\\n \\'Cheetah\\',\\n \\'Cheetah II\\',\\n \\'Cheetah III\\',\\n \\'Chromos\\',\\n \\'Citizen Steel\\',\\n \\'Cloak\\',\\n \\'Clock King\\',\\n \\'Colossus\\',\\n \\'Copycat\\',\\n \\'Corsair\\',\\n \\'Cottonmouth\\',\\n \\'Crimson Dynamo\\',\\n \\'Crystal\\',\\n \\'Cyborg\\',\\n \\'Cyclops\\',\\n \\'Cypher\\',\\n \\'Dagger\\',\\n \\'Daredevil\\',\\n \\'Darkhawk\\',\\n \\'Darkseid\\',\\n \\'Darkstar\\',\\n \\'Darth Vader\\',\\n \\'Dash\\',\\n \\'Dazzler\\',\\n \\'Deadman\\',\\n \\'Deadpool\\',\\n \\'Deadshot\\',\\n \\'Deathlok\\',\\n \\'Deathstroke\\',\\n \\'Demogoblin\\',\\n \\'Destroyer\\',\\n \\'Diamondback\\',\\n \\'Doc Samson\\',\\n \\'Doctor Doom\\',\\n \\'Doctor Doom II\\',\\n \\'Doctor Fate\\',\\n \\'Doctor Octopus\\',\\n \\'Doctor Strange\\',\\n \\'Domino\\',\\n \\'Donna Troy\\',\\n \\'Doomsday\\',\\n \\'Doppelganger\\',\\n \\'Drax the Destroyer\\',\\n \\'Elastigirl\\',\\n \\'Electro\\',\\n \\'Elektra\\',\\n \\'Elongated Man\\',\\n \\'Emma Frost\\',\\n \\'Enchantress\\',\\n \\'Etrigan\\',\\n \\'Evil Deadpool\\',\\n \\'Evilhawk\\',\\n \\'Exodus\\',\\n \\'Fabian Cortez\\',\\n \\'Falcon\\',\\n \\'Feral\\',\\n \\'Fin Fang Foom\\',\\n \\'Firebird\\',\\n \\'Firelord\\',\\n \\'Firestar\\',\\n \\'Firestorm\\',\\n \\'Flash\\',\\n \\'Flash II\\',\\n \\'Flash III\\',\\n \\'Flash IV\\',\\n \\'Forge\\',\\n \\'Franklin Richards\\',\\n \\'Franklin Storm\\',\\n \\'Frenzy\\',\\n \\'Frigga\\',\\n \\'Galactus\\',\\n \\'Gambit\\',\\n \\'Gamora\\',\\n \\'Genesis\\',\\n \\'Ghost Rider\\',\\n \\'Giganta\\',\\n \\'Gladiator\\',\\n \\'Goblin Queen\\',\\n \\'Goku\\',\\n \\'Goliath IV\\',\\n \\'Gorilla Grodd\\',\\n \\'Granny Goodness\\',\\n \\'Gravity\\',\\n \\'Green Arrow\\',\\n \\'Green Goblin\\',\\n \\'Green Goblin II\\',\\n \\'Green Goblin III\\',\\n \\'Green Goblin IV\\',\\n \\'Groot\\',\\n \\'Guy Gardner\\',\\n \\'Hal Jordan\\',\\n \\'Han Solo\\',\\n \\'Harley Quinn\\',\\n \\'Havok\\',\\n \\'Hawk\\',\\n \\'Hawkeye\\',\\n \\'Hawkeye II\\',\\n \\'Hawkgirl\\',\\n \\'Hawkman\\',\\n \\'Hawkwoman\\',\\n \\'Hawkwoman III\\',\\n \\'Heat Wave\\',\\n \\'Hela\\',\\n \\'Hellboy\\',\\n \\'Hellcat\\',\\n \\'Hellstorm\\',\\n \\'Hercules\\',\\n \\'Hobgoblin\\',\\n \\'Hope Summers\\',\\n \\'Howard the Duck\\',\\n \\'Hulk\\',\\n \\'Human Torch\\',\\n \\'Huntress\\',\\n \\'Husk\\',\\n \\'Hybrid\\',\\n \\'Hydro-Man\\',\\n \\'Hyperion\\',\\n \\'Iceman\\',\\n \\'Impulse\\',\\n \\'Ink\\',\\n \\'Invisible Woman\\',\\n \\'Iron Fist\\',\\n \\'Iron Man\\',\\n \\'Jack of Hearts\\',\\n \\'Jack-Jack\\',\\n \\'James T. Kirk\\',\\n \\'Jean Grey\\',\\n \\'Jennifer Kale\\',\\n \\'Jessica Jones\\',\\n \\'Jigsaw\\',\\n \\'John Stewart\\',\\n \\'John Wraith\\',\\n \\'Joker\\',\\n \\'Jolt\\',\\n \\'Jubilee\\',\\n \\'Juggernaut\\',\\n \\'Justice\\',\\n \\'Kang\\',\\n \\'Karate Kid\\',\\n \\'Killer Croc\\',\\n \\'Kilowog\\',\\n \\'Kingpin\\',\\n \\'Klaw\\',\\n \\'Kraven II\\',\\n \\'Kraven the Hunter\\',\\n \\'Krypto\\',\\n \\'Kyle Rayner\\',\\n \\'Lady Deathstrike\\',\\n \\'Leader\\',\\n \\'Legion\\',\\n \\'Lex Luthor\\',\\n \\'Light Lass\\',\\n \\'Lightning Lad\\',\\n \\'Lightning Lord\\',\\n \\'Living Brain\\',\\n \\'Lizard\\',\\n \\'Lobo\\',\\n \\'Loki\\',\\n \\'Longshot\\',\\n \\'Luke Cage\\',\\n \\'Luke Skywalker\\',\\n \\'Mach-IV\\',\\n \\'Machine Man\\',\\n \\'Magneto\\',\\n \\'Man-Thing\\',\\n \\'Man-Wolf\\',\\n \\'Mandarin\\',\\n \\'Mantis\\',\\n \\'Martian Manhunter\\',\\n \\'Marvel Girl\\',\\n \\'Master Brood\\',\\n \\'Maverick\\',\\n \\'Maxima\\',\\n \\'Medusa\\',\\n \\'Meltdown\\',\\n \\'Mephisto\\',\\n \\'Mera\\',\\n \\'Metallo\\',\\n \\'Metamorpho\\',\\n \\'Metron\\',\\n \\'Micro Lad\\',\\n \\'Mimic\\',\\n \\'Miss Martian\\',\\n \\'Mister Fantastic\\',\\n \\'Mister Freeze\\',\\n \\'Mister Sinister\\',\\n \\'Mockingbird\\',\\n \\'MODOK\\',\\n \\'Molten Man\\',\\n \\'Monarch\\',\\n \\'Moon Knight\\',\\n \\'Moonstone\\',\\n \\'Morlun\\',\\n \\'Morph\\',\\n \\'Moses Magnum\\',\\n \\'Mr Immortal\\',\\n \\'Mr Incredible\\',\\n \\'Ms Marvel II\\',\\n \\'Multiple Man\\',\\n \\'Mysterio\\',\\n \\'Mystique\\',\\n \\'Namor\\',\\n \\'Namora\\',\\n \\'Namorita\\',\\n \\'Naruto Uzumaki\\',\\n \\'Nebula\\',\\n \\'Nick Fury\\',\\n \\'Nightcrawler\\',\\n \\'Nightwing\\',\\n \\'Northstar\\',\\n \\'Nova\\',\\n \\'Odin\\',\\n \\'Omega Red\\',\\n \\'Omniscient\\',\\n \\'One Punch Man\\',\\n \\'Onslaught\\',\\n \\'Oracle\\',\\n \\'Paul Blart\\',\\n \\'Penance II\\',\\n \\'Penguin\\',\\n \\'Phantom Girl\\',\\n \\'Phoenix\\',\\n \\'Plantman\\',\\n \\'Plastic Man\\',\\n \\'Plastique\\',\\n \\'Poison Ivy\\',\\n \\'Polaris\\',\\n \\'Power Girl\\',\\n \\'Predator\\',\\n \\'Professor X\\',\\n \\'Professor Zoom\\',\\n \\'Psylocke\\',\\n \\'Punisher\\',\\n \\'Purple Man\\',\\n \\'Pyro\\',\\n \\'Question\\',\\n \\'Quicksilver\\',\\n \\'Quill\\',\\n \"Ra\\'s Al Ghul\",\\n \\'Raven\\',\\n \\'Ray\\',\\n \\'Razor-Fist II\\',\\n \\'Red Arrow\\',\\n \\'Red Hood\\',\\n \\'Red Hulk\\',\\n \\'Red Robin\\',\\n \\'Red Skull\\',\\n \\'Red Tornado\\',\\n \\'Rhino\\',\\n \\'Rick Flag\\',\\n \\'Ripcord\\',\\n \\'Robin\\',\\n \\'Robin II\\',\\n \\'Robin III\\',\\n \\'Robin V\\',\\n \\'Rocket Raccoon\\',\\n \\'Rogue\\',\\n \\'Ronin\\',\\n \\'Rorschach\\',\\n \\'Sabretooth\\',\\n \\'Sage\\',\\n \\'Sandman\\',\\n \\'Sasquatch\\',\\n \\'Scarecrow\\',\\n \\'Scarlet Spider\\',\\n \\'Scarlet Spider II\\',\\n \\'Scarlet Witch\\',\\n \\'Scorpion\\',\\n \\'Sentry\\',\\n \\'Shadow King\\',\\n \\'Shadow Lass\\',\\n \\'Shadowcat\\',\\n \\'Shang-Chi\\',\\n \\'Shatterstar\\',\\n \\'She-Hulk\\',\\n \\'She-Thing\\',\\n \\'Shocker\\',\\n \\'Shriek\\',\\n \\'Sif\\',\\n \\'Silver Surfer\\',\\n \\'Silverclaw\\',\\n \\'Sinestro\\',\\n \\'Siren\\',\\n \\'Siryn\\',\\n \\'Skaar\\',\\n \\'Snowbird\\',\\n \\'Solomon Grundy\\',\\n \\'Songbird\\',\\n \\'Space Ghost\\',\\n \\'Spawn\\',\\n \\'Spider-Girl\\',\\n \\'Spider-Gwen\\',\\n \\'Spider-Man\\',\\n \\'Spider-Woman\\',\\n \\'Spider-Woman III\\',\\n \\'Spider-Woman IV\\',\\n \\'Spock\\',\\n \\'Spyke\\',\\n \\'Star-Lord\\',\\n \\'Starfire\\',\\n \\'Stargirl\\',\\n \\'Static\\',\\n \\'Steel\\',\\n \\'Steppenwolf\\',\\n \\'Storm\\',\\n \\'Sunspot\\',\\n \\'Superboy\\',\\n \\'Superboy-Prime\\',\\n \\'Supergirl\\',\\n \\'Superman\\',\\n \\'Swarm\\',\\n \\'Synch\\',\\n \\'T-1000\\',\\n \\'Taskmaster\\',\\n \\'Tempest\\',\\n \\'Thanos\\',\\n \\'The Comedian\\',\\n \\'Thing\\',\\n \\'Thor\\',\\n \\'Thor Girl\\',\\n \\'Thunderbird\\',\\n \\'Thunderbird III\\',\\n \\'Thunderstrike\\',\\n \\'Thundra\\',\\n \\'Tiger Shark\\',\\n \\'Tigra\\',\\n \\'Tinkerer\\',\\n \\'Toad\\',\\n \\'Toxin\\',\\n \\'Trickster\\',\\n \\'Triplicate Girl\\',\\n \\'Triton\\',\\n \\'Two-Face\\',\\n \\'Ultragirl\\',\\n \\'Ultron\\',\\n \\'Utgard-Loki\\',\\n \\'Vagabond\\',\\n \\'Valerie Hart\\',\\n \\'Valkyrie\\',\\n \\'Vanisher\\',\\n \\'Vegeta\\',\\n \\'Venom\\',\\n \\'Venom II\\',\\n \\'Venom III\\',\\n \\'Vertigo II\\',\\n \\'Vibe\\',\\n \\'Vindicator\\',\\n \\'Violet Parr\\',\\n \\'Vision\\',\\n \\'Vision II\\',\\n \\'Vixen\\',\\n \\'Vulture\\',\\n \\'Walrus\\',\\n \\'War Machine\\',\\n \\'Warbird\\',\\n \\'Warlock\\',\\n \\'Warp\\',\\n \\'Warpath\\',\\n \\'Wasp\\',\\n \\'White Queen\\',\\n \\'Winter Soldier\\',\\n \\'Wiz Kid\\',\\n \\'Wolfsbane\\',\\n \\'Wolverine\\',\\n \\'Wonder Girl\\',\\n \\'Wonder Man\\',\\n \\'Wonder Woman\\',\\n \\'Wyatt Wingfoot\\',\\n \\'X-23\\',\\n \\'X-Man\\',\\n \\'Yellow Claw\\',\\n \\'Yellowjacket\\',\\n \\'Yellowjacket II\\',\\n \\'Yoda\\',\\n \\'Zatanna\\',\\n \\'Zoom\\''"
      ]
     },
     "execution_count": 10,
     "metadata": {},
     "output_type": "execute_result"
    }
   ],
   "source": [
    "with open('assets/learn_python/heroes.txt', 'r') as file:\n",
    "    text = file.read()\n",
    "text"
   ]
  },
  {
   "cell_type": "code",
   "execution_count": 14,
   "metadata": {},
   "outputs": [
    {
     "ename": "NameError",
     "evalue": "name 'contextlib' is not defined",
     "output_type": "error",
     "traceback": [
      "\u001b[0;31m---------------------------------------------------------------------------\u001b[0m",
      "\u001b[0;31mNameError\u001b[0m                                 Traceback (most recent call last)",
      "\u001b[0;32m<ipython-input-14-a8eba639db73>\u001b[0m in \u001b[0;36m<module>\u001b[0;34m\u001b[0m\n\u001b[0;32m----> 1\u001b[0;31m \u001b[0;34m@\u001b[0m\u001b[0mcontextlib\u001b[0m\u001b[0;34m.\u001b[0m\u001b[0mcontextmanager\u001b[0m\u001b[0;34m\u001b[0m\u001b[0;34m\u001b[0m\u001b[0m\n\u001b[0m\u001b[1;32m      2\u001b[0m \u001b[0;32mdef\u001b[0m \u001b[0mtimer\u001b[0m\u001b[0;34m(\u001b[0m\u001b[0;34m)\u001b[0m\u001b[0;34m:\u001b[0m\u001b[0;34m\u001b[0m\u001b[0;34m\u001b[0m\u001b[0m\n\u001b[1;32m      3\u001b[0m     \u001b[0mprint\u001b[0m\u001b[0;34m(\u001b[0m\u001b[0;34m'hello'\u001b[0m\u001b[0;34m)\u001b[0m\u001b[0;34m\u001b[0m\u001b[0;34m\u001b[0m\u001b[0m\n\u001b[1;32m      4\u001b[0m     \u001b[0;32myield\u001b[0m \u001b[0;36m42\u001b[0m\u001b[0;34m\u001b[0m\u001b[0;34m\u001b[0m\u001b[0m\n\u001b[1;32m      5\u001b[0m     \u001b[0mprint\u001b[0m\u001b[0;34m(\u001b[0m\u001b[0;34m'goodbye'\u001b[0m\u001b[0;34m)\u001b[0m\u001b[0;34m\u001b[0m\u001b[0;34m\u001b[0m\u001b[0m\n",
      "\u001b[0;31mNameError\u001b[0m: name 'contextlib' is not defined"
     ]
    }
   ],
   "source": [
    "@contextlib.contextmanager\n",
    "def database(url):\n",
    "    # set up database connection\n",
    "    db = postgres.connect(url)\n",
    "    yield db\n",
    "    # tear down database connection\n",
    "    db.disconnect()\n",
    "    \n",
    "url = 'http://datacamp.com/data'\n",
    "with database(url) as my_db:\n",
    "    course_list = my_db.execute('SELECT * FROM courses')\n",
    "\n"
   ]
  },
  {
   "cell_type": "code",
   "execution_count": 17,
   "metadata": {},
   "outputs": [
    {
     "ename": "NameError",
     "evalue": "name 'contextlib' is not defined",
     "output_type": "error",
     "traceback": [
      "\u001b[0;31m---------------------------------------------------------------------------\u001b[0m",
      "\u001b[0;31mNameError\u001b[0m                                 Traceback (most recent call last)",
      "\u001b[0;32m<ipython-input-17-c761294ad9a8>\u001b[0m in \u001b[0;36m<module>\u001b[0;34m\u001b[0m\n\u001b[1;32m      1\u001b[0m \u001b[0;31m# Add a decorator that will make timer() a context manager\u001b[0m\u001b[0;34m\u001b[0m\u001b[0;34m\u001b[0m\u001b[0;34m\u001b[0m\u001b[0m\n\u001b[0;32m----> 2\u001b[0;31m \u001b[0;34m@\u001b[0m\u001b[0mcontextlib\u001b[0m\u001b[0;34m.\u001b[0m\u001b[0mcontextmanager\u001b[0m\u001b[0;34m\u001b[0m\u001b[0;34m\u001b[0m\u001b[0m\n\u001b[0m\u001b[1;32m      3\u001b[0m \u001b[0;32mdef\u001b[0m \u001b[0mtimer\u001b[0m\u001b[0;34m(\u001b[0m\u001b[0;34m)\u001b[0m\u001b[0;34m:\u001b[0m\u001b[0;34m\u001b[0m\u001b[0;34m\u001b[0m\u001b[0m\n\u001b[1;32m      4\u001b[0m     \"\"\"Time the execution of a context block.\n\u001b[1;32m      5\u001b[0m \u001b[0;34m\u001b[0m\u001b[0m\n",
      "\u001b[0;31mNameError\u001b[0m: name 'contextlib' is not defined"
     ]
    }
   ],
   "source": [
    "# Add a decorator that will make timer() a context manager\n",
    "@contextlib.contextmanager\n",
    "def timer():\n",
    "    \"\"\"Time the execution of a context block.\n",
    "\n",
    "    Yields:\n",
    "    None\n",
    "    \"\"\"\n",
    "    start = time.time()\n",
    "    # Send control back to the context block\n",
    "    yield\n",
    "    end = time.time()\n",
    "    print('Elapsed: {:.2f}s'.format(end - start))\n",
    "\n",
    "with timer():\n",
    "    print('This should take approximately 0.25 seconds')\n",
    "    time.sleep(0.25)"
   ]
  },
  {
   "cell_type": "code",
   "execution_count": 18,
   "metadata": {},
   "outputs": [
    {
     "ename": "NameError",
     "evalue": "name 'contextlib' is not defined",
     "output_type": "error",
     "traceback": [
      "\u001b[0;31m---------------------------------------------------------------------------\u001b[0m",
      "\u001b[0;31mNameError\u001b[0m                                 Traceback (most recent call last)",
      "\u001b[0;32m<ipython-input-18-f53b6d37bb18>\u001b[0m in \u001b[0;36m<module>\u001b[0;34m\u001b[0m\n\u001b[0;32m----> 1\u001b[0;31m \u001b[0;34m@\u001b[0m\u001b[0mcontextlib\u001b[0m\u001b[0;34m.\u001b[0m\u001b[0mcontextmanager\u001b[0m\u001b[0;34m\u001b[0m\u001b[0;34m\u001b[0m\u001b[0m\n\u001b[0m\u001b[1;32m      2\u001b[0m \u001b[0;32mdef\u001b[0m \u001b[0mopen_read_only\u001b[0m\u001b[0;34m(\u001b[0m\u001b[0mfilename\u001b[0m\u001b[0;34m)\u001b[0m\u001b[0;34m:\u001b[0m\u001b[0;34m\u001b[0m\u001b[0;34m\u001b[0m\u001b[0m\n\u001b[1;32m      3\u001b[0m     \"\"\"Open a file in read-only mode.\n\u001b[1;32m      4\u001b[0m \u001b[0;34m\u001b[0m\u001b[0m\n\u001b[1;32m      5\u001b[0m     \u001b[0mArgs\u001b[0m\u001b[0;34m:\u001b[0m\u001b[0;34m\u001b[0m\u001b[0;34m\u001b[0m\u001b[0m\n",
      "\u001b[0;31mNameError\u001b[0m: name 'contextlib' is not defined"
     ]
    }
   ],
   "source": [
    "@contextlib.contextmanager\n",
    "def open_read_only(filename):\n",
    "    \"\"\"Open a file in read-only mode.\n",
    "\n",
    "    Args:\n",
    "    filename (str): The location of the file to read\n",
    "\n",
    "    Yields:\n",
    "    file object\n",
    "    \"\"\"\n",
    "    read_only_file = open(filename, mode='r')\n",
    "    # Yield read_only_file so it can be assigned to my_file\n",
    "    yield read_only_file\n",
    "    # Close read_only_file\n",
    "    read_only_file.close()\n",
    "\n",
    "with open_read_only('my_file.txt') as my_file:\n",
    "    print(my_file.read())"
   ]
  },
  {
   "cell_type": "code",
   "execution_count": 19,
   "metadata": {},
   "outputs": [
    {
     "ename": "NameError",
     "evalue": "name 'stock' is not defined",
     "output_type": "error",
     "traceback": [
      "\u001b[0;31m---------------------------------------------------------------------------\u001b[0m",
      "\u001b[0;31mNameError\u001b[0m                                 Traceback (most recent call last)",
      "\u001b[0;32m<ipython-input-19-38997949ab31>\u001b[0m in \u001b[0;36m<module>\u001b[0;34m\u001b[0m\n\u001b[1;32m      1\u001b[0m \u001b[0;31m# Use the \"stock('NVDA')\" context manager\u001b[0m\u001b[0;34m\u001b[0m\u001b[0;34m\u001b[0m\u001b[0;34m\u001b[0m\u001b[0m\n\u001b[1;32m      2\u001b[0m \u001b[0;31m# and assign the result to the variable \"nvda\"\u001b[0m\u001b[0;34m\u001b[0m\u001b[0;34m\u001b[0m\u001b[0;34m\u001b[0m\u001b[0m\n\u001b[0;32m----> 3\u001b[0;31m \u001b[0;32mwith\u001b[0m \u001b[0mstock\u001b[0m\u001b[0;34m(\u001b[0m\u001b[0;34m'NVDA'\u001b[0m\u001b[0;34m)\u001b[0m \u001b[0;32mas\u001b[0m \u001b[0mnvda\u001b[0m\u001b[0;34m:\u001b[0m\u001b[0;34m\u001b[0m\u001b[0;34m\u001b[0m\u001b[0m\n\u001b[0m\u001b[1;32m      4\u001b[0m   \u001b[0;31m# Open \"NVDA.txt\" for writing as f_out\u001b[0m\u001b[0;34m\u001b[0m\u001b[0;34m\u001b[0m\u001b[0;34m\u001b[0m\u001b[0m\n\u001b[1;32m      5\u001b[0m   \u001b[0;32mwith\u001b[0m \u001b[0mopen\u001b[0m\u001b[0;34m(\u001b[0m\u001b[0;34m'NVDA.txt'\u001b[0m \u001b[0;34m,\u001b[0m\u001b[0;34m'w'\u001b[0m\u001b[0;34m)\u001b[0m \u001b[0;32mas\u001b[0m \u001b[0mf_out\u001b[0m\u001b[0;34m:\u001b[0m\u001b[0;34m\u001b[0m\u001b[0;34m\u001b[0m\u001b[0m\n",
      "\u001b[0;31mNameError\u001b[0m: name 'stock' is not defined"
     ]
    }
   ],
   "source": [
    "# Use the \"stock('NVDA')\" context manager\n",
    "# and assign the result to the variable \"nvda\"\n",
    "with stock('NVDA') as nvda:\n",
    "  # Open \"NVDA.txt\" for writing as f_out\n",
    "  with open('NVDA.txt' ,'w') as f_out:\n",
    "    for _ in range(10):\n",
    "        value = nvda.price()\n",
    "        print('Logging ${:.2f} for NVDA'.format(value))\n",
    "        f_out.write('{:.2f}\\n'.format(value))"
   ]
  },
  {
   "cell_type": "code",
   "execution_count": 20,
   "metadata": {},
   "outputs": [],
   "source": [
    "def in_dir(directory):\n",
    "    \"\"\"\n",
    "    Change current working directory to `directory`,\n",
    "    allow the user to run some code, and change back.\n",
    "\n",
    "    Args:\n",
    "    directory (str): The path to a directory to work in.\n",
    "    \"\"\"\n",
    "    current_dir = os.getcwd()\n",
    "    os.chdir(directory)\n",
    "\n",
    "    # Add code that lets you handle errors\n",
    "    try:\n",
    "        yield\n",
    "    # Ensure the directory is reset,\n",
    "    # whether there was an error or not\n",
    "    finally:\n",
    "        os.chdir(current_dir)"
   ]
  },
  {
   "cell_type": "code",
   "execution_count": 23,
   "metadata": {},
   "outputs": [
    {
     "ename": "AttributeError",
     "evalue": "__enter__",
     "output_type": "error",
     "traceback": [
      "\u001b[0;31m---------------------------------------------------------------------------\u001b[0m",
      "\u001b[0;31mAttributeError\u001b[0m                            Traceback (most recent call last)",
      "\u001b[0;32m<ipython-input-23-2aa18a97607f>\u001b[0m in \u001b[0;36m<module>\u001b[0;34m\u001b[0m\n\u001b[1;32m      9\u001b[0m \u001b[0mdoc\u001b[0m \u001b[0;34m=\u001b[0m \u001b[0;34m{\u001b[0m\u001b[0;34m'text'\u001b[0m\u001b[0;34m:\u001b[0m \u001b[0;34m'This is my text.'\u001b[0m\u001b[0;34m}\u001b[0m\u001b[0;34m\u001b[0m\u001b[0;34m\u001b[0m\u001b[0m\n\u001b[1;32m     10\u001b[0m \u001b[0;34m\u001b[0m\u001b[0m\n\u001b[0;32m---> 11\u001b[0;31m \u001b[0;32mwith\u001b[0m \u001b[0mget_printer\u001b[0m\u001b[0;34m(\u001b[0m\u001b[0;34m'10.0.34.111'\u001b[0m\u001b[0;34m)\u001b[0m \u001b[0;32mas\u001b[0m \u001b[0mprinter\u001b[0m\u001b[0;34m:\u001b[0m\u001b[0;34m\u001b[0m\u001b[0;34m\u001b[0m\u001b[0m\n\u001b[0m\u001b[1;32m     12\u001b[0m     \u001b[0mprinter\u001b[0m\u001b[0;34m.\u001b[0m\u001b[0mprint_page\u001b[0m\u001b[0;34m(\u001b[0m\u001b[0mdoc\u001b[0m\u001b[0;34m[\u001b[0m\u001b[0;34m'txt'\u001b[0m\u001b[0;34m]\u001b[0m\u001b[0;34m)\u001b[0m\u001b[0;34m\u001b[0m\u001b[0;34m\u001b[0m\u001b[0m\n",
      "\u001b[0;31mAttributeError\u001b[0m: __enter__"
     ]
    }
   ],
   "source": [
    "def get_printer(ip):\n",
    "    p = connect_to_printer(ip)\n",
    "    try:\n",
    "        yield\n",
    "    finally:\n",
    "        p.disconnect()\n",
    "        print('disconnected from printer')\n",
    "    \n",
    "doc = {'text': 'This is my text.'}\n",
    "\n",
    "with get_printer('10.0.34.111') as printer:\n",
    "    printer.print_page(doc['txt'])"
   ]
  },
  {
   "cell_type": "markdown",
   "metadata": {},
   "source": [
    "### Scope\n",
    "\n",
    "- Variables level scope: built-in > global > non-local > local"
   ]
  },
  {
   "cell_type": "code",
   "execution_count": null,
   "metadata": {},
   "outputs": [],
   "source": [
    "call_count = 0\n",
    "\n",
    "def my_function():\n",
    "    # Use a keyword that lets us update call_count \n",
    "    global call_count\n",
    "    call_count += 1\n",
    "\n",
    "    print(\"You've called my_function() {} times!\".format(\n",
    "    call_count)\n",
    "         )\n",
    "\n",
    "for _ in range(20):\n",
    "    my_function()"
   ]
  },
  {
   "cell_type": "code",
   "execution_count": null,
   "metadata": {},
   "outputs": [],
   "source": [
    "def read_files():\n",
    "    file_contents = None\n",
    "\n",
    "    def save_contents(filename):\n",
    "        # Add a keyword that lets us modify file_contents\n",
    "        nonlocal file_contents\n",
    "        \n",
    "        if file_contents is None:\n",
    "            file_contents = []\n",
    "        with open(filename) as fin:\n",
    "            file_contents.append(fin.read())\n",
    "\n",
    "    for filename in ['1984.txt', 'MobyDick.txt', 'CatsEye.txt']:\n",
    "        save_contents(filename)\n",
    "\n",
    "    return file_contents\n",
    "\n",
    "print('\\n'.join(read_files()))"
   ]
  },
  {
   "cell_type": "code",
   "execution_count": null,
   "metadata": {},
   "outputs": [],
   "source": [
    "def wait_until_done():\n",
    "    def check_is_done():\n",
    "        # Add a keyword so that wait_until_done() \n",
    "        # doesn't run forever\n",
    "        global done\n",
    "        if random.random() < 0.1:\n",
    "            done = True\n",
    "      \n",
    "    while not done:\n",
    "        check_is_done()\n",
    "\n",
    "done = False\n",
    "wait_until_done()\n",
    "\n",
    "print('Work done? {}'.format(done))"
   ]
  },
  {
   "cell_type": "markdown",
   "metadata": {},
   "source": [
    "### Closures"
   ]
  },
  {
   "cell_type": "code",
   "execution_count": null,
   "metadata": {},
   "outputs": [],
   "source": [
    "def return_a_func(arg1, arg2):\n",
    "    def new_func():\n",
    "        print('arg1 was {}'.format(arg1))\n",
    "        print('arg2 was {}'.format(arg2))\n",
    "        return new_func\n",
    "    \n",
    "my_func = return_a_func(2, 17)\n",
    "\n",
    "# Show that my_func()'s closure is not None\n",
    "print(my_func.__closure__ is not None)\n",
    "print(len(my_func.__closure__) == 2)\n",
    "\n",
    "# Get the values of the variables in the closure\n",
    "closure_values = [\n",
    "  my_func.__closure__[i].cell_contents for i in range(2)\n",
    "]\n",
    "print(closure_values == [2, 17])"
   ]
  },
  {
   "cell_type": "code",
   "execution_count": 28,
   "metadata": {},
   "outputs": [
    {
     "name": "stdout",
     "output_type": "stream",
     "text": [
      "You are running my_special_function()\n"
     ]
    }
   ],
   "source": [
    "def my_special_function():\n",
    "    print('You are running my_special_function()')\n",
    "\n",
    "def get_new_func(func):\n",
    "    \n",
    "    def call_func():\n",
    "        func()\n",
    "    return call_func\n",
    "\n",
    "new_func = get_new_func(my_special_function)\n",
    "\n",
    "# Redefine my_special_function() to just print \"hello\"\n",
    "def my_special_function():\n",
    "    print('hello')\n",
    "\n",
    "new_func()"
   ]
  },
  {
   "cell_type": "code",
   "execution_count": 27,
   "metadata": {},
   "outputs": [
    {
     "name": "stdout",
     "output_type": "stream",
     "text": [
      "You are running my_special_function()\n"
     ]
    }
   ],
   "source": [
    "def my_special_function():\n",
    "    print('You are running my_special_function()')\n",
    "\n",
    "def get_new_func(func):\n",
    "    \n",
    "    def call_func():\n",
    "        func()\n",
    "    return call_func\n",
    "\n",
    "new_func = get_new_func(my_special_function)\n",
    "\n",
    "# Delete my_special_function()\n",
    "del my_special_function\n",
    "\n",
    "new_func()"
   ]
  },
  {
   "cell_type": "code",
   "execution_count": 29,
   "metadata": {},
   "outputs": [
    {
     "name": "stdout",
     "output_type": "stream",
     "text": [
      "You are running my_special_function()\n"
     ]
    }
   ],
   "source": [
    "def my_special_function():\n",
    "    print('You are running my_special_function()')\n",
    "\n",
    "def get_new_func(func):\n",
    "    \n",
    "    def call_func():\n",
    "        func()\n",
    "    return call_func\n",
    "\n",
    "new_func = get_new_func(my_special_function)\n",
    "\n",
    "# Overwrite `my_special_function` with the new function\n",
    "my_special_function = get_new_func(my_special_function)\n",
    "\n",
    "my_special_function()"
   ]
  },
  {
   "cell_type": "markdown",
   "metadata": {},
   "source": [
    "### Decorators"
   ]
  },
  {
   "cell_type": "code",
   "execution_count": 31,
   "metadata": {},
   "outputs": [
    {
     "name": "stdout",
     "output_type": "stream",
     "text": [
      "Before multiply\n",
      "50\n",
      "After multiply\n"
     ]
    }
   ],
   "source": [
    "def print_before_and_after(func):\n",
    "    def wrapper(*args):\n",
    "        print('Before {}'.format(func.__name__))\n",
    "        # Call the function being decorated with *args\n",
    "        func(*args)\n",
    "        print('After {}'.format(func.__name__))\n",
    "    # Return the nested function\n",
    "    return wrapper\n",
    "\n",
    "@print_before_and_after\n",
    "def multiply(a, b):\n",
    "    print(a * b)\n",
    "\n",
    "multiply(5, 10)"
   ]
  },
  {
   "cell_type": "code",
   "execution_count": 33,
   "metadata": {},
   "outputs": [
    {
     "data": {
      "text/plain": [
       "20"
      ]
     },
     "execution_count": 33,
     "metadata": {},
     "output_type": "execute_result"
    }
   ],
   "source": [
    "def double_args(func):\n",
    "    def wrapper(a, b):\n",
    "        return func(a * 2, b * 2)\n",
    "    return wrapper\n",
    "\n",
    "def multiply(a, b):\n",
    "    return a * b\n",
    "\n",
    "multiply = double_args(multiply)\n",
    "multiply(1, 5)"
   ]
  },
  {
   "cell_type": "code",
   "execution_count": 34,
   "metadata": {},
   "outputs": [
    {
     "data": {
      "text/plain": [
       "20"
      ]
     },
     "execution_count": 34,
     "metadata": {},
     "output_type": "execute_result"
    }
   ],
   "source": [
    "def double_args(func):\n",
    "    def wrapper(a, b):\n",
    "        return func(a * 2, b * 2)\n",
    "    return wrapper\n",
    "@double_args\n",
    "def multiply(a, b):\n",
    "    return a * b\n",
    "multiply(1, 5)"
   ]
  },
  {
   "cell_type": "markdown",
   "metadata": {},
   "source": [
    "### More on Decorators\n",
    "\n",
    "- use decorators when you want to use the same bit of code (same behavior) in multiple functions (DRY)"
   ]
  },
  {
   "cell_type": "code",
   "execution_count": 6,
   "metadata": {},
   "outputs": [],
   "source": [
    "import time\n",
    "\n",
    "def timer(func):\n",
    "    \n",
    "    def wrapper(*args, **kwargs):\n",
    "        # When wrapper() is called, get the current time.\n",
    "        t_start = time.time()\n",
    "        # Call the decorated function and store the result.\n",
    "        result = func(*args, **kwargs)\n",
    "        # Get the total time it took to run, and print it.\n",
    "        t_total = time.time() - t_start\n",
    "        print('{} took {}s'.format(func.__name__, t_total))\n",
    "        return result\n",
    "    \n",
    "    return wrapper\n",
    "\n",
    "@timer\n",
    "def count_seconds(n):\n",
    "    time.sleep(n)"
   ]
  },
  {
   "cell_type": "code",
   "execution_count": 7,
   "metadata": {},
   "outputs": [
    {
     "name": "stdout",
     "output_type": "stream",
     "text": [
      "count_seconds took 4.002410888671875s\n"
     ]
    }
   ],
   "source": [
    "count_seconds(4)\n"
   ]
  },
  {
   "cell_type": "markdown",
   "metadata": {},
   "source": [
    "### Decorators Factory\n",
    "- use a decorator factory (extra function wrapping the actual decorator) in order to pass arguments to the decorator"
   ]
  },
  {
   "cell_type": "code",
   "execution_count": 18,
   "metadata": {},
   "outputs": [],
   "source": [
    "def run_n_times(n):\n",
    "    \"\"\"Define and return a decorator\"\"\"\n",
    "    def decorator(func):\n",
    "        def wrapper(*args, **kwargs):\n",
    "            for i in range(n):\n",
    "                func(*args, **kwargs)\n",
    "        return wrapper\n",
    "    return decorator"
   ]
  },
  {
   "cell_type": "code",
   "execution_count": 19,
   "metadata": {},
   "outputs": [
    {
     "name": "stdout",
     "output_type": "stream",
     "text": [
      "35\n",
      "35\n",
      "35\n",
      "35\n",
      "35\n",
      "35\n",
      "35\n",
      "35\n",
      "35\n",
      "35\n"
     ]
    }
   ],
   "source": [
    "# Make print_sum() run 10 times with the run_n_times() decorator\n",
    "\n",
    "@run_n_times(10)\n",
    "def print_sum(a, b):\n",
    "    print(a + b)\n",
    "    \n",
    "print_sum(15, 20)"
   ]
  },
  {
   "cell_type": "code",
   "execution_count": 20,
   "metadata": {},
   "outputs": [
    {
     "name": "stdout",
     "output_type": "stream",
     "text": [
      "104\n",
      "104\n",
      "104\n",
      "104\n",
      "104\n"
     ]
    }
   ],
   "source": [
    "# Use run_n_times() to create the run_five_times() decorator\n",
    "run_five_times = run_n_times(5)\n",
    "\n",
    "@run_five_times\n",
    "def print_sum(a, b):\n",
    "    print(a + b)\n",
    "\n",
    "print_sum(4, 100)"
   ]
  },
  {
   "cell_type": "code",
   "execution_count": 54,
   "metadata": {},
   "outputs": [
    {
     "name": "stdout",
     "output_type": "stream",
     "text": [
      "What is happening?!?!\n",
      "What is happening?!?!\n",
      "What is happening?!?!\n",
      "What is happening?!?!\n",
      "What is happening?!?!\n",
      "What is happening?!?!\n",
      "What is happening?!?!\n",
      "What is happening?!?!\n",
      "What is happening?!?!\n",
      "What is happening?!?!\n",
      "What is happening?!?!\n",
      "What is happening?!?!\n",
      "What is happening?!?!\n",
      "What is happening?!?!\n",
      "What is happening?!?!\n",
      "What is happening?!?!\n",
      "What is happening?!?!\n",
      "What is happening?!?!\n",
      "What is happening?!?!\n",
      "What is happening?!?!\n"
     ]
    }
   ],
   "source": [
    "# Modify the print() function to always run 20 times\n",
    "print = run_n_times(1)(print)\n",
    "\n",
    "print('What is happening?!?!')"
   ]
  },
  {
   "cell_type": "markdown",
   "metadata": {},
   "source": [
    "## --Classes"
   ]
  },
  {
   "cell_type": "markdown",
   "metadata": {},
   "source": [
    "### OOP\n",
    "- Encapsulation: the distinctive feature of OOP is that state and behavior are bundled together\n",
    "- Classes are blueprints for objects, describing the states and behaviors every object will have\n",
    "- In Python, everything is an object from int to functions to Pandas dataframes\n",
    "- Call type to identify an object's class\n",
    "- Objects are described by their attributes (variables) and methods (functions)"
   ]
  },
  {
   "cell_type": "code",
   "execution_count": 33,
   "metadata": {
    "scrolled": true
   },
   "outputs": [
    {
     "data": {
      "text/plain": [
       "int"
      ]
     },
     "metadata": {},
     "output_type": "display_data"
    },
    {
     "data": {
      "text/plain": [
       "['__abs__',\n",
       " '__add__',\n",
       " '__and__',\n",
       " '__bool__',\n",
       " '__ceil__',\n",
       " '__class__',\n",
       " '__delattr__',\n",
       " '__dir__',\n",
       " '__divmod__',\n",
       " '__doc__',\n",
       " '__eq__',\n",
       " '__float__',\n",
       " '__floor__',\n",
       " '__floordiv__',\n",
       " '__format__',\n",
       " '__ge__',\n",
       " '__getattribute__',\n",
       " '__getnewargs__',\n",
       " '__gt__',\n",
       " '__hash__',\n",
       " '__index__',\n",
       " '__init__',\n",
       " '__init_subclass__',\n",
       " '__int__',\n",
       " '__invert__',\n",
       " '__le__',\n",
       " '__lshift__',\n",
       " '__lt__',\n",
       " '__mod__',\n",
       " '__mul__',\n",
       " '__ne__',\n",
       " '__neg__',\n",
       " '__new__',\n",
       " '__or__',\n",
       " '__pos__',\n",
       " '__pow__',\n",
       " '__radd__',\n",
       " '__rand__',\n",
       " '__rdivmod__',\n",
       " '__reduce__',\n",
       " '__reduce_ex__',\n",
       " '__repr__',\n",
       " '__rfloordiv__',\n",
       " '__rlshift__',\n",
       " '__rmod__',\n",
       " '__rmul__',\n",
       " '__ror__',\n",
       " '__round__',\n",
       " '__rpow__',\n",
       " '__rrshift__',\n",
       " '__rshift__',\n",
       " '__rsub__',\n",
       " '__rtruediv__',\n",
       " '__rxor__',\n",
       " '__setattr__',\n",
       " '__sizeof__',\n",
       " '__str__',\n",
       " '__sub__',\n",
       " '__subclasshook__',\n",
       " '__truediv__',\n",
       " '__trunc__',\n",
       " '__xor__',\n",
       " 'as_integer_ratio',\n",
       " 'bit_length',\n",
       " 'conjugate',\n",
       " 'denominator',\n",
       " 'from_bytes',\n",
       " 'imag',\n",
       " 'numerator',\n",
       " 'real',\n",
       " 'to_bytes']"
      ]
     },
     "metadata": {},
     "output_type": "display_data"
    },
    {
     "data": {
      "text/plain": [
       "str"
      ]
     },
     "metadata": {},
     "output_type": "display_data"
    },
    {
     "data": {
      "text/plain": [
       "['__add__',\n",
       " '__class__',\n",
       " '__contains__',\n",
       " '__delattr__',\n",
       " '__dir__',\n",
       " '__doc__',\n",
       " '__eq__',\n",
       " '__format__',\n",
       " '__ge__',\n",
       " '__getattribute__',\n",
       " '__getitem__',\n",
       " '__getnewargs__',\n",
       " '__gt__',\n",
       " '__hash__',\n",
       " '__init__',\n",
       " '__init_subclass__',\n",
       " '__iter__',\n",
       " '__le__',\n",
       " '__len__',\n",
       " '__lt__',\n",
       " '__mod__',\n",
       " '__mul__',\n",
       " '__ne__',\n",
       " '__new__',\n",
       " '__reduce__',\n",
       " '__reduce_ex__',\n",
       " '__repr__',\n",
       " '__rmod__',\n",
       " '__rmul__',\n",
       " '__setattr__',\n",
       " '__sizeof__',\n",
       " '__str__',\n",
       " '__subclasshook__',\n",
       " 'capitalize',\n",
       " 'casefold',\n",
       " 'center',\n",
       " 'count',\n",
       " 'encode',\n",
       " 'endswith',\n",
       " 'expandtabs',\n",
       " 'find',\n",
       " 'format',\n",
       " 'format_map',\n",
       " 'index',\n",
       " 'isalnum',\n",
       " 'isalpha',\n",
       " 'isascii',\n",
       " 'isdecimal',\n",
       " 'isdigit',\n",
       " 'isidentifier',\n",
       " 'islower',\n",
       " 'isnumeric',\n",
       " 'isprintable',\n",
       " 'isspace',\n",
       " 'istitle',\n",
       " 'isupper',\n",
       " 'join',\n",
       " 'ljust',\n",
       " 'lower',\n",
       " 'lstrip',\n",
       " 'maketrans',\n",
       " 'partition',\n",
       " 'replace',\n",
       " 'rfind',\n",
       " 'rindex',\n",
       " 'rjust',\n",
       " 'rpartition',\n",
       " 'rsplit',\n",
       " 'rstrip',\n",
       " 'split',\n",
       " 'splitlines',\n",
       " 'startswith',\n",
       " 'strip',\n",
       " 'swapcase',\n",
       " 'title',\n",
       " 'translate',\n",
       " 'upper',\n",
       " 'zfill']"
      ]
     },
     "metadata": {},
     "output_type": "display_data"
    }
   ],
   "source": [
    "display(type(9))\n",
    "display(dir(9))\n",
    "\n",
    "display(type('N'))\n",
    "display(dir('N'))"
   ]
  },
  {
   "cell_type": "markdown",
   "metadata": {},
   "source": [
    "### Constructing a class example\n",
    "\n",
    "- the constructor method is called everytime the object is created"
   ]
  },
  {
   "cell_type": "code",
   "execution_count": 48,
   "metadata": {
    "scrolled": true
   },
   "outputs": [
    {
     "data": {
      "text/plain": [
       "4166.666666666667"
      ]
     },
     "execution_count": 48,
     "metadata": {},
     "output_type": "execute_result"
    }
   ],
   "source": [
    "class Employee:\n",
    "    \n",
    "    # Create __init__() method -> constructor\n",
    "    def __init__(self, experience=1):\n",
    "        self.experience = experience\n",
    "        \n",
    "    def set_name(self, new_name):\n",
    "        self.name = new_name\n",
    "\n",
    "    def set_salary(self, new_salary):\n",
    "        self.salary = new_salary \n",
    "\n",
    "    def give_raise(self, amount):\n",
    "        self.salary = self.salary + amount\n",
    "\n",
    "    # Add monthly_salary method that returns 1/12th of salary attribute\n",
    "    def monthly_salary(self):\n",
    "        return self.salary/12\n",
    "\n",
    "    \n",
    "emp = Employee()\n",
    "emp.set_name('Korel Rossi')\n",
    "emp.set_salary(50000)\n",
    "\n",
    "# Get monthly salary of emp\n",
    "emp.monthly_salary()\n",
    "\n"
   ]
  },
  {
   "cell_type": "markdown",
   "metadata": {},
   "source": [
    "### OOP Principles\n",
    "\n",
    "- Inheritance: extending functionality of existing code\n",
    "- Polymorphism: creating a unified interface\n",
    "- Encapsulation: bundling of data and methods"
   ]
  },
  {
   "cell_type": "code",
   "execution_count": null,
   "metadata": {},
   "outputs": [],
   "source": [
    "# Class attributes: are class-level data that are shared among all instances of a class (not part of __init__)\n",
    "# Are used for setting min/max values or commonly shared constants\n",
    "\n",
    "class Employee:\n",
    "  # Define a class attribute\n",
    "  MIN_SALARY = 30000    #<--- no self.\n",
    "    \n",
    "    def __init__(self, name, salary):\n",
    "        self.name = name\n",
    "        \n",
    "        # Use class name to access class attribute\n",
    "        if salary >= Employee.MIN_SALARY:\n",
    "            self.salary = salary\n",
    "        else:\n",
    "            self.salary = Employee.MIN_SALARY"
   ]
  },
  {
   "cell_type": "code",
   "execution_count": 50,
   "metadata": {},
   "outputs": [],
   "source": [
    "# Declare a class method either using a decorator or a classmethod(self0 function\n",
    "\n",
    "class Employee:\n",
    "    # Define a class attribute\n",
    "    MIN_SALARY = 30000    #<--- no self.\n",
    "    \n",
    "    def __init__(self, name, salary):\n",
    "        self.name = name\n",
    "        \n",
    "        # Use class name to access class attribute\n",
    "        if salary >= Employee.MIN_SALARY:\n",
    "            self.salary = salary\n",
    "        else:\n",
    "            self.salary = Employee.MIN_SALARY\n",
    "            \n",
    "    @classmethod\n",
    "    def office(cls, square_meters): #cls refers to the class\n",
    "        # code\n",
    "        pass\n",
    "    \n",
    "    def office_v2(self, square_meters):\n",
    "        # code\n",
    "        pass"
   ]
  },
  {
   "cell_type": "code",
   "execution_count": 52,
   "metadata": {},
   "outputs": [],
   "source": [
    "# but cls can be used also when an object instance doesn't yet exist as cls will call the __init__ constuctor\n",
    "# as here:\n",
    "\n",
    "class Employee:\n",
    "    # Define a class attribute\n",
    "    MIN_SALARY = 30000    #<--- no self.\n",
    "    \n",
    "    def __init__(self, name, salary):\n",
    "        self.name = name\n",
    "        \n",
    "        # Use class name to access class attribute\n",
    "        if salary >= Employee.MIN_SALARY:\n",
    "            self.salary = salary\n",
    "        else:\n",
    "            self.salary = Employee.MIN_SALARY\n",
    "\n",
    "    @classmethod\n",
    "    def from_file(cls, filename): # cls refers to the class so it will call the __init__ constructor\n",
    "                                  # just like using Employee() outside the clss\n",
    "        with open(filename, \"r\") as f:\n",
    "            name = f.readline()\n",
    "        return cls(name)"
   ]
  },
  {
   "cell_type": "markdown",
   "metadata": {},
   "source": [
    "Python allows you to define class methods as well, using the @classmethod decorator and a special first argument cls. The main use of class methods is defining methods that return an instance of the class, but aren't using the same code as __init__().\n",
    "\n",
    "For example, you are developing a time series package and want to define your own class for working with dates, BetterDate. The attributes of the class will be year, month, and day. You want to have a constructor that creates BetterDate objects given the values for year, month, and day, but you also want to be able to create BetterDate objects from strings like 2020-04-30."
   ]
  },
  {
   "cell_type": "code",
   "execution_count": 55,
   "metadata": {
    "scrolled": true
   },
   "outputs": [
    {
     "name": "stdout",
     "output_type": "stream",
     "text": [
      "2022\n",
      "2022\n",
      "2022\n",
      "2022\n",
      "2022\n",
      "2022\n",
      "2022\n",
      "2022\n",
      "2022\n",
      "2022\n",
      "2022\n",
      "2022\n",
      "2022\n",
      "2022\n",
      "2022\n",
      "2022\n",
      "2022\n",
      "2022\n",
      "2022\n",
      "2022\n",
      "1\n",
      "1\n",
      "1\n",
      "1\n",
      "1\n",
      "1\n",
      "1\n",
      "1\n",
      "1\n",
      "1\n",
      "1\n",
      "1\n",
      "1\n",
      "1\n",
      "1\n",
      "1\n",
      "1\n",
      "1\n",
      "1\n",
      "1\n",
      "23\n",
      "23\n",
      "23\n",
      "23\n",
      "23\n",
      "23\n",
      "23\n",
      "23\n",
      "23\n",
      "23\n",
      "23\n",
      "23\n",
      "23\n",
      "23\n",
      "23\n",
      "23\n",
      "23\n",
      "23\n",
      "23\n",
      "23\n"
     ]
    }
   ],
   "source": [
    "# import datetime from datetime\n",
    "from datetime import datetime\n",
    "\n",
    "class BetterDate:\n",
    "    def __init__(self, year, month, day):\n",
    "        self.year, self.month, self.day = year, month, day\n",
    "      \n",
    "    @classmethod\n",
    "    def from_str(cls, datestr):\n",
    "        year, month, day = map(int, datestr.split(\"-\"))\n",
    "        return cls(year, month, day)\n",
    "      \n",
    "    # Define a class method from_datetime accepting a datetime object\n",
    "    @classmethod\n",
    "    def from_datetime(cls, datetime):\n",
    "        return cls(datetime.year,datetime.month,datetime.day)\n",
    "\n",
    "# You should be able to run the code below with no errors: \n",
    "today = datetime.today()     \n",
    "bd = BetterDate.from_datetime(today)   \n",
    "print(bd.year)\n",
    "print(bd.month)\n",
    "print(bd.day)"
   ]
  },
  {
   "cell_type": "markdown",
   "metadata": {},
   "source": [
    "### Inheritance\n",
    "- new class functionality = old class functionality + extra\n",
    "- \"is-a\" relationship across classes"
   ]
  },
  {
   "cell_type": "code",
   "execution_count": 57,
   "metadata": {
    "scrolled": true
   },
   "outputs": [
    {
     "name": "stdout",
     "output_type": "stream",
     "text": [
      "Debbie Lashko\n",
      "Debbie Lashko\n",
      "Debbie Lashko\n",
      "Debbie Lashko\n",
      "Debbie Lashko\n",
      "Debbie Lashko\n",
      "Debbie Lashko\n",
      "Debbie Lashko\n",
      "Debbie Lashko\n",
      "Debbie Lashko\n",
      "Debbie Lashko\n",
      "Debbie Lashko\n",
      "Debbie Lashko\n",
      "Debbie Lashko\n",
      "Debbie Lashko\n",
      "Debbie Lashko\n",
      "Debbie Lashko\n",
      "Debbie Lashko\n",
      "Debbie Lashko\n",
      "Debbie Lashko\n",
      "Manager  Debbie Lashko\n",
      "Manager  Debbie Lashko\n",
      "Manager  Debbie Lashko\n",
      "Manager  Debbie Lashko\n",
      "Manager  Debbie Lashko\n",
      "Manager  Debbie Lashko\n",
      "Manager  Debbie Lashko\n",
      "Manager  Debbie Lashko\n",
      "Manager  Debbie Lashko\n",
      "Manager  Debbie Lashko\n",
      "Manager  Debbie Lashko\n",
      "Manager  Debbie Lashko\n",
      "Manager  Debbie Lashko\n",
      "Manager  Debbie Lashko\n",
      "Manager  Debbie Lashko\n",
      "Manager  Debbie Lashko\n",
      "Manager  Debbie Lashko\n",
      "Manager  Debbie Lashko\n",
      "Manager  Debbie Lashko\n",
      "Manager  Debbie Lashko\n"
     ]
    }
   ],
   "source": [
    "class Employee:\n",
    "    MIN_SALARY = 30000    \n",
    "\n",
    "    def __init__(self, name, salary=MIN_SALARY):\n",
    "        self.name = name\n",
    "        if salary >= Employee.MIN_SALARY:\n",
    "            self.salary = salary\n",
    "        else:\n",
    "            self.salary = Employee.MIN_SALARY\n",
    "\n",
    "    def give_raise(self, amount):\n",
    "        self.salary += amount      \n",
    "\n",
    "    # Define a new class Manager inheriting from Employee\n",
    "class Manager(Employee):\n",
    "    \n",
    "    def display(self):\n",
    "        print('Manager ',self.name)\n",
    "\n",
    "# Define a Manager object\n",
    "mng = Manager('Debbie Lashko',86500)\n",
    "\n",
    "# Print mng's name\n",
    "print(mng.name)\n",
    "\n",
    "# Call mng.display()\n",
    "mng.display()"
   ]
  },
  {
   "cell_type": "markdown",
   "metadata": {},
   "source": [
    "### Inheriting functionality"
   ]
  },
  {
   "cell_type": "code",
   "execution_count": 67,
   "metadata": {},
   "outputs": [],
   "source": [
    "class BankAccount:\n",
    "    def __init__(self, balance):\n",
    "        self.balance = balance\n",
    "    def withdraw(self, amount):\n",
    "        self.balance -=amount\n",
    "\n",
    "class SavingsAccount(BankAccount):\n",
    "    \n",
    "    # Constructor speficially for SavingsAccount with an additional parameter\n",
    "    def __init__(self, balance, interest_rate):\n",
    "       \n",
    "        # Call the parent constructor using ClassName.__init__()\n",
    "        BankAccount.__init__(self, balance)  # <--- self is a SavingsAccount but also a BankAccount\n",
    "       \n",
    "        # Add more functionality\n",
    "        self.interest_rate = interest_rate\n",
    "    \n",
    "    def compute_interest(self, n_periods = 1):\n",
    "        return self.balance * ( (1 + self.interest_rate) ** n_periods - 1)\n",
    "    \n",
    "class CheckingAccount(BankAccount):\n",
    "    def __init__(self, balance, limit):\n",
    "        BankAccount.__init__(self, balance)\n",
    "        self.limit = limit\n",
    "        \n",
    "    def deposit(self, amount):\n",
    "        self.balance += amount\n",
    "    def withdraw(self, amount, fee=0):\n",
    "        if fee <= self.limit:\n",
    "            BankAccount.withdraw(self, amount - fee)\n",
    "        else:\n",
    "            BankAccount.withdraw(self, amount - self.limit)"
   ]
  },
  {
   "cell_type": "code",
   "execution_count": 77,
   "metadata": {},
   "outputs": [
    {
     "data": {
      "text/plain": [
       "800"
      ]
     },
     "execution_count": 77,
     "metadata": {},
     "output_type": "execute_result"
    }
   ],
   "source": [
    "bank_acct = BankAccount(1000)\n",
    "bank_acct.withdraw(200)\n",
    "bank_acct.balance"
   ]
  },
  {
   "cell_type": "code",
   "execution_count": 78,
   "metadata": {},
   "outputs": [
    {
     "ename": "TypeError",
     "evalue": "withdraw() got an unexpected keyword argument 'fee'",
     "output_type": "error",
     "traceback": [
      "\u001b[0;31m---------------------------------------------------------------------------\u001b[0m",
      "\u001b[0;31mTypeError\u001b[0m                                 Traceback (most recent call last)",
      "\u001b[0;32m<ipython-input-78-1f300755ecb2>\u001b[0m in \u001b[0;36m<module>\u001b[0;34m\u001b[0m\n\u001b[0;32m----> 1\u001b[0;31m \u001b[0mbank_acct\u001b[0m\u001b[0;34m.\u001b[0m\u001b[0mwithdraw\u001b[0m\u001b[0;34m(\u001b[0m\u001b[0;36m200\u001b[0m\u001b[0;34m,\u001b[0m \u001b[0mfee\u001b[0m\u001b[0;34m=\u001b[0m\u001b[0;36m15\u001b[0m\u001b[0;34m)\u001b[0m\u001b[0;34m\u001b[0m\u001b[0;34m\u001b[0m\u001b[0m\n\u001b[0m",
      "\u001b[0;31mTypeError\u001b[0m: withdraw() got an unexpected keyword argument 'fee'"
     ]
    }
   ],
   "source": [
    "bank_acct.withdraw(200, fee=15)"
   ]
  },
  {
   "cell_type": "code",
   "execution_count": 79,
   "metadata": {},
   "outputs": [
    {
     "data": {
      "text/plain": [
       "800"
      ]
     },
     "execution_count": 79,
     "metadata": {},
     "output_type": "execute_result"
    }
   ],
   "source": [
    "\n",
    "check_acct = CheckingAccount(1000, 25)\n",
    "check_acct.withdraw(200)\n",
    "check_acct.balance"
   ]
  },
  {
   "cell_type": "code",
   "execution_count": 80,
   "metadata": {},
   "outputs": [
    {
     "data": {
      "text/plain": [
       "615"
      ]
     },
     "execution_count": 80,
     "metadata": {},
     "output_type": "execute_result"
    }
   ],
   "source": [
    "check_acct.withdraw(200, fee=15)\n",
    "check_acct.balance"
   ]
  },
  {
   "cell_type": "markdown",
   "metadata": {},
   "source": [
    "### Object equality\n",
    "- when an object is created, Python assisns a value (hexadecimal number) to it that points to the memory chunk that this object is allocated to\n",
    "- if you want two objects to be equal then call the __ eq __ constructor"
   ]
  },
  {
   "cell_type": "code",
   "execution_count": 81,
   "metadata": {},
   "outputs": [],
   "source": [
    "class Customer:\n",
    "    def __init__(self, id, name):\n",
    "        self.id, self.name = id, name\n",
    "        \n",
    "    # Will be called when == is used\n",
    "    def __eq__(self, other):\n",
    "    \n",
    "        # Diagnostic printout\n",
    "        print(\"__eq__() is called\")\n",
    "        \n",
    "        # Returns True if all attributes match\n",
    "        return (self.id == other.id) and \\\n",
    "               (self.name == other.name)"
   ]
  },
  {
   "cell_type": "code",
   "execution_count": 82,
   "metadata": {
    "scrolled": true
   },
   "outputs": [
    {
     "name": "stdout",
     "output_type": "stream",
     "text": [
      "True\n",
      "True\n",
      "True\n",
      "True\n",
      "True\n",
      "True\n",
      "True\n",
      "True\n",
      "True\n",
      "True\n",
      "True\n",
      "True\n",
      "True\n",
      "True\n",
      "True\n",
      "True\n",
      "True\n",
      "True\n",
      "True\n",
      "True\n",
      "False\n",
      "False\n",
      "False\n",
      "False\n",
      "False\n",
      "False\n",
      "False\n",
      "False\n",
      "False\n",
      "False\n",
      "False\n",
      "False\n",
      "False\n",
      "False\n",
      "False\n",
      "False\n",
      "False\n",
      "False\n",
      "False\n",
      "False\n"
     ]
    }
   ],
   "source": [
    "class BankAccount:\n",
    "   # MODIFY to initialize a number attribute\n",
    "    def __init__(self, number, balance=0):\n",
    "        self.balance = balance\n",
    "        self.number = number\n",
    "      \n",
    "    def withdraw(self, amount):\n",
    "        self.balance -= amount \n",
    "    \n",
    "    # Define __eq__ that returns True if the number attributes are equal \n",
    "    def __eq__(self, other):\n",
    "        return self.number == other.number   \n",
    "\n",
    "# Create accounts and compare them       \n",
    "acct1 = BankAccount(123, 1000)\n",
    "acct2 = BankAccount(123, 1000)\n",
    "acct3 = BankAccount(456, 1000)\n",
    "print(acct1 == acct2)\n",
    "print(acct1 == acct3)"
   ]
  },
  {
   "cell_type": "markdown",
   "metadata": {},
   "source": [
    "### Object printabele representation"
   ]
  },
  {
   "cell_type": "code",
   "execution_count": 83,
   "metadata": {
    "scrolled": true
   },
   "outputs": [
    {
     "name": "stdout",
     "output_type": "stream",
     "text": [
      "Employee name: Amar Howard/nEmployee salary: 30000\n",
      "Employee name: Amar Howard/nEmployee salary: 30000\n",
      "Employee name: Amar Howard/nEmployee salary: 30000\n",
      "Employee name: Amar Howard/nEmployee salary: 30000\n",
      "Employee name: Amar Howard/nEmployee salary: 30000\n",
      "Employee name: Amar Howard/nEmployee salary: 30000\n",
      "Employee name: Amar Howard/nEmployee salary: 30000\n",
      "Employee name: Amar Howard/nEmployee salary: 30000\n",
      "Employee name: Amar Howard/nEmployee salary: 30000\n",
      "Employee name: Amar Howard/nEmployee salary: 30000\n",
      "Employee name: Amar Howard/nEmployee salary: 30000\n",
      "Employee name: Amar Howard/nEmployee salary: 30000\n",
      "Employee name: Amar Howard/nEmployee salary: 30000\n",
      "Employee name: Amar Howard/nEmployee salary: 30000\n",
      "Employee name: Amar Howard/nEmployee salary: 30000\n",
      "Employee name: Amar Howard/nEmployee salary: 30000\n",
      "Employee name: Amar Howard/nEmployee salary: 30000\n",
      "Employee name: Amar Howard/nEmployee salary: 30000\n",
      "Employee name: Amar Howard/nEmployee salary: 30000\n",
      "Employee name: Amar Howard/nEmployee salary: 30000\n",
      "Employee name: Carolyn Ramirez/nEmployee salary: 35000\n",
      "Employee name: Carolyn Ramirez/nEmployee salary: 35000\n",
      "Employee name: Carolyn Ramirez/nEmployee salary: 35000\n",
      "Employee name: Carolyn Ramirez/nEmployee salary: 35000\n",
      "Employee name: Carolyn Ramirez/nEmployee salary: 35000\n",
      "Employee name: Carolyn Ramirez/nEmployee salary: 35000\n",
      "Employee name: Carolyn Ramirez/nEmployee salary: 35000\n",
      "Employee name: Carolyn Ramirez/nEmployee salary: 35000\n",
      "Employee name: Carolyn Ramirez/nEmployee salary: 35000\n",
      "Employee name: Carolyn Ramirez/nEmployee salary: 35000\n",
      "Employee name: Carolyn Ramirez/nEmployee salary: 35000\n",
      "Employee name: Carolyn Ramirez/nEmployee salary: 35000\n",
      "Employee name: Carolyn Ramirez/nEmployee salary: 35000\n",
      "Employee name: Carolyn Ramirez/nEmployee salary: 35000\n",
      "Employee name: Carolyn Ramirez/nEmployee salary: 35000\n",
      "Employee name: Carolyn Ramirez/nEmployee salary: 35000\n",
      "Employee name: Carolyn Ramirez/nEmployee salary: 35000\n",
      "Employee name: Carolyn Ramirez/nEmployee salary: 35000\n",
      "Employee name: Carolyn Ramirez/nEmployee salary: 35000\n",
      "Employee name: Carolyn Ramirez/nEmployee salary: 35000\n"
     ]
    }
   ],
   "source": [
    "class Employee:\n",
    "    def __init__(self, name, salary=30000):\n",
    "        self.name, self.salary = name, salary\n",
    "            \n",
    "    # Add the __str__() method\n",
    "    def __str__(self):\n",
    "        return 'Employee name: {n1}/nEmployee salary: {n2}'.format(n1=self.name,n2=self.salary)\n",
    "\n",
    "emp1 = Employee(\"Amar Howard\", 30000)\n",
    "print(emp1)\n",
    "emp2 = Employee(\"Carolyn Ramirez\", 35000)\n",
    "print(emp2)"
   ]
  },
  {
   "cell_type": "code",
   "execution_count": 84,
   "metadata": {
    "scrolled": true
   },
   "outputs": [
    {
     "name": "stdout",
     "output_type": "stream",
     "text": [
      "Employee(\"Amar Howard\", 30000)\n",
      "Employee(\"Amar Howard\", 30000)\n",
      "Employee(\"Amar Howard\", 30000)\n",
      "Employee(\"Amar Howard\", 30000)\n",
      "Employee(\"Amar Howard\", 30000)\n",
      "Employee(\"Amar Howard\", 30000)\n",
      "Employee(\"Amar Howard\", 30000)\n",
      "Employee(\"Amar Howard\", 30000)\n",
      "Employee(\"Amar Howard\", 30000)\n",
      "Employee(\"Amar Howard\", 30000)\n",
      "Employee(\"Amar Howard\", 30000)\n",
      "Employee(\"Amar Howard\", 30000)\n",
      "Employee(\"Amar Howard\", 30000)\n",
      "Employee(\"Amar Howard\", 30000)\n",
      "Employee(\"Amar Howard\", 30000)\n",
      "Employee(\"Amar Howard\", 30000)\n",
      "Employee(\"Amar Howard\", 30000)\n",
      "Employee(\"Amar Howard\", 30000)\n",
      "Employee(\"Amar Howard\", 30000)\n",
      "Employee(\"Amar Howard\", 30000)\n",
      "Employee(\"Carolyn Ramirez\", 35000)\n",
      "Employee(\"Carolyn Ramirez\", 35000)\n",
      "Employee(\"Carolyn Ramirez\", 35000)\n",
      "Employee(\"Carolyn Ramirez\", 35000)\n",
      "Employee(\"Carolyn Ramirez\", 35000)\n",
      "Employee(\"Carolyn Ramirez\", 35000)\n",
      "Employee(\"Carolyn Ramirez\", 35000)\n",
      "Employee(\"Carolyn Ramirez\", 35000)\n",
      "Employee(\"Carolyn Ramirez\", 35000)\n",
      "Employee(\"Carolyn Ramirez\", 35000)\n",
      "Employee(\"Carolyn Ramirez\", 35000)\n",
      "Employee(\"Carolyn Ramirez\", 35000)\n",
      "Employee(\"Carolyn Ramirez\", 35000)\n",
      "Employee(\"Carolyn Ramirez\", 35000)\n",
      "Employee(\"Carolyn Ramirez\", 35000)\n",
      "Employee(\"Carolyn Ramirez\", 35000)\n",
      "Employee(\"Carolyn Ramirez\", 35000)\n",
      "Employee(\"Carolyn Ramirez\", 35000)\n",
      "Employee(\"Carolyn Ramirez\", 35000)\n",
      "Employee(\"Carolyn Ramirez\", 35000)\n"
     ]
    }
   ],
   "source": [
    "class Employee:\n",
    "    def __init__(self, name, salary=30000):\n",
    "        self.name, self.salary = name, salary\n",
    "      \n",
    "\n",
    "    def __str__(self):\n",
    "        s = \"Employee name: {name}\\nEmployee salary: {salary}\".format(name=self.name, salary=self.salary)      \n",
    "        return s\n",
    "      \n",
    "    # Add the __repr__method  \n",
    "    def __repr__(self):\n",
    "        s = 'Employee(\"{n1}\", {n2})'.format(n1=self.name,n2=self.salary)\n",
    "        return s\n",
    "\n",
    "emp1 = Employee(\"Amar Howard\", 30000)\n",
    "print(repr(emp1))\n",
    "emp2 = Employee(\"Carolyn Ramirez\", 35000)\n",
    "print(repr(emp2))"
   ]
  },
  {
   "cell_type": "markdown",
   "metadata": {},
   "source": [
    "### Polymorphism\n",
    "- unified interface to operate on objects of different classes\n",
    "- base class should be interchangeable with any of its subclasses without altering any properties of the program (Liskov substitution principle)\n",
    "- this holds both syntactically (arguments, returned values) and semantically (object state remains consistent, not strengthening/weakening input conditions or adding exceptions to the same method in different classes)\n",
    "- no LSP no inheritance"
   ]
  },
  {
   "cell_type": "code",
   "execution_count": 1,
   "metadata": {},
   "outputs": [],
   "source": [
    "class Rectangle:\n",
    "    def __init__(self, w,h):\n",
    "        self.w, self.h = w,h\n",
    "\n",
    "# Define set_h to set h      \n",
    "    def set_h(self, h):\n",
    "        self.h = h\n",
    "        \n",
    "# Define set_w to set w          \n",
    "    def set_w(self, w):\n",
    "        self.w = w\n",
    "      \n",
    "      \n",
    "class Square(Rectangle):\n",
    "    def __init__(self, w):\n",
    "        self.w, self.h = w, w \n",
    "\n",
    "# Define set_h to set w and h\n",
    "    def set_h(self, h):\n",
    "        self.h = h\n",
    "        self.w = h\n",
    "\n",
    "# Define set_w to set w and h      \n",
    "    def set_w(self, w):\n",
    "        self.h = w\n",
    "        self.w = w\n",
    "      "
   ]
  },
  {
   "cell_type": "markdown",
   "metadata": {},
   "source": [
    "### Naming conventions\n",
    "- internal attributes/methods start with a single underscore\n",
    "- private attributes/methods start with double underscores"
   ]
  },
  {
   "cell_type": "code",
   "execution_count": 2,
   "metadata": {},
   "outputs": [
    {
     "name": "stdout",
     "output_type": "stream",
     "text": [
      "12\n",
      "True\n",
      "12\n",
      "False\n"
     ]
    }
   ],
   "source": [
    "# Add class attributes for max number of days and months\n",
    "class BetterDate:\n",
    "    _MAX_DAYS = 30\n",
    "    _MAX_MONTHS = 12\n",
    "\n",
    "    def __init__(self, year, month, day):\n",
    "        self.year, self.month, self.day = year, month, day\n",
    "        \n",
    "    @classmethod\n",
    "    def from_str(cls, datestr):\n",
    "        year, month, day = map(int, datestr.split(\"-\"))\n",
    "        return cls(year, month, day)\n",
    "    \n",
    "    # Add _is_valid() checking day and month values\n",
    "    def _is_valid(self):\n",
    "        print(BetterDate._MAX_MONTHS)\n",
    "        if (self.day<=BetterDate._MAX_DAYS) & (self.month<=BetterDate._MAX_MONTHS):\n",
    "            return True\n",
    "        else:\n",
    "            return False\n",
    "            \n",
    "    \n",
    "bd1 = BetterDate(2020, 4, 30)\n",
    "print(bd1._is_valid())\n",
    "\n",
    "bd2 = BetterDate(2020, 6, 45)\n",
    "print(bd2._is_valid())"
   ]
  },
  {
   "cell_type": "markdown",
   "metadata": {},
   "source": [
    "### Restricted attributes\n",
    "- use the @property decorator\n",
    "- use @property on a method whose name is exactly the name of the restricted attribute; return the internal attribute\n",
    "\n",
    "Create and set properties\n",
    "\n",
    "There are two parts to defining a property:\n",
    "\n",
    "first, define an \"internal\" attribute that will contain the data;\n",
    "then, define a @property-decorated method whose name is the property name, and that returns the internal attribute storing the data.\n",
    "If you'd also like to define a custom setter method, there's an additional step:\n",
    "\n",
    "define another method whose name is exactly the property name (again), and decorate it with @prop_name.setter where prop_name is the name of the property. The method should take two arguments -- self (as always), and the value that's being assigned to the property."
   ]
  },
  {
   "cell_type": "code",
   "execution_count": 3,
   "metadata": {},
   "outputs": [
    {
     "name": "stdout",
     "output_type": "stream",
     "text": [
      "Setter method called\n",
      "3000\n"
     ]
    }
   ],
   "source": [
    "class Customer:\n",
    "    def __init__(self, name, new_bal):\n",
    "        self.name = name\n",
    "        if new_bal < 0:\n",
    "            raise ValueError(\"Invalid balance!\")\n",
    "        self._balance = new_bal  \n",
    "\n",
    "    # Add a decorated balance() method returning _balance        \n",
    "    @property\n",
    "    def balance(self):\n",
    "        return self._balance\n",
    "\n",
    "    # Add a setter balance() method\n",
    "    @balance.setter\n",
    "    def balance(self, new_bal):\n",
    "        # Validate the parameter value\n",
    "        if new_bal < 0:\n",
    "            raise ValueError(\"Invalid balance!\")\n",
    "        self._balance = new_bal\n",
    "        print(\"Setter method called\")\n",
    "\n",
    "# Create a Customer        \n",
    "cust = Customer(\"Belinda Lutz\",2000)\n",
    "\n",
    "# Assign 3000 to the balance property\n",
    "cust.balance = 3000\n",
    "\n",
    "# Print the balance property\n",
    "print(cust.balance)"
   ]
  },
  {
   "cell_type": "markdown",
   "metadata": {},
   "source": [
    "### Read-only properties"
   ]
  },
  {
   "cell_type": "code",
   "execution_count": 4,
   "metadata": {},
   "outputs": [],
   "source": [
    "import pandas as pd\n",
    "from datetime import datetime\n",
    "\n",
    "# MODIFY the class to use _created_at instead of created_at\n",
    "class LoggedDF(pd.DataFrame):\n",
    "    def __init__(self, *args, **kwargs):\n",
    "        pd.DataFrame.__init__(self, *args, **kwargs)\n",
    "        self._created_at = datetime.today()\n",
    "    \n",
    "    def to_csv(self, *args, **kwargs):\n",
    "        temp = self.copy()\n",
    "        temp[\"created_at\"] = self._created_at\n",
    "        pd.DataFrame.to_csv(temp, *args, **kwargs)   \n",
    "    \n",
    "    # Add a read-only property: _created_at\n",
    "    @property  \n",
    "    def created_at(self):\n",
    "        return self._created_at\n",
    "\n",
    "# Instantiate a LoggedDF called ldf\n",
    "ldf = LoggedDF({\"col1\": [1,2], \"col2\":[3,4]}) "
   ]
  },
  {
   "cell_type": "code",
   "execution_count": 6,
   "metadata": {},
   "outputs": [
    {
     "data": {
      "text/html": [
       "<div>\n",
       "<style scoped>\n",
       "    .dataframe tbody tr th:only-of-type {\n",
       "        vertical-align: middle;\n",
       "    }\n",
       "\n",
       "    .dataframe tbody tr th {\n",
       "        vertical-align: top;\n",
       "    }\n",
       "\n",
       "    .dataframe thead th {\n",
       "        text-align: right;\n",
       "    }\n",
       "</style>\n",
       "<table border=\"1\" class=\"dataframe\">\n",
       "  <thead>\n",
       "    <tr style=\"text-align: right;\">\n",
       "      <th></th>\n",
       "      <th>col1</th>\n",
       "      <th>col2</th>\n",
       "    </tr>\n",
       "  </thead>\n",
       "  <tbody>\n",
       "    <tr>\n",
       "      <th>0</th>\n",
       "      <td>1</td>\n",
       "      <td>3</td>\n",
       "    </tr>\n",
       "    <tr>\n",
       "      <th>1</th>\n",
       "      <td>2</td>\n",
       "      <td>4</td>\n",
       "    </tr>\n",
       "  </tbody>\n",
       "</table>\n",
       "</div>"
      ],
      "text/plain": [
       "   col1  col2\n",
       "0     1     3\n",
       "1     2     4"
      ]
     },
     "execution_count": 6,
     "metadata": {},
     "output_type": "execute_result"
    }
   ],
   "source": [
    "ldf"
   ]
  },
  {
   "cell_type": "code",
   "execution_count": null,
   "metadata": {},
   "outputs": [],
   "source": []
  }
 ],
 "metadata": {
  "kernelspec": {
   "display_name": "Python 3",
   "language": "python",
   "name": "python3"
  },
  "language_info": {
   "codemirror_mode": {
    "name": "ipython",
    "version": 3
   },
   "file_extension": ".py",
   "mimetype": "text/x-python",
   "name": "python",
   "nbconvert_exporter": "python",
   "pygments_lexer": "ipython3",
   "version": "3.8.8"
  }
 },
 "nbformat": 4,
 "nbformat_minor": 4
}
