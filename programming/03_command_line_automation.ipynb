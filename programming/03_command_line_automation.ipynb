{
 "cells": [
  {
   "cell_type": "markdown",
   "id": "bc3261a2",
   "metadata": {},
   "source": [
    "## Command Line Automation with Python\n",
    "\n",
    " - Shell operations inside of the IPython terminal\n",
    " - The ! syntax executes shell commands\n",
    " - The output of shell commands can be captured by assigning them to variables\n",
    " - You can use these variables with methods such as type() and this is very powerful as you can blend Python and IPython\n",
    " - If you use this syntax in a python script however it will throw a Syntax Error\n",
    " - The Python subprocess module can be used instead\n",
    " - You can use the Python interpreter either by running a full script or by passing a program to it via -c"
   ]
  },
  {
   "cell_type": "code",
   "execution_count": 1,
   "id": "4aceb045",
   "metadata": {},
   "outputs": [
    {
     "name": "stdout",
     "output_type": "stream",
     "text": [
      "2023-06-18 13:05:27.275938\r\n"
     ]
    }
   ],
   "source": [
    "! python -c \"import datetime;print(datetime.datetime.utcnow())\""
   ]
  },
  {
   "cell_type": "code",
   "execution_count": 2,
   "id": "579cc59d",
   "metadata": {},
   "outputs": [
    {
     "name": "stdout",
     "output_type": "stream",
     "text": [
      "Filesystem       Size   Used  Avail Capacity iused      ifree %iused  Mounted on\n",
      "/dev/disk3s1s1  228Gi  8.4Gi  139Gi     6%  355384 1456296520    0%   /\n",
      "devfs           202Ki  202Ki    0Bi   100%     698          0  100%   /dev\n",
      "/dev/disk3s6    228Gi   20Ki  139Gi     1%       0 1456296520    0%   /System/Volumes/VM\n",
      "/dev/disk3s2    228Gi  4.4Gi  139Gi     4%     936 1456296520    0%   /System/Volumes/Preboot\n",
      "/dev/disk3s4    228Gi   42Mi  139Gi     1%      54 1456296520    0%   /System/Volumes/Update\n",
      "/dev/disk1s2    500Mi  6.0Mi  483Mi     2%       3    4942880    0%   /System/Volumes/xarts\n",
      "/dev/disk1s1    500Mi  6.2Mi  483Mi     2%      31    4942880    0%   /System/Volumes/iSCPreboot\n",
      "/dev/disk1s3    500Mi  364Ki  483Mi     1%      34    4942880    0%   /System/Volumes/Hardware\n",
      "/dev/disk3s5    228Gi   76Gi  139Gi    36% 2022727 1456296520    0%   /System/Volumes/Data\n",
      "map auto_home     0Bi    0Bi    0Bi   100%       0          0  100%   /System/Volumes/Data/home\n"
     ]
    }
   ],
   "source": [
    "# Display free disk usage using the h flag\n",
    "!df -h"
   ]
  },
  {
   "cell_type": "code",
   "execution_count": 6,
   "id": "49119c46",
   "metadata": {},
   "outputs": [
    {
     "name": "stdout",
     "output_type": "stream",
     "text": [
      "['Th']\n",
      "['Su']\n",
      "['We']\n",
      "['We']\n",
      "['Sa']\n",
      "['Th']\n",
      "['Mo']\n",
      "['Sa']\n",
      "['Tu']\n",
      "['Mo']\n"
     ]
    }
   ],
   "source": [
    "# Create a random day generator\n",
    "for i in range(10):\n",
    "    ! python -c \"from random import choices;days = ['Mo','Tu','We','Th','Fr','Sa','Su']; print(choices(days))\"\n"
   ]
  },
  {
   "cell_type": "code",
   "execution_count": 7,
   "id": "1460c947",
   "metadata": {},
   "outputs": [
    {
     "name": "stdout",
     "output_type": "stream",
     "text": [
      "4\n"
     ]
    }
   ],
   "source": [
    "# Navigate to the assets/git_assets directory and check how many total files have the extension .png\n",
    "# Store the results of command to the variable var.\n",
    "var = !ls -h assets/git_assets/*.png\n",
    "\n",
    "# Run len() on var to print the number of .png files that live in the directory.\n",
    "print(len(var))\n"
   ]
  },
  {
   "cell_type": "markdown",
   "id": "64fb9234",
   "metadata": {},
   "source": [
    "#### Unix\n",
    "\n",
    " - Unix pihilosophy: simple tools can be combined for sophisticated solutions via piping the output of one command to another\n",
    " - ls, grep (filter), cat, awk\n",
    "\n",
    "<img src=\"assets/cmd_auto/unix_pipes.png\" style=\"height: 280px;\"/>\n",
    "\n",
    "#### Capture the shell output with bash magic function"
   ]
  },
  {
   "cell_type": "code",
   "execution_count": 13,
   "id": "3ea967bd",
   "metadata": {},
   "outputs": [],
   "source": [
    "%%bash --out output\n",
    "echo \"Running Directory Audit Script\"\n",
    "CSV=`ls -l test_dir/*.csv | wc -l`\n",
    "TXT=`ls -l test_dir/*.csv | wc -l`\n",
    "echo 'The directory contains this a total # *.csv files: ' $CSV\n",
    "echo 'The directory contains this a total # *.txt files: ' $TXT"
   ]
  },
  {
   "cell_type": "markdown",
   "id": "f2f4c6ef",
   "metadata": {},
   "source": [
    "#### Capturing shell output with ! Syntax"
   ]
  },
  {
   "cell_type": "code",
   "execution_count": null,
   "id": "d8d9811c",
   "metadata": {},
   "outputs": [],
   "source": [
    "ls_count = !ls -l | awk '{SUM+=$5} END {print SUM}'\n",
    "type(ls_count)"
   ]
  },
  {
   "cell_type": "markdown",
   "id": "0855f063",
   "metadata": {},
   "source": [
    "Recently you setup a large network file system in your cloud deployment that all of the instances that perform machine learning will communicate with. As a result you want to verify that when the network filesystem is mounted on a new system, each worker node is able to create files with the correct permissions."
   ]
  },
  {
   "cell_type": "code",
   "execution_count": null,
   "id": "367760bd",
   "metadata": {},
   "outputs": [],
   "source": [
    "# Import packages\n",
    "import subprocess\n",
    "import os\n",
    "\n",
    "# Setup\n",
    "file_location = \"/tmp/file.txt\"\n",
    "expected_uid = 1000\n",
    "\n",
    "# Create a file\n",
    "proc = subprocess.Popen([\"touch\", file_location])\n",
    "\n",
    "# Check user permissions\n",
    "stat = os.stat(file_location)\n",
    "if stat.st_uid == expected_uid:\n",
    "    print(f\"File System exported properly: {expected_uid} == {stat.st_uid}\")\n",
    "else:\n",
    "    print(f\"File System NOT exported properly: {expected_uid} != {stat.st_uid}\")\n"
   ]
  },
  {
   "cell_type": "code",
   "execution_count": null,
   "id": "ceb1d419",
   "metadata": {},
   "outputs": [],
   "source": [
    "import subprocess\n",
    "\n",
    "# Execute Unix command `head` safely as items in a list\n",
    "with subprocess.Popen([\"head\", \"/home/repl/workspace/poem.txt\"], stdout=subprocess.PIPE) as head:\n",
    "  \n",
    "    # Print each line of list returned by `stdout.readlines()`\n",
    "    for line in head.stdout.readlines():\n",
    "        print(line)\n",
    "    \n",
    "# Execute Unix command `wc -c` safely as items in a list\n",
    "with subprocess.Popen([\"wc\", \"-c\", \"/home/repl/workspace/poem.txt\"], stdout=subprocess.PIPE) as word_count:\n",
    "  \n",
    "    # Print the string output of standard out of `wc -c`\n",
    "    print(word_count.stdout.read())"
   ]
  },
  {
   "cell_type": "code",
   "execution_count": null,
   "id": "fca8a70b",
   "metadata": {},
   "outputs": [],
   "source": [
    "import subprocess\n",
    "\n",
    "# Use subprocess to run the `ps aux` command that lists running processes\n",
    "with subprocess.Popen([\"ps\", \"aux\"], stdout=subprocess.PIPE) as proc:\n",
    "    process_output = proc.stdout.readlines()\n",
    "\n",
    "# Look through each line in the output and skip it if it contains \"python\"\n",
    "for line in process_output:\n",
    "    if b\"python\" in line:\n",
    "        continue\n",
    "    print(line)"
   ]
  },
  {
   "cell_type": "code",
   "execution_count": null,
   "id": "1faddb47",
   "metadata": {},
   "outputs": [],
   "source": [
    "from subprocess import Popen, PIPE\n",
    "import json\n",
    "import pprint\n",
    "\n",
    "# Use the with context manager to run subprocess.Popen()\n",
    "with Popen([\"pip\",\"list\",\"--format=json\"], stdout=PIPE) as proc:\n",
    "    # Pipe the output of subprocess.Popen() to stdout\n",
    "    result = proc.stdout.readlines()\n",
    "\n",
    "# Convert the JSON payload to a Python dictionary\n",
    "# JSON is a datastructure similar to a Python dictionary\n",
    "converted_result = json.loads(result[0])\n",
    "\n",
    "# Display the result in the IPython terminal\n",
    "pprint.pprint(converted_result)"
   ]
  },
  {
   "cell_type": "markdown",
   "id": "a6f6bfc7",
   "metadata": {},
   "source": [
    "----------\n",
    "## Data processing in the shell"
   ]
  },
  {
   "cell_type": "markdown",
   "id": "97ae0ac2",
   "metadata": {},
   "source": [
    "### CURL\n",
    "\n",
    "- client url\n",
    "- Unix command line tool\n",
    "- transfers data to and from a server\n",
    "- used to download data from HTTP(S) sites and FTP servers\n",
    "\n",
    "- download from https://curl.se/download.html\n",
    "\n",
    "\n",
    "- curl [option flags] [URL]\n",
    "    - curl HTTP HTTPS FTP SFTP\n",
    "    \n",
    "\n",
    "- use the optional flag -O to save a file with its original name\n",
    "    - curl -O https://someWebSiteName.com/datafilename.txt\n",
    "- use the optional flag -o to save a file with a new name\n",
    "    - curl -o renameddatafilename.txt https://someWebSiteName.com/datafilename.txt\n",
    "    \n",
    "    \n",
    "- download every file hosted on https://someWebSiteName.com that starts with datafilename\n",
    "    - curl -O https://websitename.com/datafilename*.txt\n",
    "- download every file hosted on https://someWebSiteName.com that starts with datafilename001.txt and ends with datafilename100.txt\n",
    "    - curl -O https://websitename.com/datafilename[001-100].txt\n",
    "    \n",
    "    \n",
    "- -L redirects the HTTP url if a 300 error occurs\n",
    "- -C resumes a previous file transfer if it times out vefore completion\n",
    "- curl -L -O -C https://websitename.com/datafilename[001-100].txt\n",
    "\n",
    "\n",
    "- As an alternative to curl, use wget"
   ]
  },
  {
   "cell_type": "markdown",
   "id": "45743c1a",
   "metadata": {},
   "source": [
    "### csvkit\n",
    "- a suite of command-line tools for converting to and working with CSV, the king of tabular file formats\n",
    "- download from https://csvkit.readthedocs.io/en/latest/\n",
    "> in2csv SpotifyData.xlsx > SpotifyData.csv\n",
    "\n",
    "- csvcut returns the first column in the data\n",
    "> csvcut -c 1 Spotify_MusicAttributes.csv\n",
    "- csvgrep filter sby row using exact match or regex fuzzy matching\n",
    "    - must be used with -m (exact row value to filter), -r (regex pattern), -f (path to file)\n",
    "> csvgrep -c \"track_id\" -m 5RCPsfzmEpTXMCTNk7wEfQ Spotify_Popularity.csv\n",
    "\n",
    "- other commands include csvstack (for stacking multiple csvs), csvlook (data preview on the command line) , csvstat (descriptive summary statistics per column)\n",
    "\n",
    "### sql2csv\n",
    "- executes an sql query on any sql database system and outputs the result to a csv file\n",
    "> sql2csv --db \"sqlite:///SpotifyDatabase.db\" \\\n",
    "        --query \"SELECT * FROM Spotify_Popularity\" \\\n",
    "            > \\> Spotify_Popularity.csv"
   ]
  },
  {
   "cell_type": "code",
   "execution_count": null,
   "id": "99d45731",
   "metadata": {},
   "outputs": [],
   "source": []
  }
 ],
 "metadata": {
  "kernelspec": {
   "display_name": "Python 3",
   "language": "python",
   "name": "python3"
  },
  "language_info": {
   "codemirror_mode": {
    "name": "ipython",
    "version": 3
   },
   "file_extension": ".py",
   "mimetype": "text/x-python",
   "name": "python",
   "nbconvert_exporter": "python",
   "pygments_lexer": "ipython3",
   "version": "3.8.8"
  }
 },
 "nbformat": 4,
 "nbformat_minor": 5
}
